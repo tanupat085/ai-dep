{
  "nbformat": 4,
  "nbformat_minor": 0,
  "metadata": {
    "colab": {
      "name": "PyTorch Lab 2 - XOR.ipynb",
      "provenance": [],
      "collapsed_sections": [],
      "include_colab_link": true
    },
    "kernelspec": {
      "display_name": "Python 3",
      "language": "python",
      "name": "python3"
    },
    "widgets": {
      "application/vnd.jupyter.widget-state+json": {
        "c1ce6b7ec5174c4d9defe47788743c14": {
          "model_module": "@jupyter-widgets/controls",
          "model_name": "HBoxModel",
          "model_module_version": "1.5.0",
          "state": {
            "_view_name": "HBoxView",
            "_dom_classes": [],
            "_model_name": "HBoxModel",
            "_view_module": "@jupyter-widgets/controls",
            "_model_module_version": "1.5.0",
            "_view_count": null,
            "_view_module_version": "1.5.0",
            "box_style": "",
            "layout": "IPY_MODEL_2c83cc1457424d999d44d68f5cab4d43",
            "_model_module": "@jupyter-widgets/controls",
            "children": [
              "IPY_MODEL_404dce73644a4d86b987da1895dd890d",
              "IPY_MODEL_39a9b82780f14b55bfc0d4943b1fe17d",
              "IPY_MODEL_5dfcf6ba6d0c4346898a0192be6e9deb"
            ]
          }
        },
        "2c83cc1457424d999d44d68f5cab4d43": {
          "model_module": "@jupyter-widgets/base",
          "model_name": "LayoutModel",
          "model_module_version": "1.2.0",
          "state": {
            "_view_name": "LayoutView",
            "grid_template_rows": null,
            "right": null,
            "justify_content": null,
            "_view_module": "@jupyter-widgets/base",
            "overflow": null,
            "_model_module_version": "1.2.0",
            "_view_count": null,
            "flex_flow": null,
            "width": null,
            "min_width": null,
            "border": null,
            "align_items": null,
            "bottom": null,
            "_model_module": "@jupyter-widgets/base",
            "top": null,
            "grid_column": null,
            "overflow_y": null,
            "overflow_x": null,
            "grid_auto_flow": null,
            "grid_area": null,
            "grid_template_columns": null,
            "flex": null,
            "_model_name": "LayoutModel",
            "justify_items": null,
            "grid_row": null,
            "max_height": null,
            "align_content": null,
            "visibility": null,
            "align_self": null,
            "height": null,
            "min_height": null,
            "padding": null,
            "grid_auto_rows": null,
            "grid_gap": null,
            "max_width": null,
            "order": null,
            "_view_module_version": "1.2.0",
            "grid_template_areas": null,
            "object_position": null,
            "object_fit": null,
            "grid_auto_columns": null,
            "margin": null,
            "display": null,
            "left": null
          }
        },
        "404dce73644a4d86b987da1895dd890d": {
          "model_module": "@jupyter-widgets/controls",
          "model_name": "HTMLModel",
          "model_module_version": "1.5.0",
          "state": {
            "_view_name": "HTMLView",
            "style": "IPY_MODEL_d45cc47a11214adb9153946339d3f386",
            "_dom_classes": [],
            "description": "",
            "_model_name": "HTMLModel",
            "placeholder": "​",
            "_view_module": "@jupyter-widgets/controls",
            "_model_module_version": "1.5.0",
            "value": "100%",
            "_view_count": null,
            "_view_module_version": "1.5.0",
            "description_tooltip": null,
            "_model_module": "@jupyter-widgets/controls",
            "layout": "IPY_MODEL_076f865dee62451dbff8f7984b0939f1"
          }
        },
        "39a9b82780f14b55bfc0d4943b1fe17d": {
          "model_module": "@jupyter-widgets/controls",
          "model_name": "FloatProgressModel",
          "model_module_version": "1.5.0",
          "state": {
            "_view_name": "ProgressView",
            "style": "IPY_MODEL_574dadce4de14fd6bf6affbd01470261",
            "_dom_classes": [],
            "description": "",
            "_model_name": "FloatProgressModel",
            "bar_style": "success",
            "max": 40,
            "_view_module": "@jupyter-widgets/controls",
            "_model_module_version": "1.5.0",
            "value": 40,
            "_view_count": null,
            "_view_module_version": "1.5.0",
            "orientation": "horizontal",
            "min": 0,
            "description_tooltip": null,
            "_model_module": "@jupyter-widgets/controls",
            "layout": "IPY_MODEL_742168149c324692b223de198534674c"
          }
        },
        "5dfcf6ba6d0c4346898a0192be6e9deb": {
          "model_module": "@jupyter-widgets/controls",
          "model_name": "HTMLModel",
          "model_module_version": "1.5.0",
          "state": {
            "_view_name": "HTMLView",
            "style": "IPY_MODEL_6c0a8e7569474f3188703bb006b78999",
            "_dom_classes": [],
            "description": "",
            "_model_name": "HTMLModel",
            "placeholder": "​",
            "_view_module": "@jupyter-widgets/controls",
            "_model_module_version": "1.5.0",
            "value": " 40/40 [00:11&lt;00:00,  3.41it/s]",
            "_view_count": null,
            "_view_module_version": "1.5.0",
            "description_tooltip": null,
            "_model_module": "@jupyter-widgets/controls",
            "layout": "IPY_MODEL_cf463051911d4bcb875434c97ea49983"
          }
        },
        "d45cc47a11214adb9153946339d3f386": {
          "model_module": "@jupyter-widgets/controls",
          "model_name": "DescriptionStyleModel",
          "model_module_version": "1.5.0",
          "state": {
            "_view_name": "StyleView",
            "_model_name": "DescriptionStyleModel",
            "description_width": "",
            "_view_module": "@jupyter-widgets/base",
            "_model_module_version": "1.5.0",
            "_view_count": null,
            "_view_module_version": "1.2.0",
            "_model_module": "@jupyter-widgets/controls"
          }
        },
        "076f865dee62451dbff8f7984b0939f1": {
          "model_module": "@jupyter-widgets/base",
          "model_name": "LayoutModel",
          "model_module_version": "1.2.0",
          "state": {
            "_view_name": "LayoutView",
            "grid_template_rows": null,
            "right": null,
            "justify_content": null,
            "_view_module": "@jupyter-widgets/base",
            "overflow": null,
            "_model_module_version": "1.2.0",
            "_view_count": null,
            "flex_flow": null,
            "width": null,
            "min_width": null,
            "border": null,
            "align_items": null,
            "bottom": null,
            "_model_module": "@jupyter-widgets/base",
            "top": null,
            "grid_column": null,
            "overflow_y": null,
            "overflow_x": null,
            "grid_auto_flow": null,
            "grid_area": null,
            "grid_template_columns": null,
            "flex": null,
            "_model_name": "LayoutModel",
            "justify_items": null,
            "grid_row": null,
            "max_height": null,
            "align_content": null,
            "visibility": null,
            "align_self": null,
            "height": null,
            "min_height": null,
            "padding": null,
            "grid_auto_rows": null,
            "grid_gap": null,
            "max_width": null,
            "order": null,
            "_view_module_version": "1.2.0",
            "grid_template_areas": null,
            "object_position": null,
            "object_fit": null,
            "grid_auto_columns": null,
            "margin": null,
            "display": null,
            "left": null
          }
        },
        "574dadce4de14fd6bf6affbd01470261": {
          "model_module": "@jupyter-widgets/controls",
          "model_name": "ProgressStyleModel",
          "model_module_version": "1.5.0",
          "state": {
            "_view_name": "StyleView",
            "_model_name": "ProgressStyleModel",
            "description_width": "",
            "_view_module": "@jupyter-widgets/base",
            "_model_module_version": "1.5.0",
            "_view_count": null,
            "_view_module_version": "1.2.0",
            "bar_color": null,
            "_model_module": "@jupyter-widgets/controls"
          }
        },
        "742168149c324692b223de198534674c": {
          "model_module": "@jupyter-widgets/base",
          "model_name": "LayoutModel",
          "model_module_version": "1.2.0",
          "state": {
            "_view_name": "LayoutView",
            "grid_template_rows": null,
            "right": null,
            "justify_content": null,
            "_view_module": "@jupyter-widgets/base",
            "overflow": null,
            "_model_module_version": "1.2.0",
            "_view_count": null,
            "flex_flow": null,
            "width": null,
            "min_width": null,
            "border": null,
            "align_items": null,
            "bottom": null,
            "_model_module": "@jupyter-widgets/base",
            "top": null,
            "grid_column": null,
            "overflow_y": null,
            "overflow_x": null,
            "grid_auto_flow": null,
            "grid_area": null,
            "grid_template_columns": null,
            "flex": null,
            "_model_name": "LayoutModel",
            "justify_items": null,
            "grid_row": null,
            "max_height": null,
            "align_content": null,
            "visibility": null,
            "align_self": null,
            "height": null,
            "min_height": null,
            "padding": null,
            "grid_auto_rows": null,
            "grid_gap": null,
            "max_width": null,
            "order": null,
            "_view_module_version": "1.2.0",
            "grid_template_areas": null,
            "object_position": null,
            "object_fit": null,
            "grid_auto_columns": null,
            "margin": null,
            "display": null,
            "left": null
          }
        },
        "6c0a8e7569474f3188703bb006b78999": {
          "model_module": "@jupyter-widgets/controls",
          "model_name": "DescriptionStyleModel",
          "model_module_version": "1.5.0",
          "state": {
            "_view_name": "StyleView",
            "_model_name": "DescriptionStyleModel",
            "description_width": "",
            "_view_module": "@jupyter-widgets/base",
            "_model_module_version": "1.5.0",
            "_view_count": null,
            "_view_module_version": "1.2.0",
            "_model_module": "@jupyter-widgets/controls"
          }
        },
        "cf463051911d4bcb875434c97ea49983": {
          "model_module": "@jupyter-widgets/base",
          "model_name": "LayoutModel",
          "model_module_version": "1.2.0",
          "state": {
            "_view_name": "LayoutView",
            "grid_template_rows": null,
            "right": null,
            "justify_content": null,
            "_view_module": "@jupyter-widgets/base",
            "overflow": null,
            "_model_module_version": "1.2.0",
            "_view_count": null,
            "flex_flow": null,
            "width": null,
            "min_width": null,
            "border": null,
            "align_items": null,
            "bottom": null,
            "_model_module": "@jupyter-widgets/base",
            "top": null,
            "grid_column": null,
            "overflow_y": null,
            "overflow_x": null,
            "grid_auto_flow": null,
            "grid_area": null,
            "grid_template_columns": null,
            "flex": null,
            "_model_name": "LayoutModel",
            "justify_items": null,
            "grid_row": null,
            "max_height": null,
            "align_content": null,
            "visibility": null,
            "align_self": null,
            "height": null,
            "min_height": null,
            "padding": null,
            "grid_auto_rows": null,
            "grid_gap": null,
            "max_width": null,
            "order": null,
            "_view_module_version": "1.2.0",
            "grid_template_areas": null,
            "object_position": null,
            "object_fit": null,
            "grid_auto_columns": null,
            "margin": null,
            "display": null,
            "left": null
          }
        },
        "3ac37230156d4b028e2d7e49c37c6089": {
          "model_module": "@jupyter-widgets/controls",
          "model_name": "HBoxModel",
          "model_module_version": "1.5.0",
          "state": {
            "_view_name": "HBoxView",
            "_dom_classes": [],
            "_model_name": "HBoxModel",
            "_view_module": "@jupyter-widgets/controls",
            "_model_module_version": "1.5.0",
            "_view_count": null,
            "_view_module_version": "1.5.0",
            "box_style": "",
            "layout": "IPY_MODEL_bc5575a041ef45ee9279fef3d4318677",
            "_model_module": "@jupyter-widgets/controls",
            "children": [
              "IPY_MODEL_82cf2ced57cc453d88c8ee5a126f4a49",
              "IPY_MODEL_6298731818914dc39c69ccfe0449fb3e",
              "IPY_MODEL_c35c96e199f84618a76460b6e467995b"
            ]
          }
        },
        "bc5575a041ef45ee9279fef3d4318677": {
          "model_module": "@jupyter-widgets/base",
          "model_name": "LayoutModel",
          "model_module_version": "1.2.0",
          "state": {
            "_view_name": "LayoutView",
            "grid_template_rows": null,
            "right": null,
            "justify_content": null,
            "_view_module": "@jupyter-widgets/base",
            "overflow": null,
            "_model_module_version": "1.2.0",
            "_view_count": null,
            "flex_flow": null,
            "width": null,
            "min_width": null,
            "border": null,
            "align_items": null,
            "bottom": null,
            "_model_module": "@jupyter-widgets/base",
            "top": null,
            "grid_column": null,
            "overflow_y": null,
            "overflow_x": null,
            "grid_auto_flow": null,
            "grid_area": null,
            "grid_template_columns": null,
            "flex": null,
            "_model_name": "LayoutModel",
            "justify_items": null,
            "grid_row": null,
            "max_height": null,
            "align_content": null,
            "visibility": null,
            "align_self": null,
            "height": null,
            "min_height": null,
            "padding": null,
            "grid_auto_rows": null,
            "grid_gap": null,
            "max_width": null,
            "order": null,
            "_view_module_version": "1.2.0",
            "grid_template_areas": null,
            "object_position": null,
            "object_fit": null,
            "grid_auto_columns": null,
            "margin": null,
            "display": null,
            "left": null
          }
        },
        "82cf2ced57cc453d88c8ee5a126f4a49": {
          "model_module": "@jupyter-widgets/controls",
          "model_name": "HTMLModel",
          "model_module_version": "1.5.0",
          "state": {
            "_view_name": "HTMLView",
            "style": "IPY_MODEL_3401d3babc664371a0283ae4a562c84b",
            "_dom_classes": [],
            "description": "",
            "_model_name": "HTMLModel",
            "placeholder": "​",
            "_view_module": "@jupyter-widgets/controls",
            "_model_module_version": "1.5.0",
            "value": "100%",
            "_view_count": null,
            "_view_module_version": "1.5.0",
            "description_tooltip": null,
            "_model_module": "@jupyter-widgets/controls",
            "layout": "IPY_MODEL_ac4da67e66694652a7d129b170711277"
          }
        },
        "6298731818914dc39c69ccfe0449fb3e": {
          "model_module": "@jupyter-widgets/controls",
          "model_name": "FloatProgressModel",
          "model_module_version": "1.5.0",
          "state": {
            "_view_name": "ProgressView",
            "style": "IPY_MODEL_4a556fe43909410aa7d0c7c9e56a51e2",
            "_dom_classes": [],
            "description": "",
            "_model_name": "FloatProgressModel",
            "bar_style": "success",
            "max": 40,
            "_view_module": "@jupyter-widgets/controls",
            "_model_module_version": "1.5.0",
            "value": 40,
            "_view_count": null,
            "_view_module_version": "1.5.0",
            "orientation": "horizontal",
            "min": 0,
            "description_tooltip": null,
            "_model_module": "@jupyter-widgets/controls",
            "layout": "IPY_MODEL_e60fd08d075a4b9bb0f66ea31d1105f4"
          }
        },
        "c35c96e199f84618a76460b6e467995b": {
          "model_module": "@jupyter-widgets/controls",
          "model_name": "HTMLModel",
          "model_module_version": "1.5.0",
          "state": {
            "_view_name": "HTMLView",
            "style": "IPY_MODEL_92e0f2738d91470abb3681d14f7f5c9b",
            "_dom_classes": [],
            "description": "",
            "_model_name": "HTMLModel",
            "placeholder": "​",
            "_view_module": "@jupyter-widgets/controls",
            "_model_module_version": "1.5.0",
            "value": " 40/40 [00:12&lt;00:00,  3.11it/s]",
            "_view_count": null,
            "_view_module_version": "1.5.0",
            "description_tooltip": null,
            "_model_module": "@jupyter-widgets/controls",
            "layout": "IPY_MODEL_421420b5c9294cf1b1b45d5a97aab3ce"
          }
        },
        "3401d3babc664371a0283ae4a562c84b": {
          "model_module": "@jupyter-widgets/controls",
          "model_name": "DescriptionStyleModel",
          "model_module_version": "1.5.0",
          "state": {
            "_view_name": "StyleView",
            "_model_name": "DescriptionStyleModel",
            "description_width": "",
            "_view_module": "@jupyter-widgets/base",
            "_model_module_version": "1.5.0",
            "_view_count": null,
            "_view_module_version": "1.2.0",
            "_model_module": "@jupyter-widgets/controls"
          }
        },
        "ac4da67e66694652a7d129b170711277": {
          "model_module": "@jupyter-widgets/base",
          "model_name": "LayoutModel",
          "model_module_version": "1.2.0",
          "state": {
            "_view_name": "LayoutView",
            "grid_template_rows": null,
            "right": null,
            "justify_content": null,
            "_view_module": "@jupyter-widgets/base",
            "overflow": null,
            "_model_module_version": "1.2.0",
            "_view_count": null,
            "flex_flow": null,
            "width": null,
            "min_width": null,
            "border": null,
            "align_items": null,
            "bottom": null,
            "_model_module": "@jupyter-widgets/base",
            "top": null,
            "grid_column": null,
            "overflow_y": null,
            "overflow_x": null,
            "grid_auto_flow": null,
            "grid_area": null,
            "grid_template_columns": null,
            "flex": null,
            "_model_name": "LayoutModel",
            "justify_items": null,
            "grid_row": null,
            "max_height": null,
            "align_content": null,
            "visibility": null,
            "align_self": null,
            "height": null,
            "min_height": null,
            "padding": null,
            "grid_auto_rows": null,
            "grid_gap": null,
            "max_width": null,
            "order": null,
            "_view_module_version": "1.2.0",
            "grid_template_areas": null,
            "object_position": null,
            "object_fit": null,
            "grid_auto_columns": null,
            "margin": null,
            "display": null,
            "left": null
          }
        },
        "4a556fe43909410aa7d0c7c9e56a51e2": {
          "model_module": "@jupyter-widgets/controls",
          "model_name": "ProgressStyleModel",
          "model_module_version": "1.5.0",
          "state": {
            "_view_name": "StyleView",
            "_model_name": "ProgressStyleModel",
            "description_width": "",
            "_view_module": "@jupyter-widgets/base",
            "_model_module_version": "1.5.0",
            "_view_count": null,
            "_view_module_version": "1.2.0",
            "bar_color": null,
            "_model_module": "@jupyter-widgets/controls"
          }
        },
        "e60fd08d075a4b9bb0f66ea31d1105f4": {
          "model_module": "@jupyter-widgets/base",
          "model_name": "LayoutModel",
          "model_module_version": "1.2.0",
          "state": {
            "_view_name": "LayoutView",
            "grid_template_rows": null,
            "right": null,
            "justify_content": null,
            "_view_module": "@jupyter-widgets/base",
            "overflow": null,
            "_model_module_version": "1.2.0",
            "_view_count": null,
            "flex_flow": null,
            "width": null,
            "min_width": null,
            "border": null,
            "align_items": null,
            "bottom": null,
            "_model_module": "@jupyter-widgets/base",
            "top": null,
            "grid_column": null,
            "overflow_y": null,
            "overflow_x": null,
            "grid_auto_flow": null,
            "grid_area": null,
            "grid_template_columns": null,
            "flex": null,
            "_model_name": "LayoutModel",
            "justify_items": null,
            "grid_row": null,
            "max_height": null,
            "align_content": null,
            "visibility": null,
            "align_self": null,
            "height": null,
            "min_height": null,
            "padding": null,
            "grid_auto_rows": null,
            "grid_gap": null,
            "max_width": null,
            "order": null,
            "_view_module_version": "1.2.0",
            "grid_template_areas": null,
            "object_position": null,
            "object_fit": null,
            "grid_auto_columns": null,
            "margin": null,
            "display": null,
            "left": null
          }
        },
        "92e0f2738d91470abb3681d14f7f5c9b": {
          "model_module": "@jupyter-widgets/controls",
          "model_name": "DescriptionStyleModel",
          "model_module_version": "1.5.0",
          "state": {
            "_view_name": "StyleView",
            "_model_name": "DescriptionStyleModel",
            "description_width": "",
            "_view_module": "@jupyter-widgets/base",
            "_model_module_version": "1.5.0",
            "_view_count": null,
            "_view_module_version": "1.2.0",
            "_model_module": "@jupyter-widgets/controls"
          }
        },
        "421420b5c9294cf1b1b45d5a97aab3ce": {
          "model_module": "@jupyter-widgets/base",
          "model_name": "LayoutModel",
          "model_module_version": "1.2.0",
          "state": {
            "_view_name": "LayoutView",
            "grid_template_rows": null,
            "right": null,
            "justify_content": null,
            "_view_module": "@jupyter-widgets/base",
            "overflow": null,
            "_model_module_version": "1.2.0",
            "_view_count": null,
            "flex_flow": null,
            "width": null,
            "min_width": null,
            "border": null,
            "align_items": null,
            "bottom": null,
            "_model_module": "@jupyter-widgets/base",
            "top": null,
            "grid_column": null,
            "overflow_y": null,
            "overflow_x": null,
            "grid_auto_flow": null,
            "grid_area": null,
            "grid_template_columns": null,
            "flex": null,
            "_model_name": "LayoutModel",
            "justify_items": null,
            "grid_row": null,
            "max_height": null,
            "align_content": null,
            "visibility": null,
            "align_self": null,
            "height": null,
            "min_height": null,
            "padding": null,
            "grid_auto_rows": null,
            "grid_gap": null,
            "max_width": null,
            "order": null,
            "_view_module_version": "1.2.0",
            "grid_template_areas": null,
            "object_position": null,
            "object_fit": null,
            "grid_auto_columns": null,
            "margin": null,
            "display": null,
            "left": null
          }
        },
        "2cc3642784d4410f9888d1c1feaf7f80": {
          "model_module": "@jupyter-widgets/controls",
          "model_name": "HBoxModel",
          "model_module_version": "1.5.0",
          "state": {
            "_view_name": "HBoxView",
            "_dom_classes": [],
            "_model_name": "HBoxModel",
            "_view_module": "@jupyter-widgets/controls",
            "_model_module_version": "1.5.0",
            "_view_count": null,
            "_view_module_version": "1.5.0",
            "box_style": "",
            "layout": "IPY_MODEL_93c2e3ca4fb4424f899c586d54bdc9ac",
            "_model_module": "@jupyter-widgets/controls",
            "children": [
              "IPY_MODEL_75775e21c8f74029a3d3d448fa04fe28",
              "IPY_MODEL_8d02ac1bfc754520ac6c7f8330e19f1b",
              "IPY_MODEL_9d8e5320a2ba422083f522bade5776a0"
            ]
          }
        },
        "93c2e3ca4fb4424f899c586d54bdc9ac": {
          "model_module": "@jupyter-widgets/base",
          "model_name": "LayoutModel",
          "model_module_version": "1.2.0",
          "state": {
            "_view_name": "LayoutView",
            "grid_template_rows": null,
            "right": null,
            "justify_content": null,
            "_view_module": "@jupyter-widgets/base",
            "overflow": null,
            "_model_module_version": "1.2.0",
            "_view_count": null,
            "flex_flow": null,
            "width": null,
            "min_width": null,
            "border": null,
            "align_items": null,
            "bottom": null,
            "_model_module": "@jupyter-widgets/base",
            "top": null,
            "grid_column": null,
            "overflow_y": null,
            "overflow_x": null,
            "grid_auto_flow": null,
            "grid_area": null,
            "grid_template_columns": null,
            "flex": null,
            "_model_name": "LayoutModel",
            "justify_items": null,
            "grid_row": null,
            "max_height": null,
            "align_content": null,
            "visibility": null,
            "align_self": null,
            "height": null,
            "min_height": null,
            "padding": null,
            "grid_auto_rows": null,
            "grid_gap": null,
            "max_width": null,
            "order": null,
            "_view_module_version": "1.2.0",
            "grid_template_areas": null,
            "object_position": null,
            "object_fit": null,
            "grid_auto_columns": null,
            "margin": null,
            "display": null,
            "left": null
          }
        },
        "75775e21c8f74029a3d3d448fa04fe28": {
          "model_module": "@jupyter-widgets/controls",
          "model_name": "HTMLModel",
          "model_module_version": "1.5.0",
          "state": {
            "_view_name": "HTMLView",
            "style": "IPY_MODEL_5fb1169c5a57426a811205885a1ae33a",
            "_dom_classes": [],
            "description": "",
            "_model_name": "HTMLModel",
            "placeholder": "​",
            "_view_module": "@jupyter-widgets/controls",
            "_model_module_version": "1.5.0",
            "value": "100%",
            "_view_count": null,
            "_view_module_version": "1.5.0",
            "description_tooltip": null,
            "_model_module": "@jupyter-widgets/controls",
            "layout": "IPY_MODEL_6ca932bc040c478aae9b928ce66ad4b6"
          }
        },
        "8d02ac1bfc754520ac6c7f8330e19f1b": {
          "model_module": "@jupyter-widgets/controls",
          "model_name": "FloatProgressModel",
          "model_module_version": "1.5.0",
          "state": {
            "_view_name": "ProgressView",
            "style": "IPY_MODEL_9cafa1e1093c4db9b0b059664f85e9ed",
            "_dom_classes": [],
            "description": "",
            "_model_name": "FloatProgressModel",
            "bar_style": "success",
            "max": 40,
            "_view_module": "@jupyter-widgets/controls",
            "_model_module_version": "1.5.0",
            "value": 40,
            "_view_count": null,
            "_view_module_version": "1.5.0",
            "orientation": "horizontal",
            "min": 0,
            "description_tooltip": null,
            "_model_module": "@jupyter-widgets/controls",
            "layout": "IPY_MODEL_3e60098c25b24660a5601a4a86bea27f"
          }
        },
        "9d8e5320a2ba422083f522bade5776a0": {
          "model_module": "@jupyter-widgets/controls",
          "model_name": "HTMLModel",
          "model_module_version": "1.5.0",
          "state": {
            "_view_name": "HTMLView",
            "style": "IPY_MODEL_474a2505c2bb47d8a02c7f65511b6c80",
            "_dom_classes": [],
            "description": "",
            "_model_name": "HTMLModel",
            "placeholder": "​",
            "_view_module": "@jupyter-widgets/controls",
            "_model_module_version": "1.5.0",
            "value": " 40/40 [00:13&lt;00:00,  2.81it/s]",
            "_view_count": null,
            "_view_module_version": "1.5.0",
            "description_tooltip": null,
            "_model_module": "@jupyter-widgets/controls",
            "layout": "IPY_MODEL_ee227b5a736644aa94cb368992efb086"
          }
        },
        "5fb1169c5a57426a811205885a1ae33a": {
          "model_module": "@jupyter-widgets/controls",
          "model_name": "DescriptionStyleModel",
          "model_module_version": "1.5.0",
          "state": {
            "_view_name": "StyleView",
            "_model_name": "DescriptionStyleModel",
            "description_width": "",
            "_view_module": "@jupyter-widgets/base",
            "_model_module_version": "1.5.0",
            "_view_count": null,
            "_view_module_version": "1.2.0",
            "_model_module": "@jupyter-widgets/controls"
          }
        },
        "6ca932bc040c478aae9b928ce66ad4b6": {
          "model_module": "@jupyter-widgets/base",
          "model_name": "LayoutModel",
          "model_module_version": "1.2.0",
          "state": {
            "_view_name": "LayoutView",
            "grid_template_rows": null,
            "right": null,
            "justify_content": null,
            "_view_module": "@jupyter-widgets/base",
            "overflow": null,
            "_model_module_version": "1.2.0",
            "_view_count": null,
            "flex_flow": null,
            "width": null,
            "min_width": null,
            "border": null,
            "align_items": null,
            "bottom": null,
            "_model_module": "@jupyter-widgets/base",
            "top": null,
            "grid_column": null,
            "overflow_y": null,
            "overflow_x": null,
            "grid_auto_flow": null,
            "grid_area": null,
            "grid_template_columns": null,
            "flex": null,
            "_model_name": "LayoutModel",
            "justify_items": null,
            "grid_row": null,
            "max_height": null,
            "align_content": null,
            "visibility": null,
            "align_self": null,
            "height": null,
            "min_height": null,
            "padding": null,
            "grid_auto_rows": null,
            "grid_gap": null,
            "max_width": null,
            "order": null,
            "_view_module_version": "1.2.0",
            "grid_template_areas": null,
            "object_position": null,
            "object_fit": null,
            "grid_auto_columns": null,
            "margin": null,
            "display": null,
            "left": null
          }
        },
        "9cafa1e1093c4db9b0b059664f85e9ed": {
          "model_module": "@jupyter-widgets/controls",
          "model_name": "ProgressStyleModel",
          "model_module_version": "1.5.0",
          "state": {
            "_view_name": "StyleView",
            "_model_name": "ProgressStyleModel",
            "description_width": "",
            "_view_module": "@jupyter-widgets/base",
            "_model_module_version": "1.5.0",
            "_view_count": null,
            "_view_module_version": "1.2.0",
            "bar_color": null,
            "_model_module": "@jupyter-widgets/controls"
          }
        },
        "3e60098c25b24660a5601a4a86bea27f": {
          "model_module": "@jupyter-widgets/base",
          "model_name": "LayoutModel",
          "model_module_version": "1.2.0",
          "state": {
            "_view_name": "LayoutView",
            "grid_template_rows": null,
            "right": null,
            "justify_content": null,
            "_view_module": "@jupyter-widgets/base",
            "overflow": null,
            "_model_module_version": "1.2.0",
            "_view_count": null,
            "flex_flow": null,
            "width": null,
            "min_width": null,
            "border": null,
            "align_items": null,
            "bottom": null,
            "_model_module": "@jupyter-widgets/base",
            "top": null,
            "grid_column": null,
            "overflow_y": null,
            "overflow_x": null,
            "grid_auto_flow": null,
            "grid_area": null,
            "grid_template_columns": null,
            "flex": null,
            "_model_name": "LayoutModel",
            "justify_items": null,
            "grid_row": null,
            "max_height": null,
            "align_content": null,
            "visibility": null,
            "align_self": null,
            "height": null,
            "min_height": null,
            "padding": null,
            "grid_auto_rows": null,
            "grid_gap": null,
            "max_width": null,
            "order": null,
            "_view_module_version": "1.2.0",
            "grid_template_areas": null,
            "object_position": null,
            "object_fit": null,
            "grid_auto_columns": null,
            "margin": null,
            "display": null,
            "left": null
          }
        },
        "474a2505c2bb47d8a02c7f65511b6c80": {
          "model_module": "@jupyter-widgets/controls",
          "model_name": "DescriptionStyleModel",
          "model_module_version": "1.5.0",
          "state": {
            "_view_name": "StyleView",
            "_model_name": "DescriptionStyleModel",
            "description_width": "",
            "_view_module": "@jupyter-widgets/base",
            "_model_module_version": "1.5.0",
            "_view_count": null,
            "_view_module_version": "1.2.0",
            "_model_module": "@jupyter-widgets/controls"
          }
        },
        "ee227b5a736644aa94cb368992efb086": {
          "model_module": "@jupyter-widgets/base",
          "model_name": "LayoutModel",
          "model_module_version": "1.2.0",
          "state": {
            "_view_name": "LayoutView",
            "grid_template_rows": null,
            "right": null,
            "justify_content": null,
            "_view_module": "@jupyter-widgets/base",
            "overflow": null,
            "_model_module_version": "1.2.0",
            "_view_count": null,
            "flex_flow": null,
            "width": null,
            "min_width": null,
            "border": null,
            "align_items": null,
            "bottom": null,
            "_model_module": "@jupyter-widgets/base",
            "top": null,
            "grid_column": null,
            "overflow_y": null,
            "overflow_x": null,
            "grid_auto_flow": null,
            "grid_area": null,
            "grid_template_columns": null,
            "flex": null,
            "_model_name": "LayoutModel",
            "justify_items": null,
            "grid_row": null,
            "max_height": null,
            "align_content": null,
            "visibility": null,
            "align_self": null,
            "height": null,
            "min_height": null,
            "padding": null,
            "grid_auto_rows": null,
            "grid_gap": null,
            "max_width": null,
            "order": null,
            "_view_module_version": "1.2.0",
            "grid_template_areas": null,
            "object_position": null,
            "object_fit": null,
            "grid_auto_columns": null,
            "margin": null,
            "display": null,
            "left": null
          }
        },
        "4533b8a6115149eb87fe2bd6881d6954": {
          "model_module": "@jupyter-widgets/controls",
          "model_name": "HBoxModel",
          "model_module_version": "1.5.0",
          "state": {
            "_view_name": "HBoxView",
            "_dom_classes": [],
            "_model_name": "HBoxModel",
            "_view_module": "@jupyter-widgets/controls",
            "_model_module_version": "1.5.0",
            "_view_count": null,
            "_view_module_version": "1.5.0",
            "box_style": "",
            "layout": "IPY_MODEL_a7a499c3f62b4bbfaad875d680b2199c",
            "_model_module": "@jupyter-widgets/controls",
            "children": [
              "IPY_MODEL_ffc1b3e7bba24256ab115904caf59f50",
              "IPY_MODEL_b508543ce92e4c4a98d255c33dc9736a"
            ]
          }
        },
        "a7a499c3f62b4bbfaad875d680b2199c": {
          "model_module": "@jupyter-widgets/base",
          "model_name": "LayoutModel",
          "model_module_version": "1.2.0",
          "state": {
            "_view_name": "LayoutView",
            "grid_template_rows": null,
            "right": null,
            "justify_content": null,
            "_view_module": "@jupyter-widgets/base",
            "overflow": null,
            "_model_module_version": "1.2.0",
            "_view_count": null,
            "flex_flow": null,
            "width": null,
            "min_width": null,
            "border": null,
            "align_items": null,
            "bottom": null,
            "_model_module": "@jupyter-widgets/base",
            "top": null,
            "grid_column": null,
            "overflow_y": null,
            "overflow_x": null,
            "grid_auto_flow": null,
            "grid_area": null,
            "grid_template_columns": null,
            "flex": null,
            "_model_name": "LayoutModel",
            "justify_items": null,
            "grid_row": null,
            "max_height": null,
            "align_content": null,
            "visibility": null,
            "align_self": null,
            "height": null,
            "min_height": null,
            "padding": null,
            "grid_auto_rows": null,
            "grid_gap": null,
            "max_width": null,
            "order": null,
            "_view_module_version": "1.2.0",
            "grid_template_areas": null,
            "object_position": null,
            "object_fit": null,
            "grid_auto_columns": null,
            "margin": null,
            "display": null,
            "left": null
          }
        },
        "ffc1b3e7bba24256ab115904caf59f50": {
          "model_module": "@jupyter-widgets/controls",
          "model_name": "FloatProgressModel",
          "model_module_version": "1.5.0",
          "state": {
            "_view_name": "ProgressView",
            "style": "IPY_MODEL_87c89cdcb32a4a2c900f60a55c1e237c",
            "_dom_classes": [],
            "description": "100%",
            "_model_name": "FloatProgressModel",
            "bar_style": "success",
            "max": 40,
            "_view_module": "@jupyter-widgets/controls",
            "_model_module_version": "1.5.0",
            "value": 40,
            "_view_count": null,
            "_view_module_version": "1.5.0",
            "orientation": "horizontal",
            "min": 0,
            "description_tooltip": null,
            "_model_module": "@jupyter-widgets/controls",
            "layout": "IPY_MODEL_f62f13dd4af34c8587d4ab8b60894b04"
          }
        },
        "b508543ce92e4c4a98d255c33dc9736a": {
          "model_module": "@jupyter-widgets/controls",
          "model_name": "HTMLModel",
          "model_module_version": "1.5.0",
          "state": {
            "_view_name": "HTMLView",
            "style": "IPY_MODEL_aa5a8d7885bc49d0a00b60c7f95e850e",
            "_dom_classes": [],
            "description": "",
            "_model_name": "HTMLModel",
            "placeholder": "​",
            "_view_module": "@jupyter-widgets/controls",
            "_model_module_version": "1.5.0",
            "value": " 40/40 [00:17&lt;00:00,  2.35it/s]",
            "_view_count": null,
            "_view_module_version": "1.5.0",
            "description_tooltip": null,
            "_model_module": "@jupyter-widgets/controls",
            "layout": "IPY_MODEL_c660bdd305ab45fdbfddb23de6869613"
          }
        },
        "87c89cdcb32a4a2c900f60a55c1e237c": {
          "model_module": "@jupyter-widgets/controls",
          "model_name": "ProgressStyleModel",
          "model_module_version": "1.5.0",
          "state": {
            "_view_name": "StyleView",
            "_model_name": "ProgressStyleModel",
            "description_width": "initial",
            "_view_module": "@jupyter-widgets/base",
            "_model_module_version": "1.5.0",
            "_view_count": null,
            "_view_module_version": "1.2.0",
            "bar_color": null,
            "_model_module": "@jupyter-widgets/controls"
          }
        },
        "f62f13dd4af34c8587d4ab8b60894b04": {
          "model_module": "@jupyter-widgets/base",
          "model_name": "LayoutModel",
          "model_module_version": "1.2.0",
          "state": {
            "_view_name": "LayoutView",
            "grid_template_rows": null,
            "right": null,
            "justify_content": null,
            "_view_module": "@jupyter-widgets/base",
            "overflow": null,
            "_model_module_version": "1.2.0",
            "_view_count": null,
            "flex_flow": null,
            "width": null,
            "min_width": null,
            "border": null,
            "align_items": null,
            "bottom": null,
            "_model_module": "@jupyter-widgets/base",
            "top": null,
            "grid_column": null,
            "overflow_y": null,
            "overflow_x": null,
            "grid_auto_flow": null,
            "grid_area": null,
            "grid_template_columns": null,
            "flex": null,
            "_model_name": "LayoutModel",
            "justify_items": null,
            "grid_row": null,
            "max_height": null,
            "align_content": null,
            "visibility": null,
            "align_self": null,
            "height": null,
            "min_height": null,
            "padding": null,
            "grid_auto_rows": null,
            "grid_gap": null,
            "max_width": null,
            "order": null,
            "_view_module_version": "1.2.0",
            "grid_template_areas": null,
            "object_position": null,
            "object_fit": null,
            "grid_auto_columns": null,
            "margin": null,
            "display": null,
            "left": null
          }
        },
        "aa5a8d7885bc49d0a00b60c7f95e850e": {
          "model_module": "@jupyter-widgets/controls",
          "model_name": "DescriptionStyleModel",
          "model_module_version": "1.5.0",
          "state": {
            "_view_name": "StyleView",
            "_model_name": "DescriptionStyleModel",
            "description_width": "",
            "_view_module": "@jupyter-widgets/base",
            "_model_module_version": "1.5.0",
            "_view_count": null,
            "_view_module_version": "1.2.0",
            "_model_module": "@jupyter-widgets/controls"
          }
        },
        "c660bdd305ab45fdbfddb23de6869613": {
          "model_module": "@jupyter-widgets/base",
          "model_name": "LayoutModel",
          "model_module_version": "1.2.0",
          "state": {
            "_view_name": "LayoutView",
            "grid_template_rows": null,
            "right": null,
            "justify_content": null,
            "_view_module": "@jupyter-widgets/base",
            "overflow": null,
            "_model_module_version": "1.2.0",
            "_view_count": null,
            "flex_flow": null,
            "width": null,
            "min_width": null,
            "border": null,
            "align_items": null,
            "bottom": null,
            "_model_module": "@jupyter-widgets/base",
            "top": null,
            "grid_column": null,
            "overflow_y": null,
            "overflow_x": null,
            "grid_auto_flow": null,
            "grid_area": null,
            "grid_template_columns": null,
            "flex": null,
            "_model_name": "LayoutModel",
            "justify_items": null,
            "grid_row": null,
            "max_height": null,
            "align_content": null,
            "visibility": null,
            "align_self": null,
            "height": null,
            "min_height": null,
            "padding": null,
            "grid_auto_rows": null,
            "grid_gap": null,
            "max_width": null,
            "order": null,
            "_view_module_version": "1.2.0",
            "grid_template_areas": null,
            "object_position": null,
            "object_fit": null,
            "grid_auto_columns": null,
            "margin": null,
            "display": null,
            "left": null
          }
        },
        "71f06cbde563417dad1fcf4b749b034a": {
          "model_module": "@jupyter-widgets/controls",
          "model_name": "HBoxModel",
          "model_module_version": "1.5.0",
          "state": {
            "_view_name": "HBoxView",
            "_dom_classes": [],
            "_model_name": "HBoxModel",
            "_view_module": "@jupyter-widgets/controls",
            "_model_module_version": "1.5.0",
            "_view_count": null,
            "_view_module_version": "1.5.0",
            "box_style": "",
            "layout": "IPY_MODEL_925224a306b34148a38fba74d538ce8a",
            "_model_module": "@jupyter-widgets/controls",
            "children": [
              "IPY_MODEL_64c6c95c96f44a3e9c71078560ba6e8d",
              "IPY_MODEL_3b6ee9f6bceb413d91dab08d201eb498",
              "IPY_MODEL_af1e1b90fae1474bb7f0a22f1ba74787"
            ]
          }
        },
        "925224a306b34148a38fba74d538ce8a": {
          "model_module": "@jupyter-widgets/base",
          "model_name": "LayoutModel",
          "model_module_version": "1.2.0",
          "state": {
            "_view_name": "LayoutView",
            "grid_template_rows": null,
            "right": null,
            "justify_content": null,
            "_view_module": "@jupyter-widgets/base",
            "overflow": null,
            "_model_module_version": "1.2.0",
            "_view_count": null,
            "flex_flow": null,
            "width": null,
            "min_width": null,
            "border": null,
            "align_items": null,
            "bottom": null,
            "_model_module": "@jupyter-widgets/base",
            "top": null,
            "grid_column": null,
            "overflow_y": null,
            "overflow_x": null,
            "grid_auto_flow": null,
            "grid_area": null,
            "grid_template_columns": null,
            "flex": null,
            "_model_name": "LayoutModel",
            "justify_items": null,
            "grid_row": null,
            "max_height": null,
            "align_content": null,
            "visibility": null,
            "align_self": null,
            "height": null,
            "min_height": null,
            "padding": null,
            "grid_auto_rows": null,
            "grid_gap": null,
            "max_width": null,
            "order": null,
            "_view_module_version": "1.2.0",
            "grid_template_areas": null,
            "object_position": null,
            "object_fit": null,
            "grid_auto_columns": null,
            "margin": null,
            "display": null,
            "left": null
          }
        },
        "64c6c95c96f44a3e9c71078560ba6e8d": {
          "model_module": "@jupyter-widgets/controls",
          "model_name": "HTMLModel",
          "model_module_version": "1.5.0",
          "state": {
            "_view_name": "HTMLView",
            "style": "IPY_MODEL_b31324f0f50046d0978a6c77ad6c591f",
            "_dom_classes": [],
            "description": "",
            "_model_name": "HTMLModel",
            "placeholder": "​",
            "_view_module": "@jupyter-widgets/controls",
            "_model_module_version": "1.5.0",
            "value": "100%",
            "_view_count": null,
            "_view_module_version": "1.5.0",
            "description_tooltip": null,
            "_model_module": "@jupyter-widgets/controls",
            "layout": "IPY_MODEL_181b380db0c24c60b336838b971cae6f"
          }
        },
        "3b6ee9f6bceb413d91dab08d201eb498": {
          "model_module": "@jupyter-widgets/controls",
          "model_name": "FloatProgressModel",
          "model_module_version": "1.5.0",
          "state": {
            "_view_name": "ProgressView",
            "style": "IPY_MODEL_54bc0212cbef4f03a6a214fb404f60f3",
            "_dom_classes": [],
            "description": "",
            "_model_name": "FloatProgressModel",
            "bar_style": "",
            "max": 40,
            "_view_module": "@jupyter-widgets/controls",
            "_model_module_version": "1.5.0",
            "value": 40,
            "_view_count": null,
            "_view_module_version": "1.5.0",
            "orientation": "horizontal",
            "min": 0,
            "description_tooltip": null,
            "_model_module": "@jupyter-widgets/controls",
            "layout": "IPY_MODEL_88241124ed1c4695973fc72bfdedfc5a"
          }
        },
        "af1e1b90fae1474bb7f0a22f1ba74787": {
          "model_module": "@jupyter-widgets/controls",
          "model_name": "HTMLModel",
          "model_module_version": "1.5.0",
          "state": {
            "_view_name": "HTMLView",
            "style": "IPY_MODEL_5fd164664a864741bea01c7908fec3f0",
            "_dom_classes": [],
            "description": "",
            "_model_name": "HTMLModel",
            "placeholder": "​",
            "_view_module": "@jupyter-widgets/controls",
            "_model_module_version": "1.5.0",
            "value": " 40/40 [00:12&lt;00:00,  3.21it/s]",
            "_view_count": null,
            "_view_module_version": "1.5.0",
            "description_tooltip": null,
            "_model_module": "@jupyter-widgets/controls",
            "layout": "IPY_MODEL_c6b088cd13a64c86a9077467bee47710"
          }
        },
        "b31324f0f50046d0978a6c77ad6c591f": {
          "model_module": "@jupyter-widgets/controls",
          "model_name": "DescriptionStyleModel",
          "model_module_version": "1.5.0",
          "state": {
            "_view_name": "StyleView",
            "_model_name": "DescriptionStyleModel",
            "description_width": "",
            "_view_module": "@jupyter-widgets/base",
            "_model_module_version": "1.5.0",
            "_view_count": null,
            "_view_module_version": "1.2.0",
            "_model_module": "@jupyter-widgets/controls"
          }
        },
        "181b380db0c24c60b336838b971cae6f": {
          "model_module": "@jupyter-widgets/base",
          "model_name": "LayoutModel",
          "model_module_version": "1.2.0",
          "state": {
            "_view_name": "LayoutView",
            "grid_template_rows": null,
            "right": null,
            "justify_content": null,
            "_view_module": "@jupyter-widgets/base",
            "overflow": null,
            "_model_module_version": "1.2.0",
            "_view_count": null,
            "flex_flow": null,
            "width": null,
            "min_width": null,
            "border": null,
            "align_items": null,
            "bottom": null,
            "_model_module": "@jupyter-widgets/base",
            "top": null,
            "grid_column": null,
            "overflow_y": null,
            "overflow_x": null,
            "grid_auto_flow": null,
            "grid_area": null,
            "grid_template_columns": null,
            "flex": null,
            "_model_name": "LayoutModel",
            "justify_items": null,
            "grid_row": null,
            "max_height": null,
            "align_content": null,
            "visibility": null,
            "align_self": null,
            "height": null,
            "min_height": null,
            "padding": null,
            "grid_auto_rows": null,
            "grid_gap": null,
            "max_width": null,
            "order": null,
            "_view_module_version": "1.2.0",
            "grid_template_areas": null,
            "object_position": null,
            "object_fit": null,
            "grid_auto_columns": null,
            "margin": null,
            "display": null,
            "left": null
          }
        },
        "54bc0212cbef4f03a6a214fb404f60f3": {
          "model_module": "@jupyter-widgets/controls",
          "model_name": "ProgressStyleModel",
          "model_module_version": "1.5.0",
          "state": {
            "_view_name": "StyleView",
            "_model_name": "ProgressStyleModel",
            "description_width": "",
            "_view_module": "@jupyter-widgets/base",
            "_model_module_version": "1.5.0",
            "_view_count": null,
            "_view_module_version": "1.2.0",
            "bar_color": null,
            "_model_module": "@jupyter-widgets/controls"
          }
        },
        "88241124ed1c4695973fc72bfdedfc5a": {
          "model_module": "@jupyter-widgets/base",
          "model_name": "LayoutModel",
          "model_module_version": "1.2.0",
          "state": {
            "_view_name": "LayoutView",
            "grid_template_rows": null,
            "right": null,
            "justify_content": null,
            "_view_module": "@jupyter-widgets/base",
            "overflow": null,
            "_model_module_version": "1.2.0",
            "_view_count": null,
            "flex_flow": null,
            "width": null,
            "min_width": null,
            "border": null,
            "align_items": null,
            "bottom": null,
            "_model_module": "@jupyter-widgets/base",
            "top": null,
            "grid_column": null,
            "overflow_y": null,
            "overflow_x": null,
            "grid_auto_flow": null,
            "grid_area": null,
            "grid_template_columns": null,
            "flex": null,
            "_model_name": "LayoutModel",
            "justify_items": null,
            "grid_row": null,
            "max_height": null,
            "align_content": null,
            "visibility": null,
            "align_self": null,
            "height": null,
            "min_height": null,
            "padding": null,
            "grid_auto_rows": null,
            "grid_gap": null,
            "max_width": null,
            "order": null,
            "_view_module_version": "1.2.0",
            "grid_template_areas": null,
            "object_position": null,
            "object_fit": null,
            "grid_auto_columns": null,
            "margin": null,
            "display": null,
            "left": null
          }
        },
        "5fd164664a864741bea01c7908fec3f0": {
          "model_module": "@jupyter-widgets/controls",
          "model_name": "DescriptionStyleModel",
          "model_module_version": "1.5.0",
          "state": {
            "_view_name": "StyleView",
            "_model_name": "DescriptionStyleModel",
            "description_width": "",
            "_view_module": "@jupyter-widgets/base",
            "_model_module_version": "1.5.0",
            "_view_count": null,
            "_view_module_version": "1.2.0",
            "_model_module": "@jupyter-widgets/controls"
          }
        },
        "c6b088cd13a64c86a9077467bee47710": {
          "model_module": "@jupyter-widgets/base",
          "model_name": "LayoutModel",
          "model_module_version": "1.2.0",
          "state": {
            "_view_name": "LayoutView",
            "grid_template_rows": null,
            "right": null,
            "justify_content": null,
            "_view_module": "@jupyter-widgets/base",
            "overflow": null,
            "_model_module_version": "1.2.0",
            "_view_count": null,
            "flex_flow": null,
            "width": null,
            "min_width": null,
            "border": null,
            "align_items": null,
            "bottom": null,
            "_model_module": "@jupyter-widgets/base",
            "top": null,
            "grid_column": null,
            "overflow_y": null,
            "overflow_x": null,
            "grid_auto_flow": null,
            "grid_area": null,
            "grid_template_columns": null,
            "flex": null,
            "_model_name": "LayoutModel",
            "justify_items": null,
            "grid_row": null,
            "max_height": null,
            "align_content": null,
            "visibility": null,
            "align_self": null,
            "height": null,
            "min_height": null,
            "padding": null,
            "grid_auto_rows": null,
            "grid_gap": null,
            "max_width": null,
            "order": null,
            "_view_module_version": "1.2.0",
            "grid_template_areas": null,
            "object_position": null,
            "object_fit": null,
            "grid_auto_columns": null,
            "margin": null,
            "display": null,
            "left": null
          }
        },
        "b5fe66b5a1ee416a9c220ab70cb131d2": {
          "model_module": "@jupyter-widgets/controls",
          "model_name": "HBoxModel",
          "model_module_version": "1.5.0",
          "state": {
            "_view_name": "HBoxView",
            "_dom_classes": [],
            "_model_name": "HBoxModel",
            "_view_module": "@jupyter-widgets/controls",
            "_model_module_version": "1.5.0",
            "_view_count": null,
            "_view_module_version": "1.5.0",
            "box_style": "",
            "layout": "IPY_MODEL_490066b89b0a4aaa87b5f3c19cf9fd30",
            "_model_module": "@jupyter-widgets/controls",
            "children": [
              "IPY_MODEL_33b59881bdf643f2beb3d0acb2790016",
              "IPY_MODEL_cd02f668c4a34b40a13153f2fba6fd3a",
              "IPY_MODEL_bce2da2b04824bd8b8015277502b57f5"
            ]
          }
        },
        "490066b89b0a4aaa87b5f3c19cf9fd30": {
          "model_module": "@jupyter-widgets/base",
          "model_name": "LayoutModel",
          "model_module_version": "1.2.0",
          "state": {
            "_view_name": "LayoutView",
            "grid_template_rows": null,
            "right": null,
            "justify_content": null,
            "_view_module": "@jupyter-widgets/base",
            "overflow": null,
            "_model_module_version": "1.2.0",
            "_view_count": null,
            "flex_flow": null,
            "width": null,
            "min_width": null,
            "border": null,
            "align_items": null,
            "bottom": null,
            "_model_module": "@jupyter-widgets/base",
            "top": null,
            "grid_column": null,
            "overflow_y": null,
            "overflow_x": null,
            "grid_auto_flow": null,
            "grid_area": null,
            "grid_template_columns": null,
            "flex": null,
            "_model_name": "LayoutModel",
            "justify_items": null,
            "grid_row": null,
            "max_height": null,
            "align_content": null,
            "visibility": null,
            "align_self": null,
            "height": null,
            "min_height": null,
            "padding": null,
            "grid_auto_rows": null,
            "grid_gap": null,
            "max_width": null,
            "order": null,
            "_view_module_version": "1.2.0",
            "grid_template_areas": null,
            "object_position": null,
            "object_fit": null,
            "grid_auto_columns": null,
            "margin": null,
            "display": null,
            "left": null
          }
        },
        "33b59881bdf643f2beb3d0acb2790016": {
          "model_module": "@jupyter-widgets/controls",
          "model_name": "HTMLModel",
          "model_module_version": "1.5.0",
          "state": {
            "_view_name": "HTMLView",
            "style": "IPY_MODEL_bb4447b8d87344aebf7174d4ae2b90cc",
            "_dom_classes": [],
            "description": "",
            "_model_name": "HTMLModel",
            "placeholder": "​",
            "_view_module": "@jupyter-widgets/controls",
            "_model_module_version": "1.5.0",
            "value": "100%",
            "_view_count": null,
            "_view_module_version": "1.5.0",
            "description_tooltip": null,
            "_model_module": "@jupyter-widgets/controls",
            "layout": "IPY_MODEL_cf48449d948145788bcdc7a0b4780c26"
          }
        },
        "cd02f668c4a34b40a13153f2fba6fd3a": {
          "model_module": "@jupyter-widgets/controls",
          "model_name": "FloatProgressModel",
          "model_module_version": "1.5.0",
          "state": {
            "_view_name": "ProgressView",
            "style": "IPY_MODEL_d229188792294f258f89daaeb0b41fc4",
            "_dom_classes": [],
            "description": "",
            "_model_name": "FloatProgressModel",
            "bar_style": "",
            "max": 40,
            "_view_module": "@jupyter-widgets/controls",
            "_model_module_version": "1.5.0",
            "value": 40,
            "_view_count": null,
            "_view_module_version": "1.5.0",
            "orientation": "horizontal",
            "min": 0,
            "description_tooltip": null,
            "_model_module": "@jupyter-widgets/controls",
            "layout": "IPY_MODEL_1977d0d65f3a4752a072296ab173df90"
          }
        },
        "bce2da2b04824bd8b8015277502b57f5": {
          "model_module": "@jupyter-widgets/controls",
          "model_name": "HTMLModel",
          "model_module_version": "1.5.0",
          "state": {
            "_view_name": "HTMLView",
            "style": "IPY_MODEL_877dd7fee87b4fa0966fd067f76e5b25",
            "_dom_classes": [],
            "description": "",
            "_model_name": "HTMLModel",
            "placeholder": "​",
            "_view_module": "@jupyter-widgets/controls",
            "_model_module_version": "1.5.0",
            "value": " 40/40 [00:21&lt;00:00,  1.90it/s]",
            "_view_count": null,
            "_view_module_version": "1.5.0",
            "description_tooltip": null,
            "_model_module": "@jupyter-widgets/controls",
            "layout": "IPY_MODEL_5b6c3b715df543cab8d6e3c2d9ed8a11"
          }
        },
        "bb4447b8d87344aebf7174d4ae2b90cc": {
          "model_module": "@jupyter-widgets/controls",
          "model_name": "DescriptionStyleModel",
          "model_module_version": "1.5.0",
          "state": {
            "_view_name": "StyleView",
            "_model_name": "DescriptionStyleModel",
            "description_width": "",
            "_view_module": "@jupyter-widgets/base",
            "_model_module_version": "1.5.0",
            "_view_count": null,
            "_view_module_version": "1.2.0",
            "_model_module": "@jupyter-widgets/controls"
          }
        },
        "cf48449d948145788bcdc7a0b4780c26": {
          "model_module": "@jupyter-widgets/base",
          "model_name": "LayoutModel",
          "model_module_version": "1.2.0",
          "state": {
            "_view_name": "LayoutView",
            "grid_template_rows": null,
            "right": null,
            "justify_content": null,
            "_view_module": "@jupyter-widgets/base",
            "overflow": null,
            "_model_module_version": "1.2.0",
            "_view_count": null,
            "flex_flow": null,
            "width": null,
            "min_width": null,
            "border": null,
            "align_items": null,
            "bottom": null,
            "_model_module": "@jupyter-widgets/base",
            "top": null,
            "grid_column": null,
            "overflow_y": null,
            "overflow_x": null,
            "grid_auto_flow": null,
            "grid_area": null,
            "grid_template_columns": null,
            "flex": null,
            "_model_name": "LayoutModel",
            "justify_items": null,
            "grid_row": null,
            "max_height": null,
            "align_content": null,
            "visibility": null,
            "align_self": null,
            "height": null,
            "min_height": null,
            "padding": null,
            "grid_auto_rows": null,
            "grid_gap": null,
            "max_width": null,
            "order": null,
            "_view_module_version": "1.2.0",
            "grid_template_areas": null,
            "object_position": null,
            "object_fit": null,
            "grid_auto_columns": null,
            "margin": null,
            "display": null,
            "left": null
          }
        },
        "d229188792294f258f89daaeb0b41fc4": {
          "model_module": "@jupyter-widgets/controls",
          "model_name": "ProgressStyleModel",
          "model_module_version": "1.5.0",
          "state": {
            "_view_name": "StyleView",
            "_model_name": "ProgressStyleModel",
            "description_width": "",
            "_view_module": "@jupyter-widgets/base",
            "_model_module_version": "1.5.0",
            "_view_count": null,
            "_view_module_version": "1.2.0",
            "bar_color": null,
            "_model_module": "@jupyter-widgets/controls"
          }
        },
        "1977d0d65f3a4752a072296ab173df90": {
          "model_module": "@jupyter-widgets/base",
          "model_name": "LayoutModel",
          "model_module_version": "1.2.0",
          "state": {
            "_view_name": "LayoutView",
            "grid_template_rows": null,
            "right": null,
            "justify_content": null,
            "_view_module": "@jupyter-widgets/base",
            "overflow": null,
            "_model_module_version": "1.2.0",
            "_view_count": null,
            "flex_flow": null,
            "width": null,
            "min_width": null,
            "border": null,
            "align_items": null,
            "bottom": null,
            "_model_module": "@jupyter-widgets/base",
            "top": null,
            "grid_column": null,
            "overflow_y": null,
            "overflow_x": null,
            "grid_auto_flow": null,
            "grid_area": null,
            "grid_template_columns": null,
            "flex": null,
            "_model_name": "LayoutModel",
            "justify_items": null,
            "grid_row": null,
            "max_height": null,
            "align_content": null,
            "visibility": null,
            "align_self": null,
            "height": null,
            "min_height": null,
            "padding": null,
            "grid_auto_rows": null,
            "grid_gap": null,
            "max_width": null,
            "order": null,
            "_view_module_version": "1.2.0",
            "grid_template_areas": null,
            "object_position": null,
            "object_fit": null,
            "grid_auto_columns": null,
            "margin": null,
            "display": null,
            "left": null
          }
        },
        "877dd7fee87b4fa0966fd067f76e5b25": {
          "model_module": "@jupyter-widgets/controls",
          "model_name": "DescriptionStyleModel",
          "model_module_version": "1.5.0",
          "state": {
            "_view_name": "StyleView",
            "_model_name": "DescriptionStyleModel",
            "description_width": "",
            "_view_module": "@jupyter-widgets/base",
            "_model_module_version": "1.5.0",
            "_view_count": null,
            "_view_module_version": "1.2.0",
            "_model_module": "@jupyter-widgets/controls"
          }
        },
        "5b6c3b715df543cab8d6e3c2d9ed8a11": {
          "model_module": "@jupyter-widgets/base",
          "model_name": "LayoutModel",
          "model_module_version": "1.2.0",
          "state": {
            "_view_name": "LayoutView",
            "grid_template_rows": null,
            "right": null,
            "justify_content": null,
            "_view_module": "@jupyter-widgets/base",
            "overflow": null,
            "_model_module_version": "1.2.0",
            "_view_count": null,
            "flex_flow": null,
            "width": null,
            "min_width": null,
            "border": null,
            "align_items": null,
            "bottom": null,
            "_model_module": "@jupyter-widgets/base",
            "top": null,
            "grid_column": null,
            "overflow_y": null,
            "overflow_x": null,
            "grid_auto_flow": null,
            "grid_area": null,
            "grid_template_columns": null,
            "flex": null,
            "_model_name": "LayoutModel",
            "justify_items": null,
            "grid_row": null,
            "max_height": null,
            "align_content": null,
            "visibility": null,
            "align_self": null,
            "height": null,
            "min_height": null,
            "padding": null,
            "grid_auto_rows": null,
            "grid_gap": null,
            "max_width": null,
            "order": null,
            "_view_module_version": "1.2.0",
            "grid_template_areas": null,
            "object_position": null,
            "object_fit": null,
            "grid_auto_columns": null,
            "margin": null,
            "display": null,
            "left": null
          }
        },
        "6bea10e3115245f59adf37cb4d1da971": {
          "model_module": "@jupyter-widgets/controls",
          "model_name": "HBoxModel",
          "model_module_version": "1.5.0",
          "state": {
            "_view_name": "HBoxView",
            "_dom_classes": [],
            "_model_name": "HBoxModel",
            "_view_module": "@jupyter-widgets/controls",
            "_model_module_version": "1.5.0",
            "_view_count": null,
            "_view_module_version": "1.5.0",
            "box_style": "",
            "layout": "IPY_MODEL_ca5220134c2940c18be9fa52289f5a50",
            "_model_module": "@jupyter-widgets/controls",
            "children": [
              "IPY_MODEL_16ade09aaf8f48b8bcfdb66b5cef3a6f",
              "IPY_MODEL_d40c648cbeb5411fa22df7d537051960",
              "IPY_MODEL_8933c889032b4d2b980cfed05583ad6d"
            ]
          }
        },
        "ca5220134c2940c18be9fa52289f5a50": {
          "model_module": "@jupyter-widgets/base",
          "model_name": "LayoutModel",
          "model_module_version": "1.2.0",
          "state": {
            "_view_name": "LayoutView",
            "grid_template_rows": null,
            "right": null,
            "justify_content": null,
            "_view_module": "@jupyter-widgets/base",
            "overflow": null,
            "_model_module_version": "1.2.0",
            "_view_count": null,
            "flex_flow": null,
            "width": null,
            "min_width": null,
            "border": null,
            "align_items": null,
            "bottom": null,
            "_model_module": "@jupyter-widgets/base",
            "top": null,
            "grid_column": null,
            "overflow_y": null,
            "overflow_x": null,
            "grid_auto_flow": null,
            "grid_area": null,
            "grid_template_columns": null,
            "flex": null,
            "_model_name": "LayoutModel",
            "justify_items": null,
            "grid_row": null,
            "max_height": null,
            "align_content": null,
            "visibility": null,
            "align_self": null,
            "height": null,
            "min_height": null,
            "padding": null,
            "grid_auto_rows": null,
            "grid_gap": null,
            "max_width": null,
            "order": null,
            "_view_module_version": "1.2.0",
            "grid_template_areas": null,
            "object_position": null,
            "object_fit": null,
            "grid_auto_columns": null,
            "margin": null,
            "display": null,
            "left": null
          }
        },
        "16ade09aaf8f48b8bcfdb66b5cef3a6f": {
          "model_module": "@jupyter-widgets/controls",
          "model_name": "HTMLModel",
          "model_module_version": "1.5.0",
          "state": {
            "_view_name": "HTMLView",
            "style": "IPY_MODEL_5baaf111561d4faa9a1fe46c5ab8cac2",
            "_dom_classes": [],
            "description": "",
            "_model_name": "HTMLModel",
            "placeholder": "​",
            "_view_module": "@jupyter-widgets/controls",
            "_model_module_version": "1.5.0",
            "value": "100%",
            "_view_count": null,
            "_view_module_version": "1.5.0",
            "description_tooltip": null,
            "_model_module": "@jupyter-widgets/controls",
            "layout": "IPY_MODEL_55ddece00d28443fad89857048d5d9fd"
          }
        },
        "d40c648cbeb5411fa22df7d537051960": {
          "model_module": "@jupyter-widgets/controls",
          "model_name": "FloatProgressModel",
          "model_module_version": "1.5.0",
          "state": {
            "_view_name": "ProgressView",
            "style": "IPY_MODEL_f126f1eddff6472aa61b9034abb7336b",
            "_dom_classes": [],
            "description": "",
            "_model_name": "FloatProgressModel",
            "bar_style": "",
            "max": 40,
            "_view_module": "@jupyter-widgets/controls",
            "_model_module_version": "1.5.0",
            "value": 40,
            "_view_count": null,
            "_view_module_version": "1.5.0",
            "orientation": "horizontal",
            "min": 0,
            "description_tooltip": null,
            "_model_module": "@jupyter-widgets/controls",
            "layout": "IPY_MODEL_13d5784fbff444a499e1f3626cc1d9f7"
          }
        },
        "8933c889032b4d2b980cfed05583ad6d": {
          "model_module": "@jupyter-widgets/controls",
          "model_name": "HTMLModel",
          "model_module_version": "1.5.0",
          "state": {
            "_view_name": "HTMLView",
            "style": "IPY_MODEL_066ec36c3c0741fa9170ea2c663aec70",
            "_dom_classes": [],
            "description": "",
            "_model_name": "HTMLModel",
            "placeholder": "​",
            "_view_module": "@jupyter-widgets/controls",
            "_model_module_version": "1.5.0",
            "value": " 40/40 [00:19&lt;00:00,  2.05it/s]",
            "_view_count": null,
            "_view_module_version": "1.5.0",
            "description_tooltip": null,
            "_model_module": "@jupyter-widgets/controls",
            "layout": "IPY_MODEL_234926a150ed404c91a199c215a86844"
          }
        },
        "5baaf111561d4faa9a1fe46c5ab8cac2": {
          "model_module": "@jupyter-widgets/controls",
          "model_name": "DescriptionStyleModel",
          "model_module_version": "1.5.0",
          "state": {
            "_view_name": "StyleView",
            "_model_name": "DescriptionStyleModel",
            "description_width": "",
            "_view_module": "@jupyter-widgets/base",
            "_model_module_version": "1.5.0",
            "_view_count": null,
            "_view_module_version": "1.2.0",
            "_model_module": "@jupyter-widgets/controls"
          }
        },
        "55ddece00d28443fad89857048d5d9fd": {
          "model_module": "@jupyter-widgets/base",
          "model_name": "LayoutModel",
          "model_module_version": "1.2.0",
          "state": {
            "_view_name": "LayoutView",
            "grid_template_rows": null,
            "right": null,
            "justify_content": null,
            "_view_module": "@jupyter-widgets/base",
            "overflow": null,
            "_model_module_version": "1.2.0",
            "_view_count": null,
            "flex_flow": null,
            "width": null,
            "min_width": null,
            "border": null,
            "align_items": null,
            "bottom": null,
            "_model_module": "@jupyter-widgets/base",
            "top": null,
            "grid_column": null,
            "overflow_y": null,
            "overflow_x": null,
            "grid_auto_flow": null,
            "grid_area": null,
            "grid_template_columns": null,
            "flex": null,
            "_model_name": "LayoutModel",
            "justify_items": null,
            "grid_row": null,
            "max_height": null,
            "align_content": null,
            "visibility": null,
            "align_self": null,
            "height": null,
            "min_height": null,
            "padding": null,
            "grid_auto_rows": null,
            "grid_gap": null,
            "max_width": null,
            "order": null,
            "_view_module_version": "1.2.0",
            "grid_template_areas": null,
            "object_position": null,
            "object_fit": null,
            "grid_auto_columns": null,
            "margin": null,
            "display": null,
            "left": null
          }
        },
        "f126f1eddff6472aa61b9034abb7336b": {
          "model_module": "@jupyter-widgets/controls",
          "model_name": "ProgressStyleModel",
          "model_module_version": "1.5.0",
          "state": {
            "_view_name": "StyleView",
            "_model_name": "ProgressStyleModel",
            "description_width": "",
            "_view_module": "@jupyter-widgets/base",
            "_model_module_version": "1.5.0",
            "_view_count": null,
            "_view_module_version": "1.2.0",
            "bar_color": null,
            "_model_module": "@jupyter-widgets/controls"
          }
        },
        "13d5784fbff444a499e1f3626cc1d9f7": {
          "model_module": "@jupyter-widgets/base",
          "model_name": "LayoutModel",
          "model_module_version": "1.2.0",
          "state": {
            "_view_name": "LayoutView",
            "grid_template_rows": null,
            "right": null,
            "justify_content": null,
            "_view_module": "@jupyter-widgets/base",
            "overflow": null,
            "_model_module_version": "1.2.0",
            "_view_count": null,
            "flex_flow": null,
            "width": null,
            "min_width": null,
            "border": null,
            "align_items": null,
            "bottom": null,
            "_model_module": "@jupyter-widgets/base",
            "top": null,
            "grid_column": null,
            "overflow_y": null,
            "overflow_x": null,
            "grid_auto_flow": null,
            "grid_area": null,
            "grid_template_columns": null,
            "flex": null,
            "_model_name": "LayoutModel",
            "justify_items": null,
            "grid_row": null,
            "max_height": null,
            "align_content": null,
            "visibility": null,
            "align_self": null,
            "height": null,
            "min_height": null,
            "padding": null,
            "grid_auto_rows": null,
            "grid_gap": null,
            "max_width": null,
            "order": null,
            "_view_module_version": "1.2.0",
            "grid_template_areas": null,
            "object_position": null,
            "object_fit": null,
            "grid_auto_columns": null,
            "margin": null,
            "display": null,
            "left": null
          }
        },
        "066ec36c3c0741fa9170ea2c663aec70": {
          "model_module": "@jupyter-widgets/controls",
          "model_name": "DescriptionStyleModel",
          "model_module_version": "1.5.0",
          "state": {
            "_view_name": "StyleView",
            "_model_name": "DescriptionStyleModel",
            "description_width": "",
            "_view_module": "@jupyter-widgets/base",
            "_model_module_version": "1.5.0",
            "_view_count": null,
            "_view_module_version": "1.2.0",
            "_model_module": "@jupyter-widgets/controls"
          }
        },
        "234926a150ed404c91a199c215a86844": {
          "model_module": "@jupyter-widgets/base",
          "model_name": "LayoutModel",
          "model_module_version": "1.2.0",
          "state": {
            "_view_name": "LayoutView",
            "grid_template_rows": null,
            "right": null,
            "justify_content": null,
            "_view_module": "@jupyter-widgets/base",
            "overflow": null,
            "_model_module_version": "1.2.0",
            "_view_count": null,
            "flex_flow": null,
            "width": null,
            "min_width": null,
            "border": null,
            "align_items": null,
            "bottom": null,
            "_model_module": "@jupyter-widgets/base",
            "top": null,
            "grid_column": null,
            "overflow_y": null,
            "overflow_x": null,
            "grid_auto_flow": null,
            "grid_area": null,
            "grid_template_columns": null,
            "flex": null,
            "_model_name": "LayoutModel",
            "justify_items": null,
            "grid_row": null,
            "max_height": null,
            "align_content": null,
            "visibility": null,
            "align_self": null,
            "height": null,
            "min_height": null,
            "padding": null,
            "grid_auto_rows": null,
            "grid_gap": null,
            "max_width": null,
            "order": null,
            "_view_module_version": "1.2.0",
            "grid_template_areas": null,
            "object_position": null,
            "object_fit": null,
            "grid_auto_columns": null,
            "margin": null,
            "display": null,
            "left": null
          }
        },
        "12ebd8a9c79e4a2e897001d017c03b7b": {
          "model_module": "@jupyter-widgets/controls",
          "model_name": "HBoxModel",
          "model_module_version": "1.5.0",
          "state": {
            "_view_name": "HBoxView",
            "_dom_classes": [],
            "_model_name": "HBoxModel",
            "_view_module": "@jupyter-widgets/controls",
            "_model_module_version": "1.5.0",
            "_view_count": null,
            "_view_module_version": "1.5.0",
            "box_style": "",
            "layout": "IPY_MODEL_27e2a71f3cbc4124a40ba91a7a4bb724",
            "_model_module": "@jupyter-widgets/controls",
            "children": [
              "IPY_MODEL_006cad9133ce446f94c1cf1e30391ce2",
              "IPY_MODEL_66bf2210a68149f98ce544369d800c08",
              "IPY_MODEL_2be0650b91ad43359eb6ef9ea6abca77"
            ]
          }
        },
        "27e2a71f3cbc4124a40ba91a7a4bb724": {
          "model_module": "@jupyter-widgets/base",
          "model_name": "LayoutModel",
          "model_module_version": "1.2.0",
          "state": {
            "_view_name": "LayoutView",
            "grid_template_rows": null,
            "right": null,
            "justify_content": null,
            "_view_module": "@jupyter-widgets/base",
            "overflow": null,
            "_model_module_version": "1.2.0",
            "_view_count": null,
            "flex_flow": null,
            "width": null,
            "min_width": null,
            "border": null,
            "align_items": null,
            "bottom": null,
            "_model_module": "@jupyter-widgets/base",
            "top": null,
            "grid_column": null,
            "overflow_y": null,
            "overflow_x": null,
            "grid_auto_flow": null,
            "grid_area": null,
            "grid_template_columns": null,
            "flex": null,
            "_model_name": "LayoutModel",
            "justify_items": null,
            "grid_row": null,
            "max_height": null,
            "align_content": null,
            "visibility": null,
            "align_self": null,
            "height": null,
            "min_height": null,
            "padding": null,
            "grid_auto_rows": null,
            "grid_gap": null,
            "max_width": null,
            "order": null,
            "_view_module_version": "1.2.0",
            "grid_template_areas": null,
            "object_position": null,
            "object_fit": null,
            "grid_auto_columns": null,
            "margin": null,
            "display": null,
            "left": null
          }
        },
        "006cad9133ce446f94c1cf1e30391ce2": {
          "model_module": "@jupyter-widgets/controls",
          "model_name": "HTMLModel",
          "model_module_version": "1.5.0",
          "state": {
            "_view_name": "HTMLView",
            "style": "IPY_MODEL_6d14408a4659465b8085eb86e3aeb9b8",
            "_dom_classes": [],
            "description": "",
            "_model_name": "HTMLModel",
            "placeholder": "​",
            "_view_module": "@jupyter-widgets/controls",
            "_model_module_version": "1.5.0",
            "value": "100%",
            "_view_count": null,
            "_view_module_version": "1.5.0",
            "description_tooltip": null,
            "_model_module": "@jupyter-widgets/controls",
            "layout": "IPY_MODEL_8b0aaa7a896c4455bb3e099a517f5782"
          }
        },
        "66bf2210a68149f98ce544369d800c08": {
          "model_module": "@jupyter-widgets/controls",
          "model_name": "FloatProgressModel",
          "model_module_version": "1.5.0",
          "state": {
            "_view_name": "ProgressView",
            "style": "IPY_MODEL_47ad3dae6ff9498889b469fb57a8f7d3",
            "_dom_classes": [],
            "description": "",
            "_model_name": "FloatProgressModel",
            "bar_style": "",
            "max": 40,
            "_view_module": "@jupyter-widgets/controls",
            "_model_module_version": "1.5.0",
            "value": 40,
            "_view_count": null,
            "_view_module_version": "1.5.0",
            "orientation": "horizontal",
            "min": 0,
            "description_tooltip": null,
            "_model_module": "@jupyter-widgets/controls",
            "layout": "IPY_MODEL_c8bcc74e3f1242a68ec0451c4a7cbcfb"
          }
        },
        "2be0650b91ad43359eb6ef9ea6abca77": {
          "model_module": "@jupyter-widgets/controls",
          "model_name": "HTMLModel",
          "model_module_version": "1.5.0",
          "state": {
            "_view_name": "HTMLView",
            "style": "IPY_MODEL_473289ccb22c4225ad086404be4750f5",
            "_dom_classes": [],
            "description": "",
            "_model_name": "HTMLModel",
            "placeholder": "​",
            "_view_module": "@jupyter-widgets/controls",
            "_model_module_version": "1.5.0",
            "value": " 40/40 [00:19&lt;00:00,  2.02it/s]",
            "_view_count": null,
            "_view_module_version": "1.5.0",
            "description_tooltip": null,
            "_model_module": "@jupyter-widgets/controls",
            "layout": "IPY_MODEL_605d11d2774d4a7d961fc9db6db3ad72"
          }
        },
        "6d14408a4659465b8085eb86e3aeb9b8": {
          "model_module": "@jupyter-widgets/controls",
          "model_name": "DescriptionStyleModel",
          "model_module_version": "1.5.0",
          "state": {
            "_view_name": "StyleView",
            "_model_name": "DescriptionStyleModel",
            "description_width": "",
            "_view_module": "@jupyter-widgets/base",
            "_model_module_version": "1.5.0",
            "_view_count": null,
            "_view_module_version": "1.2.0",
            "_model_module": "@jupyter-widgets/controls"
          }
        },
        "8b0aaa7a896c4455bb3e099a517f5782": {
          "model_module": "@jupyter-widgets/base",
          "model_name": "LayoutModel",
          "model_module_version": "1.2.0",
          "state": {
            "_view_name": "LayoutView",
            "grid_template_rows": null,
            "right": null,
            "justify_content": null,
            "_view_module": "@jupyter-widgets/base",
            "overflow": null,
            "_model_module_version": "1.2.0",
            "_view_count": null,
            "flex_flow": null,
            "width": null,
            "min_width": null,
            "border": null,
            "align_items": null,
            "bottom": null,
            "_model_module": "@jupyter-widgets/base",
            "top": null,
            "grid_column": null,
            "overflow_y": null,
            "overflow_x": null,
            "grid_auto_flow": null,
            "grid_area": null,
            "grid_template_columns": null,
            "flex": null,
            "_model_name": "LayoutModel",
            "justify_items": null,
            "grid_row": null,
            "max_height": null,
            "align_content": null,
            "visibility": null,
            "align_self": null,
            "height": null,
            "min_height": null,
            "padding": null,
            "grid_auto_rows": null,
            "grid_gap": null,
            "max_width": null,
            "order": null,
            "_view_module_version": "1.2.0",
            "grid_template_areas": null,
            "object_position": null,
            "object_fit": null,
            "grid_auto_columns": null,
            "margin": null,
            "display": null,
            "left": null
          }
        },
        "47ad3dae6ff9498889b469fb57a8f7d3": {
          "model_module": "@jupyter-widgets/controls",
          "model_name": "ProgressStyleModel",
          "model_module_version": "1.5.0",
          "state": {
            "_view_name": "StyleView",
            "_model_name": "ProgressStyleModel",
            "description_width": "",
            "_view_module": "@jupyter-widgets/base",
            "_model_module_version": "1.5.0",
            "_view_count": null,
            "_view_module_version": "1.2.0",
            "bar_color": null,
            "_model_module": "@jupyter-widgets/controls"
          }
        },
        "c8bcc74e3f1242a68ec0451c4a7cbcfb": {
          "model_module": "@jupyter-widgets/base",
          "model_name": "LayoutModel",
          "model_module_version": "1.2.0",
          "state": {
            "_view_name": "LayoutView",
            "grid_template_rows": null,
            "right": null,
            "justify_content": null,
            "_view_module": "@jupyter-widgets/base",
            "overflow": null,
            "_model_module_version": "1.2.0",
            "_view_count": null,
            "flex_flow": null,
            "width": null,
            "min_width": null,
            "border": null,
            "align_items": null,
            "bottom": null,
            "_model_module": "@jupyter-widgets/base",
            "top": null,
            "grid_column": null,
            "overflow_y": null,
            "overflow_x": null,
            "grid_auto_flow": null,
            "grid_area": null,
            "grid_template_columns": null,
            "flex": null,
            "_model_name": "LayoutModel",
            "justify_items": null,
            "grid_row": null,
            "max_height": null,
            "align_content": null,
            "visibility": null,
            "align_self": null,
            "height": null,
            "min_height": null,
            "padding": null,
            "grid_auto_rows": null,
            "grid_gap": null,
            "max_width": null,
            "order": null,
            "_view_module_version": "1.2.0",
            "grid_template_areas": null,
            "object_position": null,
            "object_fit": null,
            "grid_auto_columns": null,
            "margin": null,
            "display": null,
            "left": null
          }
        },
        "473289ccb22c4225ad086404be4750f5": {
          "model_module": "@jupyter-widgets/controls",
          "model_name": "DescriptionStyleModel",
          "model_module_version": "1.5.0",
          "state": {
            "_view_name": "StyleView",
            "_model_name": "DescriptionStyleModel",
            "description_width": "",
            "_view_module": "@jupyter-widgets/base",
            "_model_module_version": "1.5.0",
            "_view_count": null,
            "_view_module_version": "1.2.0",
            "_model_module": "@jupyter-widgets/controls"
          }
        },
        "605d11d2774d4a7d961fc9db6db3ad72": {
          "model_module": "@jupyter-widgets/base",
          "model_name": "LayoutModel",
          "model_module_version": "1.2.0",
          "state": {
            "_view_name": "LayoutView",
            "grid_template_rows": null,
            "right": null,
            "justify_content": null,
            "_view_module": "@jupyter-widgets/base",
            "overflow": null,
            "_model_module_version": "1.2.0",
            "_view_count": null,
            "flex_flow": null,
            "width": null,
            "min_width": null,
            "border": null,
            "align_items": null,
            "bottom": null,
            "_model_module": "@jupyter-widgets/base",
            "top": null,
            "grid_column": null,
            "overflow_y": null,
            "overflow_x": null,
            "grid_auto_flow": null,
            "grid_area": null,
            "grid_template_columns": null,
            "flex": null,
            "_model_name": "LayoutModel",
            "justify_items": null,
            "grid_row": null,
            "max_height": null,
            "align_content": null,
            "visibility": null,
            "align_self": null,
            "height": null,
            "min_height": null,
            "padding": null,
            "grid_auto_rows": null,
            "grid_gap": null,
            "max_width": null,
            "order": null,
            "_view_module_version": "1.2.0",
            "grid_template_areas": null,
            "object_position": null,
            "object_fit": null,
            "grid_auto_columns": null,
            "margin": null,
            "display": null,
            "left": null
          }
        },
        "2929a972726d46d792f73e8c4dad0722": {
          "model_module": "@jupyter-widgets/controls",
          "model_name": "HBoxModel",
          "model_module_version": "1.5.0",
          "state": {
            "_view_name": "HBoxView",
            "_dom_classes": [],
            "_model_name": "HBoxModel",
            "_view_module": "@jupyter-widgets/controls",
            "_model_module_version": "1.5.0",
            "_view_count": null,
            "_view_module_version": "1.5.0",
            "box_style": "",
            "layout": "IPY_MODEL_616de1ea3e4f4368a5d891aea9aedc55",
            "_model_module": "@jupyter-widgets/controls",
            "children": [
              "IPY_MODEL_7fc33aa758e84909bf8306d432a4434d",
              "IPY_MODEL_096d70a8115b43b18b147c565fda0420",
              "IPY_MODEL_c15a6ada329f4cdcb9866589daf53eb0"
            ]
          }
        },
        "616de1ea3e4f4368a5d891aea9aedc55": {
          "model_module": "@jupyter-widgets/base",
          "model_name": "LayoutModel",
          "model_module_version": "1.2.0",
          "state": {
            "_view_name": "LayoutView",
            "grid_template_rows": null,
            "right": null,
            "justify_content": null,
            "_view_module": "@jupyter-widgets/base",
            "overflow": null,
            "_model_module_version": "1.2.0",
            "_view_count": null,
            "flex_flow": null,
            "width": null,
            "min_width": null,
            "border": null,
            "align_items": null,
            "bottom": null,
            "_model_module": "@jupyter-widgets/base",
            "top": null,
            "grid_column": null,
            "overflow_y": null,
            "overflow_x": null,
            "grid_auto_flow": null,
            "grid_area": null,
            "grid_template_columns": null,
            "flex": null,
            "_model_name": "LayoutModel",
            "justify_items": null,
            "grid_row": null,
            "max_height": null,
            "align_content": null,
            "visibility": null,
            "align_self": null,
            "height": null,
            "min_height": null,
            "padding": null,
            "grid_auto_rows": null,
            "grid_gap": null,
            "max_width": null,
            "order": null,
            "_view_module_version": "1.2.0",
            "grid_template_areas": null,
            "object_position": null,
            "object_fit": null,
            "grid_auto_columns": null,
            "margin": null,
            "display": null,
            "left": null
          }
        },
        "7fc33aa758e84909bf8306d432a4434d": {
          "model_module": "@jupyter-widgets/controls",
          "model_name": "HTMLModel",
          "model_module_version": "1.5.0",
          "state": {
            "_view_name": "HTMLView",
            "style": "IPY_MODEL_38a609d30cf44b9882f527ccbec8a65e",
            "_dom_classes": [],
            "description": "",
            "_model_name": "HTMLModel",
            "placeholder": "​",
            "_view_module": "@jupyter-widgets/controls",
            "_model_module_version": "1.5.0",
            "value": "100%",
            "_view_count": null,
            "_view_module_version": "1.5.0",
            "description_tooltip": null,
            "_model_module": "@jupyter-widgets/controls",
            "layout": "IPY_MODEL_97425c9610ce400b93bd78655bf6b0fa"
          }
        },
        "096d70a8115b43b18b147c565fda0420": {
          "model_module": "@jupyter-widgets/controls",
          "model_name": "FloatProgressModel",
          "model_module_version": "1.5.0",
          "state": {
            "_view_name": "ProgressView",
            "style": "IPY_MODEL_2a23609ec50240059dec5862363b9e00",
            "_dom_classes": [],
            "description": "",
            "_model_name": "FloatProgressModel",
            "bar_style": "",
            "max": 40,
            "_view_module": "@jupyter-widgets/controls",
            "_model_module_version": "1.5.0",
            "value": 40,
            "_view_count": null,
            "_view_module_version": "1.5.0",
            "orientation": "horizontal",
            "min": 0,
            "description_tooltip": null,
            "_model_module": "@jupyter-widgets/controls",
            "layout": "IPY_MODEL_d7b31081abaf4c7b8e2fcf1bd94c53ea"
          }
        },
        "c15a6ada329f4cdcb9866589daf53eb0": {
          "model_module": "@jupyter-widgets/controls",
          "model_name": "HTMLModel",
          "model_module_version": "1.5.0",
          "state": {
            "_view_name": "HTMLView",
            "style": "IPY_MODEL_7444eb5245a0465abbb0a86f71e239e3",
            "_dom_classes": [],
            "description": "",
            "_model_name": "HTMLModel",
            "placeholder": "​",
            "_view_module": "@jupyter-widgets/controls",
            "_model_module_version": "1.5.0",
            "value": " 40/40 [00:19&lt;00:00,  2.04it/s]",
            "_view_count": null,
            "_view_module_version": "1.5.0",
            "description_tooltip": null,
            "_model_module": "@jupyter-widgets/controls",
            "layout": "IPY_MODEL_a51070cdb76145e08e2cdf7437fa117d"
          }
        },
        "38a609d30cf44b9882f527ccbec8a65e": {
          "model_module": "@jupyter-widgets/controls",
          "model_name": "DescriptionStyleModel",
          "model_module_version": "1.5.0",
          "state": {
            "_view_name": "StyleView",
            "_model_name": "DescriptionStyleModel",
            "description_width": "",
            "_view_module": "@jupyter-widgets/base",
            "_model_module_version": "1.5.0",
            "_view_count": null,
            "_view_module_version": "1.2.0",
            "_model_module": "@jupyter-widgets/controls"
          }
        },
        "97425c9610ce400b93bd78655bf6b0fa": {
          "model_module": "@jupyter-widgets/base",
          "model_name": "LayoutModel",
          "model_module_version": "1.2.0",
          "state": {
            "_view_name": "LayoutView",
            "grid_template_rows": null,
            "right": null,
            "justify_content": null,
            "_view_module": "@jupyter-widgets/base",
            "overflow": null,
            "_model_module_version": "1.2.0",
            "_view_count": null,
            "flex_flow": null,
            "width": null,
            "min_width": null,
            "border": null,
            "align_items": null,
            "bottom": null,
            "_model_module": "@jupyter-widgets/base",
            "top": null,
            "grid_column": null,
            "overflow_y": null,
            "overflow_x": null,
            "grid_auto_flow": null,
            "grid_area": null,
            "grid_template_columns": null,
            "flex": null,
            "_model_name": "LayoutModel",
            "justify_items": null,
            "grid_row": null,
            "max_height": null,
            "align_content": null,
            "visibility": null,
            "align_self": null,
            "height": null,
            "min_height": null,
            "padding": null,
            "grid_auto_rows": null,
            "grid_gap": null,
            "max_width": null,
            "order": null,
            "_view_module_version": "1.2.0",
            "grid_template_areas": null,
            "object_position": null,
            "object_fit": null,
            "grid_auto_columns": null,
            "margin": null,
            "display": null,
            "left": null
          }
        },
        "2a23609ec50240059dec5862363b9e00": {
          "model_module": "@jupyter-widgets/controls",
          "model_name": "ProgressStyleModel",
          "model_module_version": "1.5.0",
          "state": {
            "_view_name": "StyleView",
            "_model_name": "ProgressStyleModel",
            "description_width": "",
            "_view_module": "@jupyter-widgets/base",
            "_model_module_version": "1.5.0",
            "_view_count": null,
            "_view_module_version": "1.2.0",
            "bar_color": null,
            "_model_module": "@jupyter-widgets/controls"
          }
        },
        "d7b31081abaf4c7b8e2fcf1bd94c53ea": {
          "model_module": "@jupyter-widgets/base",
          "model_name": "LayoutModel",
          "model_module_version": "1.2.0",
          "state": {
            "_view_name": "LayoutView",
            "grid_template_rows": null,
            "right": null,
            "justify_content": null,
            "_view_module": "@jupyter-widgets/base",
            "overflow": null,
            "_model_module_version": "1.2.0",
            "_view_count": null,
            "flex_flow": null,
            "width": null,
            "min_width": null,
            "border": null,
            "align_items": null,
            "bottom": null,
            "_model_module": "@jupyter-widgets/base",
            "top": null,
            "grid_column": null,
            "overflow_y": null,
            "overflow_x": null,
            "grid_auto_flow": null,
            "grid_area": null,
            "grid_template_columns": null,
            "flex": null,
            "_model_name": "LayoutModel",
            "justify_items": null,
            "grid_row": null,
            "max_height": null,
            "align_content": null,
            "visibility": null,
            "align_self": null,
            "height": null,
            "min_height": null,
            "padding": null,
            "grid_auto_rows": null,
            "grid_gap": null,
            "max_width": null,
            "order": null,
            "_view_module_version": "1.2.0",
            "grid_template_areas": null,
            "object_position": null,
            "object_fit": null,
            "grid_auto_columns": null,
            "margin": null,
            "display": null,
            "left": null
          }
        },
        "7444eb5245a0465abbb0a86f71e239e3": {
          "model_module": "@jupyter-widgets/controls",
          "model_name": "DescriptionStyleModel",
          "model_module_version": "1.5.0",
          "state": {
            "_view_name": "StyleView",
            "_model_name": "DescriptionStyleModel",
            "description_width": "",
            "_view_module": "@jupyter-widgets/base",
            "_model_module_version": "1.5.0",
            "_view_count": null,
            "_view_module_version": "1.2.0",
            "_model_module": "@jupyter-widgets/controls"
          }
        },
        "a51070cdb76145e08e2cdf7437fa117d": {
          "model_module": "@jupyter-widgets/base",
          "model_name": "LayoutModel",
          "model_module_version": "1.2.0",
          "state": {
            "_view_name": "LayoutView",
            "grid_template_rows": null,
            "right": null,
            "justify_content": null,
            "_view_module": "@jupyter-widgets/base",
            "overflow": null,
            "_model_module_version": "1.2.0",
            "_view_count": null,
            "flex_flow": null,
            "width": null,
            "min_width": null,
            "border": null,
            "align_items": null,
            "bottom": null,
            "_model_module": "@jupyter-widgets/base",
            "top": null,
            "grid_column": null,
            "overflow_y": null,
            "overflow_x": null,
            "grid_auto_flow": null,
            "grid_area": null,
            "grid_template_columns": null,
            "flex": null,
            "_model_name": "LayoutModel",
            "justify_items": null,
            "grid_row": null,
            "max_height": null,
            "align_content": null,
            "visibility": null,
            "align_self": null,
            "height": null,
            "min_height": null,
            "padding": null,
            "grid_auto_rows": null,
            "grid_gap": null,
            "max_width": null,
            "order": null,
            "_view_module_version": "1.2.0",
            "grid_template_areas": null,
            "object_position": null,
            "object_fit": null,
            "grid_auto_columns": null,
            "margin": null,
            "display": null,
            "left": null
          }
        },
        "03663b6f900a4106979dab162cce2d69": {
          "model_module": "@jupyter-widgets/controls",
          "model_name": "HBoxModel",
          "model_module_version": "1.5.0",
          "state": {
            "_view_name": "HBoxView",
            "_dom_classes": [],
            "_model_name": "HBoxModel",
            "_view_module": "@jupyter-widgets/controls",
            "_model_module_version": "1.5.0",
            "_view_count": null,
            "_view_module_version": "1.5.0",
            "box_style": "",
            "layout": "IPY_MODEL_4a2ade1fa0cc43bfbf974c9bb121ccf1",
            "_model_module": "@jupyter-widgets/controls",
            "children": [
              "IPY_MODEL_e742ecbdd390487b9309f8921ddb0696",
              "IPY_MODEL_c2ddbf03097d434f9ff0bf7a86f8bec5",
              "IPY_MODEL_915369219b274a8fa7d01bfec201e6b8"
            ]
          }
        },
        "4a2ade1fa0cc43bfbf974c9bb121ccf1": {
          "model_module": "@jupyter-widgets/base",
          "model_name": "LayoutModel",
          "model_module_version": "1.2.0",
          "state": {
            "_view_name": "LayoutView",
            "grid_template_rows": null,
            "right": null,
            "justify_content": null,
            "_view_module": "@jupyter-widgets/base",
            "overflow": null,
            "_model_module_version": "1.2.0",
            "_view_count": null,
            "flex_flow": null,
            "width": null,
            "min_width": null,
            "border": null,
            "align_items": null,
            "bottom": null,
            "_model_module": "@jupyter-widgets/base",
            "top": null,
            "grid_column": null,
            "overflow_y": null,
            "overflow_x": null,
            "grid_auto_flow": null,
            "grid_area": null,
            "grid_template_columns": null,
            "flex": null,
            "_model_name": "LayoutModel",
            "justify_items": null,
            "grid_row": null,
            "max_height": null,
            "align_content": null,
            "visibility": null,
            "align_self": null,
            "height": null,
            "min_height": null,
            "padding": null,
            "grid_auto_rows": null,
            "grid_gap": null,
            "max_width": null,
            "order": null,
            "_view_module_version": "1.2.0",
            "grid_template_areas": null,
            "object_position": null,
            "object_fit": null,
            "grid_auto_columns": null,
            "margin": null,
            "display": null,
            "left": null
          }
        },
        "e742ecbdd390487b9309f8921ddb0696": {
          "model_module": "@jupyter-widgets/controls",
          "model_name": "HTMLModel",
          "model_module_version": "1.5.0",
          "state": {
            "_view_name": "HTMLView",
            "style": "IPY_MODEL_541563e60b43453e83ac4759111dc2b9",
            "_dom_classes": [],
            "description": "",
            "_model_name": "HTMLModel",
            "placeholder": "​",
            "_view_module": "@jupyter-widgets/controls",
            "_model_module_version": "1.5.0",
            "value": "100%",
            "_view_count": null,
            "_view_module_version": "1.5.0",
            "description_tooltip": null,
            "_model_module": "@jupyter-widgets/controls",
            "layout": "IPY_MODEL_6d587b15774541a294815cdcaa510cbe"
          }
        },
        "c2ddbf03097d434f9ff0bf7a86f8bec5": {
          "model_module": "@jupyter-widgets/controls",
          "model_name": "FloatProgressModel",
          "model_module_version": "1.5.0",
          "state": {
            "_view_name": "ProgressView",
            "style": "IPY_MODEL_f6ef6b62d93245788daf1b973bdcec1a",
            "_dom_classes": [],
            "description": "",
            "_model_name": "FloatProgressModel",
            "bar_style": "",
            "max": 40,
            "_view_module": "@jupyter-widgets/controls",
            "_model_module_version": "1.5.0",
            "value": 40,
            "_view_count": null,
            "_view_module_version": "1.5.0",
            "orientation": "horizontal",
            "min": 0,
            "description_tooltip": null,
            "_model_module": "@jupyter-widgets/controls",
            "layout": "IPY_MODEL_e396be25d4ab4f2ca0c331bd67a0685f"
          }
        },
        "915369219b274a8fa7d01bfec201e6b8": {
          "model_module": "@jupyter-widgets/controls",
          "model_name": "HTMLModel",
          "model_module_version": "1.5.0",
          "state": {
            "_view_name": "HTMLView",
            "style": "IPY_MODEL_35d900b15f5e4335a6eed81955275cb2",
            "_dom_classes": [],
            "description": "",
            "_model_name": "HTMLModel",
            "placeholder": "​",
            "_view_module": "@jupyter-widgets/controls",
            "_model_module_version": "1.5.0",
            "value": " 40/40 [00:19&lt;00:00,  2.00it/s]",
            "_view_count": null,
            "_view_module_version": "1.5.0",
            "description_tooltip": null,
            "_model_module": "@jupyter-widgets/controls",
            "layout": "IPY_MODEL_e5dfb9887b054726bfc3dbcc07d6ea73"
          }
        },
        "541563e60b43453e83ac4759111dc2b9": {
          "model_module": "@jupyter-widgets/controls",
          "model_name": "DescriptionStyleModel",
          "model_module_version": "1.5.0",
          "state": {
            "_view_name": "StyleView",
            "_model_name": "DescriptionStyleModel",
            "description_width": "",
            "_view_module": "@jupyter-widgets/base",
            "_model_module_version": "1.5.0",
            "_view_count": null,
            "_view_module_version": "1.2.0",
            "_model_module": "@jupyter-widgets/controls"
          }
        },
        "6d587b15774541a294815cdcaa510cbe": {
          "model_module": "@jupyter-widgets/base",
          "model_name": "LayoutModel",
          "model_module_version": "1.2.0",
          "state": {
            "_view_name": "LayoutView",
            "grid_template_rows": null,
            "right": null,
            "justify_content": null,
            "_view_module": "@jupyter-widgets/base",
            "overflow": null,
            "_model_module_version": "1.2.0",
            "_view_count": null,
            "flex_flow": null,
            "width": null,
            "min_width": null,
            "border": null,
            "align_items": null,
            "bottom": null,
            "_model_module": "@jupyter-widgets/base",
            "top": null,
            "grid_column": null,
            "overflow_y": null,
            "overflow_x": null,
            "grid_auto_flow": null,
            "grid_area": null,
            "grid_template_columns": null,
            "flex": null,
            "_model_name": "LayoutModel",
            "justify_items": null,
            "grid_row": null,
            "max_height": null,
            "align_content": null,
            "visibility": null,
            "align_self": null,
            "height": null,
            "min_height": null,
            "padding": null,
            "grid_auto_rows": null,
            "grid_gap": null,
            "max_width": null,
            "order": null,
            "_view_module_version": "1.2.0",
            "grid_template_areas": null,
            "object_position": null,
            "object_fit": null,
            "grid_auto_columns": null,
            "margin": null,
            "display": null,
            "left": null
          }
        },
        "f6ef6b62d93245788daf1b973bdcec1a": {
          "model_module": "@jupyter-widgets/controls",
          "model_name": "ProgressStyleModel",
          "model_module_version": "1.5.0",
          "state": {
            "_view_name": "StyleView",
            "_model_name": "ProgressStyleModel",
            "description_width": "",
            "_view_module": "@jupyter-widgets/base",
            "_model_module_version": "1.5.0",
            "_view_count": null,
            "_view_module_version": "1.2.0",
            "bar_color": null,
            "_model_module": "@jupyter-widgets/controls"
          }
        },
        "e396be25d4ab4f2ca0c331bd67a0685f": {
          "model_module": "@jupyter-widgets/base",
          "model_name": "LayoutModel",
          "model_module_version": "1.2.0",
          "state": {
            "_view_name": "LayoutView",
            "grid_template_rows": null,
            "right": null,
            "justify_content": null,
            "_view_module": "@jupyter-widgets/base",
            "overflow": null,
            "_model_module_version": "1.2.0",
            "_view_count": null,
            "flex_flow": null,
            "width": null,
            "min_width": null,
            "border": null,
            "align_items": null,
            "bottom": null,
            "_model_module": "@jupyter-widgets/base",
            "top": null,
            "grid_column": null,
            "overflow_y": null,
            "overflow_x": null,
            "grid_auto_flow": null,
            "grid_area": null,
            "grid_template_columns": null,
            "flex": null,
            "_model_name": "LayoutModel",
            "justify_items": null,
            "grid_row": null,
            "max_height": null,
            "align_content": null,
            "visibility": null,
            "align_self": null,
            "height": null,
            "min_height": null,
            "padding": null,
            "grid_auto_rows": null,
            "grid_gap": null,
            "max_width": null,
            "order": null,
            "_view_module_version": "1.2.0",
            "grid_template_areas": null,
            "object_position": null,
            "object_fit": null,
            "grid_auto_columns": null,
            "margin": null,
            "display": null,
            "left": null
          }
        },
        "35d900b15f5e4335a6eed81955275cb2": {
          "model_module": "@jupyter-widgets/controls",
          "model_name": "DescriptionStyleModel",
          "model_module_version": "1.5.0",
          "state": {
            "_view_name": "StyleView",
            "_model_name": "DescriptionStyleModel",
            "description_width": "",
            "_view_module": "@jupyter-widgets/base",
            "_model_module_version": "1.5.0",
            "_view_count": null,
            "_view_module_version": "1.2.0",
            "_model_module": "@jupyter-widgets/controls"
          }
        },
        "e5dfb9887b054726bfc3dbcc07d6ea73": {
          "model_module": "@jupyter-widgets/base",
          "model_name": "LayoutModel",
          "model_module_version": "1.2.0",
          "state": {
            "_view_name": "LayoutView",
            "grid_template_rows": null,
            "right": null,
            "justify_content": null,
            "_view_module": "@jupyter-widgets/base",
            "overflow": null,
            "_model_module_version": "1.2.0",
            "_view_count": null,
            "flex_flow": null,
            "width": null,
            "min_width": null,
            "border": null,
            "align_items": null,
            "bottom": null,
            "_model_module": "@jupyter-widgets/base",
            "top": null,
            "grid_column": null,
            "overflow_y": null,
            "overflow_x": null,
            "grid_auto_flow": null,
            "grid_area": null,
            "grid_template_columns": null,
            "flex": null,
            "_model_name": "LayoutModel",
            "justify_items": null,
            "grid_row": null,
            "max_height": null,
            "align_content": null,
            "visibility": null,
            "align_self": null,
            "height": null,
            "min_height": null,
            "padding": null,
            "grid_auto_rows": null,
            "grid_gap": null,
            "max_width": null,
            "order": null,
            "_view_module_version": "1.2.0",
            "grid_template_areas": null,
            "object_position": null,
            "object_fit": null,
            "grid_auto_columns": null,
            "margin": null,
            "display": null,
            "left": null
          }
        },
        "971ec4cc74b64e7794829a53e0815db2": {
          "model_module": "@jupyter-widgets/controls",
          "model_name": "HBoxModel",
          "model_module_version": "1.5.0",
          "state": {
            "_view_name": "HBoxView",
            "_dom_classes": [],
            "_model_name": "HBoxModel",
            "_view_module": "@jupyter-widgets/controls",
            "_model_module_version": "1.5.0",
            "_view_count": null,
            "_view_module_version": "1.5.0",
            "box_style": "",
            "layout": "IPY_MODEL_4a0219880ee94956b26911c5f3b10662",
            "_model_module": "@jupyter-widgets/controls",
            "children": [
              "IPY_MODEL_d41f92f156934dd2838aecec105e252b",
              "IPY_MODEL_4b45fa42034b4cffa346746c0ebf2502",
              "IPY_MODEL_d4c68145cfce4ec494e47b44ad561522"
            ]
          }
        },
        "4a0219880ee94956b26911c5f3b10662": {
          "model_module": "@jupyter-widgets/base",
          "model_name": "LayoutModel",
          "model_module_version": "1.2.0",
          "state": {
            "_view_name": "LayoutView",
            "grid_template_rows": null,
            "right": null,
            "justify_content": null,
            "_view_module": "@jupyter-widgets/base",
            "overflow": null,
            "_model_module_version": "1.2.0",
            "_view_count": null,
            "flex_flow": null,
            "width": null,
            "min_width": null,
            "border": null,
            "align_items": null,
            "bottom": null,
            "_model_module": "@jupyter-widgets/base",
            "top": null,
            "grid_column": null,
            "overflow_y": null,
            "overflow_x": null,
            "grid_auto_flow": null,
            "grid_area": null,
            "grid_template_columns": null,
            "flex": null,
            "_model_name": "LayoutModel",
            "justify_items": null,
            "grid_row": null,
            "max_height": null,
            "align_content": null,
            "visibility": null,
            "align_self": null,
            "height": null,
            "min_height": null,
            "padding": null,
            "grid_auto_rows": null,
            "grid_gap": null,
            "max_width": null,
            "order": null,
            "_view_module_version": "1.2.0",
            "grid_template_areas": null,
            "object_position": null,
            "object_fit": null,
            "grid_auto_columns": null,
            "margin": null,
            "display": null,
            "left": null
          }
        },
        "d41f92f156934dd2838aecec105e252b": {
          "model_module": "@jupyter-widgets/controls",
          "model_name": "HTMLModel",
          "model_module_version": "1.5.0",
          "state": {
            "_view_name": "HTMLView",
            "style": "IPY_MODEL_534fab7cde1b49e4aa71e25a90fdd175",
            "_dom_classes": [],
            "description": "",
            "_model_name": "HTMLModel",
            "placeholder": "​",
            "_view_module": "@jupyter-widgets/controls",
            "_model_module_version": "1.5.0",
            "value": "100%",
            "_view_count": null,
            "_view_module_version": "1.5.0",
            "description_tooltip": null,
            "_model_module": "@jupyter-widgets/controls",
            "layout": "IPY_MODEL_cffbfe5a00bd4c9b9d300707a41def85"
          }
        },
        "4b45fa42034b4cffa346746c0ebf2502": {
          "model_module": "@jupyter-widgets/controls",
          "model_name": "FloatProgressModel",
          "model_module_version": "1.5.0",
          "state": {
            "_view_name": "ProgressView",
            "style": "IPY_MODEL_b6ebfd6e915d4b5aa891cd2e2c43623a",
            "_dom_classes": [],
            "description": "",
            "_model_name": "FloatProgressModel",
            "bar_style": "",
            "max": 40,
            "_view_module": "@jupyter-widgets/controls",
            "_model_module_version": "1.5.0",
            "value": 40,
            "_view_count": null,
            "_view_module_version": "1.5.0",
            "orientation": "horizontal",
            "min": 0,
            "description_tooltip": null,
            "_model_module": "@jupyter-widgets/controls",
            "layout": "IPY_MODEL_83d1fb2b0248441599515d50199b5fe8"
          }
        },
        "d4c68145cfce4ec494e47b44ad561522": {
          "model_module": "@jupyter-widgets/controls",
          "model_name": "HTMLModel",
          "model_module_version": "1.5.0",
          "state": {
            "_view_name": "HTMLView",
            "style": "IPY_MODEL_733cef4b74704bacaf3b9f1211935415",
            "_dom_classes": [],
            "description": "",
            "_model_name": "HTMLModel",
            "placeholder": "​",
            "_view_module": "@jupyter-widgets/controls",
            "_model_module_version": "1.5.0",
            "value": " 40/40 [00:19&lt;00:00,  2.05it/s]",
            "_view_count": null,
            "_view_module_version": "1.5.0",
            "description_tooltip": null,
            "_model_module": "@jupyter-widgets/controls",
            "layout": "IPY_MODEL_03600f54d4964938900d3b589db4bf2e"
          }
        },
        "534fab7cde1b49e4aa71e25a90fdd175": {
          "model_module": "@jupyter-widgets/controls",
          "model_name": "DescriptionStyleModel",
          "model_module_version": "1.5.0",
          "state": {
            "_view_name": "StyleView",
            "_model_name": "DescriptionStyleModel",
            "description_width": "",
            "_view_module": "@jupyter-widgets/base",
            "_model_module_version": "1.5.0",
            "_view_count": null,
            "_view_module_version": "1.2.0",
            "_model_module": "@jupyter-widgets/controls"
          }
        },
        "cffbfe5a00bd4c9b9d300707a41def85": {
          "model_module": "@jupyter-widgets/base",
          "model_name": "LayoutModel",
          "model_module_version": "1.2.0",
          "state": {
            "_view_name": "LayoutView",
            "grid_template_rows": null,
            "right": null,
            "justify_content": null,
            "_view_module": "@jupyter-widgets/base",
            "overflow": null,
            "_model_module_version": "1.2.0",
            "_view_count": null,
            "flex_flow": null,
            "width": null,
            "min_width": null,
            "border": null,
            "align_items": null,
            "bottom": null,
            "_model_module": "@jupyter-widgets/base",
            "top": null,
            "grid_column": null,
            "overflow_y": null,
            "overflow_x": null,
            "grid_auto_flow": null,
            "grid_area": null,
            "grid_template_columns": null,
            "flex": null,
            "_model_name": "LayoutModel",
            "justify_items": null,
            "grid_row": null,
            "max_height": null,
            "align_content": null,
            "visibility": null,
            "align_self": null,
            "height": null,
            "min_height": null,
            "padding": null,
            "grid_auto_rows": null,
            "grid_gap": null,
            "max_width": null,
            "order": null,
            "_view_module_version": "1.2.0",
            "grid_template_areas": null,
            "object_position": null,
            "object_fit": null,
            "grid_auto_columns": null,
            "margin": null,
            "display": null,
            "left": null
          }
        },
        "b6ebfd6e915d4b5aa891cd2e2c43623a": {
          "model_module": "@jupyter-widgets/controls",
          "model_name": "ProgressStyleModel",
          "model_module_version": "1.5.0",
          "state": {
            "_view_name": "StyleView",
            "_model_name": "ProgressStyleModel",
            "description_width": "",
            "_view_module": "@jupyter-widgets/base",
            "_model_module_version": "1.5.0",
            "_view_count": null,
            "_view_module_version": "1.2.0",
            "bar_color": null,
            "_model_module": "@jupyter-widgets/controls"
          }
        },
        "83d1fb2b0248441599515d50199b5fe8": {
          "model_module": "@jupyter-widgets/base",
          "model_name": "LayoutModel",
          "model_module_version": "1.2.0",
          "state": {
            "_view_name": "LayoutView",
            "grid_template_rows": null,
            "right": null,
            "justify_content": null,
            "_view_module": "@jupyter-widgets/base",
            "overflow": null,
            "_model_module_version": "1.2.0",
            "_view_count": null,
            "flex_flow": null,
            "width": null,
            "min_width": null,
            "border": null,
            "align_items": null,
            "bottom": null,
            "_model_module": "@jupyter-widgets/base",
            "top": null,
            "grid_column": null,
            "overflow_y": null,
            "overflow_x": null,
            "grid_auto_flow": null,
            "grid_area": null,
            "grid_template_columns": null,
            "flex": null,
            "_model_name": "LayoutModel",
            "justify_items": null,
            "grid_row": null,
            "max_height": null,
            "align_content": null,
            "visibility": null,
            "align_self": null,
            "height": null,
            "min_height": null,
            "padding": null,
            "grid_auto_rows": null,
            "grid_gap": null,
            "max_width": null,
            "order": null,
            "_view_module_version": "1.2.0",
            "grid_template_areas": null,
            "object_position": null,
            "object_fit": null,
            "grid_auto_columns": null,
            "margin": null,
            "display": null,
            "left": null
          }
        },
        "733cef4b74704bacaf3b9f1211935415": {
          "model_module": "@jupyter-widgets/controls",
          "model_name": "DescriptionStyleModel",
          "model_module_version": "1.5.0",
          "state": {
            "_view_name": "StyleView",
            "_model_name": "DescriptionStyleModel",
            "description_width": "",
            "_view_module": "@jupyter-widgets/base",
            "_model_module_version": "1.5.0",
            "_view_count": null,
            "_view_module_version": "1.2.0",
            "_model_module": "@jupyter-widgets/controls"
          }
        },
        "03600f54d4964938900d3b589db4bf2e": {
          "model_module": "@jupyter-widgets/base",
          "model_name": "LayoutModel",
          "model_module_version": "1.2.0",
          "state": {
            "_view_name": "LayoutView",
            "grid_template_rows": null,
            "right": null,
            "justify_content": null,
            "_view_module": "@jupyter-widgets/base",
            "overflow": null,
            "_model_module_version": "1.2.0",
            "_view_count": null,
            "flex_flow": null,
            "width": null,
            "min_width": null,
            "border": null,
            "align_items": null,
            "bottom": null,
            "_model_module": "@jupyter-widgets/base",
            "top": null,
            "grid_column": null,
            "overflow_y": null,
            "overflow_x": null,
            "grid_auto_flow": null,
            "grid_area": null,
            "grid_template_columns": null,
            "flex": null,
            "_model_name": "LayoutModel",
            "justify_items": null,
            "grid_row": null,
            "max_height": null,
            "align_content": null,
            "visibility": null,
            "align_self": null,
            "height": null,
            "min_height": null,
            "padding": null,
            "grid_auto_rows": null,
            "grid_gap": null,
            "max_width": null,
            "order": null,
            "_view_module_version": "1.2.0",
            "grid_template_areas": null,
            "object_position": null,
            "object_fit": null,
            "grid_auto_columns": null,
            "margin": null,
            "display": null,
            "left": null
          }
        },
        "ffa161e0adc74024869ccd5858450c4f": {
          "model_module": "@jupyter-widgets/controls",
          "model_name": "HBoxModel",
          "model_module_version": "1.5.0",
          "state": {
            "_view_name": "HBoxView",
            "_dom_classes": [],
            "_model_name": "HBoxModel",
            "_view_module": "@jupyter-widgets/controls",
            "_model_module_version": "1.5.0",
            "_view_count": null,
            "_view_module_version": "1.5.0",
            "box_style": "",
            "layout": "IPY_MODEL_72855f47466240e2b194410517aa130d",
            "_model_module": "@jupyter-widgets/controls",
            "children": [
              "IPY_MODEL_0b0849f0839242d394e2c8fcdf166d6f",
              "IPY_MODEL_b4839f3048674dd09b2a42c89f326fd0",
              "IPY_MODEL_429941e2da0441469c8d07fc8a199e66"
            ]
          }
        },
        "72855f47466240e2b194410517aa130d": {
          "model_module": "@jupyter-widgets/base",
          "model_name": "LayoutModel",
          "model_module_version": "1.2.0",
          "state": {
            "_view_name": "LayoutView",
            "grid_template_rows": null,
            "right": null,
            "justify_content": null,
            "_view_module": "@jupyter-widgets/base",
            "overflow": null,
            "_model_module_version": "1.2.0",
            "_view_count": null,
            "flex_flow": null,
            "width": null,
            "min_width": null,
            "border": null,
            "align_items": null,
            "bottom": null,
            "_model_module": "@jupyter-widgets/base",
            "top": null,
            "grid_column": null,
            "overflow_y": null,
            "overflow_x": null,
            "grid_auto_flow": null,
            "grid_area": null,
            "grid_template_columns": null,
            "flex": null,
            "_model_name": "LayoutModel",
            "justify_items": null,
            "grid_row": null,
            "max_height": null,
            "align_content": null,
            "visibility": null,
            "align_self": null,
            "height": null,
            "min_height": null,
            "padding": null,
            "grid_auto_rows": null,
            "grid_gap": null,
            "max_width": null,
            "order": null,
            "_view_module_version": "1.2.0",
            "grid_template_areas": null,
            "object_position": null,
            "object_fit": null,
            "grid_auto_columns": null,
            "margin": null,
            "display": null,
            "left": null
          }
        },
        "0b0849f0839242d394e2c8fcdf166d6f": {
          "model_module": "@jupyter-widgets/controls",
          "model_name": "HTMLModel",
          "model_module_version": "1.5.0",
          "state": {
            "_view_name": "HTMLView",
            "style": "IPY_MODEL_295e62283c434955b786906341d5fbd3",
            "_dom_classes": [],
            "description": "",
            "_model_name": "HTMLModel",
            "placeholder": "​",
            "_view_module": "@jupyter-widgets/controls",
            "_model_module_version": "1.5.0",
            "value": "100%",
            "_view_count": null,
            "_view_module_version": "1.5.0",
            "description_tooltip": null,
            "_model_module": "@jupyter-widgets/controls",
            "layout": "IPY_MODEL_25694b6e91ab4b3185f6fbca74e5f268"
          }
        },
        "b4839f3048674dd09b2a42c89f326fd0": {
          "model_module": "@jupyter-widgets/controls",
          "model_name": "FloatProgressModel",
          "model_module_version": "1.5.0",
          "state": {
            "_view_name": "ProgressView",
            "style": "IPY_MODEL_8153980dd3be44928661284600118179",
            "_dom_classes": [],
            "description": "",
            "_model_name": "FloatProgressModel",
            "bar_style": "",
            "max": 40,
            "_view_module": "@jupyter-widgets/controls",
            "_model_module_version": "1.5.0",
            "value": 40,
            "_view_count": null,
            "_view_module_version": "1.5.0",
            "orientation": "horizontal",
            "min": 0,
            "description_tooltip": null,
            "_model_module": "@jupyter-widgets/controls",
            "layout": "IPY_MODEL_29c8235036214820ae0a11ba1986c739"
          }
        },
        "429941e2da0441469c8d07fc8a199e66": {
          "model_module": "@jupyter-widgets/controls",
          "model_name": "HTMLModel",
          "model_module_version": "1.5.0",
          "state": {
            "_view_name": "HTMLView",
            "style": "IPY_MODEL_7e7cedd47efc476eaa6b485b12375f78",
            "_dom_classes": [],
            "description": "",
            "_model_name": "HTMLModel",
            "placeholder": "​",
            "_view_module": "@jupyter-widgets/controls",
            "_model_module_version": "1.5.0",
            "value": " 40/40 [00:19&lt;00:00,  2.02it/s]",
            "_view_count": null,
            "_view_module_version": "1.5.0",
            "description_tooltip": null,
            "_model_module": "@jupyter-widgets/controls",
            "layout": "IPY_MODEL_2860350dbc1a4d1c9126eb2eb1dd8f42"
          }
        },
        "295e62283c434955b786906341d5fbd3": {
          "model_module": "@jupyter-widgets/controls",
          "model_name": "DescriptionStyleModel",
          "model_module_version": "1.5.0",
          "state": {
            "_view_name": "StyleView",
            "_model_name": "DescriptionStyleModel",
            "description_width": "",
            "_view_module": "@jupyter-widgets/base",
            "_model_module_version": "1.5.0",
            "_view_count": null,
            "_view_module_version": "1.2.0",
            "_model_module": "@jupyter-widgets/controls"
          }
        },
        "25694b6e91ab4b3185f6fbca74e5f268": {
          "model_module": "@jupyter-widgets/base",
          "model_name": "LayoutModel",
          "model_module_version": "1.2.0",
          "state": {
            "_view_name": "LayoutView",
            "grid_template_rows": null,
            "right": null,
            "justify_content": null,
            "_view_module": "@jupyter-widgets/base",
            "overflow": null,
            "_model_module_version": "1.2.0",
            "_view_count": null,
            "flex_flow": null,
            "width": null,
            "min_width": null,
            "border": null,
            "align_items": null,
            "bottom": null,
            "_model_module": "@jupyter-widgets/base",
            "top": null,
            "grid_column": null,
            "overflow_y": null,
            "overflow_x": null,
            "grid_auto_flow": null,
            "grid_area": null,
            "grid_template_columns": null,
            "flex": null,
            "_model_name": "LayoutModel",
            "justify_items": null,
            "grid_row": null,
            "max_height": null,
            "align_content": null,
            "visibility": null,
            "align_self": null,
            "height": null,
            "min_height": null,
            "padding": null,
            "grid_auto_rows": null,
            "grid_gap": null,
            "max_width": null,
            "order": null,
            "_view_module_version": "1.2.0",
            "grid_template_areas": null,
            "object_position": null,
            "object_fit": null,
            "grid_auto_columns": null,
            "margin": null,
            "display": null,
            "left": null
          }
        },
        "8153980dd3be44928661284600118179": {
          "model_module": "@jupyter-widgets/controls",
          "model_name": "ProgressStyleModel",
          "model_module_version": "1.5.0",
          "state": {
            "_view_name": "StyleView",
            "_model_name": "ProgressStyleModel",
            "description_width": "",
            "_view_module": "@jupyter-widgets/base",
            "_model_module_version": "1.5.0",
            "_view_count": null,
            "_view_module_version": "1.2.0",
            "bar_color": null,
            "_model_module": "@jupyter-widgets/controls"
          }
        },
        "29c8235036214820ae0a11ba1986c739": {
          "model_module": "@jupyter-widgets/base",
          "model_name": "LayoutModel",
          "model_module_version": "1.2.0",
          "state": {
            "_view_name": "LayoutView",
            "grid_template_rows": null,
            "right": null,
            "justify_content": null,
            "_view_module": "@jupyter-widgets/base",
            "overflow": null,
            "_model_module_version": "1.2.0",
            "_view_count": null,
            "flex_flow": null,
            "width": null,
            "min_width": null,
            "border": null,
            "align_items": null,
            "bottom": null,
            "_model_module": "@jupyter-widgets/base",
            "top": null,
            "grid_column": null,
            "overflow_y": null,
            "overflow_x": null,
            "grid_auto_flow": null,
            "grid_area": null,
            "grid_template_columns": null,
            "flex": null,
            "_model_name": "LayoutModel",
            "justify_items": null,
            "grid_row": null,
            "max_height": null,
            "align_content": null,
            "visibility": null,
            "align_self": null,
            "height": null,
            "min_height": null,
            "padding": null,
            "grid_auto_rows": null,
            "grid_gap": null,
            "max_width": null,
            "order": null,
            "_view_module_version": "1.2.0",
            "grid_template_areas": null,
            "object_position": null,
            "object_fit": null,
            "grid_auto_columns": null,
            "margin": null,
            "display": null,
            "left": null
          }
        },
        "7e7cedd47efc476eaa6b485b12375f78": {
          "model_module": "@jupyter-widgets/controls",
          "model_name": "DescriptionStyleModel",
          "model_module_version": "1.5.0",
          "state": {
            "_view_name": "StyleView",
            "_model_name": "DescriptionStyleModel",
            "description_width": "",
            "_view_module": "@jupyter-widgets/base",
            "_model_module_version": "1.5.0",
            "_view_count": null,
            "_view_module_version": "1.2.0",
            "_model_module": "@jupyter-widgets/controls"
          }
        },
        "2860350dbc1a4d1c9126eb2eb1dd8f42": {
          "model_module": "@jupyter-widgets/base",
          "model_name": "LayoutModel",
          "model_module_version": "1.2.0",
          "state": {
            "_view_name": "LayoutView",
            "grid_template_rows": null,
            "right": null,
            "justify_content": null,
            "_view_module": "@jupyter-widgets/base",
            "overflow": null,
            "_model_module_version": "1.2.0",
            "_view_count": null,
            "flex_flow": null,
            "width": null,
            "min_width": null,
            "border": null,
            "align_items": null,
            "bottom": null,
            "_model_module": "@jupyter-widgets/base",
            "top": null,
            "grid_column": null,
            "overflow_y": null,
            "overflow_x": null,
            "grid_auto_flow": null,
            "grid_area": null,
            "grid_template_columns": null,
            "flex": null,
            "_model_name": "LayoutModel",
            "justify_items": null,
            "grid_row": null,
            "max_height": null,
            "align_content": null,
            "visibility": null,
            "align_self": null,
            "height": null,
            "min_height": null,
            "padding": null,
            "grid_auto_rows": null,
            "grid_gap": null,
            "max_width": null,
            "order": null,
            "_view_module_version": "1.2.0",
            "grid_template_areas": null,
            "object_position": null,
            "object_fit": null,
            "grid_auto_columns": null,
            "margin": null,
            "display": null,
            "left": null
          }
        }
      }
    }
  },
  "cells": [
    {
      "cell_type": "markdown",
      "metadata": {
        "id": "view-in-github",
        "colab_type": "text"
      },
      "source": [
        "<a href=\"https://colab.research.google.com/github/tanupat085/ai-dep/blob/main/PyTorch_Lab_2_XOR.ipynb\" target=\"_parent\"><img src=\"https://colab.research.google.com/assets/colab-badge.svg\" alt=\"Open In Colab\"/></a>"
      ]
    },
    {
      "cell_type": "markdown",
      "metadata": {
        "id": "PRBPKSXa24a-"
      },
      "source": [
        "# PyTorch Lab 2\n",
        "\n",
        "Written by Prachya Boonkwan (Arm)"
      ]
    },
    {
      "cell_type": "code",
      "metadata": {
        "id": "pCaxA5Pn3pP7"
      },
      "source": [
        "# !pip install -q http://download.pytorch.org/whl/cpu/torch-0.4.1-cp36-cp36m-linux_x86_64.whl torchvision tqdm\n",
        "!pip install -q torch torchvision tqdm"
      ],
      "execution_count": null,
      "outputs": []
    },
    {
      "cell_type": "markdown",
      "metadata": {
        "id": "mJNcUfxw0WPv"
      },
      "source": [
        "# `https://tinyurl.com/yahnrgfl` "
      ]
    },
    {
      "cell_type": "markdown",
      "metadata": {
        "id": "7Dj7kWXn24bD"
      },
      "source": [
        "## Learning the XOR Gate"
      ]
    },
    {
      "cell_type": "markdown",
      "metadata": {
        "id": "9TZ9YTdk24bH"
      },
      "source": [
        "In this workshop, we are going to imitate the XOR (eXclusive OR) gate with a multilayer perceptron."
      ]
    },
    {
      "cell_type": "markdown",
      "metadata": {
        "id": "khDyjgXz24bL"
      },
      "source": [
        "## Header"
      ]
    },
    {
      "cell_type": "markdown",
      "metadata": {
        "id": "ZIQNYFlF24bR"
      },
      "source": [
        "This part is the header of the code. My favorite import aliases for PyTorch are as follows. This will be very useful for speed coding."
      ]
    },
    {
      "cell_type": "code",
      "metadata": {
        "id": "VSb_nQXv24bU"
      },
      "source": [
        "#!/usr/bin/env python3\n",
        "#-*- coding: utf-8 -*-\n",
        "\n",
        "import torch as T\n",
        "import torch.nn as N\n",
        "import torch.optim as O\n",
        "\n",
        "from tqdm.autonotebook import tqdm    # Nice progressbar\n",
        "import matplotlib.pyplot as plt\n",
        "%matplotlib inline\n",
        "\n",
        "import random"
      ],
      "execution_count": null,
      "outputs": []
    },
    {
      "cell_type": "markdown",
      "metadata": {
        "id": "Y-7foEqj24be"
      },
      "source": [
        "-----"
      ]
    },
    {
      "cell_type": "markdown",
      "metadata": {
        "id": "Gt1H1TNy24bj"
      },
      "source": [
        "## Neural Networks as Linear Transformation"
      ]
    },
    {
      "cell_type": "markdown",
      "metadata": {
        "id": "EEEea_-H24bm"
      },
      "source": [
        "### Linear Layer"
      ]
    },
    {
      "cell_type": "markdown",
      "metadata": {
        "id": "QY1O1Hn224bp"
      },
      "source": [
        "In a nutshell, the simplest form of neural networks is a series of linear transformation layers. We can create a linear transformation layer, or *linear layer*, by the command `N.Linear`. For example, this is how we create a linear layer that takes 5 input units and produces 3 output units."
      ]
    },
    {
      "cell_type": "code",
      "metadata": {
        "id": "1j1xvjcM24br",
        "colab": {
          "base_uri": "https://localhost:8080/"
        },
        "outputId": "1381a459-96cd-4db4-e1f6-89f77f6b6f38"
      },
      "source": [
        "linear_layer = N.Linear(5, 3)\n",
        "print(linear_layer)"
      ],
      "execution_count": null,
      "outputs": [
        {
          "output_type": "stream",
          "name": "stdout",
          "text": [
            "Linear(in_features=5, out_features=3, bias=True)\n"
          ]
        }
      ]
    },
    {
      "cell_type": "markdown",
      "metadata": {
        "id": "_mD89A4K24b5"
      },
      "source": [
        "This linear layer takes an input vector of size 5 and produces an output vector of size 3. In fact, a linear layer is equivalent to a matrix of the corresponding size. For example, `N.Linear(5, 3)` is equivalent to a matrix $\\mathbf{A}$ of dimension 5 × 3.\n",
        "\n",
        "$$\n",
        "\\begin{eqnarray}\n",
        "    \\left[ \\mathbf{v}_\\textrm{out} \\right]_{3} & = & \\left( \\mathbf{A}_{5 \\times 3} \\right)^\\top \\times \\left[ \\mathbf{v}_\\textrm{in} \\right]_{5}\n",
        "\\end{eqnarray}\n",
        "$$"
      ]
    },
    {
      "cell_type": "code",
      "metadata": {
        "id": "9dTnY-cR24b6",
        "colab": {
          "base_uri": "https://localhost:8080/"
        },
        "outputId": "3e8ba6fd-a98d-40c9-cdd7-223b4cb598d6"
      },
      "source": [
        "input_vec = T.FloatTensor([1.0, 2.0, 3.0, 4.0, 5.0])\n",
        "print('input_vec  = {}'.format(input_vec))\n",
        "\n",
        "output_vec = linear_layer(input_vec)\n",
        "print('output_vec = {}'.format(output_vec))"
      ],
      "execution_count": null,
      "outputs": [
        {
          "output_type": "stream",
          "name": "stdout",
          "text": [
            "input_vec  = tensor([1., 2., 3., 4., 5.])\n",
            "output_vec = tensor([ 1.4139, -0.2274, -0.0830], grad_fn=<AddBackward0>)\n"
          ]
        }
      ]
    },
    {
      "cell_type": "markdown",
      "metadata": {
        "id": "K0Zz2t8w24cB"
      },
      "source": [
        "### A Series of Linear Transformation"
      ]
    },
    {
      "cell_type": "markdown",
      "metadata": {
        "id": "npgIKWhb24cC"
      },
      "source": [
        "Let's create some more linear layers."
      ]
    },
    {
      "cell_type": "code",
      "metadata": {
        "id": "TQ5pbNxh24cE"
      },
      "source": [
        "layer1 = N.Linear(5, 3)\n",
        "layer2 = N.Linear(3, 4)"
      ],
      "execution_count": null,
      "outputs": []
    },
    {
      "cell_type": "markdown",
      "metadata": {
        "id": "mGi0tkAa24cJ"
      },
      "source": [
        "We can sequentially feed, or *feed-forward*, an input vector to these layers. Let's see how each step goes."
      ]
    },
    {
      "cell_type": "code",
      "metadata": {
        "id": "iiIqx_RB24cK",
        "colab": {
          "base_uri": "https://localhost:8080/"
        },
        "outputId": "14fa4752-8f6c-4932-d761-d7b30da712d6"
      },
      "source": [
        "input_vec = T.FloatTensor([1.0, 2.0, 3.0, 4.0, 5.0])\n",
        "print('input_vec    = {}'.format(input_vec))\n",
        "\n",
        "output_vec_1 = layer1(input_vec)\n",
        "print('output_vec_1 = {}'.format(output_vec_1))\n",
        "\n",
        "output_vec_2 = layer2(output_vec_1)\n",
        "print('output_vec_2 = {}'.format(output_vec_2))"
      ],
      "execution_count": null,
      "outputs": [
        {
          "output_type": "stream",
          "name": "stdout",
          "text": [
            "input_vec    = tensor([1., 2., 3., 4., 5.])\n",
            "output_vec_1 = tensor([-0.9499,  0.6892,  2.4313], grad_fn=<AddBackward0>)\n",
            "output_vec_2 = tensor([ 0.4714, -0.9502,  0.4983,  0.2223], grad_fn=<AddBackward0>)\n"
          ]
        }
      ]
    },
    {
      "cell_type": "markdown",
      "metadata": {
        "id": "jH0txTXk24cO"
      },
      "source": [
        "Note that we can always print out the output of each step, making it much easier to debug your code in PyTorch than in native Tensorflow."
      ]
    },
    {
      "cell_type": "markdown",
      "metadata": {
        "id": "VD6NXmrf24cQ"
      },
      "source": [
        "### Multilayer Perceptron"
      ]
    },
    {
      "cell_type": "markdown",
      "metadata": {
        "id": "II4TSnhD24cS"
      },
      "source": [
        "A multilayer perceptron (MLP) comprises a series of linear layers. We can create a MLP with the command `N.Sequential`."
      ]
    },
    {
      "cell_type": "code",
      "metadata": {
        "id": "Fo1Alf_q24cS",
        "colab": {
          "base_uri": "https://localhost:8080/"
        },
        "outputId": "13d45d42-e113-4096-eed2-ae6451f09648"
      },
      "source": [
        "mlp_model = N.Sequential(\n",
        "    N.Linear(5, 3),\n",
        "    N.Linear(3, 4)\n",
        ")\n",
        "print(mlp_model)"
      ],
      "execution_count": null,
      "outputs": [
        {
          "output_type": "stream",
          "name": "stdout",
          "text": [
            "Sequential(\n",
            "  (0): Linear(in_features=5, out_features=3, bias=True)\n",
            "  (1): Linear(in_features=3, out_features=4, bias=True)\n",
            ")\n"
          ]
        }
      ]
    },
    {
      "cell_type": "markdown",
      "metadata": {
        "id": "v5um_yN424cX"
      },
      "source": [
        "We can feed-forward an input vector to the created MLP and obtain an output vector as well. The produced output vector is a prediction made by the MLP. This is still equivalent to applying a series of linear transformation:\n",
        "\n",
        "$$\n",
        "\\begin{eqnarray}\n",
        "    \\left[ \\mathbf{v}_\\textrm{out} \\right]_4 & = & \\left( \\mathbf{A}_{5 \\times 3} \\times \\mathbf{B}_{3 \\times 4} \\right)^\\top \\times \\left[ \\mathbf{v}_\\textrm{in} \\right]_5\n",
        "\\end{eqnarray}\n",
        "$$\n",
        "\n",
        "where $\\mathbf{A}$ and $\\mathbf{B}$ are linear layers."
      ]
    },
    {
      "cell_type": "code",
      "metadata": {
        "id": "F-wXuGnN24cZ",
        "colab": {
          "base_uri": "https://localhost:8080/"
        },
        "outputId": "f0394b8f-d1cd-45f0-b769-21ac8b768f1c"
      },
      "source": [
        "prediction = mlp_model(input_vec)\n",
        "print('prediction = {}'.format(prediction))"
      ],
      "execution_count": null,
      "outputs": [
        {
          "output_type": "stream",
          "name": "stdout",
          "text": [
            "prediction = tensor([-0.6845,  1.0546,  0.3233,  1.0770], grad_fn=<AddBackward0>)\n"
          ]
        }
      ]
    },
    {
      "cell_type": "markdown",
      "metadata": {
        "id": "Hip7vr9e24cd"
      },
      "source": [
        "### Loss Function: Mean Squared Error"
      ]
    },
    {
      "cell_type": "markdown",
      "metadata": {
        "id": "lcbmBYk824ce"
      },
      "source": [
        "Next, we want to compute the difference, i.e. the *loss*, between a prediction vector $\\mathbf{y}$ and a desired output vector $\\mathbf{y}'$. In this workshop, we will use the mean squared error (MSE), where we compute the average of squared difference between each element pair $y_i$ and $y'_i$.\n",
        "\n",
        "$$\n",
        "\\begin{eqnarray}\n",
        "    \\mathrm{MSE} & = & \\frac{1}{N} \\sum_{i = 1}^N \\left( y_i - y'_i \\right)^2\n",
        "\\end{eqnarray}\n",
        "$$"
      ]
    },
    {
      "cell_type": "code",
      "metadata": {
        "id": "4ZeUCAxg24cf",
        "colab": {
          "base_uri": "https://localhost:8080/"
        },
        "outputId": "c7bf33d2-3218-4d27-e84f-7eff842fbe18"
      },
      "source": [
        "desired_output_vec = T.FloatTensor([4.0, 3.0, 2.0, 1.0])\n",
        "print('prediction = {}'.format(prediction))\n",
        "print('desired_output_vec = {}'.format(desired_output_vec))\n",
        "\n",
        "loss_func = N.MSELoss()\n",
        "\n",
        "loss = loss_func(prediction, desired_output_vec)\n",
        "print('loss = {}'.format(loss))"
      ],
      "execution_count": null,
      "outputs": [
        {
          "output_type": "stream",
          "name": "stdout",
          "text": [
            "prediction = tensor([-0.6845,  1.0546,  0.3233,  1.0770], grad_fn=<AddBackward0>)\n",
            "desired_output_vec = tensor([4., 3., 2., 1.])\n",
            "loss = 7.136593818664551\n"
          ]
        }
      ]
    },
    {
      "cell_type": "markdown",
      "metadata": {
        "id": "Jmy3okp924cl"
      },
      "source": [
        "### Parameter Optimization"
      ]
    },
    {
      "cell_type": "markdown",
      "metadata": {
        "id": "xWahtyxk24cm"
      },
      "source": [
        "There are several parameter optimizers in PyTorch. Stochastic Gradient Descent (SGD) is the simplest and easiest to understand. This is how we create an SGD optimizer with the command `O.SGD`. Note that it takes the parameters of our model of interest and a learning rate."
      ]
    },
    {
      "cell_type": "code",
      "metadata": {
        "id": "VpYbagax24cn",
        "colab": {
          "base_uri": "https://localhost:8080/"
        },
        "outputId": "ebb866cd-8450-4a7f-e173-2991c2febd5c"
      },
      "source": [
        "optimizer = O.SGD(mlp_model.parameters(), lr=0.01)\n",
        "print(optimizer)"
      ],
      "execution_count": null,
      "outputs": [
        {
          "output_type": "stream",
          "name": "stdout",
          "text": [
            "SGD (\n",
            "Parameter Group 0\n",
            "    dampening: 0\n",
            "    lr: 0.01\n",
            "    momentum: 0\n",
            "    nesterov: False\n",
            "    weight_decay: 0\n",
            ")\n"
          ]
        }
      ]
    },
    {
      "cell_type": "markdown",
      "metadata": {
        "id": "dOxiYvVl24cr"
      },
      "source": [
        "This is one step of parameter optimization. First, we clear the gradient cache of the optimizer. The loss previously calculated is then used to perform backpropagation through the model. Finally, we update the parameters with the command `step()`."
      ]
    },
    {
      "cell_type": "code",
      "metadata": {
        "id": "2C9mxs6A24ct"
      },
      "source": [
        "optimizer.zero_grad()        # Clear the gradient cache\n",
        "loss.backward()              # Perform backpropagation\n",
        "optimizer.step()             # Update the parameters"
      ],
      "execution_count": null,
      "outputs": []
    },
    {
      "cell_type": "markdown",
      "metadata": {
        "id": "Qydd4iP924cw"
      },
      "source": [
        "Let's observe the change in parameters after just one step of optimization. Note that the new prediction is approaching the desired output vector."
      ]
    },
    {
      "cell_type": "code",
      "metadata": {
        "id": "ZvQVvFW324cx",
        "colab": {
          "base_uri": "https://localhost:8080/"
        },
        "outputId": "43d7049a-c2a6-46be-d36a-7863720fe240"
      },
      "source": [
        "print('Before: prediction = {}'.format(prediction))\n",
        "\n",
        "new_prediction = mlp_model(input_vec)\n",
        "print('After : prediction = {}'.format(new_prediction))"
      ],
      "execution_count": null,
      "outputs": [
        {
          "output_type": "stream",
          "name": "stdout",
          "text": [
            "Before: prediction = tensor([-0.6845,  1.0546,  0.3233,  1.0770], grad_fn=<AddBackward0>)\n",
            "After : prediction = tensor([0.2459, 1.5160, 0.4242, 1.0043], grad_fn=<AddBackward0>)\n"
          ]
        }
      ]
    },
    {
      "cell_type": "markdown",
      "metadata": {
        "id": "xKaTj2py24c4"
      },
      "source": [
        "Let's iterate through parameter optimization for 10 times. Note that the loss is getting smaller, because the new prediction of each step is getting closer and closer to the desired output vector."
      ]
    },
    {
      "cell_type": "code",
      "metadata": {
        "id": "9ONwpEzD24c6",
        "colab": {
          "base_uri": "https://localhost:8080/"
        },
        "outputId": "ba8c107f-aea3-4adf-e0d1-138c380fdabb"
      },
      "source": [
        "for i in range(10):\n",
        "    step_prediction = mlp_model(input_vec)\n",
        "    loss = loss_func(step_prediction, desired_output_vec)\n",
        "    print('Iteration {}: loss = {}'.format(i, loss))\n",
        "    \n",
        "    optimizer.zero_grad()\n",
        "    loss.backward()\n",
        "    optimizer.step()"
      ],
      "execution_count": null,
      "outputs": [
        {
          "output_type": "stream",
          "name": "stdout",
          "text": [
            "Iteration 0: loss = 4.694545745849609\n",
            "Iteration 1: loss = 3.083603858947754\n",
            "Iteration 2: loss = 1.931172490119934\n",
            "Iteration 3: loss = 1.1321042776107788\n",
            "Iteration 4: loss = 0.6226803064346313\n",
            "Iteration 5: loss = 0.32809191942214966\n",
            "Iteration 6: loss = 0.1712907999753952\n",
            "Iteration 7: loss = 0.09183115512132645\n",
            "Iteration 8: loss = 0.051826316863298416\n",
            "Iteration 9: loss = 0.031009092926979065\n"
          ]
        }
      ]
    },
    {
      "cell_type": "markdown",
      "metadata": {
        "id": "EXrYOpAD24c-"
      },
      "source": [
        "Let's see how close to the desired output vector the latest prediction is, compared with the first prediction."
      ]
    },
    {
      "cell_type": "code",
      "metadata": {
        "id": "QAPXuQi324c_",
        "colab": {
          "base_uri": "https://localhost:8080/"
        },
        "outputId": "b9979a60-b135-4ed5-b8a7-38883656995d"
      },
      "source": [
        "print('Before: prediction = {}'.format(prediction))\n",
        "new_prediction = mlp_model(input_vec)\n",
        "print('After : prediction = {}'.format(new_prediction))\n",
        "print('Desired output vec : {}'.format(desired_output_vec))"
      ],
      "execution_count": null,
      "outputs": [
        {
          "output_type": "stream",
          "name": "stdout",
          "text": [
            "Before: prediction = tensor([-0.6845,  1.0546,  0.3233,  1.0770], grad_fn=<AddBackward0>)\n",
            "After : prediction = tensor([3.9412, 3.0571, 1.7383, 1.0539], grad_fn=<AddBackward0>)\n",
            "Desired output vec : tensor([4., 3., 2., 1.])\n"
          ]
        }
      ]
    },
    {
      "cell_type": "markdown",
      "metadata": {
        "id": "VrSB4fzg24dD"
      },
      "source": [
        "The more iterations, the closer the prediction is to the desired output vector."
      ]
    },
    {
      "cell_type": "markdown",
      "metadata": {
        "id": "iWhJrhC124dE"
      },
      "source": [
        "-----"
      ]
    },
    {
      "cell_type": "markdown",
      "metadata": {
        "id": "UbOSGo7z24dF"
      },
      "source": [
        "## Learning the XOR Gate with Multilayer Perceptrons"
      ]
    },
    {
      "cell_type": "markdown",
      "metadata": {
        "id": "RwRHQWWh24dG"
      },
      "source": [
        "In this section, we will design a multilayer perceptron and train it to imitate an XOR gate."
      ]
    },
    {
      "cell_type": "markdown",
      "metadata": {
        "id": "H6syzn8o24dH"
      },
      "source": [
        "### Configuration"
      ]
    },
    {
      "cell_type": "code",
      "metadata": {
        "id": "H59I8fHy24dI"
      },
      "source": [
        "dim_input = 2                         # DO NOT CHANGE ME: input dimension\n",
        "dim_hidden = 8                        # Dimension for the hidden layer\n",
        "dim_output = 1                        # DO NOT CHANGE ME: output dimension\n",
        "\n",
        "no_training = 1000                    # Number of training data\n",
        "no_testing = 100                      # Number of testing data\n",
        "\n",
        "epochs = 40                           # Number of training iterations\n",
        "loss_fn = N.MSELoss()                 # Loss function\n",
        "learning_rate = 0.01                  # Learning rate"
      ],
      "execution_count": null,
      "outputs": []
    },
    {
      "cell_type": "markdown",
      "metadata": {
        "id": "7PxglV_Z24dK"
      },
      "source": [
        "### Generating XOR Datasets"
      ]
    },
    {
      "cell_type": "markdown",
      "metadata": {
        "id": "qvgqzzez24dL"
      },
      "source": [
        "We generate a dataset for training/testing our MLP as follows. \n",
        "\n",
        "1. Create a list for storing the dataset. Let's name it $D$.\n",
        "2. Repeat for the specified times\n",
        "   1. We random two numbers ranging from 0 to 1 by `random.randint(0, 1)`, say $a$ and $b$. They will be the inputs of an XOR gate.\n",
        "   2. We compute the result of $a \\textrm{ XOR } b$. Let's name it $q$.\n",
        "   3. Append $((a, b), q)$ to $D$.\n",
        "3. Return $D$ as a result."
      ]
    },
    {
      "cell_type": "code",
      "metadata": {
        "id": "Qdo5gtzJ24dL"
      },
      "source": [
        "def gen_xor_dataset(size):\n",
        "    dataset = []\n",
        "    \n",
        "    for i in range(size):\n",
        "        \n",
        "        # Random two values: a and b\n",
        "        a = (random.randint(0, 1) == 1)\n",
        "        b = (random.randint(0, 1) == 1)\n",
        "        \n",
        "        # q = a XOR b\n",
        "        q = (a != b)\n",
        "            \n",
        "        input_features = (a, b)\n",
        "        output_class = q\n",
        "        dataset.append( (input_features, output_class) )\n",
        "        \n",
        "    return dataset"
      ],
      "execution_count": null,
      "outputs": []
    },
    {
      "cell_type": "markdown",
      "metadata": {
        "id": "GWhBd7i324dO"
      },
      "source": [
        "Let's generate the training and testing sets."
      ]
    },
    {
      "cell_type": "code",
      "metadata": {
        "id": "Tw56mZmI24dP"
      },
      "source": [
        "training_set = gen_xor_dataset(no_training)\n",
        "testing_set = gen_xor_dataset(no_testing)"
      ],
      "execution_count": null,
      "outputs": []
    },
    {
      "cell_type": "markdown",
      "metadata": {
        "id": "TXm7XRS924dR"
      },
      "source": [
        "### Training Procedure"
      ]
    },
    {
      "cell_type": "markdown",
      "metadata": {
        "id": "3NnxRgEY24dS"
      },
      "source": [
        "The training procedure follows the standard iteration of parameter optimization.\n",
        "\n",
        "1. Repeat for the specified number of iterations (a.k.a. *epochs*)\n",
        "   1. Shuffle the dataset D\n",
        "   2. For each tuple ((a, b), q) in the dataset D\n",
        "      1. Create an input vector $\\mathbf{x}$, where $x_1 = a$ and $x_2 = b$.\n",
        "      2. Create a desired output vector $\\mathbf{y}'$, where $y_1 = q$.\n",
        "      3. Compute a prediction vector $\\mathbf{y}$ out of the model by feed-forwarding the input vector $\\mathbf{x}$.\n",
        "      4. Compute the loss between $\\mathbf{y}$ and $\\mathbf{y}'$.\n",
        "      5. Perform backpropagation with respect to the loss.\n",
        "   3. Store the loss history.\n",
        "2. Plot a line chart of the loss history with Matplotlib."
      ]
    },
    {
      "cell_type": "code",
      "metadata": {
        "id": "s6zzcaww24dT"
      },
      "source": [
        "def train_model(xor_model, training_data):\n",
        "    optimizer = O.SGD(xor_model.parameters(), lr=learning_rate)\n",
        "    no_samples = len(training_data)\n",
        "    loss_history = []\n",
        "    \n",
        "    for i in tqdm(range(epochs)):\n",
        "        total_loss = 0.0\n",
        "        random.shuffle(training_data)\n",
        "        \n",
        "        for (input_features, output_class) in training_data:\n",
        "            ((a, b), q) = (input_features, output_class)\n",
        "            \n",
        "            x = T.zeros(dim_input)     # Input vector\n",
        "            y = T.zeros(dim_output)    # Output vector\n",
        "            if a: x[0] = 1.0\n",
        "            if b: x[1] = 1.0\n",
        "            if q: y[0] = 1.0\n",
        "                \n",
        "            prediction = xor_model(x)  # Perform prediction\n",
        "            \n",
        "            loss = loss_fn(prediction, y)\n",
        "            total_loss += loss.item()\n",
        "            \n",
        "            optimizer.zero_grad()      # Clear gradient cache\n",
        "            loss.backward()            # Perform backpropagation\n",
        "            optimizer.step()           # Update the model parameters\n",
        "        \n",
        "        loss_history.append(total_loss / no_samples)\n",
        "        \n",
        "    # Plot the loss history with Matplotlib\n",
        "    epoch_count = range(1, epochs + 1)\n",
        "    plt.plot(epoch_count, loss_history, 'b--')\n",
        "    plt.legend(['Training Loss'])\n",
        "    plt.xlabel('Epoch')\n",
        "    plt.ylabel('Loss')\n",
        "    plt.show()"
      ],
      "execution_count": null,
      "outputs": []
    },
    {
      "cell_type": "markdown",
      "metadata": {
        "id": "44cM32q524dV"
      },
      "source": [
        "### Testing Procedure"
      ]
    },
    {
      "cell_type": "markdown",
      "metadata": {
        "id": "4L7lUI7j24dW"
      },
      "source": [
        "Let's measure the accuracy of a model.\n",
        "\n",
        "1. Let $c$ be a counter of correct predictions, and $N$ be the number of testing samples.\n",
        "2. For each ((a, b), q) in the testing set\n",
        "   1. Create an input vector $\\mathbf{x}$, where $x_1 = a$ and $x_2 = b$.\n",
        "   2. Compute a prediction vector $\\mathbf{y}$ out of the model by feed-forwarding the input vector $\\mathbf{x}$.\n",
        "   3. Infer a predicted class $q'$ from $\\mathbf{y}$. If $y_1 \\geq 0.5$, we let $q' = \\mathbb{T}$. Otherwise, $q' = \\mathbb{F}$.\n",
        "   4. If $q = q'$, then we increase the counter $c$.\n",
        "3. Calculate the accuracy by the formula $ \\mathrm{ACC} = c / N $."
      ]
    },
    {
      "cell_type": "code",
      "metadata": {
        "id": "SwrbE2I224dX"
      },
      "source": [
        "def test_model(xor_model, testing_data):\n",
        "    no_correct = 0.0\n",
        "\n",
        "    for (input_features, output_class) in testing_data:\n",
        "        ((a, b), q) = (input_features, output_class)\n",
        "\n",
        "        x = T.zeros(dim_input)     # dim_input = 2\n",
        "        if a: x[0] = 1.0\n",
        "        if b: x[1] = 1.0\n",
        "\n",
        "        pred = xor_model(x)\n",
        "        pred_class = True if pred[0] >= 0.5 else False\n",
        "        result = 'Correct' if pred_class == q else 'Incorrect'\n",
        "        if pred_class == q: no_correct += 1\n",
        "        print('{:>5} XOR {:>5} = {:>5}  |  prediction = {:>5}  |  {}'.format(\n",
        "           str(a), str(b), str(q), str(pred_class), str(result)\n",
        "        ))\n",
        "\n",
        "    accuracy = 100 * no_correct / no_testing\n",
        "    print('\\nAccuracy = {}'.format(accuracy))"
      ],
      "execution_count": null,
      "outputs": []
    },
    {
      "cell_type": "markdown",
      "metadata": {
        "id": "ianii2i924dZ"
      },
      "source": [
        "-------"
      ]
    },
    {
      "cell_type": "markdown",
      "metadata": {
        "id": "VXoVOrrb24da"
      },
      "source": [
        "## Model 1: A Very Simple Model"
      ]
    },
    {
      "cell_type": "markdown",
      "metadata": {
        "id": "oTj-QeFm24da"
      },
      "source": [
        "### Model Design"
      ]
    },
    {
      "cell_type": "markdown",
      "metadata": {
        "id": "D_gMJtbE24db"
      },
      "source": [
        "Our endeavor to the XOR gate begins with a simple MLP. This MLP contains just two linear layers."
      ]
    },
    {
      "cell_type": "code",
      "metadata": {
        "id": "n3OB62g924dc",
        "colab": {
          "base_uri": "https://localhost:8080/"
        },
        "outputId": "8806b57d-5973-48e2-f73a-3c7b0922c1c6"
      },
      "source": [
        "xor_model_1 = N.Sequential(\n",
        "    N.Linear(dim_input, dim_hidden),\n",
        "    N.Linear(dim_hidden, dim_output)\n",
        ")\n",
        "\n",
        "print('Model 1:\\n{}'.format(xor_model_1))"
      ],
      "execution_count": null,
      "outputs": [
        {
          "output_type": "stream",
          "name": "stdout",
          "text": [
            "Model 1:\n",
            "Sequential(\n",
            "  (0): Linear(in_features=2, out_features=8, bias=True)\n",
            "  (1): Linear(in_features=8, out_features=1, bias=True)\n",
            ")\n"
          ]
        }
      ]
    },
    {
      "cell_type": "markdown",
      "metadata": {
        "id": "WRv35EJZ24dg"
      },
      "source": [
        "### Training"
      ]
    },
    {
      "cell_type": "markdown",
      "metadata": {
        "id": "pxCYPY3e24dg"
      },
      "source": [
        "Let's train Model 1 with the training set!"
      ]
    },
    {
      "cell_type": "code",
      "metadata": {
        "id": "GXZZW1IR24dh",
        "colab": {
          "base_uri": "https://localhost:8080/",
          "height": 332,
          "referenced_widgets": [
            "c1ce6b7ec5174c4d9defe47788743c14",
            "2c83cc1457424d999d44d68f5cab4d43",
            "404dce73644a4d86b987da1895dd890d",
            "39a9b82780f14b55bfc0d4943b1fe17d",
            "5dfcf6ba6d0c4346898a0192be6e9deb",
            "d45cc47a11214adb9153946339d3f386",
            "076f865dee62451dbff8f7984b0939f1",
            "574dadce4de14fd6bf6affbd01470261",
            "742168149c324692b223de198534674c",
            "6c0a8e7569474f3188703bb006b78999",
            "cf463051911d4bcb875434c97ea49983"
          ]
        },
        "outputId": "92788de1-91e6-49e9-c16c-29e784d6bf3e"
      },
      "source": [
        "train_model(xor_model_1, training_set)"
      ],
      "execution_count": null,
      "outputs": [
        {
          "output_type": "display_data",
          "data": {
            "application/vnd.jupyter.widget-view+json": {
              "model_id": "c1ce6b7ec5174c4d9defe47788743c14",
              "version_minor": 0,
              "version_major": 2
            },
            "text/plain": [
              "  0%|          | 0/40 [00:00<?, ?it/s]"
            ]
          },
          "metadata": {}
        },
        {
          "output_type": "display_data",
          "data": {
            "image/png": "[encoded data removed]",
            "text/plain": [
              "<Figure size 432x288 with 1 Axes>"
            ]
          },
          "metadata": {
            "needs_background": "light"
          }
        }
      ]
    },
    {
      "cell_type": "markdown",
      "metadata": {
        "id": "-ZOt0NAl24dl"
      },
      "source": [
        "**N.B.** Observe the training loss. How much loss can Model 1 reduce?"
      ]
    },
    {
      "cell_type": "markdown",
      "metadata": {
        "id": "ik1LRX8024dl"
      },
      "source": [
        "### Testing"
      ]
    },
    {
      "cell_type": "markdown",
      "metadata": {
        "id": "GTjLopjF24dm"
      },
      "source": [
        "Let's test Model 1 with the testing set!"
      ]
    },
    {
      "cell_type": "code",
      "metadata": {
        "id": "RUpBXnUj24dm",
        "colab": {
          "base_uri": "https://localhost:8080/"
        },
        "outputId": "209d06c4-7686-4bfc-afcf-4f8da93c1aa6"
      },
      "source": [
        "test_model(xor_model_1, testing_set)"
      ],
      "execution_count": null,
      "outputs": [
        {
          "output_type": "stream",
          "name": "stdout",
          "text": [
            "False XOR False = False  |  prediction =  True  |  Incorrect\n",
            " True XOR False =  True  |  prediction =  True  |  Correct\n",
            " True XOR  True = False  |  prediction =  True  |  Incorrect\n",
            " True XOR  True = False  |  prediction =  True  |  Incorrect\n",
            " True XOR  True = False  |  prediction =  True  |  Incorrect\n",
            " True XOR False =  True  |  prediction =  True  |  Correct\n",
            " True XOR False =  True  |  prediction =  True  |  Correct\n",
            "False XOR  True =  True  |  prediction =  True  |  Correct\n",
            "False XOR False = False  |  prediction =  True  |  Incorrect\n",
            "False XOR False = False  |  prediction =  True  |  Incorrect\n",
            " True XOR False =  True  |  prediction =  True  |  Correct\n",
            " True XOR False =  True  |  prediction =  True  |  Correct\n",
            " True XOR  True = False  |  prediction =  True  |  Incorrect\n",
            "False XOR False = False  |  prediction =  True  |  Incorrect\n",
            " True XOR  True = False  |  prediction =  True  |  Incorrect\n",
            " True XOR False =  True  |  prediction =  True  |  Correct\n",
            "False XOR False = False  |  prediction =  True  |  Incorrect\n",
            "False XOR False = False  |  prediction =  True  |  Incorrect\n",
            "False XOR  True =  True  |  prediction =  True  |  Correct\n",
            " True XOR  True = False  |  prediction =  True  |  Incorrect\n",
            " True XOR  True = False  |  prediction =  True  |  Incorrect\n",
            "False XOR False = False  |  prediction =  True  |  Incorrect\n",
            " True XOR False =  True  |  prediction =  True  |  Correct\n",
            "False XOR  True =  True  |  prediction =  True  |  Correct\n",
            "False XOR False = False  |  prediction =  True  |  Incorrect\n",
            " True XOR  True = False  |  prediction =  True  |  Incorrect\n",
            " True XOR  True = False  |  prediction =  True  |  Incorrect\n",
            " True XOR  True = False  |  prediction =  True  |  Incorrect\n",
            " True XOR  True = False  |  prediction =  True  |  Incorrect\n",
            "False XOR  True =  True  |  prediction =  True  |  Correct\n",
            "False XOR False = False  |  prediction =  True  |  Incorrect\n",
            "False XOR False = False  |  prediction =  True  |  Incorrect\n",
            " True XOR False =  True  |  prediction =  True  |  Correct\n",
            "False XOR  True =  True  |  prediction =  True  |  Correct\n",
            " True XOR False =  True  |  prediction =  True  |  Correct\n",
            " True XOR  True = False  |  prediction =  True  |  Incorrect\n",
            " True XOR  True = False  |  prediction =  True  |  Incorrect\n",
            " True XOR  True = False  |  prediction =  True  |  Incorrect\n",
            " True XOR False =  True  |  prediction =  True  |  Correct\n",
            "False XOR  True =  True  |  prediction =  True  |  Correct\n",
            " True XOR False =  True  |  prediction =  True  |  Correct\n",
            " True XOR False =  True  |  prediction =  True  |  Correct\n",
            " True XOR False =  True  |  prediction =  True  |  Correct\n",
            "False XOR  True =  True  |  prediction =  True  |  Correct\n",
            " True XOR False =  True  |  prediction =  True  |  Correct\n",
            "False XOR False = False  |  prediction =  True  |  Incorrect\n",
            " True XOR False =  True  |  prediction =  True  |  Correct\n",
            " True XOR  True = False  |  prediction =  True  |  Incorrect\n",
            "False XOR False = False  |  prediction =  True  |  Incorrect\n",
            " True XOR False =  True  |  prediction =  True  |  Correct\n",
            "False XOR  True =  True  |  prediction =  True  |  Correct\n",
            " True XOR False =  True  |  prediction =  True  |  Correct\n",
            "False XOR False = False  |  prediction =  True  |  Incorrect\n",
            " True XOR  True = False  |  prediction =  True  |  Incorrect\n",
            " True XOR False =  True  |  prediction =  True  |  Correct\n",
            " True XOR  True = False  |  prediction =  True  |  Incorrect\n",
            "False XOR False = False  |  prediction =  True  |  Incorrect\n",
            " True XOR False =  True  |  prediction =  True  |  Correct\n",
            " True XOR False =  True  |  prediction =  True  |  Correct\n",
            " True XOR  True = False  |  prediction =  True  |  Incorrect\n",
            "False XOR False = False  |  prediction =  True  |  Incorrect\n",
            "False XOR  True =  True  |  prediction =  True  |  Correct\n",
            " True XOR False =  True  |  prediction =  True  |  Correct\n",
            " True XOR False =  True  |  prediction =  True  |  Correct\n",
            " True XOR  True = False  |  prediction =  True  |  Incorrect\n",
            "False XOR  True =  True  |  prediction =  True  |  Correct\n",
            " True XOR False =  True  |  prediction =  True  |  Correct\n",
            "False XOR False = False  |  prediction =  True  |  Incorrect\n",
            " True XOR  True = False  |  prediction =  True  |  Incorrect\n",
            "False XOR False = False  |  prediction =  True  |  Incorrect\n",
            " True XOR  True = False  |  prediction =  True  |  Incorrect\n",
            " True XOR  True = False  |  prediction =  True  |  Incorrect\n",
            "False XOR  True =  True  |  prediction =  True  |  Correct\n",
            " True XOR  True = False  |  prediction =  True  |  Incorrect\n",
            " True XOR  True = False  |  prediction =  True  |  Incorrect\n",
            "False XOR  True =  True  |  prediction =  True  |  Correct\n",
            "False XOR  True =  True  |  prediction =  True  |  Correct\n",
            " True XOR False =  True  |  prediction =  True  |  Correct\n",
            "False XOR False = False  |  prediction =  True  |  Incorrect\n",
            "False XOR  True =  True  |  prediction =  True  |  Correct\n",
            " True XOR  True = False  |  prediction =  True  |  Incorrect\n",
            "False XOR  True =  True  |  prediction =  True  |  Correct\n",
            " True XOR False =  True  |  prediction =  True  |  Correct\n",
            "False XOR False = False  |  prediction =  True  |  Incorrect\n",
            "False XOR  True =  True  |  prediction =  True  |  Correct\n",
            " True XOR  True = False  |  prediction =  True  |  Incorrect\n",
            " True XOR False =  True  |  prediction =  True  |  Correct\n",
            " True XOR  True = False  |  prediction =  True  |  Incorrect\n",
            " True XOR False =  True  |  prediction =  True  |  Correct\n",
            " True XOR False =  True  |  prediction =  True  |  Correct\n",
            "False XOR  True =  True  |  prediction =  True  |  Correct\n",
            "False XOR  True =  True  |  prediction =  True  |  Correct\n",
            "False XOR False = False  |  prediction =  True  |  Incorrect\n",
            "False XOR False = False  |  prediction =  True  |  Incorrect\n",
            " True XOR  True = False  |  prediction =  True  |  Incorrect\n",
            " True XOR  True = False  |  prediction =  True  |  Incorrect\n",
            " True XOR False =  True  |  prediction =  True  |  Correct\n",
            "False XOR  True =  True  |  prediction =  True  |  Correct\n",
            " True XOR  True = False  |  prediction =  True  |  Incorrect\n",
            " True XOR  True = False  |  prediction =  True  |  Incorrect\n",
            "\n",
            "Accuracy = 48.0\n"
          ]
        }
      ]
    },
    {
      "cell_type": "markdown",
      "metadata": {
        "id": "w5NqTbxl24do"
      },
      "source": [
        "### Exercise\n",
        "\n",
        "Explain why we do not get 100% accuracy despite our high hope in neural networks. In particular, observe the predictions; they can be very strange! (*Hint:* There is something to do with the range of the input values of each linear layer.)"
      ]
    },
    {
      "cell_type": "markdown",
      "metadata": {
        "id": "a4BNZdBh24dp"
      },
      "source": [
        "-------"
      ]
    },
    {
      "cell_type": "markdown",
      "metadata": {
        "id": "OUqu4ZcZ24dp"
      },
      "source": [
        "## Model 2: Adding Activation Function"
      ]
    },
    {
      "cell_type": "markdown",
      "metadata": {
        "id": "J5sed1tB24dp"
      },
      "source": [
        "### Model Design"
      ]
    },
    {
      "cell_type": "markdown",
      "metadata": {
        "id": "R31OOZ4d24dp"
      },
      "source": [
        "Let's introduce an activation function, e.g. sigmoid, into the model. The sigmoid function `N.Sigmoid` will shrink the range of the second linear layer to $[0, 1]$."
      ]
    },
    {
      "cell_type": "code",
      "metadata": {
        "id": "Cf1HjvIV24dq",
        "colab": {
          "base_uri": "https://localhost:8080/"
        },
        "outputId": "21fe69ad-f459-439b-8694-de4f01e9f242"
      },
      "source": [
        "xor_model_2 = N.Sequential(\n",
        "    N.Linear(dim_input, dim_hidden),\n",
        "    N.Sigmoid(),\n",
        "    N.Linear(dim_hidden, dim_output)\n",
        ")\n",
        "\n",
        "print('Model 2:\\n{}'.format(xor_model_2))"
      ],
      "execution_count": null,
      "outputs": [
        {
          "output_type": "stream",
          "name": "stdout",
          "text": [
            "Model 2:\n",
            "Sequential(\n",
            "  (0): Linear(in_features=2, out_features=8, bias=True)\n",
            "  (1): Sigmoid()\n",
            "  (2): Linear(in_features=8, out_features=1, bias=True)\n",
            ")\n"
          ]
        }
      ]
    },
    {
      "cell_type": "markdown",
      "metadata": {
        "id": "-GNbf1fq24dr"
      },
      "source": [
        "### Training"
      ]
    },
    {
      "cell_type": "markdown",
      "metadata": {
        "id": "huQtLIbT24ds"
      },
      "source": [
        "Let's train Model 2 with the training set."
      ]
    },
    {
      "cell_type": "code",
      "metadata": {
        "id": "d3wnc7WM24ds",
        "colab": {
          "base_uri": "https://localhost:8080/",
          "height": 332,
          "referenced_widgets": [
            "3ac37230156d4b028e2d7e49c37c6089",
            "bc5575a041ef45ee9279fef3d4318677",
            "82cf2ced57cc453d88c8ee5a126f4a49",
            "6298731818914dc39c69ccfe0449fb3e",
            "c35c96e199f84618a76460b6e467995b",
            "3401d3babc664371a0283ae4a562c84b",
            "ac4da67e66694652a7d129b170711277",
            "4a556fe43909410aa7d0c7c9e56a51e2",
            "e60fd08d075a4b9bb0f66ea31d1105f4",
            "92e0f2738d91470abb3681d14f7f5c9b",
            "421420b5c9294cf1b1b45d5a97aab3ce"
          ]
        },
        "outputId": "c0bf2c8e-e1fa-4f4e-8b7e-f74f06d702ee"
      },
      "source": [
        "train_model(xor_model_2, training_set)"
      ],
      "execution_count": null,
      "outputs": [
        {
          "output_type": "display_data",
          "data": {
            "application/vnd.jupyter.widget-view+json": {
              "model_id": "3ac37230156d4b028e2d7e49c37c6089",
              "version_minor": 0,
              "version_major": 2
            },
            "text/plain": [
              "  0%|          | 0/40 [00:00<?, ?it/s]"
            ]
          },
          "metadata": {}
        },
        {
          "output_type": "display_data",
          "data": {
            "image/png": "[encoded data removed]",
            "text/plain": [
              "<Figure size 432x288 with 1 Axes>"
            ]
          },
          "metadata": {
            "needs_background": "light"
          }
        }
      ]
    },
    {
      "cell_type": "markdown",
      "metadata": {
        "id": "zCxcn4a524dv"
      },
      "source": [
        "**N.B.** Observe the training loss. Compare it to the training loss of Model 1. Which one is better?"
      ]
    },
    {
      "cell_type": "markdown",
      "metadata": {
        "id": "_G39mn1Q24dv"
      },
      "source": [
        "### Testing"
      ]
    },
    {
      "cell_type": "markdown",
      "metadata": {
        "id": "PgpKI3qJ24dv"
      },
      "source": [
        "Let's test Model 2 with the testing set."
      ]
    },
    {
      "cell_type": "code",
      "metadata": {
        "id": "5xgbPDnn24dv",
        "colab": {
          "base_uri": "https://localhost:8080/"
        },
        "outputId": "6eef20d7-ca05-41ce-fc17-5d3c0bcda281"
      },
      "source": [
        "test_model(xor_model_2, testing_set)"
      ],
      "execution_count": null,
      "outputs": [
        {
          "output_type": "stream",
          "name": "stdout",
          "text": [
            "False XOR False = False  |  prediction = False  |  Correct\n",
            " True XOR False =  True  |  prediction =  True  |  Correct\n",
            " True XOR  True = False  |  prediction = False  |  Correct\n",
            " True XOR  True = False  |  prediction = False  |  Correct\n",
            " True XOR  True = False  |  prediction = False  |  Correct\n",
            " True XOR False =  True  |  prediction =  True  |  Correct\n",
            " True XOR False =  True  |  prediction =  True  |  Correct\n",
            "False XOR  True =  True  |  prediction =  True  |  Correct\n",
            "False XOR False = False  |  prediction = False  |  Correct\n",
            "False XOR False = False  |  prediction = False  |  Correct\n",
            " True XOR False =  True  |  prediction =  True  |  Correct\n",
            " True XOR False =  True  |  prediction =  True  |  Correct\n",
            " True XOR  True = False  |  prediction = False  |  Correct\n",
            "False XOR False = False  |  prediction = False  |  Correct\n",
            " True XOR  True = False  |  prediction = False  |  Correct\n",
            " True XOR False =  True  |  prediction =  True  |  Correct\n",
            "False XOR False = False  |  prediction = False  |  Correct\n",
            "False XOR False = False  |  prediction = False  |  Correct\n",
            "False XOR  True =  True  |  prediction =  True  |  Correct\n",
            " True XOR  True = False  |  prediction = False  |  Correct\n",
            " True XOR  True = False  |  prediction = False  |  Correct\n",
            "False XOR False = False  |  prediction = False  |  Correct\n",
            " True XOR False =  True  |  prediction =  True  |  Correct\n",
            "False XOR  True =  True  |  prediction =  True  |  Correct\n",
            "False XOR False = False  |  prediction = False  |  Correct\n",
            " True XOR  True = False  |  prediction = False  |  Correct\n",
            " True XOR  True = False  |  prediction = False  |  Correct\n",
            " True XOR  True = False  |  prediction = False  |  Correct\n",
            " True XOR  True = False  |  prediction = False  |  Correct\n",
            "False XOR  True =  True  |  prediction =  True  |  Correct\n",
            "False XOR False = False  |  prediction = False  |  Correct\n",
            "False XOR False = False  |  prediction = False  |  Correct\n",
            " True XOR False =  True  |  prediction =  True  |  Correct\n",
            "False XOR  True =  True  |  prediction =  True  |  Correct\n",
            " True XOR False =  True  |  prediction =  True  |  Correct\n",
            " True XOR  True = False  |  prediction = False  |  Correct\n",
            " True XOR  True = False  |  prediction = False  |  Correct\n",
            " True XOR  True = False  |  prediction = False  |  Correct\n",
            " True XOR False =  True  |  prediction =  True  |  Correct\n",
            "False XOR  True =  True  |  prediction =  True  |  Correct\n",
            " True XOR False =  True  |  prediction =  True  |  Correct\n",
            " True XOR False =  True  |  prediction =  True  |  Correct\n",
            " True XOR False =  True  |  prediction =  True  |  Correct\n",
            "False XOR  True =  True  |  prediction =  True  |  Correct\n",
            " True XOR False =  True  |  prediction =  True  |  Correct\n",
            "False XOR False = False  |  prediction = False  |  Correct\n",
            " True XOR False =  True  |  prediction =  True  |  Correct\n",
            " True XOR  True = False  |  prediction = False  |  Correct\n",
            "False XOR False = False  |  prediction = False  |  Correct\n",
            " True XOR False =  True  |  prediction =  True  |  Correct\n",
            "False XOR  True =  True  |  prediction =  True  |  Correct\n",
            " True XOR False =  True  |  prediction =  True  |  Correct\n",
            "False XOR False = False  |  prediction = False  |  Correct\n",
            " True XOR  True = False  |  prediction = False  |  Correct\n",
            " True XOR False =  True  |  prediction =  True  |  Correct\n",
            " True XOR  True = False  |  prediction = False  |  Correct\n",
            "False XOR False = False  |  prediction = False  |  Correct\n",
            " True XOR False =  True  |  prediction =  True  |  Correct\n",
            " True XOR False =  True  |  prediction =  True  |  Correct\n",
            " True XOR  True = False  |  prediction = False  |  Correct\n",
            "False XOR False = False  |  prediction = False  |  Correct\n",
            "False XOR  True =  True  |  prediction =  True  |  Correct\n",
            " True XOR False =  True  |  prediction =  True  |  Correct\n",
            " True XOR False =  True  |  prediction =  True  |  Correct\n",
            " True XOR  True = False  |  prediction = False  |  Correct\n",
            "False XOR  True =  True  |  prediction =  True  |  Correct\n",
            " True XOR False =  True  |  prediction =  True  |  Correct\n",
            "False XOR False = False  |  prediction = False  |  Correct\n",
            " True XOR  True = False  |  prediction = False  |  Correct\n",
            "False XOR False = False  |  prediction = False  |  Correct\n",
            " True XOR  True = False  |  prediction = False  |  Correct\n",
            " True XOR  True = False  |  prediction = False  |  Correct\n",
            "False XOR  True =  True  |  prediction =  True  |  Correct\n",
            " True XOR  True = False  |  prediction = False  |  Correct\n",
            " True XOR  True = False  |  prediction = False  |  Correct\n",
            "False XOR  True =  True  |  prediction =  True  |  Correct\n",
            "False XOR  True =  True  |  prediction =  True  |  Correct\n",
            " True XOR False =  True  |  prediction =  True  |  Correct\n",
            "False XOR False = False  |  prediction = False  |  Correct\n",
            "False XOR  True =  True  |  prediction =  True  |  Correct\n",
            " True XOR  True = False  |  prediction = False  |  Correct\n",
            "False XOR  True =  True  |  prediction =  True  |  Correct\n",
            " True XOR False =  True  |  prediction =  True  |  Correct\n",
            "False XOR False = False  |  prediction = False  |  Correct\n",
            "False XOR  True =  True  |  prediction =  True  |  Correct\n",
            " True XOR  True = False  |  prediction = False  |  Correct\n",
            " True XOR False =  True  |  prediction =  True  |  Correct\n",
            " True XOR  True = False  |  prediction = False  |  Correct\n",
            " True XOR False =  True  |  prediction =  True  |  Correct\n",
            " True XOR False =  True  |  prediction =  True  |  Correct\n",
            "False XOR  True =  True  |  prediction =  True  |  Correct\n",
            "False XOR  True =  True  |  prediction =  True  |  Correct\n",
            "False XOR False = False  |  prediction = False  |  Correct\n",
            "False XOR False = False  |  prediction = False  |  Correct\n",
            " True XOR  True = False  |  prediction = False  |  Correct\n",
            " True XOR  True = False  |  prediction = False  |  Correct\n",
            " True XOR False =  True  |  prediction =  True  |  Correct\n",
            "False XOR  True =  True  |  prediction =  True  |  Correct\n",
            " True XOR  True = False  |  prediction = False  |  Correct\n",
            " True XOR  True = False  |  prediction = False  |  Correct\n",
            "\n",
            "Accuracy = 100.0\n"
          ]
        }
      ]
    },
    {
      "cell_type": "markdown",
      "metadata": {
        "id": "Hv30baoa24dx"
      },
      "source": [
        "### Exercises\n",
        "\n",
        "1. Explain why we can now achieve 100% accuracy. (*Hint:* Is there something to do with the range of the input values of linear layers?)\n",
        "2. Replace the sigmoid function `N.Sigmoid` in Model 2 with another one, such as the hyperbolic tangent `N.Tanh` (whose range is $[-1, 1]$) and the rectified unit function `N.ReLU` (whose range is $[0, \\infty]$). Observe the difference of achieved accuracies."
      ]
    },
    {
      "cell_type": "markdown",
      "metadata": {
        "id": "CMAKyINO24dx"
      },
      "source": [
        "--------"
      ]
    },
    {
      "cell_type": "markdown",
      "metadata": {
        "id": "q0_BmJ4C24dx"
      },
      "source": [
        "## Model 3: Modularizing a Model"
      ]
    },
    {
      "cell_type": "markdown",
      "metadata": {
        "id": "adm90ZB024dx"
      },
      "source": [
        "In the previous models, we created a MLP by assembling linear layers and activation functions, and we had to do this every time when creating a new one. If we plan to create many models with the same neural architecture, we can instead modularize it as a class and instantiate a lot of them from that class."
      ]
    },
    {
      "cell_type": "markdown",
      "metadata": {
        "id": "d2JKUFiO24dy"
      },
      "source": [
        "### Model Design"
      ]
    },
    {
      "cell_type": "markdown",
      "metadata": {
        "id": "ZEPoc6Mh24dy"
      },
      "source": [
        "We modularize a neural architecture by simply inheriting the class `N.Module`. There are two parts we have to work on.\n",
        "\n",
        "The first part is the constructor method `__init__`. Here we take arguments and define necessary components according to them. In this example, it takes three arguments: `dim_input`, `dim_hidden`, and `dim_output`, respectively. Then we create two linear layers (`_input_to_hidden` and `_hidden_to_output`) and one sigmoid function (`_sigmoid`).\n",
        "\n",
        "The second part is the method `forward`. In this example, it takes an input vector `x` and computes a prediction out of it. As we can see, we compute the prediction step-by-step as `out1`, `out2`, and `out3`. In the case of debugging, we can simply print out each step to investigate the errors. This capability makes your life as a developer a lot easier."
      ]
    },
    {
      "cell_type": "code",
      "metadata": {
        "id": "xsoNmCeU24dy"
      },
      "source": [
        "class XorModel(N.Module):\n",
        "\n",
        "    def __init__(self, dim_input, dim_hidden, dim_output):\n",
        "        super(XorModel, self).__init__()\n",
        "        self._dim_input = dim_input\n",
        "        self._dim_hidden = dim_hidden\n",
        "        self._dim_output = dim_output\n",
        "\n",
        "        self._input_to_hidden = N.Linear(self._dim_input, self._dim_hidden)\n",
        "        self._sigmoid = N.Sigmoid()\n",
        "        self._hidden_to_output = N.Linear(self._dim_hidden, self._dim_output)\n",
        "\n",
        "    def forward(self, x):\n",
        "        out1 = self._input_to_hidden(x)\n",
        "        # print('out1 = {}'.format(out1))         # For debugging\n",
        "        out2 = self._sigmoid(out1)\n",
        "        # print('out2 = {}'.format(out2))         # For debugging\n",
        "        out3 = self._hidden_to_output(out2)\n",
        "        # print('out3 = {}'.format(out3))         # For debugging\n",
        "        return out3"
      ],
      "execution_count": null,
      "outputs": []
    },
    {
      "cell_type": "markdown",
      "metadata": {
        "id": "RSfReSfm24dz"
      },
      "source": [
        "Once we define a model class, we can instantiate a model out of it. For example:"
      ]
    },
    {
      "cell_type": "code",
      "metadata": {
        "id": "rpOHK2BM24d0",
        "colab": {
          "base_uri": "https://localhost:8080/"
        },
        "outputId": "2ae4835a-5d2d-490e-eb28-6fbbb7b316d7"
      },
      "source": [
        "xor_model_3 = XorModel(dim_input, dim_hidden, dim_output)\n",
        "print('Model 3:\\n{}'.format(xor_model_3))"
      ],
      "execution_count": null,
      "outputs": [
        {
          "output_type": "stream",
          "name": "stdout",
          "text": [
            "Model 3:\n",
            "XorModel(\n",
            "  (_input_to_hidden): Linear(in_features=2, out_features=8, bias=True)\n",
            "  (_sigmoid): Sigmoid()\n",
            "  (_hidden_to_output): Linear(in_features=8, out_features=1, bias=True)\n",
            ")\n"
          ]
        }
      ]
    },
    {
      "cell_type": "markdown",
      "metadata": {
        "id": "_VcWgS8m24d2"
      },
      "source": [
        "### Training"
      ]
    },
    {
      "cell_type": "markdown",
      "metadata": {
        "id": "OjGlejDE24d3"
      },
      "source": [
        "Training is pretty much the same."
      ]
    },
    {
      "cell_type": "code",
      "metadata": {
        "id": "Mspf49mD24d3",
        "colab": {
          "base_uri": "https://localhost:8080/",
          "height": 332,
          "referenced_widgets": [
            "2cc3642784d4410f9888d1c1feaf7f80",
            "93c2e3ca4fb4424f899c586d54bdc9ac",
            "75775e21c8f74029a3d3d448fa04fe28",
            "8d02ac1bfc754520ac6c7f8330e19f1b",
            "9d8e5320a2ba422083f522bade5776a0",
            "5fb1169c5a57426a811205885a1ae33a",
            "6ca932bc040c478aae9b928ce66ad4b6",
            "9cafa1e1093c4db9b0b059664f85e9ed",
            "3e60098c25b24660a5601a4a86bea27f",
            "474a2505c2bb47d8a02c7f65511b6c80",
            "ee227b5a736644aa94cb368992efb086"
          ]
        },
        "outputId": "9832bdd8-53fa-48d2-de33-f91033bf7dd7"
      },
      "source": [
        "train_model(xor_model_3, training_set)"
      ],
      "execution_count": null,
      "outputs": [
        {
          "output_type": "display_data",
          "data": {
            "application/vnd.jupyter.widget-view+json": {
              "model_id": "2cc3642784d4410f9888d1c1feaf7f80",
              "version_minor": 0,
              "version_major": 2
            },
            "text/plain": [
              "  0%|          | 0/40 [00:00<?, ?it/s]"
            ]
          },
          "metadata": {}
        },
        {
          "output_type": "display_data",
          "data": {
            "image/png": "[encoded data removed]",
            "text/plain": [
              "<Figure size 432x288 with 1 Axes>"
            ]
          },
          "metadata": {
            "needs_background": "light"
          }
        }
      ]
    },
    {
      "cell_type": "markdown",
      "metadata": {
        "id": "VUxcr8bG24d6"
      },
      "source": [
        "### Testing"
      ]
    },
    {
      "cell_type": "markdown",
      "metadata": {
        "id": "dGhNbak524d6"
      },
      "source": [
        "Testing is also the same."
      ]
    },
    {
      "cell_type": "code",
      "metadata": {
        "id": "p6OMCCmC24d6",
        "colab": {
          "base_uri": "https://localhost:8080/"
        },
        "outputId": "2609b1c4-7751-4599-fb5c-149074c81401"
      },
      "source": [
        "test_model(xor_model_3, testing_set)"
      ],
      "execution_count": null,
      "outputs": [
        {
          "output_type": "stream",
          "name": "stdout",
          "text": [
            "False XOR False = False  |  prediction = False  |  Correct\n",
            " True XOR False =  True  |  prediction =  True  |  Correct\n",
            " True XOR  True = False  |  prediction = False  |  Correct\n",
            " True XOR  True = False  |  prediction = False  |  Correct\n",
            " True XOR  True = False  |  prediction = False  |  Correct\n",
            " True XOR False =  True  |  prediction =  True  |  Correct\n",
            " True XOR False =  True  |  prediction =  True  |  Correct\n",
            "False XOR  True =  True  |  prediction =  True  |  Correct\n",
            "False XOR False = False  |  prediction = False  |  Correct\n",
            "False XOR False = False  |  prediction = False  |  Correct\n",
            " True XOR False =  True  |  prediction =  True  |  Correct\n",
            " True XOR False =  True  |  prediction =  True  |  Correct\n",
            " True XOR  True = False  |  prediction = False  |  Correct\n",
            "False XOR False = False  |  prediction = False  |  Correct\n",
            " True XOR  True = False  |  prediction = False  |  Correct\n",
            " True XOR False =  True  |  prediction =  True  |  Correct\n",
            "False XOR False = False  |  prediction = False  |  Correct\n",
            "False XOR False = False  |  prediction = False  |  Correct\n",
            "False XOR  True =  True  |  prediction =  True  |  Correct\n",
            " True XOR  True = False  |  prediction = False  |  Correct\n",
            " True XOR  True = False  |  prediction = False  |  Correct\n",
            "False XOR False = False  |  prediction = False  |  Correct\n",
            " True XOR False =  True  |  prediction =  True  |  Correct\n",
            "False XOR  True =  True  |  prediction =  True  |  Correct\n",
            "False XOR False = False  |  prediction = False  |  Correct\n",
            " True XOR  True = False  |  prediction = False  |  Correct\n",
            " True XOR  True = False  |  prediction = False  |  Correct\n",
            " True XOR  True = False  |  prediction = False  |  Correct\n",
            " True XOR  True = False  |  prediction = False  |  Correct\n",
            "False XOR  True =  True  |  prediction =  True  |  Correct\n",
            "False XOR False = False  |  prediction = False  |  Correct\n",
            "False XOR False = False  |  prediction = False  |  Correct\n",
            " True XOR False =  True  |  prediction =  True  |  Correct\n",
            "False XOR  True =  True  |  prediction =  True  |  Correct\n",
            " True XOR False =  True  |  prediction =  True  |  Correct\n",
            " True XOR  True = False  |  prediction = False  |  Correct\n",
            " True XOR  True = False  |  prediction = False  |  Correct\n",
            " True XOR  True = False  |  prediction = False  |  Correct\n",
            " True XOR False =  True  |  prediction =  True  |  Correct\n",
            "False XOR  True =  True  |  prediction =  True  |  Correct\n",
            " True XOR False =  True  |  prediction =  True  |  Correct\n",
            " True XOR False =  True  |  prediction =  True  |  Correct\n",
            " True XOR False =  True  |  prediction =  True  |  Correct\n",
            "False XOR  True =  True  |  prediction =  True  |  Correct\n",
            " True XOR False =  True  |  prediction =  True  |  Correct\n",
            "False XOR False = False  |  prediction = False  |  Correct\n",
            " True XOR False =  True  |  prediction =  True  |  Correct\n",
            " True XOR  True = False  |  prediction = False  |  Correct\n",
            "False XOR False = False  |  prediction = False  |  Correct\n",
            " True XOR False =  True  |  prediction =  True  |  Correct\n",
            "False XOR  True =  True  |  prediction =  True  |  Correct\n",
            " True XOR False =  True  |  prediction =  True  |  Correct\n",
            "False XOR False = False  |  prediction = False  |  Correct\n",
            " True XOR  True = False  |  prediction = False  |  Correct\n",
            " True XOR False =  True  |  prediction =  True  |  Correct\n",
            " True XOR  True = False  |  prediction = False  |  Correct\n",
            "False XOR False = False  |  prediction = False  |  Correct\n",
            " True XOR False =  True  |  prediction =  True  |  Correct\n",
            " True XOR False =  True  |  prediction =  True  |  Correct\n",
            " True XOR  True = False  |  prediction = False  |  Correct\n",
            "False XOR False = False  |  prediction = False  |  Correct\n",
            "False XOR  True =  True  |  prediction =  True  |  Correct\n",
            " True XOR False =  True  |  prediction =  True  |  Correct\n",
            " True XOR False =  True  |  prediction =  True  |  Correct\n",
            " True XOR  True = False  |  prediction = False  |  Correct\n",
            "False XOR  True =  True  |  prediction =  True  |  Correct\n",
            " True XOR False =  True  |  prediction =  True  |  Correct\n",
            "False XOR False = False  |  prediction = False  |  Correct\n",
            " True XOR  True = False  |  prediction = False  |  Correct\n",
            "False XOR False = False  |  prediction = False  |  Correct\n",
            " True XOR  True = False  |  prediction = False  |  Correct\n",
            " True XOR  True = False  |  prediction = False  |  Correct\n",
            "False XOR  True =  True  |  prediction =  True  |  Correct\n",
            " True XOR  True = False  |  prediction = False  |  Correct\n",
            " True XOR  True = False  |  prediction = False  |  Correct\n",
            "False XOR  True =  True  |  prediction =  True  |  Correct\n",
            "False XOR  True =  True  |  prediction =  True  |  Correct\n",
            " True XOR False =  True  |  prediction =  True  |  Correct\n",
            "False XOR False = False  |  prediction = False  |  Correct\n",
            "False XOR  True =  True  |  prediction =  True  |  Correct\n",
            " True XOR  True = False  |  prediction = False  |  Correct\n",
            "False XOR  True =  True  |  prediction =  True  |  Correct\n",
            " True XOR False =  True  |  prediction =  True  |  Correct\n",
            "False XOR False = False  |  prediction = False  |  Correct\n",
            "False XOR  True =  True  |  prediction =  True  |  Correct\n",
            " True XOR  True = False  |  prediction = False  |  Correct\n",
            " True XOR False =  True  |  prediction =  True  |  Correct\n",
            " True XOR  True = False  |  prediction = False  |  Correct\n",
            " True XOR False =  True  |  prediction =  True  |  Correct\n",
            " True XOR False =  True  |  prediction =  True  |  Correct\n",
            "False XOR  True =  True  |  prediction =  True  |  Correct\n",
            "False XOR  True =  True  |  prediction =  True  |  Correct\n",
            "False XOR False = False  |  prediction = False  |  Correct\n",
            "False XOR False = False  |  prediction = False  |  Correct\n",
            " True XOR  True = False  |  prediction = False  |  Correct\n",
            " True XOR  True = False  |  prediction = False  |  Correct\n",
            " True XOR False =  True  |  prediction =  True  |  Correct\n",
            "False XOR  True =  True  |  prediction =  True  |  Correct\n",
            " True XOR  True = False  |  prediction = False  |  Correct\n",
            " True XOR  True = False  |  prediction = False  |  Correct\n",
            "\n",
            "Accuracy = 100.0\n"
          ]
        }
      ]
    },
    {
      "cell_type": "markdown",
      "metadata": {
        "id": "t810tY0K24d8"
      },
      "source": [
        "-------"
      ]
    },
    {
      "cell_type": "markdown",
      "metadata": {
        "id": "D99ibRQL24d9"
      },
      "source": [
        "## Exercises"
      ]
    },
    {
      "cell_type": "markdown",
      "metadata": {
        "id": "zvIgKXeW24d9"
      },
      "source": [
        "### Exercise 1: Redesigning the Neural Architecture"
      ]
    },
    {
      "cell_type": "markdown",
      "metadata": {
        "id": "inBeYa3324d9"
      },
      "source": [
        "Let's tweak Model 1 to boost its accuracy and convergence speed. Add linear layers and/or activation functions as much as you like and observe the training loss and accuracy achieved."
      ]
    },
    {
      "cell_type": "code",
      "metadata": {
        "id": "Q3GkZO-424d-",
        "colab": {
          "base_uri": "https://localhost:8080/"
        },
        "outputId": "9471926c-af08-43a4-f7da-2dea64db0640"
      },
      "source": [
        "# Add some more layers and/or activation functions to improve the speed of convergence\n",
        "xor_model_ex1 = N.Sequential(\n",
        "    N.Linear(dim_input, dim_hidden),\n",
        "    N.Linear(dim_hidden, dim_output)\n",
        ")\n",
        "\n",
        "print('Model Ex1:\\n{}'.format(xor_model_ex1))"
      ],
      "execution_count": null,
      "outputs": [
        {
          "output_type": "stream",
          "text": [
            "Model Ex1:\n",
            "Sequential(\n",
            "  (0): Linear(in_features=2, out_features=8, bias=True)\n",
            "  (1): Linear(in_features=8, out_features=8, bias=True)\n",
            "  (2): Linear(in_features=8, out_features=1, bias=True)\n",
            ")\n"
          ],
          "name": "stdout"
        }
      ]
    },
    {
      "cell_type": "markdown",
      "metadata": {
        "id": "YjfjRJpe24eB"
      },
      "source": [
        "Now observe the training loss. Is the convergence getting faster?"
      ]
    },
    {
      "cell_type": "code",
      "metadata": {
        "id": "eNto9nLR24eB",
        "colab": {
          "base_uri": "https://localhost:8080/",
          "height": 349,
          "referenced_widgets": [
            "4533b8a6115149eb87fe2bd6881d6954",
            "a7a499c3f62b4bbfaad875d680b2199c",
            "ffc1b3e7bba24256ab115904caf59f50",
            "b508543ce92e4c4a98d255c33dc9736a",
            "87c89cdcb32a4a2c900f60a55c1e237c",
            "f62f13dd4af34c8587d4ab8b60894b04",
            "aa5a8d7885bc49d0a00b60c7f95e850e",
            "c660bdd305ab45fdbfddb23de6869613"
          ]
        },
        "outputId": "ba035816-be66-465e-e024-df1f1ec89009"
      },
      "source": [
        "train_model(xor_model_ex1, training_set)"
      ],
      "execution_count": null,
      "outputs": [
        {
          "output_type": "display_data",
          "data": {
            "application/vnd.jupyter.widget-view+json": {
              "model_id": "4533b8a6115149eb87fe2bd6881d6954",
              "version_minor": 0,
              "version_major": 2
            },
            "text/plain": [
              "HBox(children=(FloatProgress(value=0.0, max=40.0), HTML(value='')))"
            ]
          },
          "metadata": {
            "tags": []
          }
        },
        {
          "output_type": "stream",
          "text": [
            "\n"
          ],
          "name": "stdout"
        },
        {
          "output_type": "display_data",
          "data": {
            "image/png": "[encoded data removed]",
            "text/plain": [
              "<Figure size 432x288 with 1 Axes>"
            ]
          },
          "metadata": {
            "tags": [],
            "needs_background": "light"
          }
        }
      ]
    },
    {
      "cell_type": "markdown",
      "metadata": {
        "id": "VF9-WqeL24eD"
      },
      "source": [
        "### Parameterized Training Procedure for Hacking"
      ]
    },
    {
      "cell_type": "markdown",
      "metadata": {
        "id": "1hGrBKtu24eE"
      },
      "source": [
        "I slightly modified the training procedure to allow experiments on different loss functions and parameter optimizers."
      ]
    },
    {
      "cell_type": "code",
      "metadata": {
        "id": "y5PsEgOU24eF"
      },
      "source": [
        "def train_model_for_hacking(xor_model, training_data, loss_fn, optimizer):\n",
        "    no_samples = len(training_data)\n",
        "    loss_history = []\n",
        "    \n",
        "    for i in tqdm(range(epochs), leave=False):\n",
        "        total_loss = 0.0\n",
        "        random.shuffle(training_data)\n",
        "        \n",
        "        for (input_features, output_class) in training_data:\n",
        "            ((a, b), q) = (input_features, output_class)\n",
        "            \n",
        "            x = T.zeros(dim_input)     # Input vector\n",
        "            y = T.zeros(dim_output)    # Output vector\n",
        "            if a: x[0] = 1.0\n",
        "            if b: x[1] = 1.0\n",
        "            if q: y[0] = 1.0\n",
        "                \n",
        "            prediction = xor_model(x)  # Perform prediction\n",
        "            \n",
        "            loss = loss_fn(prediction, y)\n",
        "            total_loss += loss.item()\n",
        "            \n",
        "            optimizer.zero_grad()      # Clear gradient cache\n",
        "            loss.backward()            # Perform backpropagation\n",
        "            optimizer.step()           # Update the model parameters\n",
        "        \n",
        "        loss_history.append(total_loss / no_samples)\n",
        "        \n",
        "    # Plot the loss history with Matplotlib\n",
        "    epoch_count = range(1, epochs + 1)\n",
        "    plt.plot(epoch_count, loss_history, 'b--')\n",
        "    plt.legend(['Training Loss'])\n",
        "    plt.xlabel('Epoch')\n",
        "    plt.ylabel('Loss')\n",
        "    plt.show()"
      ],
      "execution_count": null,
      "outputs": []
    },
    {
      "cell_type": "markdown",
      "metadata": {
        "id": "CMuro9kV24eH"
      },
      "source": [
        "### Exercise 2: Varying the Optimizers"
      ]
    },
    {
      "cell_type": "markdown",
      "metadata": {
        "id": "MCSKwWSK24eH"
      },
      "source": [
        "Now let's vary the parameter optimizers. Observe the training loss obtained from each optimizer. Which one converges faster?"
      ]
    },
    {
      "cell_type": "code",
      "metadata": {
        "id": "pxXB4xi324eI",
        "colab": {
          "base_uri": "https://localhost:8080/",
          "height": 876,
          "referenced_widgets": [
            "71f06cbde563417dad1fcf4b749b034a",
            "925224a306b34148a38fba74d538ce8a",
            "64c6c95c96f44a3e9c71078560ba6e8d",
            "3b6ee9f6bceb413d91dab08d201eb498",
            "af1e1b90fae1474bb7f0a22f1ba74787",
            "b31324f0f50046d0978a6c77ad6c591f",
            "181b380db0c24c60b336838b971cae6f",
            "54bc0212cbef4f03a6a214fb404f60f3",
            "88241124ed1c4695973fc72bfdedfc5a",
            "5fd164664a864741bea01c7908fec3f0",
            "c6b088cd13a64c86a9077467bee47710",
            "b5fe66b5a1ee416a9c220ab70cb131d2",
            "490066b89b0a4aaa87b5f3c19cf9fd30",
            "33b59881bdf643f2beb3d0acb2790016",
            "cd02f668c4a34b40a13153f2fba6fd3a",
            "bce2da2b04824bd8b8015277502b57f5",
            "bb4447b8d87344aebf7174d4ae2b90cc",
            "cf48449d948145788bcdc7a0b4780c26",
            "d229188792294f258f89daaeb0b41fc4",
            "1977d0d65f3a4752a072296ab173df90",
            "877dd7fee87b4fa0966fd067f76e5b25",
            "5b6c3b715df543cab8d6e3c2d9ed8a11",
            "6bea10e3115245f59adf37cb4d1da971",
            "ca5220134c2940c18be9fa52289f5a50",
            "16ade09aaf8f48b8bcfdb66b5cef3a6f",
            "d40c648cbeb5411fa22df7d537051960",
            "8933c889032b4d2b980cfed05583ad6d",
            "5baaf111561d4faa9a1fe46c5ab8cac2",
            "55ddece00d28443fad89857048d5d9fd",
            "f126f1eddff6472aa61b9034abb7336b",
            "13d5784fbff444a499e1f3626cc1d9f7",
            "066ec36c3c0741fa9170ea2c663aec70",
            "234926a150ed404c91a199c215a86844"
          ]
        },
        "outputId": "96e481d0-0e15-44b0-edca-c4104f9a1376"
      },
      "source": [
        "learning_rate_ex2 = 0.01\n",
        "\n",
        "print('Stochastic Gradient Descent')\n",
        "xor_model_sgd = XorModel(dim_input, dim_hidden, dim_output)\n",
        "sgd = O.SGD(xor_model_sgd.parameters(), lr=learning_rate_ex2)\n",
        "train_model_for_hacking(xor_model_sgd, training_set, N.MSELoss(), sgd)\n",
        "\n",
        "print('Adamax')\n",
        "xor_model_adamax = XorModel(dim_input, dim_hidden, dim_output)\n",
        "adamax = O.Adamax(xor_model_adamax.parameters(), lr=learning_rate_ex2)\n",
        "train_model_for_hacking(xor_model_adamax, training_set, N.MSELoss(), adamax)\n",
        "\n",
        "print('ADAM')\n",
        "xor_model_adam = XorModel(dim_input, dim_hidden, dim_output)\n",
        "adam = O.Adam(xor_model_adam.parameters(), lr=learning_rate_ex2)\n",
        "train_model_for_hacking(xor_model_adam, training_set, N.MSELoss(), adam)"
      ],
      "execution_count": null,
      "outputs": [
        {
          "output_type": "stream",
          "name": "stdout",
          "text": [
            "Stochastic Gradient Descent\n"
          ]
        },
        {
          "output_type": "display_data",
          "data": {
            "application/vnd.jupyter.widget-view+json": {
              "model_id": "71f06cbde563417dad1fcf4b749b034a",
              "version_minor": 0,
              "version_major": 2
            },
            "text/plain": [
              "  0%|          | 0/40 [00:00<?, ?it/s]"
            ]
          },
          "metadata": {}
        },
        {
          "output_type": "display_data",
          "data": {
            "image/png": "[encoded data removed]",
            "text/plain": [
              "<Figure size 432x288 with 1 Axes>"
            ]
          },
          "metadata": {
            "needs_background": "light"
          }
        },
        {
          "output_type": "stream",
          "name": "stdout",
          "text": [
            "Adamax\n"
          ]
        },
        {
          "output_type": "display_data",
          "data": {
            "application/vnd.jupyter.widget-view+json": {
              "model_id": "b5fe66b5a1ee416a9c220ab70cb131d2",
              "version_minor": 0,
              "version_major": 2
            },
            "text/plain": [
              "  0%|          | 0/40 [00:00<?, ?it/s]"
            ]
          },
          "metadata": {}
        },
        {
          "output_type": "display_data",
          "data": {
            "image/png": "[encoded data removed]",
            "text/plain": [
              "<Figure size 432x288 with 1 Axes>"
            ]
          },
          "metadata": {
            "needs_background": "light"
          }
        },
        {
          "output_type": "stream",
          "name": "stdout",
          "text": [
            "ADAM\n"
          ]
        },
        {
          "output_type": "display_data",
          "data": {
            "application/vnd.jupyter.widget-view+json": {
              "model_id": "6bea10e3115245f59adf37cb4d1da971",
              "version_minor": 0,
              "version_major": 2
            },
            "text/plain": [
              "  0%|          | 0/40 [00:00<?, ?it/s]"
            ]
          },
          "metadata": {}
        },
        {
          "output_type": "display_data",
          "data": {
            "image/png": "[encoded data removed]",
            "text/plain": [
              "<Figure size 432x288 with 1 Axes>"
            ]
          },
          "metadata": {
            "needs_background": "light"
          }
        }
      ]
    },
    {
      "cell_type": "markdown",
      "metadata": {
        "id": "NS2Kv0yJ24eM"
      },
      "source": [
        "### Exercise 3: Varying the Learning Rates"
      ]
    },
    {
      "cell_type": "markdown",
      "metadata": {
        "id": "OE3I7Xuf24eM"
      },
      "source": [
        "Now let's vary the learning rates. Observe the training loss obtained from each learning rate.\n",
        "\n",
        "1. For some learning rates, the training loss fluctuates substantially. Explain why.\n",
        "2. For some learning rates, the training loss converges too slowly. Explain why.\n",
        "3. Which learning rate is the best in terms of the training loss?"
      ]
    },
    {
      "cell_type": "code",
      "metadata": {
        "id": "bA0_MPUi24eN",
        "colab": {
          "base_uri": "https://localhost:8080/",
          "height": 1000,
          "referenced_widgets": [
            "12ebd8a9c79e4a2e897001d017c03b7b",
            "27e2a71f3cbc4124a40ba91a7a4bb724",
            "006cad9133ce446f94c1cf1e30391ce2",
            "66bf2210a68149f98ce544369d800c08",
            "2be0650b91ad43359eb6ef9ea6abca77",
            "6d14408a4659465b8085eb86e3aeb9b8",
            "8b0aaa7a896c4455bb3e099a517f5782",
            "47ad3dae6ff9498889b469fb57a8f7d3",
            "c8bcc74e3f1242a68ec0451c4a7cbcfb",
            "473289ccb22c4225ad086404be4750f5",
            "605d11d2774d4a7d961fc9db6db3ad72",
            "2929a972726d46d792f73e8c4dad0722",
            "616de1ea3e4f4368a5d891aea9aedc55",
            "7fc33aa758e84909bf8306d432a4434d",
            "096d70a8115b43b18b147c565fda0420",
            "c15a6ada329f4cdcb9866589daf53eb0",
            "38a609d30cf44b9882f527ccbec8a65e",
            "97425c9610ce400b93bd78655bf6b0fa",
            "2a23609ec50240059dec5862363b9e00",
            "d7b31081abaf4c7b8e2fcf1bd94c53ea",
            "7444eb5245a0465abbb0a86f71e239e3",
            "a51070cdb76145e08e2cdf7437fa117d",
            "03663b6f900a4106979dab162cce2d69",
            "4a2ade1fa0cc43bfbf974c9bb121ccf1",
            "e742ecbdd390487b9309f8921ddb0696",
            "c2ddbf03097d434f9ff0bf7a86f8bec5",
            "915369219b274a8fa7d01bfec201e6b8",
            "541563e60b43453e83ac4759111dc2b9",
            "6d587b15774541a294815cdcaa510cbe",
            "f6ef6b62d93245788daf1b973bdcec1a",
            "e396be25d4ab4f2ca0c331bd67a0685f",
            "35d900b15f5e4335a6eed81955275cb2",
            "e5dfb9887b054726bfc3dbcc07d6ea73",
            "971ec4cc74b64e7794829a53e0815db2",
            "4a0219880ee94956b26911c5f3b10662",
            "d41f92f156934dd2838aecec105e252b",
            "4b45fa42034b4cffa346746c0ebf2502",
            "d4c68145cfce4ec494e47b44ad561522",
            "534fab7cde1b49e4aa71e25a90fdd175",
            "cffbfe5a00bd4c9b9d300707a41def85",
            "b6ebfd6e915d4b5aa891cd2e2c43623a",
            "83d1fb2b0248441599515d50199b5fe8",
            "733cef4b74704bacaf3b9f1211935415",
            "03600f54d4964938900d3b589db4bf2e",
            "ffa161e0adc74024869ccd5858450c4f",
            "72855f47466240e2b194410517aa130d",
            "0b0849f0839242d394e2c8fcdf166d6f",
            "b4839f3048674dd09b2a42c89f326fd0",
            "429941e2da0441469c8d07fc8a199e66",
            "295e62283c434955b786906341d5fbd3",
            "25694b6e91ab4b3185f6fbca74e5f268",
            "8153980dd3be44928661284600118179",
            "29c8235036214820ae0a11ba1986c739",
            "7e7cedd47efc476eaa6b485b12375f78",
            "2860350dbc1a4d1c9126eb2eb1dd8f42"
          ]
        },
        "outputId": "ae0bb3fb-03f0-43c1-9c5c-ca9e952ec909"
      },
      "source": [
        "for learning_rate_ex3 in [1.0, 0.1, 0.01, 0.001, 0.0001]:\n",
        "    print('Learning rate = {}'.format(learning_rate_ex3))\n",
        "    xor_model = XorModel(dim_input, dim_hidden, dim_output)\n",
        "    optimizer = O.Adam(xor_model.parameters(), lr=learning_rate_ex3)\n",
        "    train_model_for_hacking(xor_model, training_set, N.MSELoss(), optimizer)"
      ],
      "execution_count": null,
      "outputs": [
        {
          "output_type": "stream",
          "name": "stdout",
          "text": [
            "Learning rate = 1.0\n"
          ]
        },
        {
          "output_type": "display_data",
          "data": {
            "application/vnd.jupyter.widget-view+json": {
              "model_id": "12ebd8a9c79e4a2e897001d017c03b7b",
              "version_minor": 0,
              "version_major": 2
            },
            "text/plain": [
              "  0%|          | 0/40 [00:00<?, ?it/s]"
            ]
          },
          "metadata": {}
        },
        {
          "output_type": "display_data",
          "data": {
            "image/png": "[encoded data removed]",
            "text/plain": [
              "<Figure size 432x288 with 1 Axes>"
            ]
          },
          "metadata": {
            "needs_background": "light"
          }
        },
        {
          "output_type": "stream",
          "name": "stdout",
          "text": [
            "Learning rate = 0.1\n"
          ]
        },
        {
          "output_type": "display_data",
          "data": {
            "application/vnd.jupyter.widget-view+json": {
              "model_id": "2929a972726d46d792f73e8c4dad0722",
              "version_minor": 0,
              "version_major": 2
            },
            "text/plain": [
              "  0%|          | 0/40 [00:00<?, ?it/s]"
            ]
          },
          "metadata": {}
        },
        {
          "output_type": "display_data",
          "data": {
            "image/png": "[encoded data removed]",
            "text/plain": [
              "<Figure size 432x288 with 1 Axes>"
            ]
          },
          "metadata": {
            "needs_background": "light"
          }
        },
        {
          "output_type": "stream",
          "name": "stdout",
          "text": [
            "Learning rate = 0.01\n"
          ]
        },
        {
          "output_type": "display_data",
          "data": {
            "application/vnd.jupyter.widget-view+json": {
              "model_id": "03663b6f900a4106979dab162cce2d69",
              "version_minor": 0,
              "version_major": 2
            },
            "text/plain": [
              "  0%|          | 0/40 [00:00<?, ?it/s]"
            ]
          },
          "metadata": {}
        },
        {
          "output_type": "display_data",
          "data": {
            "image/png": "[encoded data removed]",
            "text/plain": [
              "<Figure size 432x288 with 1 Axes>"
            ]
          },
          "metadata": {
            "needs_background": "light"
          }
        },
        {
          "output_type": "stream",
          "name": "stdout",
          "text": [
            "Learning rate = 0.001\n"
          ]
        },
        {
          "output_type": "display_data",
          "data": {
            "application/vnd.jupyter.widget-view+json": {
              "model_id": "971ec4cc74b64e7794829a53e0815db2",
              "version_minor": 0,
              "version_major": 2
            },
            "text/plain": [
              "  0%|          | 0/40 [00:00<?, ?it/s]"
            ]
          },
          "metadata": {}
        },
        {
          "output_type": "display_data",
          "data": {
            "image/png": "[encoded data removed]",
            "text/plain": [
              "<Figure size 432x288 with 1 Axes>"
            ]
          },
          "metadata": {
            "needs_background": "light"
          }
        },
        {
          "output_type": "stream",
          "name": "stdout",
          "text": [
            "Learning rate = 0.0001\n"
          ]
        },
        {
          "output_type": "display_data",
          "data": {
            "application/vnd.jupyter.widget-view+json": {
              "model_id": "ffa161e0adc74024869ccd5858450c4f",
              "version_minor": 0,
              "version_major": 2
            },
            "text/plain": [
              "  0%|          | 0/40 [00:00<?, ?it/s]"
            ]
          },
          "metadata": {}
        },
        {
          "output_type": "display_data",
          "data": {
            "image/png": "[encoded data removed]",
            "text/plain": [
              "<Figure size 432x288 with 1 Axes>"
            ]
          },
          "metadata": {
            "needs_background": "light"
          }
        }
      ]
    },
    {
      "cell_type": "code",
      "metadata": {
        "id": "vqYSwhWqZyOI"
      },
      "source": [
        ""
      ],
      "execution_count": null,
      "outputs": []
    }
  ]
}