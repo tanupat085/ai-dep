{
  "nbformat": 4,
  "nbformat_minor": 0,
  "metadata": {
    "colab": {
      "name": "Data Science 01 - Number Crunching with NumPy.ipynb",
      "provenance": [],
      "collapsed_sections": [
        "Fd8Xn3pC9V26",
        "45Ovm8BD_Cvt",
        "36ihfIqx_gh6",
        "mLdfcdccAG1K",
        "jaTcUxhP91Rk",
        "cYbV2aBSBcxn",
        "8fWLe50U-Sb1",
        "5wsQfu8_Cccc",
        "BvUPIQnTCy9Y",
        "RO07JZACDO7G",
        "WmmE2ricDq60",
        "JlS1GMR0EGJF",
        "uDZetx2UM8fZ",
        "JW5OQicftYzM",
        "lcRtgLsrvSno",
        "b3JnAjGmvbxG",
        "aNXlUDW9wuQH",
        "JjJm0AoDyRXC",
        "yZOYE7RtytLV",
        "HqReXdSg3gue",
        "Vd_IuCzf4Qf1",
        "6Q_gQiiUP4qQ",
        "b_zv1eUu0WXT",
        "-XM39jU46rXN",
        "hvjn0CJHPCWp",
        "z6hCuxVwPJPg",
        "YTeWnigePe8Y",
        "vIcLROwvQvMo",
        "oUXV3dMERGTX",
        "8FPDPc5hSfUb"
      ],
      "include_colab_link": true
    },
    "kernelspec": {
      "display_name": "Python 3",
      "language": "python",
      "name": "python3"
    }
  },
  "cells": [
    {
      "cell_type": "markdown",
      "metadata": {
        "id": "view-in-github",
        "colab_type": "text"
      },
      "source": [
        "<a href=\"https://colab.research.google.com/github/tanupat085/ai-dep/blob/main/Data_Science_01_Number_Crunching_with_NumPy.ipynb\" target=\"_parent\"><img src=\"https://colab.research.google.com/assets/colab-badge.svg\" alt=\"Open In Colab\"/></a>"
      ]
    },
    {
      "cell_type": "code",
      "metadata": {
        "id": "VS7ZPHrhmAT-"
      },
      "source": [
        "!pip install -q numpy scipy"
      ],
      "execution_count": null,
      "outputs": []
    },
    {
      "cell_type": "markdown",
      "metadata": {
        "id": "WwkMHOLgmNHz"
      },
      "source": [
        "# Chapter 1: Number Crunching with NumPy [https://tinyurl.com/ybgptlcf]"
      ]
    },
    {
      "cell_type": "markdown",
      "metadata": {
        "id": "a-Q8piAxWNid"
      },
      "source": [
        "Prachya Boonkwan\n",
        "\n",
        "Email: prachya.boonkwan@nectec.or.th, kaamanita@gmail.com \n",
        "\n",
        "(C) January 2019\n",
        "\n",
        "Slide presentation can be found here --> **[https://tinyurl.com/yxl68949](https://tinyurl.com/yxl68949)**."
      ]
    },
    {
      "cell_type": "markdown",
      "metadata": {
        "id": "XvhG5pqEmopy"
      },
      "source": [
        "## Header"
      ]
    },
    {
      "cell_type": "markdown",
      "metadata": {
        "id": "L_TKTrkemrq0"
      },
      "source": [
        "This part is the header of the code. My favorite import alias for NumPy is `np`. This is quite useful for speed coding."
      ]
    },
    {
      "cell_type": "code",
      "metadata": {
        "id": "MAIWxZuDmgXv"
      },
      "source": [
        "#!/usr/bin/env python3\n",
        "#-*- coding: utf-8 -*-\n",
        "\n",
        "import numpy as np               # for tensor computation\n",
        "import numpy.random as rnd       # for randomization\n",
        "import numpy.linalg as la        # for linear algebra\n",
        "import scipy.sparse as sp        # for sprase matrices"
      ],
      "execution_count": null,
      "outputs": []
    },
    {
      "cell_type": "markdown",
      "metadata": {
        "id": "VPKSd82FnaFZ"
      },
      "source": [
        "*TRICK:* You can partially type in a command and press `[TAB]` to complete it. In the following line, remove the comment sign `#`, then type in `np.arr` after the equal sign. Press `[TAB]` to see a dropdown list of available commands."
      ]
    },
    {
      "cell_type": "code",
      "metadata": {
        "id": "JgGyZbMTnbhm"
      },
      "source": [
        "# my_matrix = "
      ],
      "execution_count": null,
      "outputs": []
    },
    {
      "cell_type": "markdown",
      "metadata": {
        "id": "fnD1z8jCn02b"
      },
      "source": [
        "-----\n",
        "\n",
        "## 1. Vectors"
      ]
    },
    {
      "cell_type": "markdown",
      "metadata": {
        "id": "CoCMdBVvn3rk"
      },
      "source": [
        "### 0-Vector\n",
        "\n",
        "- This is how we declare a vector.\n",
        "- Let's begin with a 0-vector using the command `np.zeros`.\n",
        "- For example, `np.zeros(3)` will create the vector $\\left[ \n",
        "\\begin{array}{ccc}\n",
        "    0 & 0 & 0\n",
        "\\end{array} \\right]$."
      ]
    },
    {
      "cell_type": "code",
      "metadata": {
        "id": "vBq4XOXMn8R7",
        "colab": {
          "base_uri": "https://localhost:8080/",
          "height": 116
        },
        "outputId": "32a4cacf-0bf6-4d72-9801-b13cc195d76a"
      },
      "source": [
        "vec1 = np.zeros(3)     # Change the number of elements for more fun.\n",
        "print(vec1)"
      ],
      "execution_count": null,
      "outputs": [
        {
          "output_type": "stream",
          "text": [
            "[0. 0. 0.]\n"
          ],
          "name": "stdout"
        }
      ]
    },
    {
      "cell_type": "markdown",
      "metadata": {
        "id": "UYSycWy-oBfX"
      },
      "source": [
        "### 1-Vector\n",
        "\n",
        "- This is how we declare a 1-vector with the command `np.ones`.\n",
        "- For example, `np.ones(3)` will create the vector $\\left[ \n",
        "\\begin{array}{ccc}\n",
        "    1 & 1 & 1\n",
        "\\end{array} \\right]$."
      ]
    },
    {
      "cell_type": "code",
      "metadata": {
        "id": "UEIkmTJ6oABO"
      },
      "source": [
        "vec2 = np.ones(3)      # Change the number of elements for more fun.\n",
        "print(vec2)"
      ],
      "execution_count": null,
      "outputs": []
    },
    {
      "cell_type": "markdown",
      "metadata": {
        "id": "KxAdLKZCoJZS"
      },
      "source": [
        "### Custom Vector\n",
        "\n",
        "- We declare a custom vector with `np.array`. \n",
        "- Here is how we define the vector $\n",
        "\\left[ \\begin{array}{ccc}\n",
        "    1, 2, 3\n",
        "\\end{array} \\right]\n",
        "$."
      ]
    },
    {
      "cell_type": "code",
      "metadata": {
        "id": "QMzMlGmLoIJd",
        "colab": {
          "base_uri": "https://localhost:8080/",
          "height": 116
        },
        "outputId": "486aab0c-0179-43f9-8b87-71d04dd35e13"
      },
      "source": [
        "vec3 = np.array([1.0, 2.0, 3.0])    # Add more elements for more fun.\n",
        "print(vec3)"
      ],
      "execution_count": null,
      "outputs": [
        {
          "output_type": "stream",
          "text": [
            "[1. 2. 3.]\n"
          ],
          "name": "stdout"
        }
      ]
    },
    {
      "cell_type": "markdown",
      "metadata": {
        "id": "miHxE6eGur4x"
      },
      "source": [
        "### Size\n",
        "\n",
        "- We can find the size of a vector with the property `shape`."
      ]
    },
    {
      "cell_type": "code",
      "metadata": {
        "id": "lrFOnE5xoS7M",
        "colab": {
          "base_uri": "https://localhost:8080/",
          "height": 114
        },
        "outputId": "407e382f-2f60-4b1c-fe59-936beb9b49b4"
      },
      "source": [
        "print(vec3.shape)"
      ],
      "execution_count": null,
      "outputs": [
        {
          "output_type": "stream",
          "text": [
            "(3,)\n"
          ],
          "name": "stdout"
        }
      ]
    },
    {
      "cell_type": "markdown",
      "metadata": {
        "id": "tKBU8jU1vDGo"
      },
      "source": [
        "### Randomized Vector\n",
        "\n",
        "- There are two ways to generate a randomized vector: `rnd.randn` for a floating point vector and `rnd.randint` for an integer vector. \n",
        "\n",
        "- `rnd.randn(size)` generates a floating point vector of size `size`, whose element is a floating point number drawn from a normal distribution."
      ]
    },
    {
      "cell_type": "code",
      "metadata": {
        "id": "5fhLKKdbuuWc",
        "colab": {
          "base_uri": "https://localhost:8080/",
          "height": 116
        },
        "outputId": "1257fe46-de60-4999-b0db-ec72b62a3e31"
      },
      "source": [
        "vec4 = rnd.randn(3)\n",
        "print(vec4)"
      ],
      "execution_count": null,
      "outputs": [
        {
          "output_type": "stream",
          "text": [
            "[1.2979666  1.11710101 0.18643315]\n"
          ],
          "name": "stdout"
        }
      ]
    },
    {
      "cell_type": "markdown",
      "metadata": {
        "id": "qk0JJtzAVlnK"
      },
      "source": [
        "- `rnd.randint(start, end, size)` generates an integer vector of size `size`, whose element is in the range from `start` (inclusive) to `end` (exclusive)."
      ]
    },
    {
      "cell_type": "code",
      "metadata": {
        "id": "pje1WLKhU3i-",
        "colab": {
          "base_uri": "https://localhost:8080/",
          "height": 114
        },
        "outputId": "67e0df8e-4b2b-4954-bc23-2341a2d67923"
      },
      "source": [
        "vec5 = rnd.randint(1, 10, 5)\n",
        "print(vec5)"
      ],
      "execution_count": null,
      "outputs": [
        {
          "output_type": "stream",
          "text": [
            "[4 9 8 8 8]\n"
          ],
          "name": "stdout"
        }
      ]
    },
    {
      "cell_type": "markdown",
      "metadata": {
        "id": "hWczN2-2wtx6"
      },
      "source": [
        "### Indexing\n",
        "\n",
        "- We can refer to an element in a vector by indexing `[]`. Note that the index starts with 0."
      ]
    },
    {
      "cell_type": "code",
      "metadata": {
        "id": "rvAXE8aMu4DS",
        "colab": {
          "base_uri": "https://localhost:8080/",
          "height": 114
        },
        "outputId": "78b464c0-20f2-4a14-e83c-70551332f67f"
      },
      "source": [
        "print(vec3[1])           # the second element"
      ],
      "execution_count": null,
      "outputs": [
        {
          "output_type": "stream",
          "text": [
            "2.0\n"
          ],
          "name": "stdout"
        }
      ]
    },
    {
      "cell_type": "code",
      "metadata": {
        "id": "enMR6xJewwN-",
        "colab": {
          "base_uri": "https://localhost:8080/",
          "height": 114
        },
        "outputId": "ae7f3dd5-7917-42a1-ddac-92840e1241fa"
      },
      "source": [
        "print(vec3[2])           # the third element"
      ],
      "execution_count": null,
      "outputs": [
        {
          "output_type": "stream",
          "text": [
            "3.0\n"
          ],
          "name": "stdout"
        }
      ]
    },
    {
      "cell_type": "code",
      "metadata": {
        "id": "M0zIe-V5w0LO",
        "colab": {
          "base_uri": "https://localhost:8080/",
          "height": 248
        },
        "outputId": "ad03fd66-38e6-469b-9e45-cf6e0e22bae5"
      },
      "source": [
        "# print(vec3[20])          # This will cause an error message due to out-of-bounds indexing"
      ],
      "execution_count": null,
      "outputs": [
        {
          "output_type": "error",
          "ename": "IndexError",
          "evalue": "ignored",
          "traceback": [
            "\u001b[0;31m---------------------------------------------------------------------------\u001b[0m",
            "\u001b[0;31mIndexError\u001b[0m                                Traceback (most recent call last)",
            "\u001b[0;32m<ipython-input-8-8f5e7d5c5a1e>\u001b[0m in \u001b[0;36m<module>\u001b[0;34m()\u001b[0m\n\u001b[0;32m----> 1\u001b[0;31m \u001b[0mprint\u001b[0m\u001b[0;34m(\u001b[0m\u001b[0mvec3\u001b[0m\u001b[0;34m[\u001b[0m\u001b[0;36m20\u001b[0m\u001b[0;34m]\u001b[0m\u001b[0;34m)\u001b[0m          \u001b[0;31m# This will cause an error message due to out-of-bounds indexing\u001b[0m\u001b[0;34m\u001b[0m\u001b[0;34m\u001b[0m\u001b[0m\n\u001b[0m",
            "\u001b[0;31mIndexError\u001b[0m: index 20 is out of bounds for axis 0 with size 3"
          ]
        }
      ]
    },
    {
      "cell_type": "markdown",
      "metadata": {
        "id": "x9-VJr01w6ez"
      },
      "source": [
        "### Element Setting\n",
        "\n",
        "- We can also set the value of a vector's element by indexing `[]`.\n",
        "- For example, let's set the second element of `vec3` to be 100."
      ]
    },
    {
      "cell_type": "code",
      "metadata": {
        "id": "9YRv2BCvw2Th",
        "colab": {
          "base_uri": "https://localhost:8080/",
          "height": 132
        },
        "outputId": "b32e9403-4943-4aba-a083-29e8a0a302cb"
      },
      "source": [
        "vec5 = np.array([1.0, 2.0, 3.0])\n",
        "\n",
        "print(f'Before: vec5 = {vec5}')\n",
        "vec5[1] = 100            # Set the second element to be 100.\n",
        "print(f'After : vec5 = {vec5}')"
      ],
      "execution_count": null,
      "outputs": [
        {
          "output_type": "stream",
          "text": [
            "Before: vec5 = [1. 2. 3.]\n",
            "After : vec5 = [  1. 100.   3.]\n"
          ],
          "name": "stdout"
        }
      ]
    },
    {
      "cell_type": "markdown",
      "metadata": {
        "id": "07aNNwu6qv_b"
      },
      "source": [
        "### Dot Product\n",
        "\n",
        "- We can compute the dot product of two vectors by the operator `@`. \n",
        "- For example, let's compute the dot product of `vec6` and `vec7`."
      ]
    },
    {
      "cell_type": "code",
      "metadata": {
        "id": "-xYIrghXqMK7",
        "colab": {
          "base_uri": "https://localhost:8080/",
          "height": 116
        },
        "outputId": "c686dca3-43b4-4115-ebe0-3f65292e31c6"
      },
      "source": [
        "vec6 = np.array([5, 6, 7, 8])\n",
        "vec7 = np.array([9, 10, 11, 12])\n",
        "dotval = vec6 @ vec7\n",
        "print(dotval)"
      ],
      "execution_count": null,
      "outputs": [
        {
          "output_type": "stream",
          "text": [
            "278\n"
          ],
          "name": "stdout"
        }
      ]
    },
    {
      "cell_type": "markdown",
      "metadata": {
        "id": "Ie1VDmxjrMqH"
      },
      "source": [
        "- We can also use the method `dot` of the first operand."
      ]
    },
    {
      "cell_type": "code",
      "metadata": {
        "id": "qorqv8jNrS-R",
        "colab": {
          "base_uri": "https://localhost:8080/",
          "height": 114
        },
        "outputId": "bbb0df3f-3f26-4ccb-de24-ac42dcc0c3f4"
      },
      "source": [
        "dotval = vec6.dot(vec7)\n",
        "print(dotval)"
      ],
      "execution_count": null,
      "outputs": [
        {
          "output_type": "stream",
          "text": [
            "278\n"
          ],
          "name": "stdout"
        }
      ]
    },
    {
      "cell_type": "markdown",
      "metadata": {
        "id": "X6I0kD315RkA"
      },
      "source": [
        "### Vector Norm\n",
        "\n",
        "- We can also compute the norm (i.e. size) of a vector $\\left\\| \\mathbf{v} \\right\\|$ by the command `la.norm`.\n",
        "- The command computes Frobenius norm, where:\n",
        "$$\n",
        "\\begin{eqnarray}\n",
        "    \\left\\| \\mathbf{v} \\right\\| & = & \\mathrm{Frobenius}(\\mathbf{v}) \\\\\n",
        "    & = & \\sqrt{ \\sum_{i = 1}^N v_i^2 } \\\\\n",
        "    & = & \\sqrt{ v_1^2 + v_2^2 + v_3^2 + \\ldots + v_N^2 }\n",
        "\\end{eqnarray}\n",
        "$$"
      ]
    },
    {
      "cell_type": "code",
      "metadata": {
        "id": "8r09FRH95eJb",
        "colab": {
          "base_uri": "https://localhost:8080/",
          "height": 114
        },
        "outputId": "f52f9971-29c3-429d-d167-c85f0f44b710"
      },
      "source": [
        "vecnorm = la.norm(vec6)\n",
        "print(vecnorm)"
      ],
      "execution_count": null,
      "outputs": [
        {
          "output_type": "stream",
          "text": [
            "13.19090595827292\n"
          ],
          "name": "stdout"
        }
      ]
    },
    {
      "cell_type": "markdown",
      "metadata": {
        "id": "6MZNXZsrWJAC"
      },
      "source": [
        "-----"
      ]
    },
    {
      "cell_type": "markdown",
      "metadata": {
        "id": "1DI9NfRAWKC7"
      },
      "source": [
        "## Exercises 1"
      ]
    },
    {
      "cell_type": "markdown",
      "metadata": {
        "id": "6UT35yXsWONP"
      },
      "source": [
        "### Question 1.1\n",
        "\n",
        "Compute $\\mathbf{a} + 4 \\mathbf{b} - 3 \\mathbf{c}$, where\n",
        "$$\n",
        "\\begin{eqnarray}\n",
        "    \\mathbf{a} & = & \\left[  \\begin{array}{ccc}\n",
        "        1 & 1 & 1\n",
        "    \\end{array} \\right] \\\\\n",
        "    \\mathbf{b} & = & \\left[  \\begin{array}{ccc}\n",
        "        4 & 5 & 6\n",
        "    \\end{array} \\right] \\\\\n",
        "    \\mathbf{c} & = & \\left[  \\begin{array}{ccc}\n",
        "        0 & 0 & 0\n",
        "    \\end{array} \\right]\n",
        "\\end{eqnarray}\n",
        "$$"
      ]
    },
    {
      "cell_type": "code",
      "metadata": {
        "id": "8qnj81fkXO7m"
      },
      "source": [
        "# vec_a = __________           # Fill in these blanks\n",
        "# vec_b = __________\n",
        "# vec_c = __________\n",
        "# result = __________\n",
        "# \n",
        "# print(f'result = {result}')"
      ],
      "execution_count": null,
      "outputs": []
    },
    {
      "cell_type": "markdown",
      "metadata": {
        "id": "Fd8Xn3pC9V26"
      },
      "source": [
        "#### Solution"
      ]
    },
    {
      "cell_type": "code",
      "metadata": {
        "id": "naxgb3go9X6H",
        "colab": {
          "base_uri": "https://localhost:8080/",
          "height": 54
        },
        "outputId": "33c1de9e-c284-4aa1-ced2-81f6456beca1"
      },
      "source": [
        "vec_a = np.ones(3)\n",
        "vec_b = np.array([4, 5, 6])\n",
        "vec_c = np.zeros(3)\n",
        "result = vec_a + 4 * vec_b - 3 * vec_c\n",
        "\n",
        "print(f'result = {result}')"
      ],
      "execution_count": null,
      "outputs": [
        {
          "output_type": "stream",
          "text": [
            "result = [17. 21. 25.]\n"
          ],
          "name": "stdout"
        }
      ]
    },
    {
      "cell_type": "markdown",
      "metadata": {
        "id": "8hMzhDwsXoUb"
      },
      "source": [
        "### Question 1.2\n",
        "\n",
        "Compute $10 \\times \\mathbf{a} \\cdot \\mathbf{b}$, where $\\mathbf{a}$ and $\\mathbf{b}$ are randomized vectors of size 10."
      ]
    },
    {
      "cell_type": "code",
      "metadata": {
        "id": "p2xmowUyYFLo"
      },
      "source": [
        "# vec_a = __________           # Fill in these blanks\n",
        "# vec_b = __________\n",
        "# result = __________\n",
        "# \n",
        "# print(f'result = {result}')"
      ],
      "execution_count": null,
      "outputs": []
    },
    {
      "cell_type": "markdown",
      "metadata": {
        "id": "45Ovm8BD_Cvt"
      },
      "source": [
        "#### Solution"
      ]
    },
    {
      "cell_type": "code",
      "metadata": {
        "id": "38W3vuAI_ESR",
        "colab": {
          "base_uri": "https://localhost:8080/",
          "height": 54
        },
        "outputId": "b145eb0f-3e44-4573-d78d-9d7951b557c4"
      },
      "source": [
        "vec_a = rnd.randn(10)\n",
        "vec_b = rnd.randn(10)\n",
        "result = 10 * vec_a @ vec_b\n",
        "\n",
        "print(f'result = {result}')"
      ],
      "execution_count": null,
      "outputs": [
        {
          "output_type": "stream",
          "text": [
            "result = -14.824611541203035\n"
          ],
          "name": "stdout"
        }
      ]
    },
    {
      "cell_type": "markdown",
      "metadata": {
        "id": "SwuioD99Y9EK"
      },
      "source": [
        "### Question 1.3\n",
        "\n",
        "Create a vector of size 32 named `vec_nums`. Each even-indexed cell contains an even number from 0 to 30, ascendingly sorted. And each odd-indexed cell contains an odd number from 31 to 1, descendingly sorted. The result should look like this:\n",
        "\n",
        "```python\n",
        "[0, 31, 2, 29, 4, 27, ..., 26, 5, 28, 3, 30, 1]\n",
        "```"
      ]
    },
    {
      "cell_type": "code",
      "metadata": {
        "id": "zwYz4c2tY7eX"
      },
      "source": [
        "# vec_nums = np.zeros(32, dtype=np.int64)      # The datatype is 64-bit integer\n",
        "# \n",
        "# # Loop over the index i and fill up the vector according to the index.\n",
        "# for i in range(32):\n",
        "#     __________\n",
        "# \n",
        "# print(vec_nums)"
      ],
      "execution_count": null,
      "outputs": []
    },
    {
      "cell_type": "markdown",
      "metadata": {
        "id": "36ihfIqx_gh6"
      },
      "source": [
        "##### Solution"
      ]
    },
    {
      "cell_type": "code",
      "metadata": {
        "id": "e_ZCImPv_kHF",
        "colab": {
          "base_uri": "https://localhost:8080/",
          "height": 71
        },
        "outputId": "7fa58817-4d14-4de4-f22b-93e1ccb2e2d0"
      },
      "source": [
        "vec_nums = np.zeros(32, dtype=np.int64)      # The datatype is 64-bit integer\n",
        "\n",
        "# Loop over the index i and fill up the vector according to the index.\n",
        "for i in range(32):\n",
        "    if i % 2 == 0:\n",
        "        vec_nums[i] = i\n",
        "    else:\n",
        "        vec_nums[i] = 32 - i\n",
        "\n",
        "print(vec_nums)"
      ],
      "execution_count": null,
      "outputs": [
        {
          "output_type": "stream",
          "text": [
            "[ 0 31  2 29  4 27  6 25  8 23 10 21 12 19 14 17 16 15 18 13 20 11 22  9\n",
            " 24  7 26  5 28  3 30  1]\n"
          ],
          "name": "stdout"
        }
      ]
    },
    {
      "cell_type": "markdown",
      "metadata": {
        "id": "RJzN1A74NwB0"
      },
      "source": [
        "### Question 1.4\n",
        "\n",
        "Compute a unit vector of `vec_nums`.\n",
        "\n",
        "$$\n",
        "\\begin{eqnarray}\n",
        "    \\mathrm{unit}(\\mathbf{v}) & = & \\frac{\\mathbf{v}}{\\left\\| \\mathbf{v} \\right\\|}\n",
        "\\end{eqnarray}\n",
        "$$"
      ]
    },
    {
      "cell_type": "code",
      "metadata": {
        "id": "QaRVw9esOGR1"
      },
      "source": [
        "# unit_vecnums = __________          # Fill in this blank\n",
        "# \n",
        "# print(unit_vecnums)"
      ],
      "execution_count": null,
      "outputs": []
    },
    {
      "cell_type": "markdown",
      "metadata": {
        "id": "mLdfcdccAG1K"
      },
      "source": [
        "#### Solution"
      ]
    },
    {
      "cell_type": "code",
      "metadata": {
        "id": "IZunzXQ4AJXx",
        "colab": {
          "base_uri": "https://localhost:8080/",
          "height": 137
        },
        "outputId": "e74a9986-a08d-496f-9e64-4d2392e85970"
      },
      "source": [
        "unit_vecnums = vec_nums / la.norm(vec_nums)\n",
        "\n",
        "print(unit_vecnums)"
      ],
      "execution_count": null,
      "outputs": [
        {
          "output_type": "stream",
          "text": [
            "[0.         0.30374645 0.01959655 0.2841499  0.03919309 0.26455336\n",
            " 0.05878964 0.24495681 0.07838618 0.22536027 0.09798273 0.20576372\n",
            " 0.11757927 0.18616718 0.13717582 0.16657063 0.15677236 0.14697409\n",
            " 0.17636891 0.12737754 0.19596545 0.107781   0.215562   0.08818445\n",
            " 0.23515854 0.06858791 0.25475509 0.04899136 0.27435163 0.02939482\n",
            " 0.29394818 0.00979827]\n"
          ],
          "name": "stdout"
        }
      ]
    },
    {
      "cell_type": "markdown",
      "metadata": {
        "id": "YNM7OGI2xB5e"
      },
      "source": [
        "-----\n",
        "## 2. Matrices"
      ]
    },
    {
      "cell_type": "markdown",
      "metadata": {
        "id": "Wq0OWEPfxDf_"
      },
      "source": [
        "### 0-Matrix\n",
        "\n",
        "- This is how we declare a matrix.\n",
        "- A 0-matrix can again be defined with `np.zeros`, but this time we identify the size of each dimension (a.k.a. the *shape*), too.\n",
        "- For example, `np.zeros((3, 4))` will create the matrix\n",
        "\n",
        "$$\\left[ \n",
        "\\begin{array}{cccc}\n",
        "    0 & 0 & 0 & 0 \\\\\n",
        "    0 & 0 & 0 & 0 \\\\\n",
        "    0 & 0 & 0 & 0\n",
        "\\end{array} \\right]_{3 \\times 4}\n",
        "$$"
      ]
    },
    {
      "cell_type": "code",
      "metadata": {
        "id": "COEGZnTdw-tP",
        "colab": {
          "base_uri": "https://localhost:8080/",
          "height": 147
        },
        "outputId": "03a38aa2-8016-4454-9204-c5f36ae2cafe"
      },
      "source": [
        "mat1 = np.zeros((3, 4))     # Change the number of elements on any dimension.\n",
        "print(mat1)"
      ],
      "execution_count": null,
      "outputs": [
        {
          "output_type": "stream",
          "text": [
            "[[0. 0. 0. 0.]\n",
            " [0. 0. 0. 0.]\n",
            " [0. 0. 0. 0.]]\n"
          ],
          "name": "stdout"
        }
      ]
    },
    {
      "cell_type": "markdown",
      "metadata": {
        "id": "-oL98GPRasmp"
      },
      "source": [
        "- The reason of putting an extra pair of parentheses over the shape is because the next parameter of all array creation functions is the data type `dtype`.\n",
        "- This data type can be floating point `np.float`{16, 32, 64, 128}, integer `np.int`{8, 16, 32, 64}, and complex numbers `np.complex`.\n",
        "- The default data type is `np.float64`."
      ]
    },
    {
      "cell_type": "code",
      "metadata": {
        "id": "Wut3EnBpa8yK",
        "colab": {
          "base_uri": "https://localhost:8080/",
          "height": 147
        },
        "outputId": "8b2cf408-cda7-41d5-c38e-132a0cb9f858"
      },
      "source": [
        "mat1 = np.zeros((3, 4), dtype=np.float64)      # each element is of the type 64-bit floating point\n",
        "print(mat1)"
      ],
      "execution_count": null,
      "outputs": [
        {
          "output_type": "stream",
          "text": [
            "[[0. 0. 0. 0.]\n",
            " [0. 0. 0. 0.]\n",
            " [0. 0. 0. 0.]]\n"
          ],
          "name": "stdout"
        }
      ]
    },
    {
      "cell_type": "markdown",
      "metadata": {
        "id": "T_XJ3gxdxOnf"
      },
      "source": [
        "### 1-Matrix\n",
        "\n",
        "- We define a 1-matrix with `np.ones` in the same fashion. \n",
        "- For example, `np.ones((3, 4))` will create the matrix\n",
        "$$\\left[ \n",
        "\\begin{array}{cccc}\n",
        "    1 & 1 & 1 & 1 \\\\\n",
        "    1 & 1 & 1 & 1 \\\\\n",
        "    1 & 1 & 1 & 1\n",
        "\\end{array} \\right]_{3 \\times 4}\n",
        "$$"
      ]
    },
    {
      "cell_type": "code",
      "metadata": {
        "id": "qfn4Krn7xJ_-",
        "colab": {
          "base_uri": "https://localhost:8080/",
          "height": 147
        },
        "outputId": "ee99abb1-6be2-4792-8420-de58306092f6"
      },
      "source": [
        "mat2 = np.ones((3, 4))      # Change the number of elements on any dimension.\n",
        "print(mat2)"
      ],
      "execution_count": null,
      "outputs": [
        {
          "output_type": "stream",
          "text": [
            "[[1. 1. 1. 1.]\n",
            " [1. 1. 1. 1.]\n",
            " [1. 1. 1. 1.]]\n"
          ],
          "name": "stdout"
        }
      ]
    },
    {
      "cell_type": "markdown",
      "metadata": {
        "id": "sm67_EhqxvTI"
      },
      "source": [
        "### Identity Matrix\n",
        "\n",
        "- This is how you define an identity matrix with `np.eye`. \n",
        "- For example, `np.eye(3)` will create the 3-dimensional identity matrix\n",
        "$$\\left[ \n",
        "\\begin{array}{ccc}\n",
        "    1 & 0 & 0 \\\\\n",
        "    0 & 1 & 0 \\\\\n",
        "    0 & 0 & 1\n",
        "\\end{array} \\right]_{3 \\times 3}\n",
        "$$"
      ]
    },
    {
      "cell_type": "code",
      "metadata": {
        "id": "p3coEatYx7wt",
        "colab": {
          "base_uri": "https://localhost:8080/",
          "height": 147
        },
        "outputId": "0cd7d89e-03e1-47b7-f4dc-f9591ddeff9b"
      },
      "source": [
        "mat3 = np.eye(3)       # Change the number of elements on any dimension.\n",
        "print(mat3)"
      ],
      "execution_count": null,
      "outputs": [
        {
          "output_type": "stream",
          "text": [
            "[[1. 0. 0.]\n",
            " [0. 1. 0.]\n",
            " [0. 0. 1.]]\n"
          ],
          "name": "stdout"
        }
      ]
    },
    {
      "cell_type": "markdown",
      "metadata": {
        "id": "xSni9QWmy0cr"
      },
      "source": [
        "- We can also determine the number of columns if we desire a non-square matrix."
      ]
    },
    {
      "cell_type": "code",
      "metadata": {
        "id": "1F_UKLCfxjSW",
        "colab": {
          "base_uri": "https://localhost:8080/",
          "height": 147
        },
        "outputId": "f009b2c1-e41c-4f31-cf14-c31643d2dcdc"
      },
      "source": [
        "mat3 = np.eye(3, 4)       # Change the number of elements on any dimension.\n",
        "print(mat3)"
      ],
      "execution_count": null,
      "outputs": [
        {
          "output_type": "stream",
          "text": [
            "[[1. 0. 0. 0.]\n",
            " [0. 1. 0. 0.]\n",
            " [0. 0. 1. 0.]]\n"
          ],
          "name": "stdout"
        }
      ]
    },
    {
      "cell_type": "markdown",
      "metadata": {
        "id": "QztQOj-4zrHy"
      },
      "source": [
        "### Randomized Matrix\n",
        "\n",
        "- We define a randomized matrix with `rnd.randn` (floating point) and `rnd.randint` (integer)."
      ]
    },
    {
      "cell_type": "code",
      "metadata": {
        "id": "whRXPtltx0_K",
        "colab": {
          "base_uri": "https://localhost:8080/",
          "height": 147
        },
        "outputId": "f33ab70c-c721-4b22-b1c8-89e229f85b69"
      },
      "source": [
        "mat_rand = rnd.randn(3, 4)        # Change the number of elements on any dimension.\n",
        "print(mat_rand)"
      ],
      "execution_count": null,
      "outputs": [
        {
          "output_type": "stream",
          "text": [
            "[[-1.1490691  -0.97518228 -0.38405128  0.61034464]\n",
            " [-0.32819544  0.28607575 -0.89170096 -0.24156482]\n",
            " [-0.52478983  0.37278638  1.82893328 -1.13589812]]\n"
          ],
          "name": "stdout"
        }
      ]
    },
    {
      "cell_type": "code",
      "metadata": {
        "id": "cCfNuK5sWDcX",
        "colab": {
          "base_uri": "https://localhost:8080/",
          "height": 147
        },
        "outputId": "e0fcba4b-460e-4f1d-e152-51c410f84817"
      },
      "source": [
        "mat_randint = rnd.randint(1, 10, (3, 4))\n",
        "print(mat_randint)"
      ],
      "execution_count": null,
      "outputs": [
        {
          "output_type": "stream",
          "text": [
            "[[4 7 6 6]\n",
            " [8 6 1 9]\n",
            " [6 9 4 6]]\n"
          ],
          "name": "stdout"
        }
      ]
    },
    {
      "cell_type": "markdown",
      "metadata": {
        "id": "-bI5X822z05N"
      },
      "source": [
        "### Custom Matrix\n",
        "\n",
        "- A custom matrix can be defined with `np.array`. \n",
        "- Notice that a 2-dimensional matrix is just a list of lists.\n",
        "- Here we define the matrix\n",
        "$$\n",
        "\\left[ \\begin{array}{ccc}\n",
        "    1 & 2 & 3 \\\\\n",
        "    4 & 5 & 6\n",
        "\\end{array} \\right]_{2 \\times 3}\n",
        "$$\n",
        "- Each row becomes a list. For example, the first row becomes `[1, 2, 3]`, and the second row, `[4, 5, 6]`."
      ]
    },
    {
      "cell_type": "code",
      "metadata": {
        "id": "GWnekow8yEyg",
        "colab": {
          "base_uri": "https://localhost:8080/",
          "height": 92
        },
        "outputId": "cc1d1063-4fb7-4c9f-b8f4-10b8c423654f"
      },
      "source": [
        "# Play with the elements, rows, or columns for more fun.\n",
        "mat4 = np.array( [ [1, 2, 3],\n",
        "                   [4, 5, 6] ] )\n",
        "print(mat4)"
      ],
      "execution_count": null,
      "outputs": [
        {
          "output_type": "stream",
          "text": [
            "[[1 2 3]\n",
            " [4 5 6]]\n"
          ],
          "name": "stdout"
        }
      ]
    },
    {
      "cell_type": "markdown",
      "metadata": {
        "id": "bDjoRy-H0Ats"
      },
      "source": [
        "### Shape\n",
        "\n",
        "- We can also find the size of a matrix with the property `shape`."
      ]
    },
    {
      "cell_type": "code",
      "metadata": {
        "id": "M7ghMkI_z9eV",
        "colab": {
          "base_uri": "https://localhost:8080/",
          "height": 114
        },
        "outputId": "3d9fec85-34c1-4315-b34a-a3336e0560eb"
      },
      "source": [
        "print(mat4.shape)"
      ],
      "execution_count": null,
      "outputs": [
        {
          "output_type": "stream",
          "text": [
            "(2, 3)\n"
          ],
          "name": "stdout"
        }
      ]
    },
    {
      "cell_type": "markdown",
      "metadata": {
        "id": "mQLAvSdY0dVl"
      },
      "source": [
        "### Cell Indexing and Setting\n",
        "\n",
        "- We can refer to a particular cell of a matrix by indexing `[]`."
      ]
    },
    {
      "cell_type": "code",
      "metadata": {
        "id": "FwSPe0_v0Jzp",
        "colab": {
          "base_uri": "https://localhost:8080/",
          "height": 114
        },
        "outputId": "c1793462-4be3-4f0a-91c3-7705e9e01271"
      },
      "source": [
        "print(mat4[0,1])            # cell (1,2)"
      ],
      "execution_count": null,
      "outputs": [
        {
          "output_type": "stream",
          "text": [
            "2\n"
          ],
          "name": "stdout"
        }
      ]
    },
    {
      "cell_type": "code",
      "metadata": {
        "id": "Rmw-mjPf0fvL",
        "colab": {
          "base_uri": "https://localhost:8080/",
          "height": 114
        },
        "outputId": "12eda0f2-c55e-4fde-86b1-6739b8fb33b6"
      },
      "source": [
        "print(mat4[1,2])            # cell (2,3)"
      ],
      "execution_count": null,
      "outputs": [
        {
          "output_type": "stream",
          "text": [
            "6\n"
          ],
          "name": "stdout"
        }
      ]
    },
    {
      "cell_type": "code",
      "metadata": {
        "id": "OjntjD900hc4",
        "colab": {
          "base_uri": "https://localhost:8080/",
          "height": 200
        },
        "outputId": "9c5ce37e-04b8-4076-aaab-90785125816a"
      },
      "source": [
        "mat4 = np.array( [ [1, 2, 3],\n",
        "                   [4, 5, 6] ] )\n",
        "\n",
        "print(f'Before: mat4 =\\n{mat4}')\n",
        "mat4[1,2] = 100             # Set the value of cell (2,3) to be 100.\n",
        "print(f'After : mat4 =\\n{mat4}')"
      ],
      "execution_count": null,
      "outputs": [
        {
          "output_type": "stream",
          "text": [
            "Before: mat4 =\n",
            "[[1 2 3]\n",
            " [4 5 6]]\n",
            "After : mat4 =\n",
            "[[  1   2   3]\n",
            " [  4   5 100]]\n"
          ],
          "name": "stdout"
        }
      ]
    },
    {
      "cell_type": "markdown",
      "metadata": {
        "id": "wpz1KmAF0ruc"
      },
      "source": [
        "### Row Indexing\n",
        "\n",
        "- We can index a row of a matrix by `[]`, too."
      ]
    },
    {
      "cell_type": "code",
      "metadata": {
        "id": "iCSemEFa0o7Q",
        "colab": {
          "base_uri": "https://localhost:8080/",
          "height": 133
        },
        "outputId": "8a6f8867-d187-4466-ca6e-c0e957e18177"
      },
      "source": [
        "mat5 = np.array( [ [1, 2, 3],\n",
        "                   [4, 5, 6] ] )\n",
        "\n",
        "print(f'row 1 of mat5 = {mat5[0]}')\n",
        "print(f'row 2 of mat5 = {mat5[1]}')"
      ],
      "execution_count": null,
      "outputs": [
        {
          "output_type": "stream",
          "text": [
            "row 1 of mat5 = [1 2 3]\n",
            "row 2 of mat5 = [4 5 6]\n"
          ],
          "name": "stdout"
        }
      ]
    },
    {
      "cell_type": "markdown",
      "metadata": {
        "id": "tYaIwWyb0zdX"
      },
      "source": [
        "### Row Setting\n",
        "\n",
        "- Setting a row is as simple. For example, we can replace the first row of `mat5` by setting `mat5[0]` to be another vector."
      ]
    },
    {
      "cell_type": "code",
      "metadata": {
        "id": "fex2Fy1w0v0v",
        "colab": {
          "base_uri": "https://localhost:8080/",
          "height": 200
        },
        "outputId": "a90f11c4-da56-4f69-ea9e-e4778783b3be"
      },
      "source": [
        "mat5 = np.array( [ [1, 2, 3],\n",
        "                   [4, 5, 6] ] )\n",
        "\n",
        "print(f'Before: mat5 =\\n{mat5}')\n",
        "mat5[0] = np.array([7, 8, 9])\n",
        "print(f'After : mat5 =\\n{mat5}')"
      ],
      "execution_count": null,
      "outputs": [
        {
          "output_type": "stream",
          "text": [
            "Before: mat5 =\n",
            "[[1 2 3]\n",
            " [4 5 6]]\n",
            "After : mat5 =\n",
            "[[7 8 9]\n",
            " [4 5 6]]\n"
          ],
          "name": "stdout"
        }
      ]
    },
    {
      "cell_type": "markdown",
      "metadata": {
        "id": "AUnTjnRA08wF"
      },
      "source": [
        "### Column Indexing\n",
        "\n",
        "- We can also get access to a column of a matrix by replacing the row index with `:`."
      ]
    },
    {
      "cell_type": "code",
      "metadata": {
        "id": "EUtbAE8b05fn",
        "colab": {
          "base_uri": "https://localhost:8080/",
          "height": 147
        },
        "outputId": "d6a88357-f7ee-4edd-c89d-5b05edcb4546"
      },
      "source": [
        "mat6 = np.array( [ [1, 2, 3],\n",
        "                   [4, 5, 6] ] )\n",
        "\n",
        "print(f'column 1 of mat6 = {mat6[:, 0]}')\n",
        "print(f'column 2 of mat6 = {mat6[:, 1]}')\n",
        "print(f'column 3 of mat6 = {mat6[:, 2]}')"
      ],
      "execution_count": null,
      "outputs": [
        {
          "output_type": "stream",
          "text": [
            "column 1 of mat6 = [1 4]\n",
            "column 2 of mat6 = [2 5]\n",
            "column 3 of mat6 = [3 6]\n"
          ],
          "name": "stdout"
        }
      ]
    },
    {
      "cell_type": "markdown",
      "metadata": {
        "id": "GMShsFNx1FL7"
      },
      "source": [
        "### Column Setting\n",
        "\n",
        "- Setting a column can be as simple. For example, we can replace the first column of `mat6` by setting `mat6[:, 0]` to be another vector."
      ]
    },
    {
      "cell_type": "code",
      "metadata": {
        "id": "RZ9lMoc91BA2",
        "colab": {
          "base_uri": "https://localhost:8080/",
          "height": 200
        },
        "outputId": "530313f2-aa39-4cc1-850e-fd292eb9a01f"
      },
      "source": [
        "mat6 = np.array( [ [1, 2, 3],\n",
        "                   [4, 5, 6] ] )\n",
        "\n",
        "print(f'Before: mat6 =\\n{mat6}')\n",
        "mat6[:, 0] = np.array([7, 8])\n",
        "print(f'After : mat6 =\\n{mat6}')"
      ],
      "execution_count": null,
      "outputs": [
        {
          "output_type": "stream",
          "text": [
            "Before: mat6 =\n",
            "[[1 2 3]\n",
            " [4 5 6]]\n",
            "After : mat6 =\n",
            "[[7 2 3]\n",
            " [8 5 6]]\n"
          ],
          "name": "stdout"
        }
      ]
    },
    {
      "cell_type": "markdown",
      "metadata": {
        "id": "_SwUZLv_Fhcd"
      },
      "source": [
        "### Matrix stacking\n",
        "\n",
        "- We can stack two matrices with the following commands:\n",
        "\n",
        "  - `np.hstack` for horizontal stacking\n",
        "  - `np.vstack` for vertical stacking\n",
        "  -  `np.concatenate` for concatenation on a specified axis\n",
        "\n",
        "- The last command is a generalization of the previous two. Note that these commands require a tuple of matrices to be stacked.\n",
        "\n",
        "**Vertical stacking `np.vstack`**\n",
        "\n",
        "$$\n",
        "\\begin{eqnarray}\n",
        "    \\left[ \\begin{array}{ccc}\n",
        "        1 & 2 & 3 \\\\\n",
        "        4 & 5 & 6\n",
        "    \\end{array} \\right]_{2 \\times 3}\n",
        "    \\oplus_0\n",
        "    \\left[ \\begin{array}{ccc}\n",
        "        7 & 8 & 9 \\\\\n",
        "        10 & 11 & 12\n",
        "    \\end{array} \\right]_{2 \\times 3}\n",
        "    & = &\n",
        "    \\left[ \\begin{array}{ccc}\n",
        "        1 & 2 & 3 \\\\\n",
        "        4 & 5 & 6 \\\\\n",
        "        7 & 8 & 9 \\\\\n",
        "        10 & 11 & 12\n",
        "    \\end{array} \\right]_{4 \\times 3}\n",
        "\\end{eqnarray}\n",
        "$$\n",
        "\n",
        "**Horizontal stacking `np.hstack`**\n",
        "\n",
        "$$\n",
        "\\begin{eqnarray}\n",
        "    \\left[ \\begin{array}{ccc}\n",
        "        1 & 2 & 3 \\\\\n",
        "        4 & 5 & 6\n",
        "    \\end{array} \\right]_{2 \\times 3}\n",
        "    \\oplus_1\n",
        "    \\left[ \\begin{array}{ccc}\n",
        "        7 & 8 & 9 \\\\\n",
        "        10 & 11 & 12\n",
        "    \\end{array} \\right]_{2 \\times 3}\n",
        "    & = &\n",
        "    \\left[ \\begin{array}{ccc}\n",
        "        1 & 2 & 3 & 7 & 8 & 9 \\\\\n",
        "        4 & 5 & 6 & 10 & 11 & 12\n",
        "    \\end{array} \\right]_{2 \\times 6}\n",
        "\\end{eqnarray}\n",
        "$$\n",
        "\n",
        "- The operator $\\oplus_k$ is concatenation of matrices on axis $k$. `np.vstack` is equivalent to $\\oplus_0$, and `np.hstack`, $\\oplus_1$."
      ]
    },
    {
      "cell_type": "code",
      "metadata": {
        "id": "SLXXu_hWFx9B",
        "colab": {
          "base_uri": "https://localhost:8080/",
          "height": 474
        },
        "outputId": "e8b815f1-f808-4767-a133-af3da0f78a4b"
      },
      "source": [
        "mat_a = np.array([ [1, 2, 3],\n",
        "                   [4, 5, 6] ])\n",
        "\n",
        "mat_b = np.array([ [ 7,  8,  9],\n",
        "                   [10, 11, 12] ])\n",
        "\n",
        "mat_c = np.array([ [13, 14, 15],\n",
        "                   [16, 17, 18],\n",
        "                   [19, 20, 21],\n",
        "                   [22, 23, 24] ])\n",
        "\n",
        "print(f'hstack(A, B) =\\n{ np.hstack((mat_a, mat_b)) }\\n')\n",
        "print(f'vstack(A, C) =\\n{ np.vstack((mat_a, mat_c)) }\\n')\n",
        "\n",
        "print(f'hstack = concatenate(A, B) on axis 1 (row)\\n{ np.concatenate((mat_a, mat_b), axis=1) }\\n')\n",
        "print(f'vstack = concatenate(A, C) on axis 0 (column)\\n{ np.concatenate((mat_a, mat_c), axis=0) }\\n')"
      ],
      "execution_count": null,
      "outputs": [
        {
          "output_type": "stream",
          "text": [
            "hstack(A, B) =\n",
            "[[ 1  2  3  7  8  9]\n",
            " [ 4  5  6 10 11 12]]\n",
            "\n",
            "vstack(A, C) =\n",
            "[[ 1  2  3]\n",
            " [ 4  5  6]\n",
            " [13 14 15]\n",
            " [16 17 18]\n",
            " [19 20 21]\n",
            " [22 23 24]]\n",
            "\n",
            "hstack = concatenate(A, B) on axis 1 (row)\n",
            "[[ 1  2  3  7  8  9]\n",
            " [ 4  5  6 10 11 12]]\n",
            "\n",
            "vstack = concatenate(A, C) on axis 0 (column)\n",
            "[[ 1  2  3]\n",
            " [ 4  5  6]\n",
            " [13 14 15]\n",
            " [16 17 18]\n",
            " [19 20 21]\n",
            " [22 23 24]]\n",
            "\n"
          ],
          "name": "stdout"
        }
      ]
    },
    {
      "cell_type": "markdown",
      "metadata": {
        "id": "x8SEEDYO5rFD"
      },
      "source": [
        "### Matrix Norm\n",
        "\n",
        "- We can compute the size of a matrix $\\left\\| \\mathbf{A} \\right\\|$ by the command `la.norm`.\n",
        "- The command computes Frobenius norm, where:\n",
        "$$\n",
        "\\begin{eqnarray}\n",
        "    \\left\\| \\mathbf{A} \\right\\| & = & \\mathrm{Frobenius}(\\mathbf{A}) \\\\\n",
        "    & = & \\sqrt{ \\sum_{i = 1}^M \\sum_{j = 1}^N a_{ij}^2 } \\\\\n",
        "    & = & \\sqrt{ a_{11}^2 + a_{12}^2 + a_{13}^2 + \\ldots + a_{MN}^2 }\n",
        "\\end{eqnarray}\n",
        "$$"
      ]
    },
    {
      "cell_type": "code",
      "metadata": {
        "id": "ycz_XIrj5wpn",
        "colab": {
          "base_uri": "https://localhost:8080/",
          "height": 114
        },
        "outputId": "40cbeecb-77bc-470a-aa9c-7ab9868aabe8"
      },
      "source": [
        "mat6 = np.array( [ [1, 2, 3],\n",
        "                   [4, 5, 6] ] )\n",
        "\n",
        "matnorm = la.norm(mat6)\n",
        "print(matnorm)"
      ],
      "execution_count": null,
      "outputs": [
        {
          "output_type": "stream",
          "text": [
            "9.539392014169456\n"
          ],
          "name": "stdout"
        }
      ]
    },
    {
      "cell_type": "markdown",
      "metadata": {
        "id": "teEeAZm0Wnry"
      },
      "source": [
        "- We can also compute the norm by projection on a particular axis by specifying the argument `axis`."
      ]
    },
    {
      "cell_type": "code",
      "metadata": {
        "id": "5BE4MMNwXPHr",
        "colab": {
          "base_uri": "https://localhost:8080/",
          "height": 133
        },
        "outputId": "6c3b1b7b-305e-4b60-b87e-27d77ff49e77"
      },
      "source": [
        "vec_norms_0 = la.norm(mat6, axis=0)\n",
        "vec_norms_1 = la.norm(mat6, axis=1)\n",
        "print(vec_norms_0)\n",
        "print(vec_norms_1)"
      ],
      "execution_count": null,
      "outputs": [
        {
          "output_type": "stream",
          "text": [
            "[4.12310563 5.38516481 6.70820393]\n",
            "[3.74165739 8.77496439]\n"
          ],
          "name": "stdout"
        }
      ]
    },
    {
      "cell_type": "markdown",
      "metadata": {
        "id": "2ts3bC6zxFQT"
      },
      "source": [
        "-----\n",
        "## Exercises 2"
      ]
    },
    {
      "cell_type": "markdown",
      "metadata": {
        "id": "ccCx74EAxHfy"
      },
      "source": [
        "### Question 2.1\n",
        "\n",
        "Construct the following matrices.\n",
        "\n",
        "$$\n",
        "\\begin{eqnarray}\n",
        "    \\mathbf{A} & = &\n",
        "    \\left[ \\begin{array}{cc}\n",
        "        1 & 2 \\\\\n",
        "        3 & 4\n",
        "    \\end{array} \\right] \\\\\n",
        "    \\mathbf{B} & = &\n",
        "    \\left[ \\begin{array}{cc}\n",
        "        5 & 6 \\\\\n",
        "        7 & 8\n",
        "    \\end{array} \\right] \\\\\n",
        "    \\mathbf{C} & = &\n",
        "    \\left[ \\begin{array}{cccc}\n",
        "        9 & 10 & 11 & 12 \\\\\n",
        "        13 & 14 & 15 & 16\n",
        "    \\end{array} \\right] \n",
        "\\end{eqnarray}\n",
        "$$"
      ]
    },
    {
      "cell_type": "code",
      "metadata": {
        "id": "uY_JnMSo2M7p"
      },
      "source": [
        "# mat_a = __________\n",
        "# mat_b = __________\n",
        "# mat_c = __________\n",
        "# \n",
        "# print(f'A =\\n{mat_a}\\n')\n",
        "# print(f'B =\\n{mat_b}\\n')\n",
        "# print(f'C =\\n{mat_c}\\n')"
      ],
      "execution_count": null,
      "outputs": []
    },
    {
      "cell_type": "markdown",
      "metadata": {
        "id": "jaTcUxhP91Rk"
      },
      "source": [
        "#### Solution"
      ]
    },
    {
      "cell_type": "code",
      "metadata": {
        "id": "PcWdmBas92nY",
        "colab": {
          "base_uri": "https://localhost:8080/",
          "height": 236
        },
        "outputId": "344a264e-dccf-4b1a-ce0b-5bd93fc20583"
      },
      "source": [
        "mat_a = np.array([ [1, 2],\n",
        "                   [3, 4] ])\n",
        "mat_b = np.array([ [5, 6],\n",
        "                   [7, 8] ])\n",
        "mat_c = np.array([ [ 9, 10, 11, 12],\n",
        "                   [13, 14, 15, 16] ])\n",
        "\n",
        "print(f'A =\\n{mat_a}\\n')\n",
        "print(f'B =\\n{mat_b}\\n')\n",
        "print(f'C =\\n{mat_c}\\n')"
      ],
      "execution_count": null,
      "outputs": [
        {
          "output_type": "stream",
          "text": [
            "A =\n",
            "[[1 2]\n",
            " [3 4]]\n",
            "\n",
            "B =\n",
            "[[5 6]\n",
            " [7 8]]\n",
            "\n",
            "C =\n",
            "[[ 9 10 11 12]\n",
            " [13 14 15 16]]\n",
            "\n"
          ],
          "name": "stdout"
        }
      ]
    },
    {
      "cell_type": "markdown",
      "metadata": {
        "id": "7q3MQcuC2SdZ"
      },
      "source": [
        "### Question 2.2\n",
        "\n",
        "Concatenate the matrices created in Question 2.1 to construct the following matrices. Feel free to use `np.hstack`, `np.vstack`, and `np.concatenate`.\n",
        "\n",
        "$$\n",
        "\\begin{eqnarray}\n",
        "    \\mathbf{D} & = &\n",
        "    \\left[ \\begin{array}{cccc}\n",
        "        1 & 2 & 5 & 6 \\\\\n",
        "        3 & 4 & 7 & 8\n",
        "    \\end{array} \\right] \\\\\n",
        "    \\mathbf{E} & = &\n",
        "    \\left[ \\begin{array}{cc}\n",
        "        1 & 2 \\\\\n",
        "        3 & 4 \\\\\n",
        "        5 & 6 \\\\\n",
        "        7 & 8\n",
        "    \\end{array} \\right] \\\\\n",
        "    \\mathbf{F} & = &\n",
        "    \\left[ \\begin{array}{cccc}\n",
        "        1 & 2 & 5 & 6 \\\\\n",
        "        3 & 4 & 7 & 8 \\\\\n",
        "        9 & 10 & 11 & 12 \\\\\n",
        "        13 & 14 & 15 & 16\n",
        "    \\end{array} \\right] \n",
        "\\end{eqnarray}\n",
        "$$"
      ]
    },
    {
      "cell_type": "code",
      "metadata": {
        "id": "HUw1Tzlz27a-"
      },
      "source": [
        "# mat_d = __________\n",
        "# mat_e = __________\n",
        "# mat_f = __________\n",
        "# \n",
        "# print(f'D =\\n{mat_d}\\n')\n",
        "# print(f'E =\\n{mat_e}\\n')\n",
        "# print(f'F =\\n{mat_f}\\n')"
      ],
      "execution_count": null,
      "outputs": []
    },
    {
      "cell_type": "markdown",
      "metadata": {
        "id": "cYbV2aBSBcxn"
      },
      "source": [
        "#### Solution"
      ]
    },
    {
      "cell_type": "code",
      "metadata": {
        "id": "5wKSiVp6Bev0",
        "colab": {
          "base_uri": "https://localhost:8080/",
          "height": 302
        },
        "outputId": "0a6490a4-0b48-4be3-fa96-228a3a2b71d8"
      },
      "source": [
        "mat_d = np.hstack([mat_a, mat_b])\n",
        "mat_e = np.vstack([mat_a, mat_b])\n",
        "mat_f = np.vstack([mat_d, mat_c])\n",
        "\n",
        "print(f'D =\\n{mat_d}\\n')\n",
        "print(f'E =\\n{mat_e}\\n')\n",
        "print(f'F =\\n{mat_f}\\n')"
      ],
      "execution_count": null,
      "outputs": [
        {
          "output_type": "stream",
          "text": [
            "D =\n",
            "[[1 2 5 6]\n",
            " [3 4 7 8]]\n",
            "\n",
            "E =\n",
            "[[1 2]\n",
            " [3 4]\n",
            " [5 6]\n",
            " [7 8]]\n",
            "\n",
            "F =\n",
            "[[ 1  2  5  6]\n",
            " [ 3  4  7  8]\n",
            " [ 9 10 11 12]\n",
            " [13 14 15 16]]\n",
            "\n"
          ],
          "name": "stdout"
        }
      ]
    },
    {
      "cell_type": "markdown",
      "metadata": {
        "id": "4TmuKRym1PWd"
      },
      "source": [
        "-----\n",
        "## 3. Matrix Computation"
      ]
    },
    {
      "cell_type": "markdown",
      "metadata": {
        "id": "nKnJNQY61TCG"
      },
      "source": [
        "- In NumPy, vectors and matrices are treated similarly.\n",
        "- Therefore, we can apply mathematical operations such as addition and multiplication on vectors and matrices, given that they have identical shapes.\n",
        "- Let me define two matrices for our short demonstration."
      ]
    },
    {
      "cell_type": "code",
      "metadata": {
        "id": "16fpHN6E1LLs",
        "colab": {
          "base_uri": "https://localhost:8080/",
          "height": 162
        },
        "outputId": "be2e6e2f-b150-4870-93ad-0fa3e065251b"
      },
      "source": [
        "m1 = np.array( [ [1, 2, 3],\n",
        "                 [4, 5, 6] ] )\n",
        "m2 = np.array( [ [ 7,  8,  9],\n",
        "                 [10, 11, 12] ] )\n",
        "print(f'm1 =\\n{m1}')\n",
        "print(f'm2 =\\n{m2}')"
      ],
      "execution_count": null,
      "outputs": [
        {
          "output_type": "stream",
          "text": [
            "m1 =\n",
            "[[1 2 3]\n",
            " [4 5 6]]\n",
            "m2 =\n",
            "[[ 7  8  9]\n",
            " [10 11 12]]\n"
          ],
          "name": "stdout"
        }
      ]
    },
    {
      "cell_type": "markdown",
      "metadata": {
        "id": "5hwxVbs-1hI2"
      },
      "source": [
        "### Addition and Subtraction\n",
        "\n",
        "- We use `+` and `-`, respectively."
      ]
    },
    {
      "cell_type": "markdown",
      "metadata": {
        "id": "attr1VbG1htv"
      },
      "source": [
        "$$\n",
        "\\begin{eqnarray}\n",
        "\\left[ \\begin{array}{ccc}\n",
        "    1 & 2 & 3 \\\\\n",
        "    4 & 5 & 6\n",
        "\\end{array} \\right] + \\left[ \\begin{array}{ccc}\n",
        "    7 & 8 & 9 \\\\\n",
        "    10 & 11 & 12\n",
        "\\end{array} \\right] & = & \\left[ \\begin{array}{ccc}\n",
        "    8 & 10 & 12 \\\\\n",
        "    14 & 16 & 18\n",
        "\\end{array} \\right]\n",
        "\\end{eqnarray}\n",
        "$$"
      ]
    },
    {
      "cell_type": "code",
      "metadata": {
        "id": "mN7aPHvI1d9j",
        "colab": {
          "base_uri": "https://localhost:8080/",
          "height": 147
        },
        "outputId": "4a84b348-97bc-4b14-d255-d4e0c83e18e6"
      },
      "source": [
        "m_add = m1 + m2\n",
        "print(f'm1 + m2 =\\n{m_add}')"
      ],
      "execution_count": null,
      "outputs": [
        {
          "output_type": "stream",
          "text": [
            "m1 + m2 =\n",
            "[[ 8 10 12]\n",
            " [14 16 18]]\n"
          ],
          "name": "stdout"
        }
      ]
    },
    {
      "cell_type": "markdown",
      "metadata": {
        "id": "vWX9TKty1vXL"
      },
      "source": [
        "$$\n",
        "\\begin{eqnarray}\n",
        "\\left[ \\begin{array}{ccc}\n",
        "    7 & 8 & 9 \\\\\n",
        "    10 & 11 & 12\n",
        "\\end{array} \\right] - \\left[ \\begin{array}{ccc}\n",
        "    1 & 2 & 3 \\\\\n",
        "    4 & 5 & 6\n",
        "\\end{array} \\right] & = & \\left[ \\begin{array}{ccc}\n",
        "    6 & 6 & 6 \\\\\n",
        "    6 & 6 & 6\n",
        "\\end{array} \\right]\n",
        "\\end{eqnarray}\n",
        "$$"
      ]
    },
    {
      "cell_type": "code",
      "metadata": {
        "id": "l1ee6kYf1nHL",
        "colab": {
          "base_uri": "https://localhost:8080/",
          "height": 147
        },
        "outputId": "8319aaa2-a2cf-4ca7-ab8e-99000c7044d5"
      },
      "source": [
        "m_sub = m2 - m1\n",
        "print(f'm2 - m1 =\\n{m_sub}')"
      ],
      "execution_count": null,
      "outputs": [
        {
          "output_type": "stream",
          "text": [
            "m2 - m1 =\n",
            "[[6 6 6]\n",
            " [6 6 6]]\n"
          ],
          "name": "stdout"
        }
      ]
    },
    {
      "cell_type": "markdown",
      "metadata": {
        "id": "zUI80G2S11f7"
      },
      "source": [
        "### Transpose\n",
        "\n",
        "- We use the property `T` to transpose a matrix.\n",
        "\n",
        "$$\n",
        "\\begin{eqnarray}\n",
        "\\left[ \\begin{array}{ccc}\n",
        "    1 & 2 & 3 \\\\\n",
        "    4 & 5 & 6\n",
        "\\end{array} \\right]^\\top & = & \\left[ \\begin{array}{cc}\n",
        "    1 & 4 \\\\\n",
        "    2 & 5 \\\\\n",
        "    3 & 6\n",
        "\\end{array} \\right]\n",
        "\\end{eqnarray}\n",
        "$$"
      ]
    },
    {
      "cell_type": "code",
      "metadata": {
        "id": "MCORpDWb1yHf",
        "colab": {
          "base_uri": "https://localhost:8080/",
          "height": 166
        },
        "outputId": "7475218d-9f07-4f67-ebda-67ec121ce6ff"
      },
      "source": [
        "m_trans = m1.T\n",
        "print(f'transpose(m1) =\\n{m_trans}')"
      ],
      "execution_count": null,
      "outputs": [
        {
          "output_type": "stream",
          "text": [
            "transpose(m1) =\n",
            "[[1 4]\n",
            " [2 5]\n",
            " [3 6]]\n"
          ],
          "name": "stdout"
        }
      ]
    },
    {
      "cell_type": "markdown",
      "metadata": {
        "id": "4Oqi5RBr1_i5"
      },
      "source": [
        "### Scalar Multiplication\n",
        "\n",
        "- We simply use the operator `*`."
      ]
    },
    {
      "cell_type": "markdown",
      "metadata": {
        "id": "cyaVNAa22Coh"
      },
      "source": [
        "$$\n",
        "\\begin{eqnarray}\n",
        "4 \\times \\left[ \\begin{array}{ccc}\n",
        "    1 & 2 & 3 \\\\\n",
        "    4 & 5 & 6\n",
        "\\end{array} \\right] & = & \\left[ \\begin{array}{ccc}\n",
        "    4 & 8 & 12 \\\\\n",
        "    16 & 20 & 24\n",
        "\\end{array} \\right]\n",
        "\\end{eqnarray}\n",
        "$$"
      ]
    },
    {
      "cell_type": "code",
      "metadata": {
        "id": "lr4zkxS717LJ",
        "colab": {
          "base_uri": "https://localhost:8080/",
          "height": 147
        },
        "outputId": "01624fbb-ad1b-4a66-cb0c-3ff5e2470f89"
      },
      "source": [
        "m_smult = 4 * m1\n",
        "print(f'4 × m1 =\\n{m_smult}')"
      ],
      "execution_count": null,
      "outputs": [
        {
          "output_type": "stream",
          "text": [
            "4 × m1 =\n",
            "[[ 4  8 12]\n",
            " [16 20 24]]\n"
          ],
          "name": "stdout"
        }
      ]
    },
    {
      "cell_type": "markdown",
      "metadata": {
        "id": "8MrukUgS2IuZ"
      },
      "source": [
        "### Matrix Multiplication\n",
        "\n",
        "- We use the operator `@`.\n",
        "- Do *NOT* use the operator `*` as it is for element-wise multiplication.\n",
        "\n",
        "$$\n",
        "\\begin{eqnarray}\n",
        "\\left[ \\begin{array}{ccc}\n",
        "    1 & 2 & 3 \\\\\n",
        "    4 & 5 & 6\n",
        "\\end{array} \\right]_{2 \\times 3} \\times \\left[ \\begin{array}{cc}\n",
        "    7 & 10 \\\\\n",
        "    8 & 11 \\\\\n",
        "    9 & 12\n",
        "\\end{array} \\right]_{3 \\times 2} & = & \\left[ \\begin{array}{cc}\n",
        "    50 & 68 \\\\\n",
        "    122 & 167\n",
        "\\end{array} \\right]_{2 \\times 2}\n",
        "\\end{eqnarray}\n",
        "$$"
      ]
    },
    {
      "cell_type": "code",
      "metadata": {
        "id": "W55yFrz_2FLa",
        "colab": {
          "base_uri": "https://localhost:8080/",
          "height": 147
        },
        "outputId": "9458f4fd-c311-419b-ac5d-92e065f3d2bb"
      },
      "source": [
        "m_mult = m1 @ m2.T\n",
        "print(f'm1 × transpose(m2) =\\n{m_mult}')"
      ],
      "execution_count": null,
      "outputs": [
        {
          "output_type": "stream",
          "text": [
            "m1 × transpose(m2) =\n",
            "[[ 50  68]\n",
            " [122 167]]\n"
          ],
          "name": "stdout"
        }
      ]
    },
    {
      "cell_type": "markdown",
      "metadata": {
        "id": "MeEJS-_P2ZMh"
      },
      "source": [
        "- Note that multiplication of `m1` and `m2` would not work due to dimension mismatch.\n",
        "$$\n",
        "\\left[ \\begin{array}{ccc}\n",
        "    1 & 2 & 3 \\\\\n",
        "    4 & 5 & 6\n",
        "\\end{array} \\right]_{2 \\times 3} \\times \\left[ \\begin{array}{ccc}\n",
        "    7 & 8 & 9 \\\\\n",
        "    10 & 11 & 12\n",
        "\\end{array} \\right]_{2 \\times 3}\n",
        "$$"
      ]
    },
    {
      "cell_type": "code",
      "metadata": {
        "id": "YGX3QahK2VLt",
        "colab": {
          "base_uri": "https://localhost:8080/",
          "height": 187
        },
        "outputId": "eabaabcd-a9aa-4659-e96b-050bd5ee7fab"
      },
      "source": [
        "# print(m1 @ m2)       # This will cause an error message."
      ],
      "execution_count": null,
      "outputs": [
        {
          "output_type": "error",
          "ename": "ValueError",
          "evalue": "ignored",
          "traceback": [
            "\u001b[0;31m---------------------------------------------------------------------------\u001b[0m",
            "\u001b[0;31mValueError\u001b[0m                                Traceback (most recent call last)",
            "\u001b[0;32m<ipython-input-14-c0824ad7b046>\u001b[0m in \u001b[0;36m<module>\u001b[0;34m()\u001b[0m\n\u001b[0;32m----> 1\u001b[0;31m \u001b[0mprint\u001b[0m\u001b[0;34m(\u001b[0m\u001b[0mm1\u001b[0m \u001b[0;34m@\u001b[0m \u001b[0mm2\u001b[0m\u001b[0;34m)\u001b[0m       \u001b[0;31m# This will cause an error message.\u001b[0m\u001b[0;34m\u001b[0m\u001b[0;34m\u001b[0m\u001b[0m\n\u001b[0m",
            "\u001b[0;31mValueError\u001b[0m: matmul: Input operand 1 has a mismatch in its core dimension 0, with gufunc signature (n?,k),(k,m?)->(n?,m?) (size 2 is different from 3)"
          ]
        }
      ]
    },
    {
      "cell_type": "markdown",
      "metadata": {
        "id": "NwXGlzsb2k-M"
      },
      "source": [
        "### Element-wise Multiplication\n",
        "\n",
        "- We use the operator `*` for element-wise multiplication.\n",
        "$$\n",
        "\\begin{eqnarray}\n",
        "\\left[ \\begin{array}{ccc}\n",
        "    1 & 2 & 3 \\\\\n",
        "    4 & 5 & 6\n",
        "\\end{array} \\right]_{2 \\times 3} \\otimes \\left[ \\begin{array}{ccc}\n",
        "    7 & 8 & 9 \\\\\n",
        "    10 & 11 & 12\n",
        "\\end{array} \\right]_{2 \\times 3} & = & \\left[ \\begin{array}{ccc}\n",
        "    7 & 16 & 27 \\\\\n",
        "    40 & 55 & 72\n",
        "\\end{array} \\right]_{2 \\times 3}\n",
        "\\end{eqnarray}\n",
        "$$"
      ]
    },
    {
      "cell_type": "code",
      "metadata": {
        "id": "3IAArY042p7c",
        "colab": {
          "base_uri": "https://localhost:8080/",
          "height": 147
        },
        "outputId": "eb86c5c2-9d17-46d5-b51d-12258644128e"
      },
      "source": [
        "m_emult = m1 * m2\n",
        "print(f'm1 * m2 =\\n{m_emult}')"
      ],
      "execution_count": null,
      "outputs": [
        {
          "output_type": "stream",
          "text": [
            "m1 * m2 =\n",
            "[[ 7 16 27]\n",
            " [40 55 72]]\n"
          ],
          "name": "stdout"
        }
      ]
    },
    {
      "cell_type": "markdown",
      "metadata": {
        "id": "401fbhAbSt0E"
      },
      "source": [
        "### Vector-wise Operations via Broadcasting\n",
        "\n",
        "- For a binary operator e.g. `+`, `-`, `*` and `/`, if one operand is a matrix and the other one is a vector, the vector will be mapped to each row of the matrix before applying that operator element-wise. This procedure is called *broadcasting*.\n",
        "- For example,\n",
        "$$\n",
        "\\begin{eqnarray}\n",
        "    \\left[ \\begin{array}{ccc}\n",
        "        1 & 3 & 2 \\\\\n",
        "        2 & 2 & 1 \\\\\n",
        "        3 & 1 & 3\n",
        "    \\end{array} \\right]\n",
        "    *\n",
        "    \\left[ \\begin{array}{ccc}\n",
        "        4 & 5 & 10\n",
        "    \\end{array} \\right]\n",
        "    & = &\n",
        "    \\left[ \\begin{array}{ccc}\n",
        "        4 & 15 & 20 \\\\\n",
        "        8 & 10 & 10 \\\\\n",
        "        12 & 5 & 30\n",
        "    \\end{array} \\right]\n",
        "\\end{eqnarray}\n",
        "$$"
      ]
    },
    {
      "cell_type": "code",
      "metadata": {
        "id": "LNRpZ101UQ46",
        "colab": {
          "base_uri": "https://localhost:8080/",
          "height": 110
        },
        "outputId": "9164d8ba-4481-495d-eeae-d042635dcd21"
      },
      "source": [
        "vec_a = np.array([ [1,3,2],\n",
        "                   [2,2,1],\n",
        "                   [3,1,3] ])\n",
        "vec_b = np.array([4, 5, 10])\n",
        "\n",
        "print(vec_a * vec_b)"
      ],
      "execution_count": null,
      "outputs": [
        {
          "output_type": "stream",
          "text": [
            "[[ 4 15 20]\n",
            " [ 8 10 10]\n",
            " [12  5 30]]\n"
          ],
          "name": "stdout"
        }
      ]
    },
    {
      "cell_type": "markdown",
      "metadata": {
        "id": "VwSVle2hLj4N"
      },
      "source": [
        "- For example,\n",
        "$$\n",
        "\\begin{eqnarray}\n",
        "    \\left[ \\begin{array}{ccc}\n",
        "        1 & 3 & 2 \\\\\n",
        "        2 & 2 & 1 \\\\\n",
        "        3 & 1 & 3\n",
        "    \\end{array} \\right]\n",
        "    /\n",
        "    \\left[ \\begin{array}{ccc}\n",
        "        4 & 5 & 10\n",
        "    \\end{array} \\right]\n",
        "    & = &\n",
        "    \\left[ \\begin{array}{ccc}\n",
        "        0.25 & 0.6 & 0.2 \\\\\n",
        "        0.5 & 0.4 & 0.1 \\\\\n",
        "        0.75 & 0.2 & 0.3\n",
        "    \\end{array} \\right]\n",
        "\\end{eqnarray}\n",
        "$$"
      ]
    },
    {
      "cell_type": "code",
      "metadata": {
        "id": "sahXfsVjK4qt",
        "colab": {
          "base_uri": "https://localhost:8080/",
          "height": 147
        },
        "outputId": "6f3f1693-dedd-482b-9486-c9aaad4b0f49"
      },
      "source": [
        "vec_a = np.array([ [1,3,2],\n",
        "                   [2,2,1],\n",
        "                   [3,1,3] ])\n",
        "vec_b = np.array([4, 5, 10])\n",
        "\n",
        "print(vec_a / vec_b)"
      ],
      "execution_count": null,
      "outputs": [
        {
          "output_type": "stream",
          "text": [
            "[[0.25 0.6  0.2 ]\n",
            " [0.5  0.4  0.1 ]\n",
            " [0.75 0.2  0.3 ]]\n"
          ],
          "name": "stdout"
        }
      ]
    },
    {
      "cell_type": "markdown",
      "metadata": {
        "id": "unQbXAOg2tyA"
      },
      "source": [
        "-----\n",
        "## Exercises 3"
      ]
    },
    {
      "cell_type": "markdown",
      "metadata": {
        "id": "3Hdy54jk2wA_"
      },
      "source": [
        "### Question 3.1\n",
        "\n",
        "Define the following matrices and compute $\\mathbf{A} + \\mathbf{B} + 4 \\mathbf{C}$, where\n",
        "\n",
        "$$\n",
        "\\begin{eqnarray}\n",
        "    \\mathbf{A} & = & \\left[ \\begin{array}{ccc}\n",
        "        0 & 0 & 0 \\\\\n",
        "        0 & 0 & 0\n",
        "    \\end{array} \\right] \\\\\n",
        "    \\mathbf{B} & = & \\left[ \\begin{array}{ccc}\n",
        "        1 & 1 & 1 \\\\\n",
        "        1 & 1 & 1\n",
        "    \\end{array} \\right] \\\\\n",
        "    \\mathbf{C} & = & \\left[ \\begin{array}{ccc}\n",
        "        1 & 0 & 0 \\\\\n",
        "        0 & 1 & 0\n",
        "    \\end{array} \\right] \\\\\n",
        "\\end{eqnarray}\n",
        "$$"
      ]
    },
    {
      "cell_type": "code",
      "metadata": {
        "id": "teR_CuHa2fkP"
      },
      "source": [
        "# mat_a = np.zeros( _____ )        # Fill in these blanks\n",
        "# mat_b = np.ones( _____ )\n",
        "# mat_c = np.eye( _____ )\n",
        "# result = __________\n",
        "# print(result)"
      ],
      "execution_count": null,
      "outputs": []
    },
    {
      "cell_type": "markdown",
      "metadata": {
        "id": "8fWLe50U-Sb1"
      },
      "source": [
        "#### Solution"
      ]
    },
    {
      "cell_type": "code",
      "metadata": {
        "id": "sppM40Zn-UQR",
        "colab": {
          "base_uri": "https://localhost:8080/",
          "height": 71
        },
        "outputId": "6fa5d4e5-0e7e-42f8-a81a-9206259de4e2"
      },
      "source": [
        "mat_a = np.zeros((2, 3))\n",
        "mat_b = np.ones((2, 3))\n",
        "mat_c = np.eye(2, 3)\n",
        "result = mat_a + mat_b + 4 * mat_c\n",
        "print(result)"
      ],
      "execution_count": null,
      "outputs": [
        {
          "output_type": "stream",
          "text": [
            "[[5. 1. 1.]\n",
            " [1. 5. 1.]]\n"
          ],
          "name": "stdout"
        }
      ]
    },
    {
      "cell_type": "markdown",
      "metadata": {
        "id": "VEKguLrK26Qz"
      },
      "source": [
        "### Question 3.2\n",
        "\n",
        "Compute $\\mathbf{A}^\\top \\times \\mathbf{A}$, where $\\mathbf{A}$ is a randomized matrix of shape $(3, 4)$."
      ]
    },
    {
      "cell_type": "code",
      "metadata": {
        "id": "_kL4rBwg29CW"
      },
      "source": [
        "# mat_a = np.random.randn( _____ )        # Fill in these blanks\n",
        "# result = __________\n",
        "# print(result)"
      ],
      "execution_count": null,
      "outputs": []
    },
    {
      "cell_type": "markdown",
      "metadata": {
        "id": "5wsQfu8_Cccc"
      },
      "source": [
        "#### Solution"
      ]
    },
    {
      "cell_type": "code",
      "metadata": {
        "id": "vzdmnbZYCgiC",
        "colab": {
          "base_uri": "https://localhost:8080/",
          "height": 104
        },
        "outputId": "2c948afb-cfff-496a-89b2-e5bd15e9ce0b"
      },
      "source": [
        "mat_a = np.random.randn(3, 4)        # Fill in these blanks\n",
        "result = mat_a.T @ mat_a\n",
        "print(result)"
      ],
      "execution_count": null,
      "outputs": [
        {
          "output_type": "stream",
          "text": [
            "[[1.41950012 1.67762685 2.13614108 0.58961153]\n",
            " [1.67762685 2.07146447 2.44442475 0.67097498]\n",
            " [2.13614108 2.44442475 3.99002388 0.51970322]\n",
            " [0.58961153 0.67097498 0.51970322 0.46979735]]\n"
          ],
          "name": "stdout"
        }
      ]
    },
    {
      "cell_type": "markdown",
      "metadata": {
        "id": "XNbglnZO3FWc"
      },
      "source": [
        "### Question 3.3\n",
        "\n",
        "Compute $ \\left( \\mathbf{A} \\otimes \\mathbf{B} \\right)^\\top \\times \\mathbf{C}^\\top $, where $\\mathbf{A}$, $\\mathbf{B}$, and $\\mathbf{C}$ are randomized matrices of shapes (2, 3), (2, 3), and (3, 2), respectively."
      ]
    },
    {
      "cell_type": "code",
      "metadata": {
        "id": "CTI4QR_Y3KBl"
      },
      "source": [
        "# mat_a = np.random.randn( _____ )        # Fill in these blanks\n",
        "# mat_b = np.random.randn( _____ )\n",
        "# mat_c = np.random.randn( _____ )\n",
        "# result = __________\n",
        "# print(result)"
      ],
      "execution_count": null,
      "outputs": []
    },
    {
      "cell_type": "markdown",
      "metadata": {
        "id": "BvUPIQnTCy9Y"
      },
      "source": [
        "#### Solution"
      ]
    },
    {
      "cell_type": "code",
      "metadata": {
        "id": "X-egaiiPC0pJ",
        "colab": {
          "base_uri": "https://localhost:8080/",
          "height": 87
        },
        "outputId": "48b8854f-cebb-4a50-892e-2267f5e0d596"
      },
      "source": [
        "mat_a = np.random.randn(2, 3)\n",
        "mat_b = np.random.randn(2, 3)\n",
        "mat_c = np.random.randn(3, 2)\n",
        "result = (mat_a * mat_b).T @ mat_c.T\n",
        "print(result)"
      ],
      "execution_count": null,
      "outputs": [
        {
          "output_type": "stream",
          "text": [
            "[[-0.09764487  0.13164273 -0.13167047]\n",
            " [-0.11629672  0.15515451 -0.14929548]\n",
            " [-0.13281072  0.18051556 -0.18582795]]\n"
          ],
          "name": "stdout"
        }
      ]
    },
    {
      "cell_type": "markdown",
      "metadata": {
        "id": "Mc7CFdoJ3IUM"
      },
      "source": [
        "### Question 3.4\n",
        "\n",
        "Compute $ \\mathbf{R} = \\mathbf{A}^\\top \\times \\mathbf{A} $, where $\\mathbf{A}$ is a randomized matrix of shape (3, 4). Then replace the first column with a random vector."
      ]
    },
    {
      "cell_type": "code",
      "metadata": {
        "id": "yF7WDhei3SWN"
      },
      "source": [
        "# mat_a = rnd.randn( _____ )\n",
        "# mat_r = __________\n",
        "# print(mat_r)\n",
        "# \n",
        "# mat_r[ _____ ] = __________\n",
        "# print(mat_r)"
      ],
      "execution_count": null,
      "outputs": []
    },
    {
      "cell_type": "markdown",
      "metadata": {
        "id": "RO07JZACDO7G"
      },
      "source": [
        "#### Solution"
      ]
    },
    {
      "cell_type": "code",
      "metadata": {
        "id": "bRN95nc-DQwp",
        "colab": {
          "base_uri": "https://localhost:8080/",
          "height": 170
        },
        "outputId": "b2dc0741-4d06-49ee-b4d6-636b09b64843"
      },
      "source": [
        "mat_a = rnd.randn(3, 4)\n",
        "mat_r = mat_a.T @ mat_a\n",
        "print(mat_r)\n",
        "\n",
        "mat_r[:, 0] = rnd.randn(4)\n",
        "print(mat_r)"
      ],
      "execution_count": null,
      "outputs": [
        {
          "output_type": "stream",
          "text": [
            "[[ 0.31782455  0.36109849 -1.31898215 -0.47195717]\n",
            " [ 0.36109849  1.11081698 -1.82903102 -0.34154552]\n",
            " [-1.31898215 -1.82903102  5.99239812  2.44795641]\n",
            " [-0.47195717 -0.34154552  2.44795641  1.68610753]]\n",
            "[[-1.25894992  0.36109849 -1.31898215 -0.47195717]\n",
            " [ 0.16816898  1.11081698 -1.82903102 -0.34154552]\n",
            " [ 1.62136937 -1.82903102  5.99239812  2.44795641]\n",
            " [-1.05984397 -0.34154552  2.44795641  1.68610753]]\n"
          ],
          "name": "stdout"
        }
      ]
    },
    {
      "cell_type": "markdown",
      "metadata": {
        "id": "1lk4orKxVLxT"
      },
      "source": [
        "### Question 3.5\n",
        "\n",
        "Construct matrix $\\mathbf{F}$, where\n",
        "$$\n",
        "\\begin{eqnarray}\n",
        "\\mathbf{F} & = &\n",
        "    \\left[ \\begin{array}{cccc}\n",
        "        1 & 2 & 3 & 4 \\\\\n",
        "        5 & 6 & 7 & 8 \\\\\n",
        "        9 & 10 & 11 & 12 \\\\\n",
        "        13 & 14 & 15 & 16\n",
        "    \\end{array} \\right] \n",
        "\\end{eqnarray}\n",
        "$$\n",
        "Then convert each *column* of $\\mathbf{F}$ into a unit vector using vector-wise operation."
      ]
    },
    {
      "cell_type": "code",
      "metadata": {
        "id": "72AniqgAVjdV"
      },
      "source": [
        "# mat_f = __________\n",
        "# vec_norms = __________\n",
        "# \n",
        "# result = __________\n",
        "# \n",
        "# print(result)"
      ],
      "execution_count": null,
      "outputs": []
    },
    {
      "cell_type": "markdown",
      "metadata": {
        "id": "WmmE2ricDq60"
      },
      "source": [
        "#### Solution"
      ]
    },
    {
      "cell_type": "code",
      "metadata": {
        "id": "H5rZO_I0DtGs",
        "colab": {
          "base_uri": "https://localhost:8080/",
          "height": 104
        },
        "outputId": "02cac5a1-b481-4516-9a2e-9e48f85f0a11"
      },
      "source": [
        "mat_f = np.array([ [ 1,  2,  3,  4],\n",
        "                   [ 5,  6,  7,  8],\n",
        "                   [ 9, 10, 11, 12],\n",
        "                   [13, 14, 15, 16] ])\n",
        "vec_norms = la.norm(mat_f, axis=0)\n",
        "\n",
        "result = mat_f / vec_norms\n",
        "\n",
        "print(result)"
      ],
      "execution_count": null,
      "outputs": [
        {
          "output_type": "stream",
          "text": [
            "[[0.06019293 0.10910895 0.14925558 0.18257419]\n",
            " [0.30096463 0.32732684 0.34826302 0.36514837]\n",
            " [0.54173634 0.54554473 0.54727045 0.54772256]\n",
            " [0.78250805 0.76376262 0.74627789 0.73029674]]\n"
          ],
          "name": "stdout"
        }
      ]
    },
    {
      "cell_type": "markdown",
      "metadata": {
        "id": "q2pec8bgMzm3"
      },
      "source": [
        "### Question 3.6\n",
        "\n",
        "Check if each column vector of $\\mathbf{F}$ is a unit vector. The norm of a unit vector should be equal or very close to 1. In this question, we say that two real numbers $r_1$ and $r_2$ are very close to each other if $\\left| r_1 - r_2 \\right| < \\epsilon$, where $\\epsilon$ is a very small real number e.g. $10^{-6}$."
      ]
    },
    {
      "cell_type": "code",
      "metadata": {
        "id": "ze0y79K-M_kX"
      },
      "source": [
        "# for col in range( __________ ):\n",
        "#     if not __________ :\n",
        "#         print(f'Column {col} is not a unit vector!')"
      ],
      "execution_count": null,
      "outputs": []
    },
    {
      "cell_type": "markdown",
      "metadata": {
        "id": "JlS1GMR0EGJF"
      },
      "source": [
        "#### Solution"
      ]
    },
    {
      "cell_type": "code",
      "metadata": {
        "id": "r0Rp-O0yEHwt"
      },
      "source": [
        "for col in range(result.shape[0]):\n",
        "    if not (abs(la.norm(result[:, col]) - 1.0) <= 1e-6):\n",
        "        print(f'Column {col} is not a unit vector!')"
      ],
      "execution_count": null,
      "outputs": []
    },
    {
      "cell_type": "markdown",
      "metadata": {
        "id": "2qSYmFxcE1EF"
      },
      "source": [
        "-----\n",
        "## 4. Tensors"
      ]
    },
    {
      "cell_type": "markdown",
      "metadata": {
        "id": "e4vgayK7L7Pc"
      },
      "source": [
        "### Tensor as Data Batches\n",
        "\n",
        "- Tensor is essentially an $N$-dimensional array. It is a generalized form of data collection, where its dimension can be greater than 2.\n",
        "- In mathematics, we call $N$ the rank of the tensor, and we say that this is a *rank-$N$ tensor*.\n",
        "- Therefore, any scalar quantity is a rank-0 tensor, any vector is a rank-1 tensor, while any matrix is a rank-2 tensor.\n",
        "- For the sake of analogy, we can consider any tensor of rank greater than two as a collection of matrices, a.k.a. *batches*.\n",
        "\n",
        "- For example, we can create a rank-3 tensor $\\mathbf{A} = \\left[ \\begin{array}{c}\n",
        "    \\mathbf{A}_1 \\\\\n",
        "    \\mathbf{A}_2 \n",
        "\\end{array} \\right]$, where $A_1$ and $A_2$ are two batches of data:\n",
        "$$\n",
        "\\begin{eqnarray}\n",
        "    \\mathbf{A}_1 & = &\n",
        "    \\left[ \\begin{array}{cc}\n",
        "        1 & 2 \\\\\n",
        "        3 & 4\n",
        "    \\end{array} \\right] \\\\\n",
        "    \\mathbf{A}_2 & = &\n",
        "    \\left[ \\begin{array}{cc}\n",
        "        5 & 6 \\\\\n",
        "        7 & 8\n",
        "    \\end{array} \\right]\n",
        "\\end{eqnarray}\n",
        "$$\n",
        "\n",
        "- Note that `numpy` separates $\\mathbf{A}_1$ and $\\mathbf{A}_2$ with a blank line when printed out."
      ]
    },
    {
      "cell_type": "code",
      "metadata": {
        "id": "rUoc7TBLORU0",
        "colab": {
          "base_uri": "https://localhost:8080/",
          "height": 180
        },
        "outputId": "56757f6b-41ab-4717-8f57-5bda69b06cb9"
      },
      "source": [
        "# tsr_a is a 3-dimensional tensor consisting of two matrices\n",
        "tsr_a = np.array([ [ [1, 2],           # matrix 1\n",
        "                     [3, 4] ],\n",
        "                   [ [5, 6],           # matrix 2\n",
        "                     [7, 8] ] ])\n",
        "print(tsr_a)"
      ],
      "execution_count": null,
      "outputs": [
        {
          "output_type": "stream",
          "text": [
            "[[[1 2]\n",
            "  [3 4]]\n",
            "\n",
            " [[5 6]\n",
            "  [7 8]]]\n"
          ],
          "name": "stdout"
        }
      ]
    },
    {
      "cell_type": "markdown",
      "metadata": {
        "id": "nBsuR_dNTdsM"
      },
      "source": [
        "- The above tensor can also be rewritten as follows:\n",
        "$$\n",
        "\\begin{eqnarray}\n",
        "    \\mathbf{A} & = &\n",
        "    \\left[ \\begin{array}{c}\n",
        "        \\left[ \\begin{array}{cc}\n",
        "            1 & 2 \\\\\n",
        "            3 & 4\n",
        "        \\end{array} \\right]\n",
        "        \\\\\n",
        "        \\left[ \\begin{array}{cc}\n",
        "            5 & 6 \\\\\n",
        "            7 & 8\n",
        "        \\end{array} \\right]\n",
        "    \\end{array} \\right]\n",
        "\\end{eqnarray}\n",
        "$$\n",
        "whose shape is `(2, 2, 2)`."
      ]
    },
    {
      "cell_type": "code",
      "metadata": {
        "id": "Kb-bDgnnctez",
        "colab": {
          "base_uri": "https://localhost:8080/",
          "height": 114
        },
        "outputId": "470abfda-d6c3-4ba1-8d01-82c206576b03"
      },
      "source": [
        "print(tsr_a.shape)"
      ],
      "execution_count": null,
      "outputs": [
        {
          "output_type": "stream",
          "text": [
            "(2, 2, 2)\n"
          ],
          "name": "stdout"
        }
      ]
    },
    {
      "cell_type": "markdown",
      "metadata": {
        "id": "yUkJzHgKOvZl"
      },
      "source": [
        "- In the case where rank $N > 3$, more than one blank line is used to separate between dimensions.\n",
        "- For example, in rank-4 tensor $\\mathbf{B}$, the two blank lines separate the first dimension, while each blank line separate the second dimension.\n",
        "\n",
        "$$\n",
        "\\begin{eqnarray}\n",
        "    \\mathbf{B} & = &\n",
        "    \\left[ \\begin{array}{cc}\n",
        "        \\left[ \\begin{array}{cc}\n",
        "            1 & 2 \\\\\n",
        "            3 & 4\n",
        "        \\end{array} \\right]\n",
        "        &\n",
        "        \\left[ \\begin{array}{cc}\n",
        "            5 & 6 \\\\\n",
        "            7 & 8\n",
        "        \\end{array} \\right] \\\\\n",
        "        \\left[ \\begin{array}{cc}\n",
        "            9 & 10 \\\\\n",
        "            11 & 12\n",
        "        \\end{array} \\right]\n",
        "        &\n",
        "        \\left[ \\begin{array}{cc}\n",
        "            13 & 14 \\\\\n",
        "            15 & 16\n",
        "        \\end{array} \\right]\n",
        "    \\end{array} \\right]\n",
        "\\end{eqnarray}\n",
        "$$"
      ]
    },
    {
      "cell_type": "code",
      "metadata": {
        "id": "VU9RDipsOeQX",
        "colab": {
          "base_uri": "https://localhost:8080/",
          "height": 296
        },
        "outputId": "ba4b5a6d-6820-44b8-a824-ad3c02ed3ea2"
      },
      "source": [
        "tsr_b = np.array([ [ [ [1, 2],\n",
        "                       [3, 4] ],\n",
        "                     [ [5, 6],\n",
        "                       [7, 8] ] ],\n",
        "                   [ [ [9, 10],\n",
        "                       [11, 12] ],\n",
        "                     [ [13, 14],\n",
        "                       [15, 16] ] ] ])\n",
        "print(tsr_b)"
      ],
      "execution_count": null,
      "outputs": [
        {
          "output_type": "stream",
          "text": [
            "[[[[ 1  2]\n",
            "   [ 3  4]]\n",
            "\n",
            "  [[ 5  6]\n",
            "   [ 7  8]]]\n",
            "\n",
            "\n",
            " [[[ 9 10]\n",
            "   [11 12]]\n",
            "\n",
            "  [[13 14]\n",
            "   [15 16]]]]\n"
          ],
          "name": "stdout"
        }
      ]
    },
    {
      "cell_type": "markdown",
      "metadata": {
        "id": "-dd4cOX1hELd"
      },
      "source": [
        "### Indexing and Setting\n",
        "\n",
        "- We can do indexing and setting on a tensor simply by `[]` and `:` as if we are dealing with vectors and matrices. \n",
        "- For example, let's consider tensor $\\mathbf{B}$.\n",
        "\n",
        "$$\n",
        "\\begin{eqnarray}\n",
        "    \\mathbf{B} & = &\n",
        "    \\left[ \\begin{array}{cc}\n",
        "        \\left[ \\begin{array}{cc}\n",
        "            1 & 2 \\\\\n",
        "            3 & 4\n",
        "        \\end{array} \\right]\n",
        "        &\n",
        "        \\left[ \\begin{array}{cc}\n",
        "            5 & 6 \\\\\n",
        "            7 & 8\n",
        "        \\end{array} \\right] \\\\\n",
        "        \\left[ \\begin{array}{cc}\n",
        "            9 & 10 \\\\\n",
        "            11 & 12\n",
        "        \\end{array} \\right]\n",
        "        &\n",
        "        \\left[ \\begin{array}{cc}\n",
        "            13 & 14 \\\\\n",
        "            15 & 16\n",
        "        \\end{array} \\right]\n",
        "    \\end{array} \\right]\n",
        "\\end{eqnarray}\n",
        "$$"
      ]
    },
    {
      "cell_type": "code",
      "metadata": {
        "id": "ImhLxvC5VPwf",
        "colab": {
          "base_uri": "https://localhost:8080/",
          "height": 329
        },
        "outputId": "2b9cc534-6e24-44e0-e889-1b002b71c623"
      },
      "source": [
        "tsr_b = np.array([ [ [ [1, 2],\n",
        "                       [3, 4] ],\n",
        "                     [ [5, 6],\n",
        "                       [7, 8] ] ],\n",
        "                   [ [ [9, 10],\n",
        "                       [11, 12] ],\n",
        "                     [ [13, 14],\n",
        "                       [15, 16] ] ] ])\n",
        "print(f'Tensor B:\\n{tsr_b}')\n",
        "print(f'Shape of B = {tsr_b.shape}')"
      ],
      "execution_count": null,
      "outputs": [
        {
          "output_type": "stream",
          "text": [
            "Tensor B:\n",
            "[[[[ 1  2]\n",
            "   [ 3  4]]\n",
            "\n",
            "  [[ 5  6]\n",
            "   [ 7  8]]]\n",
            "\n",
            "\n",
            " [[[ 9 10]\n",
            "   [11 12]]\n",
            "\n",
            "  [[13 14]\n",
            "   [15 16]]]]\n",
            "Shape of B = (2, 2, 2, 2)\n"
          ],
          "name": "stdout"
        }
      ]
    },
    {
      "cell_type": "markdown",
      "metadata": {
        "id": "w_NtiUVXic6h"
      },
      "source": [
        "- How can we get access to the cell in which 7 is in? The number 7 is in the matrix in row 1, column 2; therefore, we want to address $\\mathbf{B}_{1, 2}$. Then, we further address the cell of 7, which is in row 2, column 1.\n",
        "- Therefore, we obtain that:\n",
        "$$\n",
        "\\begin{eqnarray}\n",
        "    B_{1, 2, 2, 1} & = & 7\n",
        "\\end{eqnarray}\n",
        "$$"
      ]
    },
    {
      "cell_type": "code",
      "metadata": {
        "id": "nm7Ow3Nwhzea",
        "colab": {
          "base_uri": "https://localhost:8080/",
          "height": 114
        },
        "outputId": "bf2297ae-6371-4ea8-9d37-16f2daa1f8f6"
      },
      "source": [
        "print(f'B[0,1,1,0] = { tsr_b[0, 1, 1, 0] }')        # row 1, column 2, row 2, column 1"
      ],
      "execution_count": null,
      "outputs": [
        {
          "output_type": "stream",
          "text": [
            "B[0,1,1,0] = 7\n"
          ],
          "name": "stdout"
        }
      ]
    },
    {
      "cell_type": "markdown",
      "metadata": {
        "id": "YFwrb8tij2aO"
      },
      "source": [
        "- By placing `:` in a specific dimension, we can now get access to a specified row or column."
      ]
    },
    {
      "cell_type": "code",
      "metadata": {
        "id": "DmHkKxovjPxM",
        "colab": {
          "base_uri": "https://localhost:8080/",
          "height": 166
        },
        "outputId": "0d720f78-9b94-46ad-83bb-526fdd07107f"
      },
      "source": [
        "print(f'B[0,1,1,:] = { tsr_b[0, 1, 1, :] }')        # row 1, column 2, row 2, all columns\n",
        "print(f'B[0,1,:,0] = { tsr_b[0, 1, :, 0] }')        # row 1, column 2, all rows, column 1\n",
        "print(f'B[0,:,1,0] = { tsr_b[0, :, 1, 0] }')        # row 1, all columns, row 2, column 1\n",
        "print(f'B[:,1,1,0] = { tsr_b[:, 1, 1, 0] }')        # all rows, column 2, row 2, column 1"
      ],
      "execution_count": null,
      "outputs": [
        {
          "output_type": "stream",
          "text": [
            "B[0,1,1,:] = [7 8]\n",
            "B[0,1,:,0] = [5 7]\n",
            "B[0,:,1,0] = [3 7]\n",
            "B[:,1,1,0] = [ 7 15]\n"
          ],
          "name": "stdout"
        }
      ]
    },
    {
      "cell_type": "markdown",
      "metadata": {
        "id": "c3FqVfSrlWxu"
      },
      "source": [
        "- Of course, we can place `:` on more than one dimension, resulting in access to a matrix or even a tensor."
      ]
    },
    {
      "cell_type": "code",
      "metadata": {
        "id": "OyOJWBvKkIZZ",
        "colab": {
          "base_uri": "https://localhost:8080/",
          "height": 280
        },
        "outputId": "6f7a2ffc-10f6-4190-81f3-085d4bdec43f"
      },
      "source": [
        "print(f'B[0,1,:,:] =\\n{ tsr_b[0, 1, :, :] }\\n')        # row 1, column 2, all rows, all columns\n",
        "print(f'B[0,:,:,0] =\\n{ tsr_b[0, :, :, 0] }\\n')        # row 1, all columns, all rows, column 1\n",
        "print(f'B[:,:,1,0] =\\n{ tsr_b[:, :, 1, 0] }')          # all rows, all columns, row 2, column 1"
      ],
      "execution_count": null,
      "outputs": [
        {
          "output_type": "stream",
          "text": [
            "B[0,1,:,:] =\n",
            "[[5 6]\n",
            " [7 8]]\n",
            "\n",
            "B[0,:,:,0] =\n",
            "[[1 3]\n",
            " [5 7]]\n",
            "\n",
            "B[:,:,1,0] =\n",
            "[[ 3  7]\n",
            " [11 15]]\n"
          ],
          "name": "stdout"
        }
      ]
    },
    {
      "cell_type": "code",
      "metadata": {
        "id": "_VhnL-T6lu6n",
        "colab": {
          "base_uri": "https://localhost:8080/",
          "height": 546
        },
        "outputId": "8f82e3bc-6670-4f0e-cb9f-6126d684970d"
      },
      "source": [
        "print(f'B[0,:,:,:] =\\n{ tsr_b[0, :, :, :] }\\n')        # row 1, all columns, all rows, all columns\n",
        "print(f'B[:,1,:,:] =\\n{ tsr_b[:, 1, :, :] }\\n')        # all rows, column 2, all rows, all columns\n",
        "print(f'B[:,:,1,:] =\\n{ tsr_b[:, :, 1, :] }\\n')        # all rows, all columns, row 2, all columns\n",
        "print(f'B[:,:,:,0] =\\n{ tsr_b[:, :, :, 0] }')          # all rows, all columns, all rows, column 1"
      ],
      "execution_count": null,
      "outputs": [
        {
          "output_type": "stream",
          "text": [
            "B[0,:,:,:] =\n",
            "[[[1 2]\n",
            "  [3 4]]\n",
            "\n",
            " [[5 6]\n",
            "  [7 8]]]\n",
            "\n",
            "B[:,1,:,:] =\n",
            "[[[ 5  6]\n",
            "  [ 7  8]]\n",
            "\n",
            " [[13 14]\n",
            "  [15 16]]]\n",
            "\n",
            "B[:,:,1,:] =\n",
            "[[[ 3  4]\n",
            "  [ 7  8]]\n",
            "\n",
            " [[11 12]\n",
            "  [15 16]]]\n",
            "\n",
            "B[:,:,:,0] =\n",
            "[[[ 1  3]\n",
            "  [ 5  7]]\n",
            "\n",
            " [[ 9 11]\n",
            "  [13 15]]]\n"
          ],
          "name": "stdout"
        }
      ]
    },
    {
      "cell_type": "markdown",
      "metadata": {
        "id": "qFtsYmBxmtC0"
      },
      "source": [
        "- **Tips for advanced programmers:** If we fix one or both ends of the index sequence, we can replace consecutive `:`'s with `...`"
      ]
    },
    {
      "cell_type": "code",
      "metadata": {
        "id": "WwIoCc0SmDz5",
        "colab": {
          "base_uri": "https://localhost:8080/",
          "height": 613
        },
        "outputId": "cde19e2c-4aa3-43ef-ccf0-e6e9978ed0e9"
      },
      "source": [
        "print(f'B[0,...] =\\n{   tsr_b[0, ...]    }\\n')      # equals to tsr_b[0, :, :, :]\n",
        "print(f'B[:,1,...] =\\n{ tsr_b[:, 1, ...] }\\n')      # equals to tsr_b[:, 1, :, :]\n",
        "print(f'B[...,1,:] =\\n{ tsr_b[..., 1, :] }\\n')      # equals to tsr_b[:, :, 1, :]\n",
        "print(f'B[...,0] =\\n{   tsr_b[..., 0]    }\\n')      # equals to tsr_b[:, :, :, 0]\n",
        "print(f'B[0,...,0] =\\n{ tsr_b[0, ..., 0] }')        # equals to tsr_b[0, :, :, 0]"
      ],
      "execution_count": null,
      "outputs": [
        {
          "output_type": "stream",
          "text": [
            "B[0,...] =\n",
            "[[[1 2]\n",
            "  [3 4]]\n",
            "\n",
            " [[5 6]\n",
            "  [7 8]]]\n",
            "\n",
            "B[:,1,...] =\n",
            "[[[ 5  6]\n",
            "  [ 7  8]]\n",
            "\n",
            " [[13 14]\n",
            "  [15 16]]]\n",
            "\n",
            "B[...,1,:] =\n",
            "[[[ 3  4]\n",
            "  [ 7  8]]\n",
            "\n",
            " [[11 12]\n",
            "  [15 16]]]\n",
            "\n",
            "B[...,0] =\n",
            "[[[ 1  3]\n",
            "  [ 5  7]]\n",
            "\n",
            " [[ 9 11]\n",
            "  [13 15]]]\n",
            "\n",
            "B[0,...,0] =\n",
            "[[1 3]\n",
            " [5 7]]\n"
          ],
          "name": "stdout"
        }
      ]
    },
    {
      "cell_type": "markdown",
      "metadata": {
        "id": "NIoFTb6bpTBT"
      },
      "source": [
        "- We can also get access to an inner array by simple indexing.\n",
        "- For example, we can access $\\mathbf{B}_{1,2}$ by `tsr_b[0, 1]`."
      ]
    },
    {
      "cell_type": "code",
      "metadata": {
        "id": "yWt1hg4OpQwf",
        "colab": {
          "base_uri": "https://localhost:8080/",
          "height": 133
        },
        "outputId": "ff15019a-00c9-4f59-a0b9-8c7cd726d4f4"
      },
      "source": [
        "print(tsr_b[0, 1])"
      ],
      "execution_count": null,
      "outputs": [
        {
          "output_type": "stream",
          "text": [
            "[[5 6]\n",
            " [7 8]]\n"
          ],
          "name": "stdout"
        }
      ]
    },
    {
      "cell_type": "markdown",
      "metadata": {
        "id": "QNrxr0AxJ7Nd"
      },
      "source": [
        "### Tensor Stacking\n",
        "\n",
        "- We can still use the command `np.concatenate` to stack up tensors on a specified axis.\n",
        "\n",
        "$$\n",
        "\\begin{eqnarray}\n",
        "    \\left[ \\begin{array}{c}\n",
        "        \\left[ \\begin{array}{cc}\n",
        "            1 & 2 \\\\\n",
        "            3 & 4\n",
        "        \\end{array} \\right] \\\\\n",
        "        \\left[ \\begin{array}{cc}\n",
        "            5 & 6 \\\\\n",
        "            7 & 8\n",
        "        \\end{array} \\right]\n",
        "    \\end{array} \\right]\n",
        "    \\oplus_0\n",
        "    \\left[ \\begin{array}{c}\n",
        "        \\left[ \\begin{array}{cc}\n",
        "            9 & 10 \\\\\n",
        "            11 & 12\n",
        "        \\end{array} \\right] \\\\\n",
        "        \\left[ \\begin{array}{cc}\n",
        "            13 & 14 \\\\\n",
        "            15 & 16\n",
        "        \\end{array} \\right]\n",
        "    \\end{array} \\right]\n",
        "    & = &\n",
        "    \\left[ \\begin{array}{c}\n",
        "        \\left[ \\begin{array}{cc}\n",
        "            1 & 2 \\\\\n",
        "            3 & 4\n",
        "        \\end{array} \\right] \\\\\n",
        "        \\left[ \\begin{array}{cc}\n",
        "            5 & 6 \\\\\n",
        "            7 & 8\n",
        "        \\end{array} \\right] \\\\\n",
        "        \\left[ \\begin{array}{cc}\n",
        "            9 & 10 \\\\\n",
        "            11 & 12\n",
        "        \\end{array} \\right] \\\\\n",
        "        \\left[ \\begin{array}{cc}\n",
        "            13 & 14 \\\\\n",
        "            15 & 16\n",
        "        \\end{array} \\right]\n",
        "    \\end{array} \\right] \\\\\n",
        "    \\left[ \\begin{array}{c}\n",
        "        \\left[ \\begin{array}{cc}\n",
        "            1 & 2 \\\\\n",
        "            3 & 4\n",
        "        \\end{array} \\right] \\\\\n",
        "        \\left[ \\begin{array}{cc}\n",
        "            5 & 6 \\\\\n",
        "            7 & 8\n",
        "        \\end{array} \\right]\n",
        "    \\end{array} \\right]\n",
        "    \\oplus_1\n",
        "    \\left[ \\begin{array}{c}\n",
        "        \\left[ \\begin{array}{cc}\n",
        "            9 & 10 \\\\\n",
        "            11 & 12\n",
        "        \\end{array} \\right] \\\\\n",
        "        \\left[ \\begin{array}{cc}\n",
        "            13 & 14 \\\\\n",
        "            15 & 16\n",
        "        \\end{array} \\right]\n",
        "    \\end{array} \\right]\n",
        "    & = &\n",
        "    \\left[ \\begin{array}{c}\n",
        "        \\left[ \\begin{array}{cc}\n",
        "            1 & 2 \\\\\n",
        "            3 & 4 \\\\\n",
        "            9 & 10 \\\\\n",
        "            11 & 12\n",
        "        \\end{array} \\right] \\\\\n",
        "        \\left[ \\begin{array}{cc}\n",
        "            5 & 6 \\\\\n",
        "            7 & 8 \\\\\n",
        "            13 & 14 \\\\\n",
        "            15 & 16\n",
        "        \\end{array} \\right]\n",
        "    \\end{array} \\right] \\\\\n",
        "    \\left[ \\begin{array}{c}\n",
        "        \\left[ \\begin{array}{cc}\n",
        "            1 & 2 \\\\\n",
        "            3 & 4\n",
        "        \\end{array} \\right] \\\\\n",
        "        \\left[ \\begin{array}{cc}\n",
        "            5 & 6 \\\\\n",
        "            7 & 8\n",
        "        \\end{array} \\right]\n",
        "    \\end{array} \\right]\n",
        "    \\oplus_2\n",
        "    \\left[ \\begin{array}{c}\n",
        "        \\left[ \\begin{array}{cc}\n",
        "            9 & 10 \\\\\n",
        "            11 & 12\n",
        "        \\end{array} \\right] \\\\\n",
        "        \\left[ \\begin{array}{cc}\n",
        "            13 & 14 \\\\\n",
        "            15 & 16\n",
        "        \\end{array} \\right]\n",
        "    \\end{array} \\right]\n",
        "    & = &\n",
        "    \\left[ \\begin{array}{c}\n",
        "        \\left[ \\begin{array}{cc}\n",
        "            1 & 2 & 9 & 10 \\\\\n",
        "            3 & 4 & 11 & 12\n",
        "        \\end{array} \\right] \\\\\n",
        "        \\left[ \\begin{array}{cc}\n",
        "            5 & 6 & 13 & 14 \\\\\n",
        "            7 & 8 & 15 & 16\n",
        "        \\end{array} \\right]\n",
        "    \\end{array} \\right]\n",
        "\\end{eqnarray}\n",
        "$$"
      ]
    },
    {
      "cell_type": "code",
      "metadata": {
        "id": "ZpahF0U3KVxD",
        "colab": {
          "base_uri": "https://localhost:8080/",
          "height": 613
        },
        "outputId": "315591e8-12d7-40c6-e449-4f94526a924b"
      },
      "source": [
        "tsr_1 = np.array([ [ [1, 2],\n",
        "                     [3, 4] ],\n",
        "                   [ [5, 6],\n",
        "                     [7, 8] ] ])\n",
        "\n",
        "tsr_2 = np.array([ [ [ 9, 10],\n",
        "                     [11, 12] ],\n",
        "                   [ [13, 14],\n",
        "                     [15, 16] ] ])\n",
        "\n",
        "print(f'concatenate(A, B) on axis 0 =\\n{np.concatenate((tsr_1, tsr_2), axis=0)}\\n')\n",
        "print(f'concatenate(A, B) on axis 1 =\\n{np.concatenate((tsr_1, tsr_2), axis=1)}\\n')\n",
        "print(f'concatenate(A, B) on axis 2 =\\n{np.concatenate((tsr_1, tsr_2), axis=2)}\\n')"
      ],
      "execution_count": null,
      "outputs": [
        {
          "output_type": "stream",
          "text": [
            "concatenate(A, B) on axis 0 =\n",
            "[[[ 1  2]\n",
            "  [ 3  4]]\n",
            "\n",
            " [[ 5  6]\n",
            "  [ 7  8]]\n",
            "\n",
            " [[ 9 10]\n",
            "  [11 12]]\n",
            "\n",
            " [[13 14]\n",
            "  [15 16]]]\n",
            "\n",
            "concatenate(A, B) on axis 1 =\n",
            "[[[ 1  2]\n",
            "  [ 3  4]\n",
            "  [ 9 10]\n",
            "  [11 12]]\n",
            "\n",
            " [[ 5  6]\n",
            "  [ 7  8]\n",
            "  [13 14]\n",
            "  [15 16]]]\n",
            "\n",
            "concatenate(A, B) on axis 2 =\n",
            "[[[ 1  2  9 10]\n",
            "  [ 3  4 11 12]]\n",
            "\n",
            " [[ 5  6 13 14]\n",
            "  [ 7  8 15 16]]]\n",
            "\n"
          ],
          "name": "stdout"
        }
      ]
    },
    {
      "cell_type": "markdown",
      "metadata": {
        "id": "948faxwq7Oc5"
      },
      "source": [
        "### Tensor Norm\n",
        "\n",
        "- We can compute the norm of a tensor by the command `la.norm`."
      ]
    },
    {
      "cell_type": "code",
      "metadata": {
        "id": "dELlMzYX7JQm",
        "colab": {
          "base_uri": "https://localhost:8080/",
          "height": 233
        },
        "outputId": "a47919dc-b618-47eb-da40-d55c11bfc8eb"
      },
      "source": [
        "tsr_a = np.array([ [ [1, 2],\n",
        "                     [3, 4] ],\n",
        "                   [ [5, 6],\n",
        "                     [7, 8] ] ])\n",
        "print(f'Matrix A =\\n{tsr_a}\\n')\n",
        "print(f'Norm = {la.norm(tsr_b)}')"
      ],
      "execution_count": null,
      "outputs": [
        {
          "output_type": "stream",
          "text": [
            "Matrix A =\n",
            "[[[1 2]\n",
            "  [3 4]]\n",
            "\n",
            " [[5 6]\n",
            "  [7 8]]]\n",
            "\n",
            "Norm = 38.67815921162743\n"
          ],
          "name": "stdout"
        }
      ]
    },
    {
      "cell_type": "markdown",
      "metadata": {
        "id": "scFl40XkYCr4"
      },
      "source": [
        "- We can also compute the norm by projection on a particular axis by specifying the argument `axis`."
      ]
    },
    {
      "cell_type": "code",
      "metadata": {
        "id": "vv1Z2NXgYQA-",
        "colab": {
          "base_uri": "https://localhost:8080/",
          "height": 362
        },
        "outputId": "d59f8fba-e1ef-4f83-f3d3-2ba3dcffc5b8"
      },
      "source": [
        "print(f'Matrix A =\\n{tsr_a}\\n')\n",
        "\n",
        "print(f'norm on axis 0 =\\n{la.norm(tsr_a, axis=0)}')\n",
        "print(f'norm on axis 1 =\\n{la.norm(tsr_a, axis=1)}')\n",
        "print(f'norm on axis 2 =\\n{la.norm(tsr_a, axis=2)}')"
      ],
      "execution_count": null,
      "outputs": [
        {
          "output_type": "stream",
          "text": [
            "Matrix A =\n",
            "[[[1 2]\n",
            "  [3 4]]\n",
            "\n",
            " [[5 6]\n",
            "  [7 8]]]\n",
            "\n",
            "norm on axis 0 =\n",
            "[[5.09901951 6.32455532]\n",
            " [7.61577311 8.94427191]]\n",
            "norm on axis 1 =\n",
            "[[ 3.16227766  4.47213595]\n",
            " [ 8.60232527 10.        ]]\n",
            "norm on axis 2 =\n",
            "[[ 2.23606798  5.        ]\n",
            " [ 7.81024968 10.63014581]]\n"
          ],
          "name": "stdout"
        }
      ]
    },
    {
      "cell_type": "markdown",
      "metadata": {
        "id": "yf0QQ6jfx-WS"
      },
      "source": [
        "### Addition and Subtraction\n",
        "\n",
        "- We use `+` and `-`, respectively."
      ]
    },
    {
      "cell_type": "code",
      "metadata": {
        "id": "v6Wh0NCayLiY",
        "colab": {
          "base_uri": "https://localhost:8080/",
          "height": 313
        },
        "outputId": "99ed0ab5-c9ec-4999-ed00-238bedc0433c"
      },
      "source": [
        "tsr_a = np.array([ [ [1, 2],\n",
        "                     [3, 4] ],\n",
        "                   [ [5, 6],\n",
        "                     [7, 8] ] ])\n",
        "\n",
        "tsr_b = np.array([ [ [9, 10],\n",
        "                     [11, 12] ],\n",
        "                   [ [13, 14],\n",
        "                     [15, 16] ] ])\n",
        "\n",
        "print(f'A + B =\\n{tsr_a + tsr_b}\\n')\n",
        "print(f'B - A =\\n{tsr_b + tsr_a}')"
      ],
      "execution_count": null,
      "outputs": [
        {
          "output_type": "stream",
          "text": [
            "A + B =\n",
            "[[[10 12]\n",
            "  [14 16]]\n",
            "\n",
            " [[18 20]\n",
            "  [22 24]]]\n",
            "\n",
            "B - A =\n",
            "[[[10 12]\n",
            "  [14 16]]\n",
            "\n",
            " [[18 20]\n",
            "  [22 24]]]\n"
          ],
          "name": "stdout"
        }
      ]
    },
    {
      "cell_type": "markdown",
      "metadata": {
        "id": "Cu6pmiQhzFuv"
      },
      "source": [
        "### Scalar Multiplication\n",
        "\n",
        "- We use the operator `*`."
      ]
    },
    {
      "cell_type": "code",
      "metadata": {
        "id": "SWbPlr_CzL1Y",
        "colab": {
          "base_uri": "https://localhost:8080/",
          "height": 200
        },
        "outputId": "2a5be80d-3b71-4eec-9fb5-953ec0095489"
      },
      "source": [
        "print(f'4 * A =\\n{4 * tsr_a}')"
      ],
      "execution_count": null,
      "outputs": [
        {
          "output_type": "stream",
          "text": [
            "4 * A =\n",
            "[[[ 4  8]\n",
            "  [12 16]]\n",
            "\n",
            " [[20 24]\n",
            "  [28 32]]]\n"
          ],
          "name": "stdout"
        }
      ]
    },
    {
      "cell_type": "markdown",
      "metadata": {
        "id": "net-5oEgz0-r"
      },
      "source": [
        "### Transpose\n",
        "\n",
        "- The transpose of a tensor is the reverse of the dimensions of such tensor.\n",
        "- For example, let's consider a rank-3 tensor $\\mathbf{A}$, whose each element is addressed by $A_{ijk}$.\n",
        "- The transpose of $ \\mathbf{A} $, denoted by $\\mathbf{A}^\\top$, is defined as follows.\n",
        "$$\n",
        "\\begin{eqnarray}\n",
        "    \\left[ \\mathbf{A}^\\top \\right]_{kji} & = & A_{ijk}\n",
        "\\end{eqnarray}\n",
        "$$"
      ]
    },
    {
      "cell_type": "code",
      "metadata": {
        "id": "n855eXmYz7dn",
        "colab": {
          "base_uri": "https://localhost:8080/",
          "height": 313
        },
        "outputId": "25172e1f-a826-4f43-9f3d-b24ef7714e46"
      },
      "source": [
        "print(f'A =\\n{tsr_a}\\n')\n",
        "\n",
        "print(f'transpose(A) =\\n{tsr_a.T}')\n",
        "\n",
        "# For example, transpose(A)[0, 0, 1] = A[1, 0, 0] = 5"
      ],
      "execution_count": null,
      "outputs": [
        {
          "output_type": "stream",
          "text": [
            "A =\n",
            "[[[1 2]\n",
            "  [3 4]]\n",
            "\n",
            " [[5 6]\n",
            "  [7 8]]]\n",
            "\n",
            "transpose(A) =\n",
            "[[[1 5]\n",
            "  [3 7]]\n",
            "\n",
            " [[2 6]\n",
            "  [4 8]]]\n"
          ],
          "name": "stdout"
        }
      ]
    },
    {
      "cell_type": "markdown",
      "metadata": {
        "id": "JlsgSM162irT"
      },
      "source": [
        "- We can also permute the order of dimensions by the method `transpose`. \n",
        "- For example, we can permute the dimension order from (0, 1, 2) to (1, 0, 2) by `transpose((1, 0, 2))`"
      ]
    },
    {
      "cell_type": "code",
      "metadata": {
        "id": "xynNnOP4234h",
        "colab": {
          "base_uri": "https://localhost:8080/",
          "height": 200
        },
        "outputId": "38f35972-4aff-47f4-e1d0-caa6edf1cc53"
      },
      "source": [
        "print(f'transpose(A, (1, 0, 2)) =\\n{tsr_a.transpose((1, 0, 2))}')\n",
        "\n",
        "# For example, tranpose(A, (1, 0, 2))[11, 12, 13] = A[12, 11, 13]"
      ],
      "execution_count": null,
      "outputs": [
        {
          "output_type": "stream",
          "text": [
            "transpose(A, (1, 0, 2)) =\n",
            "[[[1 2]\n",
            "  [5 6]]\n",
            "\n",
            " [[3 4]\n",
            "  [7 8]]]\n"
          ],
          "name": "stdout"
        }
      ]
    },
    {
      "cell_type": "markdown",
      "metadata": {
        "id": "Akj2pFlFeeLR"
      },
      "source": [
        "### Tensor Operations via Broadcasting\n",
        "\n",
        "- An operation of two tensors is based on broadcasting, where any tensor of size greater than two dimensions is treated as a collection of data batches.\n",
        "- There are two cases of broadcasting in tensors."
      ]
    },
    {
      "cell_type": "markdown",
      "metadata": {
        "id": "tDD45zHIzHPA"
      },
      "source": [
        "- <font color=blue>**Case 1:**</font> Tensor $\\mathbf{A} = \\left( \n",
        "    \\mathbf{A}_1, \\mathbf{A}_2, \\mathbf{A}_3, \\ldots, \\mathbf{A}_n\n",
        "\\right)$, when applied on matrix $\\mathbf{M}$, is equal to broadcasting such operation of $\\mathbf{M}$ to each batch $\\mathbf{A}_k$ in $\\mathbf{A}$. That is:\n",
        "$$\n",
        "\\begin{eqnarray}\n",
        "\\mathbf{A} \\circ \\mathbf{M} & = & \\left(\n",
        "    \\mathbf{A}_1 \\circ \\mathbf{M}, \\mathbf{A}_2  \\circ \\mathbf{M}, \\mathbf{A}_3  \\circ \\mathbf{M}, \\ldots, \\mathbf{A}_n \\circ \\mathbf{M}\n",
        "\\right)\n",
        "\\end{eqnarray}\n",
        "$$\n",
        "where $\\circ$ is a binary operation."
      ]
    },
    {
      "cell_type": "code",
      "metadata": {
        "id": "_WdQyISlh0IL",
        "colab": {
          "base_uri": "https://localhost:8080/",
          "height": 296
        },
        "outputId": "2bf7391d-35f6-439f-ad83-937e603b74c5"
      },
      "source": [
        "tsr_a = np.array([ [ [ [1, 2],\n",
        "                       [3, 4] ],\n",
        "                     [ [5, 6],\n",
        "                       [7, 8] ] ],\n",
        "                   [ [ [9, 10],\n",
        "                       [11, 12] ],\n",
        "                     [ [13, 14],\n",
        "                       [15, 16] ] ] ])\n",
        "\n",
        "tsr_b = np.array([ [0, 1],\n",
        "                   [1, 0] ])\n",
        "\n",
        "tsr_a @ tsr_b"
      ],
      "execution_count": null,
      "outputs": [
        {
          "output_type": "execute_result",
          "data": {
            "text/plain": [
              "array([[[[ 2,  1],\n",
              "         [ 4,  3]],\n",
              "\n",
              "        [[ 6,  5],\n",
              "         [ 8,  7]]],\n",
              "\n",
              "\n",
              "       [[[10,  9],\n",
              "         [12, 11]],\n",
              "\n",
              "        [[14, 13],\n",
              "         [16, 15]]]])"
            ]
          },
          "metadata": {
            "tags": []
          },
          "execution_count": 87
        }
      ]
    },
    {
      "cell_type": "markdown",
      "metadata": {
        "id": "npKzfqex1hLk"
      },
      "source": [
        "- <font color=blue>**Case 2:**</font> Tensor $\\mathbf{A} = \\left( \\mathbf{A}_1, \\mathbf{A}_2, \\mathbf{A}_3, \\ldots, \\mathbf{A}_n \\right)$, when applied on tensor $\\mathbf{B} = \\left( \\mathbf{B}_1, \\mathbf{B}_2, \\mathbf{B}_3, \\ldots, \\mathbf{B}_n \\right)$, is equal to broadcasting such operation of each corresponding batch pair $\\mathbf{A}_k \\times \\mathbf{B}_k$. That is:\n",
        "$$\n",
        "\\begin{eqnarray}\n",
        "\\mathbf{A} \\circ \\mathbf{B} & = & \\left(\n",
        "    \\mathbf{A}_1 \\circ \\mathbf{B}_2, \\mathbf{A}_2 \\circ \\mathbf{B}_2, \\mathbf{A}_3 \\circ \\mathbf{B}_3, \\ldots, \\mathbf{A}_n \\circ \\mathbf{B}_n\n",
        "\\right)\n",
        "\\end{eqnarray}\n",
        "$$\n",
        "where $\\circ$ is a binary operation."
      ]
    },
    {
      "cell_type": "code",
      "metadata": {
        "id": "_ioaVLE8gREv",
        "colab": {
          "base_uri": "https://localhost:8080/",
          "height": 296
        },
        "outputId": "588d7f50-7b59-41a2-a851-ae631376942d"
      },
      "source": [
        "# There are two batches in A, divided by the first dimension\n",
        "tsr_a = np.array([ [ [ [1, 2],\n",
        "                       [3, 4] ],\n",
        "                     [ [5, 6],\n",
        "                       [7, 8] ] ],\n",
        "                   [ [ [9, 10],\n",
        "                       [11, 12] ],\n",
        "                     [ [13, 14],\n",
        "                       [15, 16] ] ] ])\n",
        "\n",
        "# There are also two batches in B\n",
        "tsr_b = np.array([ [ [1, 0],\n",
        "                     [0, 1] ],\n",
        "                   [ [0, 1],\n",
        "                     [1, 0] ] ])\n",
        "\n",
        "tsr_a @ tsr_b"
      ],
      "execution_count": null,
      "outputs": [
        {
          "output_type": "execute_result",
          "data": {
            "text/plain": [
              "array([[[[ 1,  2],\n",
              "         [ 3,  4]],\n",
              "\n",
              "        [[ 6,  5],\n",
              "         [ 8,  7]]],\n",
              "\n",
              "\n",
              "       [[[ 9, 10],\n",
              "         [11, 12]],\n",
              "\n",
              "        [[14, 13],\n",
              "         [16, 15]]]])"
            ]
          },
          "metadata": {
            "tags": []
          },
          "execution_count": 88
        }
      ]
    },
    {
      "cell_type": "markdown",
      "metadata": {
        "id": "lx8JU3gJ3GSv"
      },
      "source": [
        "- **N.B.** Note that two tensors of difference batch sizes cannot be multiplied due to shape mismatch."
      ]
    },
    {
      "cell_type": "code",
      "metadata": {
        "id": "zftiKdpewCvo"
      },
      "source": [
        "# There are two batches in A\n",
        "tsr_a = np.array([ [ [1, 2],\n",
        "                     [3, 4] ],\n",
        "                   [ [5, 6],\n",
        "                     [7, 8] ] ])\n",
        "\n",
        "# There are three batches in B\n",
        "tsr_b = np.array([ [ [1, 0],\n",
        "                     [0, 1] ],\n",
        "                   [ [1, 0],\n",
        "                     [0, 1] ],\n",
        "                   [ [0, 1],\n",
        "                     [1, 0] ] ])\n",
        "\n",
        "# Running this will cause an exception\n",
        "# tsr_a @ tsr_b"
      ],
      "execution_count": null,
      "outputs": []
    },
    {
      "cell_type": "markdown",
      "metadata": {
        "id": "ltRg7WOALNU1"
      },
      "source": [
        "-----\n",
        "## Exercises 4"
      ]
    },
    {
      "cell_type": "markdown",
      "metadata": {
        "id": "rZcUU79eUxEd"
      },
      "source": [
        "### Question 4.1\n",
        "\n",
        "Let's create a rank-5 tensor $\\mathbf{C}$ containing the numbers starting from 1 to 32. Observe how `numpy` prints it out. How many blank lines are used to separate each dimension?"
      ]
    },
    {
      "cell_type": "code",
      "metadata": {
        "id": "04EKftc8Rbd3"
      },
      "source": [
        "# tsr_c = np.zeros((2, 2, 2, 2, 2))          # Rank-5 tensor\n",
        "# \n",
        "# for i1 in range(2):\n",
        "#     for i2 in range(2):\n",
        "#         for i3 in range(2):\n",
        "#             for i4 in range(2):\n",
        "#                 for i5 in range(2):\n",
        "#                     tsr_c[i1, i2, i3, i4, i5] = __________\n",
        "# \n",
        "# print(tsr_c)"
      ],
      "execution_count": null,
      "outputs": []
    },
    {
      "cell_type": "markdown",
      "metadata": {
        "id": "uDZetx2UM8fZ"
      },
      "source": [
        "#### Solution"
      ]
    },
    {
      "cell_type": "code",
      "metadata": {
        "id": "rAIVl_SOM-Mn",
        "colab": {
          "base_uri": "https://localhost:8080/",
          "height": 484
        },
        "outputId": "8b2d8a0b-37e1-4b18-e584-85263887e13c"
      },
      "source": [
        "tsr_c = np.zeros((2, 2, 2, 2, 2))          # Rank-5 tensor\n",
        "\n",
        "for i1 in range(2):\n",
        "    for i2 in range(2):\n",
        "        for i3 in range(2):\n",
        "            for i4 in range(2):\n",
        "                for i5 in range(2):\n",
        "                    tsr_c[i1, i2, i3, i4, i5] = \\\n",
        "                        16 * i1 + 8 * i2 + 4 * i3 + 2 * i4 + i5 + 1\n",
        "\n",
        "print(tsr_c)"
      ],
      "execution_count": null,
      "outputs": [
        {
          "output_type": "stream",
          "text": [
            "[[[[[ 1.  2.]\n",
            "    [ 3.  4.]]\n",
            "\n",
            "   [[ 5.  6.]\n",
            "    [ 7.  8.]]]\n",
            "\n",
            "\n",
            "  [[[ 9. 10.]\n",
            "    [11. 12.]]\n",
            "\n",
            "   [[13. 14.]\n",
            "    [15. 16.]]]]\n",
            "\n",
            "\n",
            "\n",
            " [[[[17. 18.]\n",
            "    [19. 20.]]\n",
            "\n",
            "   [[21. 22.]\n",
            "    [23. 24.]]]\n",
            "\n",
            "\n",
            "  [[[25. 26.]\n",
            "    [27. 28.]]\n",
            "\n",
            "   [[29. 30.]\n",
            "    [31. 32.]]]]]\n"
          ],
          "name": "stdout"
        }
      ]
    },
    {
      "cell_type": "markdown",
      "metadata": {
        "id": "L5bhvLTyLo_f"
      },
      "source": [
        "### Question 4.2\n",
        "\n",
        "Write down a matrix representation of tensor $\\mathbf{C}$ on a sheet of paper. Observe how batches of matrices are organized."
      ]
    },
    {
      "cell_type": "markdown",
      "metadata": {
        "id": "JW5OQicftYzM"
      },
      "source": [
        "#### Solution"
      ]
    },
    {
      "cell_type": "markdown",
      "metadata": {
        "id": "sHQwrJvSvNeT"
      },
      "source": [
        "$$\n",
        "\\left[ \\begin{array}{cc}\n",
        "    \\left[ \\begin{array}{cc}\n",
        "        \\left[ \\begin{array}{cc}\n",
        "            1 & 2 \\\\\n",
        "            3 & 4\n",
        "        \\end{array}\\right]\n",
        "        &\n",
        "        \\left[ \\begin{array}{cc}\n",
        "            5 & 6 \\\\\n",
        "            7 & 8\n",
        "        \\end{array}\\right]\n",
        "        \\\\\n",
        "        \\left[ \\begin{array}{cc}\n",
        "            9 & 10 \\\\\n",
        "            11 & 12\n",
        "        \\end{array}\\right]\n",
        "        &\n",
        "        \\left[ \\begin{array}{cc}\n",
        "            13 & 14 \\\\\n",
        "            15 & 16\n",
        "        \\end{array}\\right]\n",
        "    \\end{array} \\right]\n",
        "    \\\\\n",
        "    \\left[ \\begin{array}{cc}\n",
        "        \\left[ \\begin{array}{cc}\n",
        "            17 & 18 \\\\\n",
        "            19 & 20\n",
        "        \\end{array}\\right]\n",
        "        &\n",
        "        \\left[ \\begin{array}{cc}\n",
        "            21 & 22 \\\\\n",
        "            23 & 24\n",
        "        \\end{array}\\right]\n",
        "        \\\\\n",
        "        \\left[ \\begin{array}{cc}\n",
        "            25 & 26 \\\\\n",
        "            27 & 28\n",
        "        \\end{array}\\right]\n",
        "        &\n",
        "        \\left[ \\begin{array}{cc}\n",
        "            29 & 30 \\\\\n",
        "            31 & 32\n",
        "        \\end{array}\\right]\n",
        "    \\end{array} \\right]\n",
        "\\end{array} \\right]\n",
        "$$"
      ]
    },
    {
      "cell_type": "markdown",
      "metadata": {
        "id": "FltWYU_GLPPP"
      },
      "source": [
        "### Question 4.3\n",
        "\n",
        "**Power Method** is an algorithm that computes the dominant eigenvector (the eigenvector whose eigenvalue is the largest) of a square matrix. The basic idea of the Power Method is quite simple. For a given square matrix $\\mathbf{M}$:\n",
        "\n",
        "  1. Let $\\mathbf{v}^{(0)}$ be an arbitrary unit vector.\n",
        "  2. For each $k$-th iteration\n",
        "    1. We multiply $\\mathbf{M}$ by an unit vector $\\mathbf{v}^{(k)}$ to obtain a new vector $\\mathbf{v}^{(k + 1)}$.\n",
        "    2. We normalize $\\mathbf{v}^{(k + 1)}$.\n",
        "  3. We repeat the loop in Step 2 until $\\mathbf{v}^{(k + 1)}$ becomes convergent.\n",
        "  4. The resulted vector becomes the dominant eigenvector of $\\mathbf{M}$.\n",
        "\n",
        "In this exercise, we will implement the Power Method with NumPy step by step."
      ]
    },
    {
      "cell_type": "markdown",
      "metadata": {
        "id": "RQSbGfqsQ9l5"
      },
      "source": [
        "### Question 4.3.1\n",
        "\n",
        "Implement a function that normalizes an input vector. It should return a unit vector as a result.\n",
        "$$\n",
        "\\begin{eqnarray}\n",
        "    \\mathrm{normalize}(\\mathbf{v}) & = & \\frac{\\mathbf{v}}{\\left\\| \\mathbf{v} \\right\\|}\n",
        "\\end{eqnarray}\n",
        "$$"
      ]
    },
    {
      "cell_type": "code",
      "metadata": {
        "id": "N8HkCezfR07u"
      },
      "source": [
        "# def normalize(vec):\n",
        "#     return ___________          # Fill in this blank."
      ],
      "execution_count": null,
      "outputs": []
    },
    {
      "cell_type": "markdown",
      "metadata": {
        "id": "lcRtgLsrvSno"
      },
      "source": [
        "#### Solution"
      ]
    },
    {
      "cell_type": "code",
      "metadata": {
        "id": "1lqu91mGvT4U"
      },
      "source": [
        "def normalize(vec):\n",
        "    return vec / la.norm(vec)"
      ],
      "execution_count": null,
      "outputs": []
    },
    {
      "cell_type": "markdown",
      "metadata": {
        "id": "PUvDWQVsR9Wp"
      },
      "source": [
        "### Question 4.3.2\n",
        "\n",
        "Implement a function that checks whether two <u>unit</u> vectors converge or not. In this exercise, vectors $\\mathbf{v}_1$ and $\\mathbf{v}_2$ are said to converge to each other if their Euclidean distance is less than the given threshold.\n",
        "$$\n",
        "\\begin{eqnarray}\n",
        "    \\mathrm{dist}(\\mathbf{v}_1, \\mathbf{v}_2) & = & \\left\\| \\mathbf{v}_1 - \\mathbf{v}_2 \\right\\|\n",
        "\\end{eqnarray}\n",
        "$$\n",
        "This function should return a boolean value indicating if $\\mathbf{v}_1$ and $\\mathbf{v}_2$ converge to each other or not."
      ]
    },
    {
      "cell_type": "code",
      "metadata": {
        "id": "g384liGcR8Xu"
      },
      "source": [
        "# def is_converge(vec1, vec2, threshold):\n",
        "#     \n",
        "#     # Compute the Euclidean distance between vec1 and vec2.\n",
        "#     dist = __________\n",
        "#     \n",
        "#     # Return the boolean value that indicates the convergence with respect to the given threshold.\n",
        "#     return __________"
      ],
      "execution_count": null,
      "outputs": []
    },
    {
      "cell_type": "markdown",
      "metadata": {
        "id": "b3JnAjGmvbxG"
      },
      "source": [
        "#### Solution"
      ]
    },
    {
      "cell_type": "code",
      "metadata": {
        "id": "nKm_gfWIvc9U"
      },
      "source": [
        "def is_converge(vec1, vec2, threshold):\n",
        "    \n",
        "    # Compute the Euclidean distance between vec1 and vec2.\n",
        "    dist = la.norm(vec1 - vec2)\n",
        "    \n",
        "    # Return the boolean value that indicates the convergence with respect to the given threshold.\n",
        "    return dist < threshold"
      ],
      "execution_count": null,
      "outputs": []
    },
    {
      "cell_type": "markdown",
      "metadata": {
        "id": "AHMzIU80TbKW"
      },
      "source": [
        "### Question 4.3.3\n",
        "\n",
        "Implement a function that computes the dominant eigenvector of a given square matrix $\\mathbf{M}$. Read the instruction in the comments carefully and follow it accordingly."
      ]
    },
    {
      "cell_type": "code",
      "metadata": {
        "id": "gQ9F2IxsUNFV"
      },
      "source": [
        "# def power_method(matrix, threshold, maxiters):\n",
        "#     \n",
        "#     # Find the first dimension of the given matrix.\n",
        "#     dim = __________\n",
        "#     \n",
        "#     # Randomize an arbitrary unit vector using rnd.randn. This is your v^(0).\n",
        "#     # Don't forget to normalize it before use.\n",
        "#     vec = __________\n",
        "#     \n",
        "#     # Iterative Power Method\n",
        "#     for i in range(maxiters):\n",
        "#         \n",
        "#         # Multiply the given matrix with vec and normalize the result.\n",
        "#         newvec = __________\n",
        "#         \n",
        "#         # If the obtained vector and the old vector converge, stop the iteration.\n",
        "#         if is_converge(vec, newvec, threshold):\n",
        "#             break\n",
        "#             \n",
        "#         # Otherwise, keep the obtained vector and continue the iteration.\n",
        "#         else:\n",
        "#             vec = newvec\n",
        "#             \n",
        "#     return newvec"
      ],
      "execution_count": null,
      "outputs": []
    },
    {
      "cell_type": "markdown",
      "metadata": {
        "id": "aNXlUDW9wuQH"
      },
      "source": [
        "#### Solution"
      ]
    },
    {
      "cell_type": "code",
      "metadata": {
        "id": "3MbSqH0RwvpY"
      },
      "source": [
        "def power_method(matrix, threshold, maxiters):\n",
        "    \n",
        "    # Find the first dimension of the given matrix.\n",
        "    dim = matrix.shape[0]\n",
        "    \n",
        "    # Randomize an arbitrary unit vector using rnd.randn. This is your v^(0).\n",
        "    # Don't forget to normalize it before use.\n",
        "    vec = normalize(rnd.randn(dim))\n",
        "    \n",
        "    # Iterative Power Method\n",
        "    for i in range(maxiters):\n",
        "        \n",
        "        # Multiply the given matrix with vec and normalize the result.\n",
        "        newvec = normalize(matrix @ vec)\n",
        "        \n",
        "        # If the obtained vector and the old vector converge, stop the iteration.\n",
        "        if is_converge(vec, newvec, threshold):\n",
        "            break\n",
        "            \n",
        "        # Otherwise, keep the obtained vector and continue the iteration.\n",
        "        else:\n",
        "            vec = newvec\n",
        "            \n",
        "    return newvec"
      ],
      "execution_count": null,
      "outputs": []
    },
    {
      "cell_type": "markdown",
      "metadata": {
        "id": "MT2RwaBfZMXd"
      },
      "source": [
        "### Question 4.3.4\n",
        "\n",
        "Implement a function that computes an eigenvalue $\\lambda$ of an eigenvector $\\mathbf{v}$ with respect to an input matrix $\\mathbf{M}$. The eigenvalue can be computed with the Rayleigh quotient below.\n",
        "$$\n",
        "\\begin{eqnarray}\n",
        "    \\lambda & = & \\frac{\\mathbf{v}^\\top \\mathbf{M} \\mathbf{v}}{\\mathbf{v}^\\top \\mathbf{v}}\n",
        "\\end{eqnarray}\n",
        "$$"
      ]
    },
    {
      "cell_type": "code",
      "metadata": {
        "id": "CIHCUpglZ8CK"
      },
      "source": [
        "# def rayleigh(matrix, vec):\n",
        "#     return __________"
      ],
      "execution_count": null,
      "outputs": []
    },
    {
      "cell_type": "markdown",
      "metadata": {
        "id": "JjJm0AoDyRXC"
      },
      "source": [
        "#### Solution"
      ]
    },
    {
      "cell_type": "code",
      "metadata": {
        "id": "Mu9Wu9UuySr6"
      },
      "source": [
        "def rayleigh(matrix, vec):\n",
        "    return (vec.T @ matrix @ vec) / (vec.T @ vec)"
      ],
      "execution_count": null,
      "outputs": []
    },
    {
      "cell_type": "markdown",
      "metadata": {
        "id": "UJc0zuw5ay8z"
      },
      "source": [
        "### Question 4.3.5\n",
        "\n",
        "**Testing:** You can test your implementation with the following simple code."
      ]
    },
    {
      "cell_type": "code",
      "metadata": {
        "id": "h0DpPY8HU2P7"
      },
      "source": [
        "# m = np.array([ [ 1,  2,  3,  4],\n",
        "#                [ 5,  6,  7,  8],\n",
        "#                [ 9, 10, 11, 12],\n",
        "#                [13, 14, 15, 16] ])\n",
        "# \n",
        "# result = power_method(m, 1e-3, 100)\n",
        "# \n",
        "# print(f'Eigenvector = {result}')\n",
        "# print(f'Eigenvalue  = {rayleigh(m, result)}')"
      ],
      "execution_count": null,
      "outputs": []
    },
    {
      "cell_type": "markdown",
      "metadata": {
        "id": "yZOYE7RtytLV"
      },
      "source": [
        "#### Solution"
      ]
    },
    {
      "cell_type": "code",
      "metadata": {
        "id": "DlhTx9IMyuTC",
        "colab": {
          "base_uri": "https://localhost:8080/",
          "height": 92
        },
        "outputId": "25562636-ad03-43b5-b373-08b7283232f3"
      },
      "source": [
        "m = np.array([ [ 1,  2,  3,  4],\n",
        "               [ 5,  6,  7,  8],\n",
        "               [ 9, 10, 11, 12],\n",
        "               [13, 14, 15, 16] ])\n",
        "\n",
        "result = power_method(m, 1e-3, 100)\n",
        "\n",
        "print(f'Eigenvector = {result}')\n",
        "print(f'Eigenvalue  = {rayleigh(m, result)}')"
      ],
      "execution_count": null,
      "outputs": [
        {
          "output_type": "stream",
          "text": [
            "Eigenvector = [-0.15113875 -0.34922934 -0.54731993 -0.74541052]\n",
            "Eigenvalue  = 36.209118843212956\n"
          ],
          "name": "stdout"
        }
      ]
    },
    {
      "cell_type": "markdown",
      "metadata": {
        "id": "psPvJb--nFF-"
      },
      "source": [
        "-----\n",
        "## 5. Custom Array Construction"
      ]
    },
    {
      "cell_type": "markdown",
      "metadata": {
        "id": "ff8K0XOUnLMr"
      },
      "source": [
        "- Instead of keying in all numbers when creating a new array, there are several useful functions that create an array of your desire."
      ]
    },
    {
      "cell_type": "markdown",
      "metadata": {
        "id": "-4U7p6qDvIHl"
      },
      "source": [
        "### `np.arange(a, b, step)`\n",
        "\n",
        "- Create a vector starting from `a` to `b` with the stepping size `step`.\n",
        "- This command is similar to `range` used in the for-loop. \n",
        "- For example, `np.arange(1, 10, 1)` creates an array $[1, 2, 3, \\ldots, 9]$."
      ]
    },
    {
      "cell_type": "code",
      "metadata": {
        "id": "EAQDbz2nwwfS",
        "colab": {
          "base_uri": "https://localhost:8080/",
          "height": 114
        },
        "outputId": "eb7bb8e0-629c-4490-ef77-5cb7465634ad"
      },
      "source": [
        "np.arange(1, 10, 1)"
      ],
      "execution_count": null,
      "outputs": [
        {
          "output_type": "execute_result",
          "data": {
            "text/plain": [
              "array([1, 2, 3, 4, 5, 6, 7, 8, 9])"
            ]
          },
          "metadata": {
            "tags": []
          },
          "execution_count": 102
        }
      ]
    },
    {
      "cell_type": "markdown",
      "metadata": {
        "id": "6aR0pqPa0QJS"
      },
      "source": [
        "- We can determine the step size by changing the last argument.\n",
        "\n",
        "- For example, `np.arange(1, 10, 2)` creates an array $[1, 3, 5, 7, 9]$."
      ]
    },
    {
      "cell_type": "code",
      "metadata": {
        "id": "hUfHKbeg0dK5",
        "colab": {
          "base_uri": "https://localhost:8080/",
          "height": 114
        },
        "outputId": "1af76eec-9fc9-4c1b-92d9-1a85021bf076"
      },
      "source": [
        "np.arange(1, 10, 2)"
      ],
      "execution_count": null,
      "outputs": [
        {
          "output_type": "execute_result",
          "data": {
            "text/plain": [
              "array([1, 3, 5, 7, 9])"
            ]
          },
          "metadata": {
            "tags": []
          },
          "execution_count": 103
        }
      ]
    },
    {
      "cell_type": "markdown",
      "metadata": {
        "id": "S6qsJWDQ0ggU"
      },
      "source": [
        "- If we set the step size to a negative value, the series will go descendingly.\n",
        "\n",
        "- For example, `np.arange(10, 0, -1)` creates an array $[10, 9, 8, \\ldots, 1]$."
      ]
    },
    {
      "cell_type": "code",
      "metadata": {
        "id": "Xg1cIFmH0ydQ",
        "colab": {
          "base_uri": "https://localhost:8080/",
          "height": 114
        },
        "outputId": "089e3d66-cb82-463c-cf45-80c651070598"
      },
      "source": [
        "np.arange(10, 0, -1)"
      ],
      "execution_count": null,
      "outputs": [
        {
          "output_type": "execute_result",
          "data": {
            "text/plain": [
              "array([10,  9,  8,  7,  6,  5,  4,  3,  2,  1])"
            ]
          },
          "metadata": {
            "tags": []
          },
          "execution_count": 104
        }
      ]
    },
    {
      "cell_type": "markdown",
      "metadata": {
        "id": "JGwEh47C2fU3"
      },
      "source": [
        "### `np.linspace(a, b, num)`\n",
        "\n",
        "- Create a vector starting from `a` to `b` with the specified number of elements `num` (including the start and the end).\n",
        "- `linspace` is short for 'linear space'.\n",
        "- For example, `np.linspace(1, 10, 7)` creates an array $[1, 2.5, 4, 5.5, 7, 8.5, 10]$."
      ]
    },
    {
      "cell_type": "code",
      "metadata": {
        "id": "iDs2vMj32xQo",
        "colab": {
          "base_uri": "https://localhost:8080/",
          "height": 114
        },
        "outputId": "f4fa4a26-894f-41cc-9c51-5cc935978763"
      },
      "source": [
        "np.linspace(1, 10, 7)"
      ],
      "execution_count": null,
      "outputs": [
        {
          "output_type": "execute_result",
          "data": {
            "text/plain": [
              "array([ 1. ,  2.5,  4. ,  5.5,  7. ,  8.5, 10. ])"
            ]
          },
          "metadata": {
            "tags": []
          },
          "execution_count": 105
        }
      ]
    },
    {
      "cell_type": "markdown",
      "metadata": {
        "id": "XsFUmvZx7Dhx"
      },
      "source": [
        "### Array Reshaping\n",
        "\n",
        "- Once you create an array, you can reshape it to become a matrix or a tensor with the method `reshape`. \n",
        "- For example, we can reshape the array $[1, 2, 3, \\ldots, 9]$ to become a matrix of shape (3, 3):\n",
        "\n",
        "$$\n",
        "\\left[ \\begin{array}{ccc}\n",
        "    1 & 2 & 3 \\\\\n",
        "    4 & 5 & 6 \\\\\n",
        "    7 & 8 & 9 \n",
        "\\end{array} \\right]\n",
        "$$"
      ]
    },
    {
      "cell_type": "code",
      "metadata": {
        "id": "m4nbszHJ7liy",
        "colab": {
          "base_uri": "https://localhost:8080/",
          "height": 213
        },
        "outputId": "e419a0a4-0669-47c8-b9a5-8b21014c2720"
      },
      "source": [
        "vec9 = np.arange(1, 10, 1)\n",
        "print(f'As a vector:\\n{vec9}\\n')\n",
        "mat9 = vec9.reshape(3, 3)\n",
        "print(f'As a matrix:\\n{mat9}')"
      ],
      "execution_count": null,
      "outputs": [
        {
          "output_type": "stream",
          "text": [
            "As a vector:\n",
            "[1 2 3 4 5 6 7 8 9]\n",
            "\n",
            "As a matrix:\n",
            "[[1 2 3]\n",
            " [4 5 6]\n",
            " [7 8 9]]\n"
          ],
          "name": "stdout"
        }
      ]
    },
    {
      "cell_type": "markdown",
      "metadata": {
        "id": "TSlTprtI72_5"
      },
      "source": [
        "### Array Flattening\n",
        "\n",
        "- We can flatten a tensor by the command `np.ravel`."
      ]
    },
    {
      "cell_type": "code",
      "metadata": {
        "id": "MtuFjadI79H1",
        "colab": {
          "base_uri": "https://localhost:8080/",
          "height": 114
        },
        "outputId": "fbeeabd9-08cc-467f-ec82-5bb81703baef"
      },
      "source": [
        "mat9.ravel()"
      ],
      "execution_count": null,
      "outputs": [
        {
          "output_type": "execute_result",
          "data": {
            "text/plain": [
              "array([1, 2, 3, 4, 5, 6, 7, 8, 9])"
            ]
          },
          "metadata": {
            "tags": []
          },
          "execution_count": 107
        }
      ]
    },
    {
      "cell_type": "markdown",
      "metadata": {
        "id": "pgSgRq1J82Rv"
      },
      "source": [
        "### Side Effects of Element Setting in Array Reshaping\n",
        "\n",
        "- Note that array reshaping does not copy the content of the array.\n",
        "- We can therefore reshape an array efficiently at any point.\n",
        "- However, bear in mind that array manipulation has a side effect on any reshaping, too.\n",
        "- In the below example, changing a cell in any reshape will affect the original content and any of its reshapes, too."
      ]
    },
    {
      "cell_type": "code",
      "metadata": {
        "id": "WHio9Nw77_I5",
        "colab": {
          "base_uri": "https://localhost:8080/",
          "height": 1227
        },
        "outputId": "a283ae64-465d-43dd-d4cd-77aab314864a"
      },
      "source": [
        "print('BEFORE\\n')\n",
        "vec16 = np.arange(1, 17, 1)\n",
        "print(f'As a vector:\\n{vec16}\\n')\n",
        "mat16 = vec16.reshape(4, 4)\n",
        "print(f'As a matrix:\\n{mat16}\\n')\n",
        "tsr242 = mat16.reshape(2, 4, 2)\n",
        "print(f'As a (2,4,2)-tensor:\\n{tsr242}\\n')\n",
        "tsr2222 = tsr242.reshape(2, 2, 2, 2)\n",
        "print(f'As a (2,2,2,2)-tensor:\\n{tsr2222}\\n')\n",
        "\n",
        "tsr2222[0, 1, 1, 0] = 100\n",
        "\n",
        "print('AFTER\\n')\n",
        "print(f'As a vector:\\n{vec16}\\n')\n",
        "print(f'As a matrix:\\n{mat16}\\n')\n",
        "print(f'As a (2,4,2)-tensor:\\n{tsr242}\\n')\n",
        "print(f'As a (2,2,2,2)-tensor:\\n{tsr2222}\\n')"
      ],
      "execution_count": null,
      "outputs": [
        {
          "output_type": "stream",
          "text": [
            "BEFORE\n",
            "\n",
            "As a vector:\n",
            "[ 1  2  3  4  5  6  7  8  9 10 11 12 13 14 15 16]\n",
            "\n",
            "As a matrix:\n",
            "[[ 1  2  3  4]\n",
            " [ 5  6  7  8]\n",
            " [ 9 10 11 12]\n",
            " [13 14 15 16]]\n",
            "\n",
            "As a (2,4,2)-tensor:\n",
            "[[[ 1  2]\n",
            "  [ 3  4]\n",
            "  [ 5  6]\n",
            "  [ 7  8]]\n",
            "\n",
            " [[ 9 10]\n",
            "  [11 12]\n",
            "  [13 14]\n",
            "  [15 16]]]\n",
            "\n",
            "As a (2,2,2,2)-tensor:\n",
            "[[[[ 1  2]\n",
            "   [ 3  4]]\n",
            "\n",
            "  [[ 5  6]\n",
            "   [ 7  8]]]\n",
            "\n",
            "\n",
            " [[[ 9 10]\n",
            "   [11 12]]\n",
            "\n",
            "  [[13 14]\n",
            "   [15 16]]]]\n",
            "\n",
            "AFTER\n",
            "\n",
            "As a vector:\n",
            "[  1   2   3   4   5   6 100   8   9  10  11  12  13  14  15  16]\n",
            "\n",
            "As a matrix:\n",
            "[[  1   2   3   4]\n",
            " [  5   6 100   8]\n",
            " [  9  10  11  12]\n",
            " [ 13  14  15  16]]\n",
            "\n",
            "As a (2,4,2)-tensor:\n",
            "[[[  1   2]\n",
            "  [  3   4]\n",
            "  [  5   6]\n",
            "  [100   8]]\n",
            "\n",
            " [[  9  10]\n",
            "  [ 11  12]\n",
            "  [ 13  14]\n",
            "  [ 15  16]]]\n",
            "\n",
            "As a (2,2,2,2)-tensor:\n",
            "[[[[  1   2]\n",
            "   [  3   4]]\n",
            "\n",
            "  [[  5   6]\n",
            "   [100   8]]]\n",
            "\n",
            "\n",
            " [[[  9  10]\n",
            "   [ 11  12]]\n",
            "\n",
            "  [[ 13  14]\n",
            "   [ 15  16]]]]\n",
            "\n"
          ],
          "name": "stdout"
        }
      ]
    },
    {
      "cell_type": "markdown",
      "metadata": {
        "id": "QDZ39fmtFdQ1"
      },
      "source": [
        "### `np.fromfunction(fn, shape)`\n",
        "\n",
        "- Create a tensor of the specified shape `shape` using the specified function `fn`."
      ]
    },
    {
      "cell_type": "code",
      "metadata": {
        "id": "7SnNhCfxFBxd",
        "colab": {
          "base_uri": "https://localhost:8080/",
          "height": 180
        },
        "outputId": "4a102b33-72f3-4e92-e160-cf82aac4dea4"
      },
      "source": [
        "def fn(x, y):\n",
        "    return (x * y + 1) / (x + y + 1)\n",
        "\n",
        "# The below command is equivalent to the following code.\n",
        "# mat_d = np.zeros((5, 3))\n",
        "# for i in range(5):\n",
        "#     for j in range(3):\n",
        "#         mat_d[i, j] = fn(i, j)\n",
        "mat_d = np.fromfunction(fn, (5, 3))\n",
        "print(mat_d)"
      ],
      "execution_count": null,
      "outputs": [
        {
          "output_type": "stream",
          "text": [
            "[[1.         0.5        0.33333333]\n",
            " [0.5        0.66666667 0.75      ]\n",
            " [0.33333333 0.75       1.        ]\n",
            " [0.25       0.8        1.16666667]\n",
            " [0.2        0.83333333 1.28571429]]\n"
          ],
          "name": "stdout"
        }
      ]
    },
    {
      "cell_type": "markdown",
      "metadata": {
        "id": "S3mIcesLd260"
      },
      "source": [
        "-----\n",
        "## Exercises 5"
      ]
    },
    {
      "cell_type": "markdown",
      "metadata": {
        "id": "ori6F5xJeLOS"
      },
      "source": [
        "### Question 5.1\n",
        "\n",
        "**The Cube of Numbers:** Receive an integer $n$ from the user and create a 3-dimensional tensor containing the numbers starting from 1 to $n^3$. The one-liner way to solve this problem is to use `np.arange` and `reshape`. For example, \n",
        "\n",
        "```\n",
        "    Enter n: 3\n",
        "    [[[ 1  2  3]\n",
        "      [ 4  5  6]\n",
        "      [ 7  8  9]]\n",
        "\n",
        "     [[10 11 12]\n",
        "      [13 14 15]\n",
        "      [16 17 18]]\n",
        "\n",
        "     [[19 20 21]\n",
        "      [22 23 24]\n",
        "      [25 26 27]]]\n",
        "```"
      ]
    },
    {
      "cell_type": "code",
      "metadata": {
        "id": "Ko4mPPLPesqR"
      },
      "source": [
        "# # Receive an integer from the user.\n",
        "# n = int(input('Enter n: '))\n",
        "# \n",
        "# # Construct a 3-D tensor containing 1 to n**3.\n",
        "# tensor = __________       # Fill in this blank.\n",
        "# \n",
        "# # Print it out.\n",
        "# print(tensor)"
      ],
      "execution_count": null,
      "outputs": []
    },
    {
      "cell_type": "markdown",
      "metadata": {
        "id": "HqReXdSg3gue"
      },
      "source": [
        "#### Solution"
      ]
    },
    {
      "cell_type": "code",
      "metadata": {
        "id": "crjPscdd3iRU",
        "colab": {
          "base_uri": "https://localhost:8080/",
          "height": 1839
        },
        "outputId": "c7de0da4-cc1a-4d8e-d4f8-6fa07a695736"
      },
      "source": [
        "# Receive an integer from the user.\n",
        "n = 10     # Please change it to `input` in the answer box.\n",
        "\n",
        "# Construct a 3-D tensor containing 1 to n**3.\n",
        "tensor = 1 + np.arange(n ** 3).reshape(n, n, n)\n",
        "\n",
        "# Print it out.\n",
        "print(tensor)"
      ],
      "execution_count": null,
      "outputs": [
        {
          "output_type": "stream",
          "text": [
            "[[[   1    2    3    4    5    6    7    8    9   10]\n",
            "  [  11   12   13   14   15   16   17   18   19   20]\n",
            "  [  21   22   23   24   25   26   27   28   29   30]\n",
            "  [  31   32   33   34   35   36   37   38   39   40]\n",
            "  [  41   42   43   44   45   46   47   48   49   50]\n",
            "  [  51   52   53   54   55   56   57   58   59   60]\n",
            "  [  61   62   63   64   65   66   67   68   69   70]\n",
            "  [  71   72   73   74   75   76   77   78   79   80]\n",
            "  [  81   82   83   84   85   86   87   88   89   90]\n",
            "  [  91   92   93   94   95   96   97   98   99  100]]\n",
            "\n",
            " [[ 101  102  103  104  105  106  107  108  109  110]\n",
            "  [ 111  112  113  114  115  116  117  118  119  120]\n",
            "  [ 121  122  123  124  125  126  127  128  129  130]\n",
            "  [ 131  132  133  134  135  136  137  138  139  140]\n",
            "  [ 141  142  143  144  145  146  147  148  149  150]\n",
            "  [ 151  152  153  154  155  156  157  158  159  160]\n",
            "  [ 161  162  163  164  165  166  167  168  169  170]\n",
            "  [ 171  172  173  174  175  176  177  178  179  180]\n",
            "  [ 181  182  183  184  185  186  187  188  189  190]\n",
            "  [ 191  192  193  194  195  196  197  198  199  200]]\n",
            "\n",
            " [[ 201  202  203  204  205  206  207  208  209  210]\n",
            "  [ 211  212  213  214  215  216  217  218  219  220]\n",
            "  [ 221  222  223  224  225  226  227  228  229  230]\n",
            "  [ 231  232  233  234  235  236  237  238  239  240]\n",
            "  [ 241  242  243  244  245  246  247  248  249  250]\n",
            "  [ 251  252  253  254  255  256  257  258  259  260]\n",
            "  [ 261  262  263  264  265  266  267  268  269  270]\n",
            "  [ 271  272  273  274  275  276  277  278  279  280]\n",
            "  [ 281  282  283  284  285  286  287  288  289  290]\n",
            "  [ 291  292  293  294  295  296  297  298  299  300]]\n",
            "\n",
            " [[ 301  302  303  304  305  306  307  308  309  310]\n",
            "  [ 311  312  313  314  315  316  317  318  319  320]\n",
            "  [ 321  322  323  324  325  326  327  328  329  330]\n",
            "  [ 331  332  333  334  335  336  337  338  339  340]\n",
            "  [ 341  342  343  344  345  346  347  348  349  350]\n",
            "  [ 351  352  353  354  355  356  357  358  359  360]\n",
            "  [ 361  362  363  364  365  366  367  368  369  370]\n",
            "  [ 371  372  373  374  375  376  377  378  379  380]\n",
            "  [ 381  382  383  384  385  386  387  388  389  390]\n",
            "  [ 391  392  393  394  395  396  397  398  399  400]]\n",
            "\n",
            " [[ 401  402  403  404  405  406  407  408  409  410]\n",
            "  [ 411  412  413  414  415  416  417  418  419  420]\n",
            "  [ 421  422  423  424  425  426  427  428  429  430]\n",
            "  [ 431  432  433  434  435  436  437  438  439  440]\n",
            "  [ 441  442  443  444  445  446  447  448  449  450]\n",
            "  [ 451  452  453  454  455  456  457  458  459  460]\n",
            "  [ 461  462  463  464  465  466  467  468  469  470]\n",
            "  [ 471  472  473  474  475  476  477  478  479  480]\n",
            "  [ 481  482  483  484  485  486  487  488  489  490]\n",
            "  [ 491  492  493  494  495  496  497  498  499  500]]\n",
            "\n",
            " [[ 501  502  503  504  505  506  507  508  509  510]\n",
            "  [ 511  512  513  514  515  516  517  518  519  520]\n",
            "  [ 521  522  523  524  525  526  527  528  529  530]\n",
            "  [ 531  532  533  534  535  536  537  538  539  540]\n",
            "  [ 541  542  543  544  545  546  547  548  549  550]\n",
            "  [ 551  552  553  554  555  556  557  558  559  560]\n",
            "  [ 561  562  563  564  565  566  567  568  569  570]\n",
            "  [ 571  572  573  574  575  576  577  578  579  580]\n",
            "  [ 581  582  583  584  585  586  587  588  589  590]\n",
            "  [ 591  592  593  594  595  596  597  598  599  600]]\n",
            "\n",
            " [[ 601  602  603  604  605  606  607  608  609  610]\n",
            "  [ 611  612  613  614  615  616  617  618  619  620]\n",
            "  [ 621  622  623  624  625  626  627  628  629  630]\n",
            "  [ 631  632  633  634  635  636  637  638  639  640]\n",
            "  [ 641  642  643  644  645  646  647  648  649  650]\n",
            "  [ 651  652  653  654  655  656  657  658  659  660]\n",
            "  [ 661  662  663  664  665  666  667  668  669  670]\n",
            "  [ 671  672  673  674  675  676  677  678  679  680]\n",
            "  [ 681  682  683  684  685  686  687  688  689  690]\n",
            "  [ 691  692  693  694  695  696  697  698  699  700]]\n",
            "\n",
            " [[ 701  702  703  704  705  706  707  708  709  710]\n",
            "  [ 711  712  713  714  715  716  717  718  719  720]\n",
            "  [ 721  722  723  724  725  726  727  728  729  730]\n",
            "  [ 731  732  733  734  735  736  737  738  739  740]\n",
            "  [ 741  742  743  744  745  746  747  748  749  750]\n",
            "  [ 751  752  753  754  755  756  757  758  759  760]\n",
            "  [ 761  762  763  764  765  766  767  768  769  770]\n",
            "  [ 771  772  773  774  775  776  777  778  779  780]\n",
            "  [ 781  782  783  784  785  786  787  788  789  790]\n",
            "  [ 791  792  793  794  795  796  797  798  799  800]]\n",
            "\n",
            " [[ 801  802  803  804  805  806  807  808  809  810]\n",
            "  [ 811  812  813  814  815  816  817  818  819  820]\n",
            "  [ 821  822  823  824  825  826  827  828  829  830]\n",
            "  [ 831  832  833  834  835  836  837  838  839  840]\n",
            "  [ 841  842  843  844  845  846  847  848  849  850]\n",
            "  [ 851  852  853  854  855  856  857  858  859  860]\n",
            "  [ 861  862  863  864  865  866  867  868  869  870]\n",
            "  [ 871  872  873  874  875  876  877  878  879  880]\n",
            "  [ 881  882  883  884  885  886  887  888  889  890]\n",
            "  [ 891  892  893  894  895  896  897  898  899  900]]\n",
            "\n",
            " [[ 901  902  903  904  905  906  907  908  909  910]\n",
            "  [ 911  912  913  914  915  916  917  918  919  920]\n",
            "  [ 921  922  923  924  925  926  927  928  929  930]\n",
            "  [ 931  932  933  934  935  936  937  938  939  940]\n",
            "  [ 941  942  943  944  945  946  947  948  949  950]\n",
            "  [ 951  952  953  954  955  956  957  958  959  960]\n",
            "  [ 961  962  963  964  965  966  967  968  969  970]\n",
            "  [ 971  972  973  974  975  976  977  978  979  980]\n",
            "  [ 981  982  983  984  985  986  987  988  989  990]\n",
            "  [ 991  992  993  994  995  996  997  998  999 1000]]]\n"
          ],
          "name": "stdout"
        }
      ]
    },
    {
      "cell_type": "markdown",
      "metadata": {
        "id": "XYyOpjrtflc3"
      },
      "source": [
        "### Question 5.2\n",
        "\n",
        "Suppose you want plot a line chart representing a growth trend of virus colonies against the number of days in the incubation period. Create two vectors for the X and Y axes, where:\n",
        "  - The X axis shows the number of days, ranging from 0 to 20 (days), and increasing 1 at a time.\n",
        "  - The Y axis shows the total area of virus colonies in the cultured dish, ranging from 0 to 50.0 (cm squared), and containing 8 steps."
      ]
    },
    {
      "cell_type": "code",
      "metadata": {
        "id": "-R5z9SKDhLfQ"
      },
      "source": [
        "# x_axis = __________          # Fill in these blanks.\n",
        "# y_axis = __________\n",
        "# \n",
        "# print(f'X axis:\\n{x_axis}\\n')\n",
        "# print(f'Y axis:\\n{y_axis}\\n')"
      ],
      "execution_count": null,
      "outputs": []
    },
    {
      "cell_type": "markdown",
      "metadata": {
        "id": "Vd_IuCzf4Qf1"
      },
      "source": [
        "#### Solution"
      ]
    },
    {
      "cell_type": "code",
      "metadata": {
        "id": "00fxKQX74R06",
        "colab": {
          "base_uri": "https://localhost:8080/",
          "height": 153
        },
        "outputId": "0ca39dfc-3a82-4928-ccf9-a83c0692c6a3"
      },
      "source": [
        "x_axis = np.arange(0, 21, 1)\n",
        "y_axis = np.linspace(0, 50.0, 8)\n",
        "\n",
        "print(f'X axis:\\n{x_axis}\\n')\n",
        "print(f'Y axis:\\n{y_axis}\\n')"
      ],
      "execution_count": null,
      "outputs": [
        {
          "output_type": "stream",
          "text": [
            "X axis:\n",
            "[ 0  1  2  3  4  5  6  7  8  9 10 11 12 13 14 15 16 17 18 19 20]\n",
            "\n",
            "Y axis:\n",
            "[ 0.          7.14285714 14.28571429 21.42857143 28.57142857 35.71428571\n",
            " 42.85714286 50.        ]\n",
            "\n"
          ],
          "name": "stdout"
        }
      ]
    },
    {
      "cell_type": "markdown",
      "metadata": {
        "id": "yyG2CRljSFOs"
      },
      "source": [
        "-----\n",
        "## 6. Boolean Operations on Array"
      ]
    },
    {
      "cell_type": "markdown",
      "metadata": {
        "id": "5xLqc1RGSQaB"
      },
      "source": [
        "### First Order Logic\n",
        "\n",
        "- We can apply boolean operations on any array, resulting in an array of truth values of the same shape, called *condition*."
      ]
    },
    {
      "cell_type": "code",
      "metadata": {
        "id": "Zkyh6GyOSd1f",
        "colab": {
          "base_uri": "https://localhost:8080/",
          "height": 329
        },
        "outputId": "c38cfd5b-bfdf-4db0-cac3-6515e3c20111"
      },
      "source": [
        "mat_a = rnd.randn(5, 3)\n",
        "print(f'Matrix A =\\n{mat_a}\\n')\n",
        "\n",
        "cond_1 = (mat_a >= 0.25)\n",
        "print(f'Condition = (A >= 0.25)\\n{cond_1}\\n')"
      ],
      "execution_count": null,
      "outputs": [
        {
          "output_type": "stream",
          "text": [
            "Matrix A =\n",
            "[[ 0.4318635   1.0179049   0.96878504]\n",
            " [ 0.62966601 -0.40596231 -0.90399958]\n",
            " [ 0.38883351  0.36775205  1.16022877]\n",
            " [ 0.70685026  0.16498106 -0.60437115]\n",
            " [-0.20066382 -2.7954708   0.14005175]]\n",
            "\n",
            "Condition = (A >= 0.25)\n",
            "[[ True  True  True]\n",
            " [ True False False]\n",
            " [ True  True  True]\n",
            " [ True False False]\n",
            " [False False False]]\n",
            "\n"
          ],
          "name": "stdout"
        }
      ]
    },
    {
      "cell_type": "markdown",
      "metadata": {
        "id": "Y75cZJ5qN35S"
      },
      "source": [
        "- We can also add bit-wise logical connectives `&` (and), `|` (or), `^` (exclusive or), and `~` (not) in a logical expression containing arrays. \n",
        "- Do not use the traditional logical connectives `and`, `or`, and `not` as they will cause errors.\n",
        "- Note that we always use parentheses each operand of these connectives. "
      ]
    },
    {
      "cell_type": "code",
      "metadata": {
        "id": "vHkMe3CuN7A0",
        "colab": {
          "base_uri": "https://localhost:8080/",
          "height": 213
        },
        "outputId": "0bdccc76-052b-4ce6-ef55-e4692486ee1e"
      },
      "source": [
        "# Note that you cannot use Python's chained syntax -0.25 <= mat_a <= 0.25.\n",
        "cond_2 = (mat_a >= -0.25) & (mat_a <= 0.25)\n",
        "print(f'Condition = (-0.25 <= A <= 0.25)\\n{cond_2}\\n')"
      ],
      "execution_count": null,
      "outputs": [
        {
          "output_type": "stream",
          "text": [
            "Condition = (-0.25 <= A <= 0.25)\n",
            "[[False False False]\n",
            " [False False False]\n",
            " [False False False]\n",
            " [False  True False]\n",
            " [ True False  True]]\n",
            "\n"
          ],
          "name": "stdout"
        }
      ]
    },
    {
      "cell_type": "markdown",
      "metadata": {
        "id": "Fcor5D-17Tpa"
      },
      "source": [
        "- We can count the number of elements that satisfy the logical expression via the command `np.sum`. The command counts `True` as 1 and `False` as 0, respectively."
      ]
    },
    {
      "cell_type": "code",
      "metadata": {
        "id": "huXF39og7cxc",
        "colab": {
          "base_uri": "https://localhost:8080/",
          "height": 114
        },
        "outputId": "03d9b626-ff74-4c24-ae15-405a695f5a03"
      },
      "source": [
        "np.sum(cond_2)"
      ],
      "execution_count": null,
      "outputs": [
        {
          "output_type": "execute_result",
          "data": {
            "text/plain": [
              "3"
            ]
          },
          "metadata": {
            "tags": []
          },
          "execution_count": 116
        }
      ]
    },
    {
      "cell_type": "markdown",
      "metadata": {
        "id": "40wEHpaANOop"
      },
      "source": [
        "- Logical quantifiers such as `np.any` (for some) and `np.all` (for all) can also be applied to the boolean operations to obtain a final truth value."
      ]
    },
    {
      "cell_type": "code",
      "metadata": {
        "id": "bK1kFyTANjSj",
        "colab": {
          "base_uri": "https://localhost:8080/",
          "height": 133
        },
        "outputId": "d3d6a61e-b9b1-435c-e52a-95d8cbd4e7b2"
      },
      "source": [
        "print(f'Any element of A is in [-0.25, 0.25] = {np.any(cond_2)}')\n",
        "print(f'All element of A is in [-0.25, 0.25] = {np.all(cond_2)}')"
      ],
      "execution_count": null,
      "outputs": [
        {
          "output_type": "stream",
          "text": [
            "Any element of A is in [-0.25, 0.25] = True\n",
            "All element of A is in [-0.25, 0.25] = False\n"
          ],
          "name": "stdout"
        }
      ]
    },
    {
      "cell_type": "markdown",
      "metadata": {
        "id": "0CKxH0TVbYRl"
      },
      "source": [
        "- You can also specify the projection axis of `np.any` and `np.all` with the argument `axis`."
      ]
    },
    {
      "cell_type": "code",
      "metadata": {
        "id": "Mm1cWqflbj_d",
        "colab": {
          "base_uri": "https://localhost:8080/",
          "height": 133
        },
        "outputId": "9c197fc4-f8cc-48ed-f791-c5b20c342d49"
      },
      "source": [
        "print(f'Any element of A is in [-0.25, 0.25] = {np.any(cond_2, axis=0)}')\n",
        "print(f'All element of A is in [-0.25, 0.25] = {np.all(cond_2, axis=1)}')"
      ],
      "execution_count": null,
      "outputs": [
        {
          "output_type": "stream",
          "text": [
            "Any element of A is in [-0.25, 0.25] = [ True  True  True]\n",
            "All element of A is in [-0.25, 0.25] = [False False False False False]\n"
          ],
          "name": "stdout"
        }
      ]
    },
    {
      "cell_type": "markdown",
      "metadata": {
        "id": "TdIOYOPlUeZW"
      },
      "source": [
        "### Boolean Masking\n",
        "\n",
        "- We can extract the elements whose truth values are `True` by simple indexing."
      ]
    },
    {
      "cell_type": "code",
      "metadata": {
        "id": "-D6dks9BUpQE",
        "colab": {
          "base_uri": "https://localhost:8080/",
          "height": 362
        },
        "outputId": "af423c77-f58e-4340-fb1f-2f24138ac734"
      },
      "source": [
        "mat_a = rnd.randn(5, 3)\n",
        "print(f'Matrix A =\\n{mat_a}\\n')\n",
        "\n",
        "cond_1 = (-0.25 <= mat_a) & (mat_a <= 0.25)\n",
        "print(f'Condition = (-0.25 <= A <= 0.25)\\n{cond_1}\\n')\n",
        "\n",
        "print(f'Masking A with Condition =\\n{mat_a[cond_1]}')"
      ],
      "execution_count": null,
      "outputs": [
        {
          "output_type": "stream",
          "text": [
            "Matrix A =\n",
            "[[-2.2326922   1.68368845  1.57492975]\n",
            " [-0.86672628 -0.78876608 -0.90330632]\n",
            " [-0.66665993  0.57857384  0.57259997]\n",
            " [ 1.54229521 -0.34800782  0.81806801]\n",
            " [-0.84086511 -0.81162515  0.25111412]]\n",
            "\n",
            "Condition = (-0.25 <= A <= 0.25)\n",
            "[[False False False]\n",
            " [False False False]\n",
            " [False False False]\n",
            " [False False False]\n",
            " [False False False]]\n",
            "\n",
            "Masking A with Condition =\n",
            "[]\n"
          ],
          "name": "stdout"
        }
      ]
    },
    {
      "cell_type": "markdown",
      "metadata": {
        "id": "CmXnugHSU7tW"
      },
      "source": [
        "- We can also set the elements whose truth values are `True` by indexing."
      ]
    },
    {
      "cell_type": "code",
      "metadata": {
        "id": "rZy3lK7cVFW4",
        "colab": {
          "base_uri": "https://localhost:8080/",
          "height": 180
        },
        "outputId": "6db3a0ad-e82b-4b66-d563-f2429531ae69"
      },
      "source": [
        "mat_a[cond_1] = 0.0\n",
        "print(mat_a)"
      ],
      "execution_count": null,
      "outputs": [
        {
          "output_type": "stream",
          "text": [
            "[[-2.2326922   1.68368845  1.57492975]\n",
            " [-0.86672628 -0.78876608 -0.90330632]\n",
            " [-0.66665993  0.57857384  0.57259997]\n",
            " [ 1.54229521 -0.34800782  0.81806801]\n",
            " [-0.84086511 -0.81162515  0.25111412]]\n"
          ],
          "name": "stdout"
        }
      ]
    },
    {
      "cell_type": "markdown",
      "metadata": {
        "id": "s3FReRCoZONq"
      },
      "source": [
        "### Conditional Array Creation\n",
        "\n",
        "- We can create a new array out of two input arrays according to a given condition with the command `np.where`.\n",
        "- Note that both input arrays must have the same shape."
      ]
    },
    {
      "cell_type": "code",
      "metadata": {
        "id": "bP4JLOOxs1Zc",
        "colab": {
          "base_uri": "https://localhost:8080/",
          "height": 613
        },
        "outputId": "f24b55c6-3289-41cd-d8e5-dcde96245469"
      },
      "source": [
        "mat_a = rnd.randn(5, 3)\n",
        "print(f'Matrix A =\\n{mat_a}\\n')\n",
        "\n",
        "cond_1 = (-0.25 <= mat_a) & (mat_a <= 0.25)\n",
        "print(f'Condition = (-0.25 <= A <= 0.25)\\n{cond_1}\\n')\n",
        "\n",
        "mat_c = rnd.randint(1, 10, (5, 3))\n",
        "print(f'Matrix C =\\n{mat_a}\\n')\n",
        "\n",
        "mat_d = rnd.randint(11, 20, (5, 3))\n",
        "print(f'Matrix D =\\n{mat_b}\\n')\n",
        "\n",
        "# For each element of cond_1:\n",
        "#     If that element of cond_1 is True, choose the corresponding element from C\n",
        "#     Otherwise, choose the corresponding element from D instead\n",
        "result = np.where(cond_1, mat_c, mat_d)\n",
        "print(f'Result = where(Condition, C, D)\\n{result}')"
      ],
      "execution_count": null,
      "outputs": [
        {
          "output_type": "stream",
          "text": [
            "Matrix A =\n",
            "[[ 0.34801784  0.91470975  0.30786647]\n",
            " [ 1.41702782 -0.03590942 -0.69905877]\n",
            " [ 0.15874183  1.32961692  0.44075189]\n",
            " [ 0.76497151  0.99304885  0.29039127]\n",
            " [ 0.92332538 -0.18698614  0.84843501]]\n",
            "\n",
            "Condition = (-0.25 <= A <= 0.25)\n",
            "[[False False False]\n",
            " [False  True False]\n",
            " [ True False False]\n",
            " [False False False]\n",
            " [False  True False]]\n",
            "\n",
            "Matrix C =\n",
            "[[ 0.34801784  0.91470975  0.30786647]\n",
            " [ 1.41702782 -0.03590942 -0.69905877]\n",
            " [ 0.15874183  1.32961692  0.44075189]\n",
            " [ 0.76497151  0.99304885  0.29039127]\n",
            " [ 0.92332538 -0.18698614  0.84843501]]\n",
            "\n",
            "Matrix D =\n",
            "[[ 0.15436301  0.2682579   1.17731929]\n",
            " [-0.06900565  0.02453535 -0.01564794]]\n",
            "\n",
            "Result = where(Condition, C, D)\n",
            "[[18 11 11]\n",
            " [11  3 18]\n",
            " [ 1 17 16]\n",
            " [14 19 19]\n",
            " [17  3 15]]\n"
          ],
          "name": "stdout"
        }
      ]
    },
    {
      "cell_type": "markdown",
      "metadata": {
        "id": "Zx4WydM_3ohL"
      },
      "source": [
        "-----\n",
        "## Exercises 6"
      ]
    },
    {
      "cell_type": "markdown",
      "metadata": {
        "id": "B02zaRgh3tbo"
      },
      "source": [
        "In this exercise, we are going to observe some behaviors of *pseudo-randomization*. That is, we are wondering if we can find any patterns in these random numbers. One way to do so is we will generate a sequence of some random numbers and observe its accumulated positivity through the sequence.\n",
        "\n",
        "For example, suppose we have a sequence of random numbers:\n",
        "\n",
        "$$\n",
        "[0.1, -0.75, 0.9, 1.7, -0.9, -2.5, 0.05, 0.7, 1.9, -2.1, -0.3, -0.1]\n",
        "$$\n",
        "\n",
        "At first glance, we do not see any patterns in these random numbers.\n",
        "\n",
        "To unveil the pattern, we observe the positive accumulator. For each number in the sequence, we increase the posive accumulator by 1 if it is a positive number, and decrease the accumulator by 1 if it is a negative number. If we observe the change in the accumulator, we can now see the following pattern.\n",
        "\n",
        "$$\n",
        "[1, 0, 1, 2, 1, 0, 1, 2, 3, 2, 1, 0]\n",
        "$$"
      ]
    },
    {
      "cell_type": "markdown",
      "metadata": {
        "id": "hVzTJcnJPMMO"
      },
      "source": [
        "### Question 6.1\n",
        "\n",
        "Implement this process in the following code."
      ]
    },
    {
      "cell_type": "code",
      "metadata": {
        "id": "KA7s-E4JAUzH"
      },
      "source": [
        "# # Number of random numbers\n",
        "# no_nums = 400\n",
        "# \n",
        "# # Generate a random vector a of dimension [no_nums].\n",
        "# vec_a = __________\n",
        "# \n",
        "# # Create a zero vector of dimension [no_nums].\n",
        "# result = __________\n",
        "# \n",
        "# # Accumulator\n",
        "# acc = 0.0\n",
        "# for i in range(no_nums):\n",
        "#     # If each element in vector a is greater or equal to 0, then increase the accumulator.\n",
        "#     if __________ :\n",
        "#         acc += 1\n",
        "#     # Otherwise, decreate the accumulator.\n",
        "#     else:\n",
        "#         acc -= 1\n",
        "#     # Save the value of the accumulator to result.\n",
        "#     result[i] = acc\n",
        "#     \n",
        "# print(f'Result:\\n{result}\\n')\n",
        "# \n",
        "# # Count the number of zeros in the result.\n",
        "# print(f'Number of zeros = { __________ }')"
      ],
      "execution_count": null,
      "outputs": []
    },
    {
      "cell_type": "markdown",
      "metadata": {
        "id": "6Q_gQiiUP4qQ"
      },
      "source": [
        "#### Solution"
      ]
    },
    {
      "cell_type": "code",
      "metadata": {
        "id": "tp6VM48yP6W5",
        "colab": {
          "base_uri": "https://localhost:8080/",
          "height": 566
        },
        "outputId": "df247696-2136-4686-e479-96e6c8740687"
      },
      "source": [
        "# Number of random numbers\n",
        "no_nums = 400\n",
        "\n",
        "# Generate a random vector a of dimension [no_nums].\n",
        "vec_a = rnd.randn(no_nums)\n",
        "\n",
        "# Create a zero vector of dimension [no_nums].\n",
        "result = np.zeros(no_nums)\n",
        "\n",
        "# Accumulator\n",
        "acc = 0.0\n",
        "for i in range(no_nums):\n",
        "    # If each element in vector a is greater or equal to 0, then increase the accumulator.\n",
        "    if vec_a[i] >= 0:\n",
        "        acc += 1\n",
        "    # Otherwise, decreate the accumulator.\n",
        "    else:\n",
        "        acc -= 1\n",
        "    # Save the value of the accumulator to result.\n",
        "    result[i] = acc\n",
        "    \n",
        "print(f'Result:\\n{result}\\n')\n",
        "\n",
        "# Count the number of zeros in the result.\n",
        "print(f'Number of zeros = { (result == 0).sum() }')"
      ],
      "execution_count": null,
      "outputs": [
        {
          "output_type": "stream",
          "text": [
            "Result:\n",
            "[ -1.  -2.  -3.  -2.  -3.  -2.  -1.  -2.  -3.  -4.  -3.  -2.  -1.   0.\n",
            "   1.   2.   1.   2.   3.   2.   1.   2.   3.   4.   3.   4.   3.   2.\n",
            "   1.   0.   1.   0.  -1.  -2.  -1.   0.  -1.  -2.  -3.  -4.  -3.  -4.\n",
            "  -3.  -2.  -3.  -2.  -3.  -2.  -3.  -2.  -1.   0.  -1.   0.  -1.   0.\n",
            "   1.   2.   1.   0.  -1.  -2.  -3.  -4.  -5.  -6.  -5.  -6.  -5.  -4.\n",
            "  -3.  -4.  -3.  -2.  -1.   0.  -1.  -2.  -3.  -2.  -1.   0.   1.   0.\n",
            "   1.   0.  -1.  -2.  -3.  -4.  -3.  -2.  -3.  -4.  -3.  -4.  -5.  -4.\n",
            "  -3.  -4.  -5.  -6.  -5.  -6.  -7.  -8.  -9.  -8.  -7.  -8.  -9. -10.\n",
            " -11. -10. -11. -12. -11. -12. -11. -12. -11. -12. -11. -12. -11. -12.\n",
            " -11. -12. -13. -14. -13. -12. -11. -10.  -9.  -8.  -7.  -6.  -5.  -4.\n",
            "  -3.  -2.  -3.  -4.  -5.  -4.  -3.  -4.  -3.  -2.  -3.  -2.  -1.   0.\n",
            "  -1.  -2.  -1.  -2.  -3.  -2.  -1.  -2.  -3.  -2.  -3.  -4.  -5.  -6.\n",
            "  -5.  -4.  -5.  -4.  -5.  -6.  -7.  -8.  -9.  -8.  -7.  -8.  -7.  -8.\n",
            "  -7.  -8.  -9.  -8.  -9.  -8.  -7.  -8.  -7.  -6.  -7.  -8.  -7.  -6.\n",
            "  -5.  -6.  -7.  -6.  -7.  -8.  -9. -10. -11. -10.  -9.  -8.  -7.  -6.\n",
            "  -7.  -6.  -5.  -4.  -5.  -6.  -7.  -8.  -9. -10. -11. -10.  -9.  -8.\n",
            "  -9.  -8.  -7.  -8.  -7.  -6.  -7.  -6.  -5.  -4.  -3.  -2.  -3.  -2.\n",
            "  -3.  -2.  -3.  -2.  -3.  -2.  -3.  -2.  -1.  -2.  -1.  -2.  -1.   0.\n",
            "   1.   2.   1.   0.   1.   2.   1.   0.  -1.  -2.  -3.  -2.  -1.   0.\n",
            "  -1.  -2.  -3.  -2.  -3.  -2.  -3.  -2.  -1.   0.  -1.   0.   1.   0.\n",
            "  -1.  -2.  -3.  -2.  -3.  -2.  -3.  -2.  -1.  -2.  -3.  -4.  -3.  -4.\n",
            "  -3.  -4.  -3.  -4.  -5.  -4.  -5.  -4.  -5.  -4.  -5.  -6.  -5.  -4.\n",
            "  -3.  -4.  -5.  -4.  -5.  -6.  -5.  -6.  -7.  -8.  -9. -10. -11. -10.\n",
            " -11. -12. -13. -12. -13. -14. -15. -14. -15. -14. -15. -16. -17. -16.\n",
            " -17. -18. -17. -16. -17. -18. -19. -20. -21. -20. -19. -18. -17. -16.\n",
            " -17. -16. -17. -18. -17. -16. -15. -16. -17. -16. -15. -16. -17. -16.\n",
            " -17. -16. -17. -16. -15. -16. -15. -16. -15. -14. -13. -14. -13. -12.\n",
            " -11. -12. -13. -14. -15. -14. -15. -14. -13. -12. -11. -10.  -9.  -8.\n",
            "  -9.  -8.  -9. -10.  -9.  -8.  -7.  -6.]\n",
            "\n",
            "Number of zeros = 20\n"
          ],
          "name": "stdout"
        }
      ]
    },
    {
      "cell_type": "markdown",
      "metadata": {
        "id": "jtvAQrrnPOQV"
      },
      "source": [
        "### Question 6.2\n",
        "\n",
        "Try different numbers of random numbers `no_nums` and observe the patterns."
      ]
    },
    {
      "cell_type": "markdown",
      "metadata": {
        "id": "RdQ3iPPNPU2t"
      },
      "source": [
        "### Question 6.3\n",
        "\n",
        "What does the number of zeros tell us about the patterns?"
      ]
    },
    {
      "cell_type": "markdown",
      "metadata": {
        "id": "iWE6KpKu4OZX"
      },
      "source": [
        "-----\n",
        "## 7. Useful Functions on Array"
      ]
    },
    {
      "cell_type": "markdown",
      "metadata": {
        "id": "NsdMMVwC4j6-"
      },
      "source": [
        "### Summation\n",
        "\n",
        "- We can compute the summation of all elements in an array by the command `np.sum()`.\n",
        "- If the argument `axis` is determined, the summation will be computed on such axis; i.e. the summation is projected on that axis."
      ]
    },
    {
      "cell_type": "code",
      "metadata": {
        "id": "NwAVsfJ742el",
        "colab": {
          "base_uri": "https://localhost:8080/",
          "height": 233
        },
        "outputId": "60292b81-aa2e-4e71-d0b4-477146148256"
      },
      "source": [
        "mat_a = np.array([ [ 1,  2,  3,  4,  5],\n",
        "                   [ 6,  7,  8,  9, 10],\n",
        "                   [11, 12, 13, 14, 15] ])\n",
        "\n",
        "print(f'Matrix A =\\n{mat_a}\\n')\n",
        "\n",
        "sum_all = np.sum(mat_a)\n",
        "print(f'Summation of all elements = {sum_all}')\n",
        "\n",
        "sum_0 = np.sum(mat_a, axis=0)\n",
        "print(f'Summation on axis 0 (row) = {sum_0}')\n",
        "\n",
        "sum_1 = np.sum(mat_a, axis=1)\n",
        "print(f'Summation on axis 1 (column) = {sum_1}')"
      ],
      "execution_count": null,
      "outputs": [
        {
          "output_type": "stream",
          "text": [
            "Matrix A =\n",
            "[[ 1  2  3  4  5]\n",
            " [ 6  7  8  9 10]\n",
            " [11 12 13 14 15]]\n",
            "\n",
            "Summation of all elements = 120\n",
            "Summation on axis 0 (row) = [18 21 24 27 30]\n",
            "Summation on axis 1 (column) = [15 40 65]\n"
          ],
          "name": "stdout"
        }
      ]
    },
    {
      "cell_type": "markdown",
      "metadata": {
        "id": "srz8cy-J6HBV"
      },
      "source": [
        "### Aggregation\n",
        "\n",
        "- We can compute aggregation functions, e.g. `np.max`, `np.min`, `np.average`, `np.median`, `np.argmax`, and `np.argmin`, on an array as well.\n",
        "- If the argument `axis` is determined, the computation will be projected on such axis."
      ]
    },
    {
      "cell_type": "code",
      "metadata": {
        "id": "ftZHvZ676T1e",
        "colab": {
          "base_uri": "https://localhost:8080/",
          "height": 395
        },
        "outputId": "482edcd3-f5e7-4e05-e9c1-0373d7871f1e"
      },
      "source": [
        "mat_a = np.array([ [ 1,  2,  3,  4,  5],\n",
        "                   [10,  9,  8,  7,  6],\n",
        "                   [11, 12, 13, 14, 15] ])\n",
        "\n",
        "print(f'Matrix A =\\n{mat_a}\\n')\n",
        "\n",
        "max_elem = np.max(mat_a)\n",
        "min_elem = np.min(mat_a)\n",
        "print(f'Maximum element = {max_elem}')\n",
        "print(f'Minimum element = {min_elem}\\n')\n",
        "\n",
        "avg_elem = np.average(mat_a)\n",
        "avg_1 = np.average(mat_a, axis=0)\n",
        "avg_2 = np.average(mat_a, axis=1)\n",
        "print(f'Average = {avg_elem}')\n",
        "print(f'Average on axis 0 (row) = {avg_1}')\n",
        "print(f'Average on axis 1 (column) = {avg_2}\\n')\n",
        "\n",
        "med_elem = np.median(mat_a)\n",
        "med_1 = np.median(mat_a, axis=0)\n",
        "med_2 = np.median(mat_a, axis=1)\n",
        "print(f'Median = {med_elem}')\n",
        "print(f'Median on axis 0 (row) = {med_1}')\n",
        "print(f'Median on axis 1 (column) = {med_2}\\n')\n",
        "\n",
        "# argmax and argmin return the maximum and minimum indices, respectively\n",
        "argmax_1 = np.argmax(mat_a, axis=0)\n",
        "argmin_2 = np.argmin(mat_a, axis=1)\n",
        "print(f'Argmax on axis 0 (row) = {argmax_1}')\n",
        "print(f'Argmin on axis 1 (column) = {argmin_2}')"
      ],
      "execution_count": null,
      "outputs": [
        {
          "output_type": "stream",
          "text": [
            "Matrix A =\n",
            "[[ 1  2  3  4  5]\n",
            " [10  9  8  7  6]\n",
            " [11 12 13 14 15]]\n",
            "\n",
            "Maximum element = 15\n",
            "Minimum element = 1\n",
            "\n",
            "Average = 8.0\n",
            "Average on axis 0 (row) = [7.33333333 7.66666667 8.         8.33333333 8.66666667]\n",
            "Average on axis 1 (column) = [ 3.  8. 13.]\n",
            "\n",
            "Median = 8.0\n",
            "Median on axis 0 (row) = [10.  9.  8.  7.  6.]\n",
            "Median on axis 1 (column) = [ 3.  8. 13.]\n",
            "\n",
            "Argmax on axis 0 (row) = [2 2 2 2 2]\n",
            "Argmin on axis 1 (column) = [0 4 0]\n"
          ],
          "name": "stdout"
        }
      ]
    },
    {
      "cell_type": "markdown",
      "metadata": {
        "id": "rbPNN8YK9eZ1"
      },
      "source": [
        "### Cumulative Summation\n",
        "\n",
        "- We can compute the cumulative summation on each index by the command `np.cumsum`. \n",
        "- The argument `axis` is also available for axis projection."
      ]
    },
    {
      "cell_type": "code",
      "metadata": {
        "id": "YK9XwzUD-Q6D",
        "colab": {
          "base_uri": "https://localhost:8080/",
          "height": 480
        },
        "outputId": "982f4349-2477-49be-bfef-c2da20fcc2b0"
      },
      "source": [
        "mat_b = np.array([ [ 0,  1,  2,  3],\n",
        "                   [ 4,  5,  6,  7],\n",
        "                   [ 8,  9, 10, 11],\n",
        "                   [12, 13, 14, 15],\n",
        "                   [16, 17, 18, 19],\n",
        "                   [20, 21, 22, 23] ])\n",
        "print(f'Matrix B:\\n{mat_b}\\n')\n",
        "\n",
        "cumsum_1 = np.cumsum(mat_b, axis=0)\n",
        "cumsum_2 = np.cumsum(mat_b, axis=1)\n",
        "print(f'Cumulative summation on axis 0 (row) =\\n{cumsum_1}\\n')\n",
        "print(f'Cumulative summation on axis 1 (column) =\\n{cumsum_2}')"
      ],
      "execution_count": null,
      "outputs": [
        {
          "output_type": "stream",
          "text": [
            "Matrix B:\n",
            "[[ 0  1  2  3]\n",
            " [ 4  5  6  7]\n",
            " [ 8  9 10 11]\n",
            " [12 13 14 15]\n",
            " [16 17 18 19]\n",
            " [20 21 22 23]]\n",
            "\n",
            "Cumulative summation on axis 0 (row) =\n",
            "[[ 0  1  2  3]\n",
            " [ 4  6  8 10]\n",
            " [12 15 18 21]\n",
            " [24 28 32 36]\n",
            " [40 45 50 55]\n",
            " [60 66 72 78]]\n",
            "\n",
            "Cumulative summation on axis 1 (column) =\n",
            "[[ 0  1  3  6]\n",
            " [ 4  9 15 22]\n",
            " [ 8 17 27 38]\n",
            " [12 25 39 54]\n",
            " [16 33 51 70]\n",
            " [20 41 63 86]]\n"
          ],
          "name": "stdout"
        }
      ]
    },
    {
      "cell_type": "markdown",
      "metadata": {
        "id": "DUMeGvWoCg4L"
      },
      "source": [
        "### Sampling\n",
        "\n",
        "- We can draw some samples from an item collection based on a probability distribution of each item with the command `rnd.choice(collection, size, p)`. \n",
        "- The argument `p` is a uniform distribution by default."
      ]
    },
    {
      "cell_type": "code",
      "metadata": {
        "id": "5Yh8aTTACDSU",
        "colab": {
          "base_uri": "https://localhost:8080/",
          "height": 133
        },
        "outputId": "7b2d36eb-08fd-4c31-f5f1-7a85c2606e61"
      },
      "source": [
        "words    = ['hello', 'world', 'prachya', 'boonkwan']\n",
        "probdist = [   0.15,    0.30,      0.25,       0.30]\n",
        "\n",
        "samples_uniform = rnd.choice(words, 5)\n",
        "print(f'5 samples from a uniform distribution: {samples_uniform}')\n",
        "\n",
        "samples_word = rnd.choice(words, 5, p=probdist)\n",
        "print(f'5 samples from a predefined distribution: {samples_word}')"
      ],
      "execution_count": null,
      "outputs": [
        {
          "output_type": "stream",
          "text": [
            "5 samples from a uniform distribution: ['hello' 'prachya' 'boonkwan' 'world' 'boonkwan']\n",
            "5 samples from a predefined distribution: ['prachya' 'boonkwan' 'world' 'boonkwan' 'world']\n"
          ],
          "name": "stdout"
        }
      ]
    },
    {
      "cell_type": "markdown",
      "metadata": {
        "id": "pNXD2pYvWes7"
      },
      "source": [
        "-----\n",
        "## Exercises 7"
      ]
    },
    {
      "cell_type": "markdown",
      "metadata": {
        "id": "66DEW5K0WjCZ"
      },
      "source": [
        "The value of $\\pi$ was discovered for more than 3,500 years. The constant $\\pi$, as the Babylonians and the Egyptians understood, is the ratio between a circle's diameter and its circumference. In the ancient Greek time, mathematician Archimedes of Syracuse (287-212 BC) is widely accepted to be the first to compute the value of $\\pi$. He did not calculate its exact value. However, he approximated its close value by inscribing a circle between a $n-1$ polygon and another $n$ polygon and compute the upper and lower bounds of the value of $\\pi$.\n",
        "\n",
        "In this exercise, we will approximate the value of $\\pi$ via simple simulation. Imagine we have a circle inscribed in a square.\n",
        "\n",
        "<center>![A circle inscribed in a square](https://www.varsitytutors.com/assets/vt-hotmath-legacy/hotmath_help/topics/circles-inscribed-in-squares/lesson1.gif)</center>\n",
        "\n",
        "Suppose the circle's radius is $r$, the area of the circle is $\\pi r^2$, while the area of the inscribing square is $(2r)^2 = 4 r^2$. We obtain that\n",
        "\n",
        "$$\n",
        "\\begin{eqnarray}\n",
        "    \\frac{\\textrm{Area of circle}}{\\textrm{Area of square}} & = & \\frac{\\pi r^2}{4 r^2} \\\\\n",
        "    \\therefore \\quad \\pi & = & 4 \\times \\frac{\\textrm{Area of circle}}{\\textrm{Area of square}}\n",
        "\\end{eqnarray}\n",
        "$$\n",
        "\n",
        "Now we have come to the question of approximating the area of a circle. We can do so with simulation. The probability of a random point being inside the circle given that the point is already inside the square is:\n",
        "\n",
        "$$\n",
        "\\begin{eqnarray}\n",
        "    P(\\textrm{inside circle} | \\textrm{inside square}) & \\approx & \\frac{P(\\textrm{inside circle}, \\textrm{inside square})}{P(\\textrm{inside square})} \\\\\n",
        "    & = & \\frac{\\#(\\textrm{inside circle}, \\textrm{inside square})}{\\#(\\textrm{inside square})}\n",
        "\\end{eqnarray}\n",
        "$$\n",
        "\n",
        "where $\\#$ is the frequency of random points of such condition.\n",
        "\n",
        "By combining the results of above derivation, we obtain that:\n",
        "\n",
        "$$\n",
        "\\begin{eqnarray}\n",
        "    \\pi & = & 4 \\times \\frac{\\textrm{Area of circle}}{\\textrm{Area of square}} \\\\\n",
        "    & \\approx & 4 \\times  \\frac{\\#(\\textrm{inside circle}, \\textrm{inside square})}{\\#(\\textrm{inside square})}\n",
        "\\end{eqnarray}\n",
        "$$\n",
        "\n",
        "We will approximate the value of $\\pi$ via this simulation method."
      ]
    },
    {
      "cell_type": "markdown",
      "metadata": {
        "id": "14nt57pzzhHy"
      },
      "source": [
        "### Question 7.1\n",
        "\n",
        "Implement a function that checks if each row vector in the input matrix $\\mathbf{M}$ is in a circle with the radius of $r$. We say that a vector $\\mathbf{v}$ is in that circle if the vector's norm $\\left\\| \\mathbf{v} \\right\\| \\leq r$."
      ]
    },
    {
      "cell_type": "code",
      "metadata": {
        "id": "-HqmxrpQ0OCw"
      },
      "source": [
        "# def is_in_circle(vecs, radius):\n",
        "#\n",
        "#     # Find the norm of each row vector.\n",
        "#     rownorms = __________\n",
        "#\n",
        "#     # Create a criterion for each row vector being in the circle of a specified radius.\n",
        "#     criterion = __________\n",
        "#\n",
        "#     return criterion"
      ],
      "execution_count": null,
      "outputs": []
    },
    {
      "cell_type": "markdown",
      "metadata": {
        "id": "b_zv1eUu0WXT"
      },
      "source": [
        "#### Solution"
      ]
    },
    {
      "cell_type": "code",
      "metadata": {
        "id": "9nthhChq0X4S"
      },
      "source": [
        "def is_in_circle(vecs, radius):\n",
        "    \n",
        "    # Find the norm of each row vector.\n",
        "    rownorms = la.norm(vecs, axis=1)\n",
        "    \n",
        "    # Create a criterion for each row vector being in the circle of a specified radius.\n",
        "    criterion = rownorms <= radius\n",
        "    \n",
        "    return criterion"
      ],
      "execution_count": null,
      "outputs": []
    },
    {
      "cell_type": "markdown",
      "metadata": {
        "id": "3bsZjEuq0jpy"
      },
      "source": [
        "### Question 7.2\n",
        "\n",
        "Implement the following simulation method for the value of $\\pi$.\n",
        "\n",
        "  1. Suppose there is a circle whose diameter is 2 and it is inscribed in a square whose side is of length 2.\n",
        "\n",
        "  2. Draw $N$ random points from a uniform distribution in the range of [-1, 1]\n",
        "  \n",
        "  3. Count the number of random points that are in the circle. Let's denote that number with $C$.\n",
        "  \n",
        "  4. Approximate the value of $\\pi \\approx \\frac{C}{N}$."
      ]
    },
    {
      "cell_type": "code",
      "metadata": {
        "id": "SYbZtXyY2iAZ"
      },
      "source": [
        "# # Let's set the number of random points.\n",
        "# num_points = 100\n",
        "# \n",
        "# # Random [num_points] random points of two dimensions.\n",
        "# vecs = __________\n",
        "# \n",
        "# # Check if each random point is in such circle using [is_in_circle].\n",
        "# in_circle = __________\n",
        "# \n",
        "# # Count the random points that are in the circle.\n",
        "# count_in = __________\n",
        "# \n",
        "# # Approximate the value of pi.\n",
        "# pi_value = 4 * count_in / num_points\n",
        "# \n",
        "# print(pi_value)"
      ],
      "execution_count": null,
      "outputs": []
    },
    {
      "cell_type": "markdown",
      "metadata": {
        "id": "-XM39jU46rXN"
      },
      "source": [
        "#### Solution"
      ]
    },
    {
      "cell_type": "code",
      "metadata": {
        "id": "Usv0E8Gd6ttf",
        "colab": {
          "base_uri": "https://localhost:8080/",
          "height": 54
        },
        "outputId": "b9037670-9d38-449b-a049-7cc728185e77"
      },
      "source": [
        "# Let's set the number of random points.\n",
        "num_points = 100000\n",
        "\n",
        "# Random [num_points] random points of two dimensions.\n",
        "vecs = rnd.uniform(-1, 1, (num_points, 2))\n",
        "\n",
        "# Check if each random point is in such circle.\n",
        "in_circle = is_in_circle(vecs, 1)\n",
        "\n",
        "# Count the random points that are in the circle.\n",
        "count_in = in_circle.sum()\n",
        "\n",
        "# Approximate the value of pi.\n",
        "pi_value = 4 * count_in / num_points\n",
        "\n",
        "print(pi_value)"
      ],
      "execution_count": null,
      "outputs": [
        {
          "output_type": "stream",
          "text": [
            "3.1396\n"
          ],
          "name": "stdout"
        }
      ]
    },
    {
      "cell_type": "markdown",
      "metadata": {
        "id": "u5gBYynP-6VE"
      },
      "source": [
        "-----\n",
        "## 8. Sparse Matrices"
      ]
    },
    {
      "cell_type": "markdown",
      "metadata": {
        "id": "JSAJ2mO3-9Y6"
      },
      "source": [
        "- Furthermore, there are two types of matrices in NumPy: dense and sparse.\n",
        "  - For the dense matrix, its entire content is stored as an array in the memory.\n",
        "  - For the sparse matrix, only some parts of its content are stored in the memory to save some space.\n",
        "- The latter type offers some space efficiency but may underperform in some mathematical operations and content manipulation.\n",
        "\n",
        "- There are four popular sparse formats:\n",
        "  1. Coordinate format (COO)\n",
        "  2. Compressed sparse row (CSR)\n",
        "  3. Compressed sparse column (CSC)\n",
        "  4. Block sparse row (BSR)"
      ]
    },
    {
      "cell_type": "markdown",
      "metadata": {
        "id": "gFK-M222QoGd"
      },
      "source": [
        "### Coordinate Format (COO)\n",
        "\n",
        "- In this format, the content is stored as a list of triplets ((row, column), element).\n",
        "- This format is easiest to construct, especially for a very large matrix. We just have to know the shape of the matrix.\n",
        "- Once the COO matrix is constructed, it is usually converted to CSR, CSC, or BSR for efficient computation.\n",
        "\n",
        "- We can construct a COO matrix with the command `sp.coo_matrix` as follows. Note that all elements in repeated coordinates are accumulated."
      ]
    },
    {
      "cell_type": "code",
      "metadata": {
        "id": "dllTr0-catW-",
        "colab": {
          "base_uri": "https://localhost:8080/",
          "height": 527
        },
        "outputId": "acba38c6-de29-4641-cdf4-cba5ffcbc9ef"
      },
      "source": [
        "rows = rnd.randint(0, 10, size=8)\n",
        "cols = rnd.randint(0, 5, size=8)\n",
        "data = rnd.randn(8)\n",
        "print(f'Rows = {rows}')\n",
        "print(f'Cols = {cols}')\n",
        "print(f'Data = {data}\\n')\n",
        "\n",
        "coo_a = sp.coo_matrix((data, (rows, cols)), shape=(10, 5))\n",
        "print(f'COO Matrix A:\\n{coo_a}\\n')\n",
        "\n",
        "mat_a = coo_a.toarray()                 # Convert to a dense matrix\n",
        "print(f'Dense Matrix A:\\n{mat_a}')"
      ],
      "execution_count": null,
      "outputs": [
        {
          "output_type": "stream",
          "text": [
            "Rows = [5 6 0 2 3 5 4 2]\n",
            "Cols = [2 3 2 4 4 0 1 0]\n",
            "Data = [-0.92422659  0.70416762  1.08578006 -1.54838757 -0.70572901  0.10087198\n",
            " -0.57848312  0.03407658]\n",
            "\n",
            "COO Matrix A:\n",
            "  (5, 2)\t-0.924226590663512\n",
            "  (6, 3)\t0.7041676197992061\n",
            "  (0, 2)\t1.0857800604377892\n",
            "  (2, 4)\t-1.5483875673522973\n",
            "  (3, 4)\t-0.7057290057573244\n",
            "  (5, 0)\t0.10087197536328409\n",
            "  (4, 1)\t-0.5784831192443961\n",
            "  (2, 0)\t0.03407657574923903\n",
            "\n",
            "Dense Matrix A:\n",
            "[[ 0.          0.          1.08578006  0.          0.        ]\n",
            " [ 0.          0.          0.          0.          0.        ]\n",
            " [ 0.03407658  0.          0.          0.         -1.54838757]\n",
            " [ 0.          0.          0.          0.         -0.70572901]\n",
            " [ 0.         -0.57848312  0.          0.          0.        ]\n",
            " [ 0.10087198  0.         -0.92422659  0.          0.        ]\n",
            " [ 0.          0.          0.          0.70416762  0.        ]\n",
            " [ 0.          0.          0.          0.          0.        ]\n",
            " [ 0.          0.          0.          0.          0.        ]\n",
            " [ 0.          0.          0.          0.          0.        ]]\n"
          ],
          "name": "stdout"
        }
      ]
    },
    {
      "cell_type": "markdown",
      "metadata": {
        "id": "Sox491zuUwqc"
      },
      "source": [
        "### Sparse Formats (CSR, CSC, and BSR)\n",
        "\n",
        "- Once we have constructed the COO matrix, we then convert it to either the CSR, CSC, or BSR format for faster computation, such as arithmetic operations, slicing, and decomposition.\n",
        "\n",
        "  - CSR matrix is suitable for row slicing and large matrix multiplication.\n",
        "\n",
        "  - CSC matrix is suitable for column slicing and large matrix multiplication.\n",
        "\n",
        "  - BSR matrix is suitable for dense sub-matrices.\n",
        "\n",
        "- The CSR and CSC formats are more space-efficient than the BSR format, but the latter is more speed-efficient in arithmetic operations.\n",
        "- In most cases, CSR and CSC are adequate for large matrix multiplication, while BSR is suitable for any computation related to dense sub-matrices such as finite element discretization."
      ]
    },
    {
      "cell_type": "code",
      "metadata": {
        "id": "dxuk9uE6S9Vf",
        "colab": {
          "base_uri": "https://localhost:8080/",
          "height": 246
        },
        "outputId": "9da9eb20-65d0-4c53-e8ed-b90e4cd91bac"
      },
      "source": [
        "csr_a = coo_a.tocsr()\n",
        "print(f'CSR Matrix A:\\n{csr_a}')"
      ],
      "execution_count": null,
      "outputs": [
        {
          "output_type": "stream",
          "text": [
            "CSR Matrix A:\n",
            "  (0, 2)\t1.0857800604377892\n",
            "  (2, 0)\t0.03407657574923903\n",
            "  (2, 4)\t-1.5483875673522973\n",
            "  (3, 4)\t-0.7057290057573244\n",
            "  (4, 1)\t-0.5784831192443961\n",
            "  (5, 0)\t0.10087197536328409\n",
            "  (5, 2)\t-0.924226590663512\n",
            "  (6, 3)\t0.7041676197992061\n"
          ],
          "name": "stdout"
        }
      ]
    },
    {
      "cell_type": "code",
      "metadata": {
        "id": "RhTE9RrFZYV6",
        "colab": {
          "base_uri": "https://localhost:8080/",
          "height": 246
        },
        "outputId": "fb96ae23-f24b-4ba8-e8bd-7759084f26c1"
      },
      "source": [
        "csc_a = coo_a.tocsc()\n",
        "print(f'CSC Matrix A:\\n{csc_a}')"
      ],
      "execution_count": null,
      "outputs": [
        {
          "output_type": "stream",
          "text": [
            "CSC Matrix A:\n",
            "  (2, 0)\t0.03407657574923903\n",
            "  (5, 0)\t0.10087197536328409\n",
            "  (4, 1)\t-0.5784831192443961\n",
            "  (0, 2)\t1.0857800604377892\n",
            "  (5, 2)\t-0.924226590663512\n",
            "  (6, 3)\t0.7041676197992061\n",
            "  (2, 4)\t-1.5483875673522973\n",
            "  (3, 4)\t-0.7057290057573244\n"
          ],
          "name": "stdout"
        }
      ]
    },
    {
      "cell_type": "code",
      "metadata": {
        "id": "JXPBv2wlZiGY",
        "colab": {
          "base_uri": "https://localhost:8080/",
          "height": 246
        },
        "outputId": "6f83241e-bf04-4367-a23f-fafabfd4a8e1"
      },
      "source": [
        "bsr_a = coo_a.tobsr()\n",
        "print(f'BSR Matrix A:\\n{bsr_a}')"
      ],
      "execution_count": null,
      "outputs": [
        {
          "output_type": "stream",
          "text": [
            "BSR Matrix A:\n",
            "  (0, 2)\t1.0857800604377892\n",
            "  (2, 0)\t0.03407657574923903\n",
            "  (2, 4)\t-1.5483875673522973\n",
            "  (3, 4)\t-0.7057290057573244\n",
            "  (4, 1)\t-0.5784831192443961\n",
            "  (5, 0)\t0.10087197536328409\n",
            "  (5, 2)\t-0.924226590663512\n",
            "  (6, 3)\t0.7041676197992061\n"
          ],
          "name": "stdout"
        }
      ]
    },
    {
      "cell_type": "markdown",
      "metadata": {
        "id": "rLnfwjIgiRc4"
      },
      "source": [
        "Of course, arithmetic operations can be applied to these formats."
      ]
    },
    {
      "cell_type": "code",
      "metadata": {
        "id": "3zIIsltPf2fj",
        "colab": {
          "base_uri": "https://localhost:8080/",
          "height": 380
        },
        "outputId": "80604877-1fdf-4d41-c121-5cd9d2db3b05"
      },
      "source": [
        "bsr_mult = bsr_a.T @ bsr_a\n",
        "\n",
        "print(f'transpose(A) x A =\\n{bsr_mult}\\n')\n",
        "\n",
        "print(f'Dense =\\n{bsr_mult.toarray()}')"
      ],
      "execution_count": null,
      "outputs": [
        {
          "output_type": "stream",
          "text": [
            "transpose(A) x A =\n",
            "  (0, 2)\t-0.09322856188350183\n",
            "  (0, 4)\t-0.05276374622806051\n",
            "  (0, 0)\t0.011336368428484617\n",
            "  (1, 1)\t0.3346427192507262\n",
            "  (2, 0)\t-0.09322856188350183\n",
            "  (2, 2)\t2.033113130533788\n",
            "  (3, 3)\t0.49585203677367923\n",
            "  (4, 4)\t2.8955574882983868\n",
            "  (4, 0)\t-0.05276374622806051\n",
            "\n",
            "Dense =\n",
            "[[ 0.01133637  0.         -0.09322856  0.         -0.05276375]\n",
            " [ 0.          0.33464272  0.          0.          0.        ]\n",
            " [-0.09322856  0.          2.03311313  0.          0.        ]\n",
            " [ 0.          0.          0.          0.49585204  0.        ]\n",
            " [-0.05276375  0.          0.          0.          2.89555749]]\n"
          ],
          "name": "stdout"
        }
      ]
    },
    {
      "cell_type": "markdown",
      "metadata": {
        "id": "lPWtnww0P9u4"
      },
      "source": [
        "-----\n",
        "## Exercises 8"
      ]
    },
    {
      "cell_type": "markdown",
      "metadata": {
        "id": "k1_ixBBRRXzT"
      },
      "source": [
        "In Question 4.3, we have implemented the Power Method that computes the dominant eigenvector of any square matrix. The disadvantages of this algorithm are that it converges slowly and the convergence is rather unstable when the input matrix becomes very large and sparse (containing many zeros). In this exercise, we will implement an improvement version of the Power Method called **PageRank** (Brin and Page, 1998).\n",
        "\n",
        "PageRank offers a more stable way to compute the dominant eigenvector of a very large matrix. The *damping factor* $\\delta$ is introduced to the Power Method to stabilize the convergence. When the input matrix $\\mathbf{M}$ is multiplied by the vector $\\mathbf{v}^{(k)}$, we weight the resultant vector with $\\delta$, smooth it with a constant $1 - \\delta$, and normalize the result. Doing so will stabilize the convergence because of the smoothing process.\n",
        "\n",
        "An overview of the algorithm is as follows. For a given square matrix $\\mathbf{M}$:\n",
        "\n",
        "  1. Let $\\mathbf{v}^{(0)}$ be an arbitrary unit vector.\n",
        "  2. For each $k$-th iteration\n",
        "    1. We multiply $\\mathbf{M}$ by an unit vector $\\mathbf{v}^{(k)}$ to obtain a new vector $\\mathbf{v}'$.\n",
        "    2. We set $\\mathbf{v}^{(k + 1)} = \\delta \\mathbf{v}' + (1-\\delta) \\mathbf{1}$, where $\\mathbf{1}$ is a one vector. This step is called **smoothing**.\n",
        "    3. Normalize $\\mathbf{v}^{(k + 1)}$.\n",
        "  3. We repeat the loop in Step 2 until $\\mathbf{v}^{(k + 1)}$ becomes convergent.\n",
        "  4. The resulted vector becomes the dominant eigenvector of $\\mathbf{M}$.\n",
        "\n",
        "In this exercise, we will implement PageRank using sparse matrices, simple matrix operations, and aggregation functions. We will also evaluate the speed of this implementation with a large sparse matrix."
      ]
    },
    {
      "cell_type": "markdown",
      "metadata": {
        "id": "06SFcHmUXPMJ"
      },
      "source": [
        "### Question 8.1\n",
        "\n",
        "Implement a function that normalizes an input vector. It should return a unit vector as a result.\n",
        "$$\n",
        "\\begin{eqnarray}\n",
        "    \\mathrm{normalize}(\\mathbf{v}) & = & \\frac{\\mathbf{v}}{\\left\\| \\mathbf{v} \\right\\|}\n",
        "\\end{eqnarray}\n",
        "$$"
      ]
    },
    {
      "cell_type": "code",
      "metadata": {
        "id": "BOHbPpSWigTb"
      },
      "source": [
        "# def normalize(vec):\n",
        "#     return ___________          # Fill in this blank."
      ],
      "execution_count": null,
      "outputs": []
    },
    {
      "cell_type": "markdown",
      "metadata": {
        "id": "hvjn0CJHPCWp"
      },
      "source": [
        "#### Solution"
      ]
    },
    {
      "cell_type": "code",
      "metadata": {
        "id": "uu1GcOymPD8v"
      },
      "source": [
        "def normalize(vec):\n",
        "    return vec / la.norm(vec)"
      ],
      "execution_count": null,
      "outputs": []
    },
    {
      "cell_type": "markdown",
      "metadata": {
        "id": "b_lVxqL-XayF"
      },
      "source": [
        "### Question 8.2\n",
        "\n",
        "Implement a function that checks whether two <u>unit</u> vectors converge or not. In this exercise, vectors $\\mathbf{v}_1$ and $\\mathbf{v}_2$ are said to converge to each other if their Euclidean distance is less than the given threshold.\n",
        "$$\n",
        "\\begin{eqnarray}\n",
        "    \\mathrm{dist}(\\mathbf{v}_1, \\mathbf{v}_2) & = & \\left\\| \\mathbf{v}_1 - \\mathbf{v}_2 \\right\\|\\\n",
        "\\end{eqnarray}\n",
        "$$\n",
        "This function should return a boolean value indicating if $\\mathbf{v}_1$ and $\\mathbf{v}_2$ converge to each other or not."
      ]
    },
    {
      "cell_type": "code",
      "metadata": {
        "id": "bigGVl-aX08R"
      },
      "source": [
        "# def is_converge(vec1, vec2, threshold):\n",
        "#     \n",
        "#     # Compute the Euclidean distance between vec1 and vec2.\n",
        "#     dist = __________\n",
        "#     \n",
        "#     # Return the boolean value that indicates the convergence with respect to the given threshold.\n",
        "#     return __________"
      ],
      "execution_count": null,
      "outputs": []
    },
    {
      "cell_type": "markdown",
      "metadata": {
        "id": "z6hCuxVwPJPg"
      },
      "source": [
        "#### Solution"
      ]
    },
    {
      "cell_type": "code",
      "metadata": {
        "id": "ibFU3F1IPRZy"
      },
      "source": [
        "def is_converge(vec1, vec2, threshold):\n",
        "    \n",
        "    # Compute the Euclidean distance between vec1 and vec2.\n",
        "    dist = la.norm(vec1 - vec2)\n",
        "    \n",
        "    # Return the boolean value that indicates the convergence with respect to the given threshold.\n",
        "    return dist <= threshold"
      ],
      "execution_count": null,
      "outputs": []
    },
    {
      "cell_type": "markdown",
      "metadata": {
        "id": "IfF2wanGaVXp"
      },
      "source": [
        "### Question 8.3\n",
        "\n",
        "Implement a function that computes the dominant eigenvector of a given square matrix $\\mathbf{M}$. Read the instruction in the comments carefully and follow it accordingly."
      ]
    },
    {
      "cell_type": "code",
      "metadata": {
        "id": "eXvuTVyXaxdW"
      },
      "source": [
        "# def pagerank(matrix, threshold, maxiters, dampfact):\n",
        "#     \n",
        "#     # Find the first dimension of the given matrix.\n",
        "#     dim = __________\n",
        "#     \n",
        "#     # Randomize an arbitrary unit vector using rnd.randn.\n",
        "#     # Don't forget to normalize it before use.\n",
        "#     vec = __________\n",
        "#     \n",
        "#     # Iterative Power Method\n",
        "#     for i in range(maxiters):\n",
        "#         \n",
        "#         # Multiply the given matrix with the vector. Do not normalize it just yet.\n",
        "#         matrix_vec = __________\n",
        "#         \n",
        "#         # Smooth the multiplication result with the damping factor. Also normalize the result of smoothing.\n",
        "#         newvec = __________\n",
        "#         \n",
        "#         # If the obtained vector and the old vector converge, stop the iteration.\n",
        "#         if is_converge(vec, newvec, threshold):\n",
        "#             break\n",
        "#             \n",
        "#         # Otherwise, keep the obtained vector and continue the iteration.\n",
        "#         else:\n",
        "#             vec = newvec\n",
        "#             \n",
        "#     return newvec"
      ],
      "execution_count": null,
      "outputs": []
    },
    {
      "cell_type": "markdown",
      "metadata": {
        "id": "YTeWnigePe8Y"
      },
      "source": [
        "#### Solution"
      ]
    },
    {
      "cell_type": "code",
      "metadata": {
        "id": "rHCnqmR0PgjA"
      },
      "source": [
        "def pagerank(matrix, threshold, maxiters, dampfact):\n",
        "    \n",
        "    # Find the first dimension of the given matrix.\n",
        "    dim = matrix.shape[0]\n",
        "    \n",
        "    # Randomize an arbitrary unit vector using rnd.randn.\n",
        "    # Don't forget to normalize it before use.\n",
        "    vec = rnd.randn(dim)\n",
        "    \n",
        "    # Iterative Power Method\n",
        "    for i in range(maxiters):\n",
        "        \n",
        "        # Multiply the given matrix with the vector. Do not normalize it just yet.\n",
        "        matrix_vec = matrix @ vec\n",
        "        \n",
        "        # Smooth the multiplication result with the damping factor. Also normalize the result of smoothing.\n",
        "        newvec = normalize(dampfact * matrix_vec + (1 - dampfact))\n",
        "        \n",
        "        # If the obtained vector and the old vector converge, stop the iteration.\n",
        "        if is_converge(vec, newvec, threshold):\n",
        "            break\n",
        "            \n",
        "        # Otherwise, keep the obtained vector and continue the iteration.\n",
        "        else:\n",
        "            vec = newvec\n",
        "            \n",
        "    return newvec"
      ],
      "execution_count": null,
      "outputs": []
    },
    {
      "cell_type": "markdown",
      "metadata": {
        "id": "hREAkjUPaWoq"
      },
      "source": [
        "### Question 8.4\n",
        "\n",
        "Implement a function that computes an eigenvalue $\\lambda$ of an eigenvector $\\mathbf{v}$ with respect to an input matrix $\\mathbf{M}$. The eigenvalue can be computed with the Rayleigh quotient below.\n",
        "$$\n",
        "\\begin{eqnarray}\n",
        "    \\lambda & = & \\frac{\\mathbf{v}^\\top \\mathbf{M} \\mathbf{v}}{\\mathbf{v}^\\top \\mathbf{v}}\n",
        "\\end{eqnarray}\n",
        "$$"
      ]
    },
    {
      "cell_type": "code",
      "metadata": {
        "id": "kbFvEWLJel-N"
      },
      "source": [
        "# def rayleigh(matrix, vec):\n",
        "#     return __________"
      ],
      "execution_count": null,
      "outputs": []
    },
    {
      "cell_type": "markdown",
      "metadata": {
        "id": "vIcLROwvQvMo"
      },
      "source": [
        "#### Solution"
      ]
    },
    {
      "cell_type": "code",
      "metadata": {
        "id": "fEfbSYz9Qw1j"
      },
      "source": [
        "def rayleigh(matrix, vec):\n",
        "    return (vec.T @ matrix @ vec) / (vec.T @ vec)"
      ],
      "execution_count": null,
      "outputs": []
    },
    {
      "cell_type": "markdown",
      "metadata": {
        "id": "Msdf75bBfJ5g"
      },
      "source": [
        "### Question 8.5\n",
        "\n",
        "Now let's implement a function that generate a large sparse matrix according to the given numbers of nodes and edges.\n",
        "\n",
        "For example, we can create a matrix of size 7 whose total number of edges is 5 by calling `make_matrix(7, 5)`.\n",
        "\n",
        "```python\n",
        ">>> m = make_matrix(7, 5)\n",
        ">>> print(m.toarray())\n",
        "[[0. 0. 0. 0. 1. 0. 1.]\n",
        " [0. 0. 0. 0. 0. 0. 0.]\n",
        " [0. 0. 0. 0. 0. 0. 0.]\n",
        " [0. 1. 0. 0. 0. 1. 0.]\n",
        " [0. 0. 0. 0. 0. 0. 0.]\n",
        " [0. 0. 0. 0. 0. 0. 0.]\n",
        " [0. 0. 1. 0. 0. 0. 0.]]\n",
        "```"
      ]
    },
    {
      "cell_type": "code",
      "metadata": {
        "id": "kQA3ASO_f9Y9"
      },
      "source": [
        "# def make_matrix(no_nodes, no_edges):\n",
        "#     \n",
        "#     # Randomize a sequence of row IDs, whose length is equal to no_edges.\n",
        "#     # Each row ID is in the range [0, no_nodes).\n",
        "#     rows = __________\n",
        "#     \n",
        "#     # Randomize a sequence of column IDs, whose length is equal to no_edges.\n",
        "#     # Each column ID is in the range [0, no_nodes).\n",
        "#     cols = __________\n",
        "#     \n",
        "#     # This is the frequency count for each edge.\n",
        "#     data = np.ones(no_edges)\n",
        "#     \n",
        "#     # Create a COO sparse matrix out of rows, cols, and data.\n",
        "#     coo_m = __________\n",
        "#     \n",
        "#     # Convert coo_m to a CSR sparse matrix.\n",
        "#     csr_m = __________\n",
        "#     \n",
        "#     return csr_m"
      ],
      "execution_count": null,
      "outputs": []
    },
    {
      "cell_type": "markdown",
      "metadata": {
        "id": "oUXV3dMERGTX"
      },
      "source": [
        "#### Solution"
      ]
    },
    {
      "cell_type": "code",
      "metadata": {
        "id": "OfNVOGjqRHua"
      },
      "source": [
        "def make_matrix(no_nodes, no_edges):\n",
        "    \n",
        "    # Randomize a sequence of row IDs, whose length is equal to no_edges.\n",
        "    # Each row ID is in the range [0, no_nodes).\n",
        "    rows = rnd.randint(0, no_nodes, no_edges)\n",
        "    \n",
        "    # Randomize a sequence of column IDs, whose length is equal to no_edges.\n",
        "    # Each column ID is in the range [0, no_nodes).\n",
        "    cols = rnd.randint(0, no_nodes, no_edges)\n",
        "    \n",
        "    # This is the frequency count for each edge.\n",
        "    data = np.ones(no_edges)\n",
        "    \n",
        "    # Create a COO sparse matrix out of rows, cols, and data.\n",
        "    coo_m = sp.coo_matrix((data, (rows, cols)), shape=(no_nodes, no_nodes))\n",
        "    \n",
        "    # Convert coo_m to a CSR sparse matrix.\n",
        "    csr_m = coo_m.tocsr()\n",
        "    \n",
        "    return csr_m"
      ],
      "execution_count": null,
      "outputs": []
    },
    {
      "cell_type": "markdown",
      "metadata": {
        "id": "gozTMSP1acqc"
      },
      "source": [
        "### Question 8.6\n",
        "\n",
        "**Testing:** You can test your implementation with the following simple code."
      ]
    },
    {
      "cell_type": "code",
      "metadata": {
        "id": "U3Q0QDYvhPLg"
      },
      "source": [
        "# m = make_matrix(1000, 20000)\n",
        "# \n",
        "# v = pagerank(m, 1e-3, 20, 0.85)\n",
        "# print(v)"
      ],
      "execution_count": null,
      "outputs": []
    },
    {
      "cell_type": "markdown",
      "metadata": {
        "id": "8FPDPc5hSfUb"
      },
      "source": [
        "#### Solution"
      ]
    },
    {
      "cell_type": "code",
      "metadata": {
        "id": "VlTehtDYSiVg",
        "colab": {
          "base_uri": "https://localhost:8080/",
          "height": 2797
        },
        "outputId": "86711a03-68bf-475f-f1c3-1b79234d526f"
      },
      "source": [
        "m = make_matrix(1000, 20000)\n",
        "\n",
        "v = pagerank(m, 1e-3, 20, 0.85)\n",
        "print(v)"
      ],
      "execution_count": null,
      "outputs": [
        {
          "output_type": "stream",
          "text": [
            "[0.03677863 0.02792465 0.02590043 0.02965874 0.03578196 0.0294951\n",
            " 0.02694176 0.03311035 0.02857742 0.0340131  0.02708807 0.02549885\n",
            " 0.02506034 0.03392155 0.029174   0.04007985 0.02996154 0.03011105\n",
            " 0.03101822 0.02922578 0.02995185 0.02831653 0.02896782 0.03436052\n",
            " 0.04315214 0.04412104 0.02540152 0.02310839 0.0296743  0.0392473\n",
            " 0.03162087 0.02862643 0.03106618 0.03552686 0.03305606 0.02906403\n",
            " 0.02203608 0.03559419 0.02592635 0.02728904 0.03924241 0.04199795\n",
            " 0.03734114 0.03574796 0.04601969 0.03410772 0.02679374 0.03113493\n",
            " 0.04193116 0.02937169 0.03393524 0.03416797 0.02786408 0.02520943\n",
            " 0.03140618 0.0320148  0.03919458 0.02569003 0.02783204 0.0308671\n",
            " 0.03216643 0.02508208 0.03870879 0.03466359 0.03612623 0.02967359\n",
            " 0.03157502 0.03013691 0.03946206 0.0301426  0.03277121 0.0374171\n",
            " 0.02481978 0.03171123 0.02216923 0.03634123 0.03158406 0.02993617\n",
            " 0.02530806 0.03385271 0.03275598 0.03725945 0.02001635 0.03293922\n",
            " 0.03057223 0.03121157 0.02031703 0.0294462  0.03067474 0.01930992\n",
            " 0.03305236 0.03212926 0.03076815 0.02895368 0.03581107 0.03162474\n",
            " 0.02906213 0.02234184 0.03533972 0.02196817 0.0396687  0.02884657\n",
            " 0.03315607 0.03309305 0.04046768 0.03388674 0.02587657 0.03625718\n",
            " 0.02677835 0.03256967 0.03367959 0.02726974 0.03356799 0.03092168\n",
            " 0.03221868 0.02990406 0.03734927 0.0364693  0.02278267 0.03187536\n",
            " 0.03146002 0.02459577 0.02628096 0.02687468 0.03990187 0.03441138\n",
            " 0.02794528 0.02499134 0.02921761 0.03178414 0.02661074 0.02779862\n",
            " 0.02166583 0.03134183 0.02639386 0.03144568 0.03713201 0.02588521\n",
            " 0.02886645 0.03273893 0.0355413  0.03196354 0.05022057 0.03109518\n",
            " 0.02395665 0.03220036 0.03975041 0.03470402 0.03993722 0.03367741\n",
            " 0.03093703 0.02495097 0.02809275 0.02861552 0.03464648 0.02639405\n",
            " 0.02655689 0.03714783 0.03059817 0.04005282 0.02568357 0.03689376\n",
            " 0.03417394 0.03326541 0.02808232 0.03387448 0.04300444 0.03239689\n",
            " 0.02454553 0.02803763 0.03176532 0.02593386 0.04500038 0.03638852\n",
            " 0.03241969 0.03227919 0.02448471 0.03144453 0.03237654 0.03472953\n",
            " 0.03010639 0.02799472 0.02810939 0.02519347 0.02072744 0.03395792\n",
            " 0.02461463 0.03474394 0.02643807 0.02704627 0.03465664 0.03023233\n",
            " 0.02728396 0.02417085 0.0328682  0.04216194 0.0267996  0.03466274\n",
            " 0.02318038 0.03012004 0.03072493 0.02781308 0.03912889 0.0339151\n",
            " 0.02956247 0.02739521 0.02358446 0.02924275 0.039596   0.03539756\n",
            " 0.02458173 0.03067396 0.03838749 0.03045579 0.03283952 0.02220261\n",
            " 0.02843305 0.0248732  0.03009005 0.03360178 0.02240913 0.03575921\n",
            " 0.03582246 0.0327722  0.02622032 0.02663872 0.03602921 0.03477986\n",
            " 0.02740844 0.03614801 0.02850668 0.04066844 0.02763996 0.03794321\n",
            " 0.02645507 0.02883125 0.03137565 0.03169322 0.03714308 0.03700334\n",
            " 0.04256709 0.03589384 0.04160855 0.02921331 0.02998436 0.03023725\n",
            " 0.02395709 0.04341245 0.02650066 0.03165736 0.02851583 0.03034607\n",
            " 0.03158238 0.03057577 0.02534055 0.03511927 0.0258902  0.02885267\n",
            " 0.03484932 0.02919461 0.03148203 0.03315631 0.02988762 0.02253583\n",
            " 0.02761968 0.0314261  0.03550624 0.02732687 0.03965352 0.03357726\n",
            " 0.0362474  0.02119197 0.02692327 0.02529007 0.03638974 0.02445888\n",
            " 0.03962458 0.03465341 0.03093372 0.02851211 0.03060239 0.02502179\n",
            " 0.03443454 0.02719794 0.02289307 0.03311231 0.03373736 0.02833239\n",
            " 0.02563228 0.0317399  0.03393425 0.02606581 0.03285324 0.02738592\n",
            " 0.02759377 0.02800906 0.02700629 0.03310426 0.02614403 0.02846446\n",
            " 0.03768932 0.03928306 0.02637186 0.01994853 0.03357349 0.03594029\n",
            " 0.04100484 0.02752388 0.01998811 0.03735842 0.0372846  0.02148678\n",
            " 0.03587344 0.02435362 0.02654476 0.03153274 0.0267475  0.0270601\n",
            " 0.02745641 0.03172489 0.03053021 0.04067872 0.03434996 0.03467298\n",
            " 0.03528458 0.02660781 0.02494196 0.02873164 0.02341731 0.02477825\n",
            " 0.03182297 0.03023399 0.02877426 0.0250398  0.03237865 0.04001403\n",
            " 0.02532049 0.05075006 0.02578354 0.02714721 0.02879796 0.02612465\n",
            " 0.03065422 0.01860526 0.02699    0.03239665 0.03503148 0.03173222\n",
            " 0.02527944 0.03483374 0.0357215  0.03980201 0.02681184 0.03245536\n",
            " 0.03187115 0.02589968 0.04426749 0.04185716 0.0262781  0.03582075\n",
            " 0.03336917 0.02755747 0.03643645 0.02866323 0.02934704 0.02721886\n",
            " 0.02315166 0.03649092 0.02709423 0.03442177 0.03263427 0.02434389\n",
            " 0.03079605 0.02774229 0.0280378  0.04191256 0.02023187 0.03733599\n",
            " 0.02868766 0.02670207 0.030107   0.0289519  0.03081122 0.0210084\n",
            " 0.03485622 0.0287147  0.04302658 0.03292415 0.02243308 0.02349699\n",
            " 0.02297956 0.03380314 0.03442826 0.02945908 0.0261222  0.03790066\n",
            " 0.02044849 0.03037017 0.0332823  0.02851699 0.03050669 0.02691606\n",
            " 0.02751478 0.01941038 0.02194932 0.02935177 0.02457459 0.01851126\n",
            " 0.02818768 0.04586928 0.03221987 0.03503346 0.03942826 0.02488943\n",
            " 0.03870153 0.03186716 0.0295726  0.03143211 0.0346616  0.0302903\n",
            " 0.03549604 0.03346908 0.02959709 0.02885615 0.0397318  0.04203074\n",
            " 0.04023561 0.02113444 0.02422411 0.02887503 0.02891468 0.02969134\n",
            " 0.02682483 0.03140969 0.02301225 0.03093138 0.04713484 0.03036199\n",
            " 0.02529995 0.03224826 0.02974095 0.03243261 0.0323045  0.03613137\n",
            " 0.02915834 0.02621136 0.02938586 0.03603586 0.02522366 0.02853244\n",
            " 0.02744002 0.02977274 0.02687512 0.03901562 0.02501561 0.03385029\n",
            " 0.0336717  0.03005675 0.03299114 0.02712019 0.02784401 0.02723573\n",
            " 0.02694951 0.03676212 0.04007871 0.02620049 0.02595845 0.0367388\n",
            " 0.0279525  0.03186411 0.03427084 0.03573381 0.02955361 0.02743212\n",
            " 0.03016989 0.02889448 0.03045101 0.04438698 0.04068424 0.02959837\n",
            " 0.0337869  0.0262287  0.0279022  0.03176956 0.02470508 0.02720952\n",
            " 0.02639051 0.02327609 0.02193951 0.02944429 0.02949867 0.02877677\n",
            " 0.03238832 0.02946482 0.02754378 0.03748071 0.02479607 0.02978175\n",
            " 0.04278268 0.03255429 0.03168582 0.03320806 0.03097339 0.02643642\n",
            " 0.03478877 0.040142   0.02068908 0.03123562 0.02980285 0.02691895\n",
            " 0.03012066 0.02634835 0.02772507 0.03245025 0.03047861 0.04731389\n",
            " 0.03248464 0.02677583 0.02526302 0.02626696 0.03303203 0.03489289\n",
            " 0.02576488 0.03719926 0.0286236  0.03118784 0.02311929 0.03410596\n",
            " 0.04705662 0.03126232 0.01680379 0.02910629 0.03800333 0.04273173\n",
            " 0.03465069 0.03392191 0.02946839 0.02816943 0.0319366  0.02700205\n",
            " 0.02970193 0.03375967 0.03280361 0.03483117 0.03012303 0.03311857\n",
            " 0.03967193 0.02955436 0.03926505 0.03110211 0.02771855 0.02847042\n",
            " 0.03261919 0.03827644 0.03364282 0.02592422 0.03580789 0.03116295\n",
            " 0.03166207 0.04931413 0.03046342 0.02941246 0.02097568 0.03310893\n",
            " 0.02891323 0.02830672 0.02702423 0.03092884 0.03147843 0.04287737\n",
            " 0.03728649 0.02386263 0.03396455 0.02615267 0.02384725 0.02849781\n",
            " 0.02753785 0.03657132 0.03455647 0.02368057 0.02531531 0.03069375\n",
            " 0.03162496 0.03358036 0.02796897 0.04173902 0.03051537 0.03362726\n",
            " 0.02670719 0.02895736 0.03632236 0.04008428 0.02672391 0.03017932\n",
            " 0.02986751 0.03457818 0.02927535 0.02205617 0.0299709  0.02626242\n",
            " 0.0290057  0.03324431 0.03195157 0.02820679 0.02990699 0.04052838\n",
            " 0.02298096 0.04012607 0.02696846 0.02976337 0.02550917 0.02408538\n",
            " 0.02874717 0.03704384 0.02532889 0.02827657 0.03566691 0.0279552\n",
            " 0.02987251 0.03443032 0.0259795  0.03008791 0.02261039 0.03064885\n",
            " 0.02431087 0.03417119 0.03873458 0.04008938 0.03647648 0.02917346\n",
            " 0.03688994 0.03557718 0.02736859 0.03597566 0.03461304 0.03011176\n",
            " 0.03597965 0.0323931  0.02746532 0.03003156 0.02933969 0.03697144\n",
            " 0.03181897 0.03365422 0.02860753 0.02861505 0.02750946 0.04797771\n",
            " 0.02888572 0.03829457 0.02703351 0.03108143 0.02744775 0.03355741\n",
            " 0.02671857 0.03129077 0.02786056 0.0380504  0.02898308 0.03448336\n",
            " 0.02955436 0.03121038 0.0302561  0.03726481 0.04070361 0.03316835\n",
            " 0.02968352 0.03212818 0.04352829 0.03168762 0.0297117  0.02123066\n",
            " 0.03603567 0.025574   0.01849911 0.02822369 0.02773175 0.02858607\n",
            " 0.02566644 0.02746409 0.03034554 0.03103008 0.02639918 0.0287606\n",
            " 0.02732195 0.03066577 0.0305441  0.03926121 0.02852649 0.03306293\n",
            " 0.02219538 0.03936748 0.02702196 0.02691814 0.0302166  0.03696427\n",
            " 0.03134441 0.02988436 0.03278089 0.02673425 0.04141946 0.02959742\n",
            " 0.03666105 0.03300115 0.0291187  0.03753957 0.02936378 0.02829426\n",
            " 0.03709213 0.02577128 0.03756444 0.03773436 0.02992294 0.03689919\n",
            " 0.0245354  0.03252766 0.03299018 0.02568329 0.04132662 0.03062876\n",
            " 0.02834217 0.02418629 0.0247112  0.02824751 0.03309906 0.03604538\n",
            " 0.03258249 0.03617164 0.02831519 0.03499283 0.02520347 0.02333879\n",
            " 0.03152915 0.02751693 0.03442314 0.02785338 0.02123277 0.03004512\n",
            " 0.03391268 0.02488551 0.03646576 0.02377263 0.02381182 0.02677668\n",
            " 0.03578865 0.03002693 0.03487846 0.02764849 0.02424765 0.02403655\n",
            " 0.02963325 0.02291387 0.04102045 0.0256959  0.02591744 0.03275008\n",
            " 0.02189489 0.03091558 0.02970145 0.02733443 0.0373822  0.03151668\n",
            " 0.03199753 0.03509614 0.03965684 0.02657492 0.03780708 0.03001021\n",
            " 0.03723565 0.02633353 0.04387066 0.02273803 0.02946623 0.03761176\n",
            " 0.03427207 0.03628706 0.03496569 0.02638634 0.02713119 0.04102534\n",
            " 0.02959795 0.03203651 0.02406021 0.02342052 0.0393539  0.02812563\n",
            " 0.04645696 0.03298465 0.02608518 0.03471409 0.01879874 0.03113333\n",
            " 0.03150666 0.02497164 0.02502336 0.02954176 0.03348736 0.02671562\n",
            " 0.0325752  0.02569191 0.02426204 0.02877478 0.03037643 0.02470255\n",
            " 0.02894954 0.02348199 0.03015326 0.03489269 0.02170393 0.02444098\n",
            " 0.02792565 0.02654856 0.03745471 0.03175826 0.03236411 0.03514414\n",
            " 0.02974511 0.04335263 0.0333771  0.03660075 0.03841364 0.02649856\n",
            " 0.03206469 0.03017275 0.02942204 0.02510858 0.02872667 0.0403785\n",
            " 0.02634103 0.03496318 0.03410858 0.03373071 0.03242898 0.03002005\n",
            " 0.03953149 0.03243908 0.02196056 0.02661964 0.03615614 0.02904115\n",
            " 0.03221506 0.03442942 0.03561581 0.02688189 0.03675321 0.03264716\n",
            " 0.03265451 0.02695685 0.02628797 0.02332142 0.03032235 0.0311784\n",
            " 0.03753081 0.03300053 0.0331762  0.02275186 0.02709783 0.02000242\n",
            " 0.034631   0.03073642 0.0336855  0.02529437 0.02801796 0.03855689\n",
            " 0.02479556 0.03133191 0.03004128 0.03281411 0.03288489 0.02525141\n",
            " 0.03952143 0.02969485 0.03947049 0.0385042  0.03881144 0.03507793\n",
            " 0.03184251 0.02789268 0.03614149 0.02532884 0.02744942 0.03840746\n",
            " 0.02815056 0.03844244 0.02872428 0.03122825 0.02453887 0.02861503\n",
            " 0.02663425 0.0292404  0.02620877 0.03869112 0.03452064 0.0373156\n",
            " 0.03084461 0.03434015 0.03104882 0.02823277 0.03361831 0.0295824\n",
            " 0.02187154 0.02458625 0.029397   0.03836772 0.03680156 0.03161793\n",
            " 0.02574865 0.03530779 0.03459806 0.02992285 0.02342931 0.03784038\n",
            " 0.03625488 0.02233389 0.02737517 0.02580131 0.04015274 0.03086448\n",
            " 0.02486589 0.02976823 0.03259758 0.02652553 0.03000243 0.03114277\n",
            " 0.02743931 0.02900077 0.03159108 0.03554001 0.03829375 0.0334349\n",
            " 0.03833787 0.03105784 0.04100936 0.04807486 0.03045345 0.03788886\n",
            " 0.02686216 0.03468783 0.02749516 0.03209728 0.02779668 0.02760209\n",
            " 0.02701352 0.04120869 0.02896667 0.03512408 0.0245049  0.03176879\n",
            " 0.02915848 0.0379522  0.03141304 0.03622667 0.03709021 0.03499516\n",
            " 0.03007901 0.02932344 0.02697746 0.04215245 0.03968999 0.02871445\n",
            " 0.03269914 0.02290033 0.03263922 0.02278717 0.02404386 0.02585628\n",
            " 0.03941378 0.03740198 0.03264052 0.02847286 0.03223718 0.02565925\n",
            " 0.03004824 0.02795226 0.03061747 0.02921411 0.03719164 0.03826701\n",
            " 0.03709144 0.03654818 0.02633806 0.03475408 0.0427987  0.0379512\n",
            " 0.03138946 0.03681574 0.03146384 0.03723012 0.04339014 0.02836748\n",
            " 0.03741633 0.02735687 0.03650716 0.03647206 0.03615165 0.03785319\n",
            " 0.0411157  0.03930395 0.03678735 0.0332265 ]\n"
          ],
          "name": "stdout"
        }
      ]
    },
    {
      "cell_type": "markdown",
      "metadata": {
        "id": "uktWrw4Qo_rm"
      },
      "source": [
        "-----"
      ]
    }
  ]
}